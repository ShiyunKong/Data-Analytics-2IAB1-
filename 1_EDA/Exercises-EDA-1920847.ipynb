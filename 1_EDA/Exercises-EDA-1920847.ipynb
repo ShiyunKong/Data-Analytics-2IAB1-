{
 "cells": [
  {
   "attachments": {},
   "cell_type": "markdown",
   "metadata": {},
   "source": [
    "# Programming Lesson and Exercises - EDA\n",
    "\n",
    "The goal of these programming lesson and exercises is to teach you how to perform _Exploratory Data Analysis_."
   ]
  },
  {
   "attachments": {},
   "cell_type": "markdown",
   "metadata": {},
   "source": [
    "\n",
    "This notebook has the following structure:\n",
    "\n",
    "- The first part introduces the concepts for this week. The theory is interleaved with small exercises, which have the goal of letting you practice the concepts that were just intruduced.\n",
    "- At the end there are one or more larger exercises, which have the goal to test what you have learned earlier. These will be more difficult and will require more independent work than the exercises in the first part.\n",
    "\n",
    "All exercises can be solved with the concepts that were introduced earlier. Since there are often more than one correct way to solve a programming problem, we try to accept various correct anwers. However, many of the automatic tests in Momotor (see _How to submit your work_ below) assume that your answers are constructed using the concepts introduced in these notebooks. If you look for answers on the Internet (e.g. if you import other libraries) you run the risk that your answers will be rejected.\n",
    "\n",
    "Some of the small exercises can be solved by copy-pasting code from the examples. However, it is up to you to try to solve the exercises yourself, which will help you learn, before copy-pasting the answers. The ease of looking up answers is meant to provide guidance when you get stuck, especially for those of you who are new to programming.\n",
    "\n",
    "For your convenience, in the `support` directory you will find a summary of the Python methods introduced in this notebook.\n",
    "\n",
    "\n",
    "\n",
    "# Introduction to This Template Notebook\n",
    "\n",
    "* This is a **personal** notebook.\n",
    "* Make sure you work in a **copy** of `...-template.ipynb`,\n",
    "**renamed** to `...-yourIDnr.ipynb`,\n",
    "where `yourIDnr` is your TU/e identification number.\n",
    "\n",
    "<div class=\"alert alert-danger\" role=\"danger\">\n",
    "<h3>Integrity</h3>\n",
    "<ul>\n",
    "    <li>In this course you must act according to the rules of the TU/e code of scientific conduct.</li>\n",
    "    <li>All the exercises and the graded assignments are to be executed individually and independently.</li>\n",
    "    <li>You must not copy from the Internet, your friends, books... If you represent other people's work as your own, then that constitutes fraud and will be reported to the Examination Committee.</li>\n",
    "    <li>Making your work available to others (complicity) also constitutes fraud.</li>\n",
    "</ul>\n",
    "</div>\n",
    "\n",
    "You are expected to work with Python code in this notebook.\n",
    "\n",
    "The locations where you should write your solutions can be recognized by\n",
    "**marker lines**,\n",
    "which look like this:\n",
    "\n",
    ">`#//`\n",
    ">    `BEGIN_TODO [Label]` `Description` `(n points)`\n",
    ">\n",
    ">`#//`\n",
    ">    `END_TODO [Label]`\n",
    "\n",
    "<div class=\"alert alert-warning\" role=\"alert\">Do NOT modify or delete these marker lines.  Keep them as they are.<br/>\n",
    "NEVER write code <i>outside</i> the marked blocks.\n",
    "Such code cannot be evaluated.\n",
    "</div>\n",
    "\n",
    "Proceed in this notebook as follows:\n",
    "* **Read** the text.\n",
    "* **Fill in** your solutions between `BEGIN_TODO` and `END_TODO` marker lines.\n",
    "* **Run** _all_ code cells (also the ones _without_ your code),\n",
    "    _in linear order_ from the first code cell.\n",
    "\n",
    "**Personalize your notebook**:\n",
    "1. Copy the following three lines of code:\n",
    "\n",
    "  ```python\n",
    "AUTHOR_NAME = 'Your Full Name'\n",
    "AUTHOR_ID_NR = '1234567'\n",
    "AUTHOR_DATE = 'YYYY-MM-DD'\n",
    "  ```\n",
    "1. Paste them between the marker lines in the next code cell.\n",
    "1. Fill in your _full name_, _identification number_, and the current _date_ (i.e. when you first modified this notebook, e.g. '2023-11-01') as strings between the `Author` markers.\n",
    "1. Run the code cell by putting the cursor there and typing **Control-Enter**.\n"
   ]
  },
  {
   "cell_type": "code",
   "execution_count": 1,
   "metadata": {},
   "outputs": [],
   "source": [
    "#// BEGIN_TODO [Author] Name, Id.nr., Date, as strings (1 point)\n",
    "\n",
    "AUTHOR_NAME = 'Shiyun Kong'\n",
    "AUTHOR_ID_NR = '1920847'\n",
    "AUTHOR_DATE = '2023-11-20'\n",
    "\n",
    "#// END_TODO [Author]"
   ]
  },
  {
   "attachments": {},
   "cell_type": "markdown",
   "metadata": {},
   "source": [
    "## Table of Contents\n",
    "\n",
    "- [Learning Objectives](#Learning-Objectives)\n",
    "- [Introduction](#Introduction)  \n",
    "    - [Other Learning Resources for Pandas](#Other-Learning-Resources-for-Pandas)\n",
    "- [Loading the Library](#Loading-the-Library)\n",
    "- [1. Data Frames](#1.-Data-Frames) \n",
    "  - [Information About a `DataFrame`](#Information-About-a-DataFrame)\n",
    "  - [Exercise 1.a](#Exercise-1.a)\n",
    "  - [Exercise 1.b](#Exercise-1.b)\n",
    "- [2 .`Index` and `Series` Objects](#2.-Index-and-Series-Objects) \n",
    "  - [Exercise 2.a](#Exercise-2.a)\n",
    "  - [Exercise 2.b](#Exercise-2.b)\n",
    "- [Error Handling](#Error-Handling)\n",
    "- [3. Getting Data from a `DataFrame`](#3.-Getting-Data-from-a-DataFrame) \n",
    "  - [Exercise 3.a](#Exercise-3.a)\n",
    "  - [Exercise 3.b](#Exercise-3.b)\n",
    "  - [Exercise 3.c](#Exercise-3.c)\n",
    "- [4. Modifying a `DataFrame`](#4.-Modifying-a-DataFrame)\n",
    "  - [Changing a Value in a `DataFrame`](#Changing-a-Value-in-a-DataFrame)\n",
    "  - [Changing Values in a Slice from a `DataFrame`](#Changing-Values-in-a-Slice-from-a-DataFrame)\n",
    "  - [Exercise 4.a](#Exercise-4.a)\n",
    "  - [Exercise 4.b](#Exercise-4.b)\n",
    "- [5. Setting the Index of a `DataFrame`](#5.-Setting-the-Index-of-a-DataFrame) \n",
    "  - [Exercise 5.a](#Exercise-5.a)\n",
    "  - [Exercise 5.b](#Exercise-5.b)\n",
    "- [6. Reading Data froma File into a `DataFrame`](#6.-Reading-Data-from-a-File-into-a-DataFrame) \n",
    "  - [Exercise 6.a](#Exercise-6.a)\n",
    "  - [Exercise 6.b](#Exercise-6.b)\n",
    "- [7. Summary Statistics](#7.-Summary-Statistics) \n",
    "  - [Separate Statistics](#Separate-Statistics) \n",
    "  - [Exercise 7.a](#Exercise-7.a)\n",
    "  - [Exercise 7.b](#Exercise-7.b)\n",
    "- [8. Sorting a `DataFrame`](#8.-Sorting-a-DataFrame) \n",
    "  - [Exercise 8.a](#Exercise-8.a)\n",
    "- [9. Computing Values from a `DataFrame`](#9.-Computing-Values-from-a-DataFrame) \n",
    "  - [Adding a New Column to a `DataFrame`](#Adding-a-New-Column-to-a-DataFrame)\n",
    "  - [Exercise 9.a](#Exercise-9.a)\n",
    "  - [Normalizing Values in a `DataFrame`](#Normalizing-Values-in-a-DataFrame)\n",
    "      - [Z-score Normalization](#Z-score-Normalization)\n",
    "  - [Exercise 9.b](#Exercise-9.b)\n",
    "- [10. Selecting Rows by Using Boolean Masks](#10.-Selecting-Rows-by-Using-Boolean-Masks) \n",
    "  - [Boolean Mask for Missing Values](#Boolean-Mask-for-Missing-Values)\n",
    "  - [Combining Boolean Masks](#Combining-Boolean-Masks)\n",
    "  - [Exercise 10.a](#Exercise-10.a)\n",
    "  - [Exercise 10.b](#Exercise-10.b)\n",
    "  - [Exercise 10.c](#Exercise-10.c)\n",
    "  - [Exercise 10.d](#Exercise-10.d)\n",
    "  - [Exercise 10.e](#Exercise-10.e)\n",
    "  - [Exercise 10.f](#Exercise-10.f)\n",
    "- [11. Grouping Rows in a `DataFrame`](#11.-Grouping-Rows-in-a-DataFrame) \n",
    "  - [Exercise 11.a](#Exercise-11.a)\n",
    "  - [Exercise 11.b](#Exercise-11.b)\n",
    "  - [Exercise 11.c](#Exercise-11.c)\n",
    "- [12. Deleting Rows or Columns from a `DataFrame`](#12.-Deleting-Rows-or-Columns-from-a-DataFrame)\n",
    "- [13. Persisting the Modifications](#13.-Persisting-the-Modifications) \n",
    "  - [The `inplace` Argument](#The-inplace-Argument)\n",
    "- [14. Plotting a `DataFrame`](#14.-Plotting-a-DataFrame) \n",
    "  - [Line Plot](#Line-Plot)\n",
    "  - [Area Plot](#Area-Plot)\n",
    "  - [Dot Plot](#Dot-Plot)\n",
    "  - [Histogram](#Histogram)\n",
    "  - [Density Plot](#Density-Plot)\n",
    "  - [Box Plot](#Box-Plot)\n",
    "  - [Bar Plot](#Bar-Plot)\n",
    "  - [Scatter Plot](#Scatter-Plot)\n",
    "  - [Exercise 14.a](#Exercise-14.a)\n",
    "  - [Exercise 14.b](#Exercise-14.b)\n",
    "  - [Exercise 14.c](#Exercise-14.c)\n",
    "  - [Exercise 14.d](#Exercise-14.d)\n",
    "  - [Exercise 14.e](#Exercise-14.e)\n",
    "  - [Exercise 14.f](#Exercise-14.f)\n",
    "  - [Exercise 14.g](#Exercise-14.g)\n",
    "  - [Exercise 14.h](#Exercise-14.h)\n",
    "  - [Exercise 14.i](#Exercise-14.i)\n",
    "- [15. Exercise: Speed of Light](#15.-Exercise:-Speed-of-Light) \n",
    "  - [Exercise 15.a: Load the Data Set](#Exercise-15.a:-Load-the-Data-Set)\n",
    "  - [Exercise 15.b: Summary Statistics of Raw Values](#Exercise-15.b:-Summary-Statistics-of-Raw-Values)\n",
    "  - [Exercise 15.c: Observation](#Exercise-15.c:-Observation)\n",
    "  - [Exercise 15.d: Add Column with the Decoded Speed](#Exercise-15.d:-Add-Column-with-the-Decoded-Speed)\n",
    "  - [Exercise 15.e: Summary Statistics of the Decoded Speed](#Exercise-15.e:-Summary-Statistics-of-the-Decoded-Speed)\n",
    "  - [Exercise 15.f: Make a Dot Plot](#Exercise-15.f:-Make-a-Dot-Plot)\n",
    "  - [Exercise 15.g: Remove Suspicious Rows](#Exercise-15.g:-Remove-Suspicious-Rows)\n",
    "  - [Exercise 15.h: Find the Definition of the Speed of Light](#Exercise-15.h:-Find-the-Definition-of-the-Speed-of-Light)\n",
    "  - [Exercise 15.i: Compare to Current Estimate](#Exercise-15.i:-Compare-to-Current-Estimate)"
   ]
  },
  {
   "attachments": {},
   "cell_type": "markdown",
   "metadata": {},
   "source": [
    "## Learning Objectives\n",
    "\n",
    "After this section, you should\n",
    "\n",
    "* Be able to work with Pandas `DataFrame` and `Series` objects;\n",
    "    in particular,\n",
    "    \n",
    "    * to create,\n",
    "    * to inspect and extract parts from,\n",
    "    * to modify,\n",
    "    * to compute summary statistics for, and\n",
    "    * to visualize\n",
    "    \n",
    "  `DataFrame` objects."
   ]
  },
  {
   "attachments": {},
   "cell_type": "markdown",
   "metadata": {},
   "source": [
    "## Introduction\n",
    "\n",
    "Most of the programming for Data Analytics will involve\n",
    "Python libraries that provide solutions for specific data analysis tasks.\n",
    "\n",
    "In this section,\n",
    "we introduce you to the **Pandas** library.\n",
    "The name _Pandas_ is a contraction of _Panel Data_,\n",
    "which you can think of as tabular data, like a spreadsheet,\n",
    "with multiple (labeled) rows and columns.\n",
    "\n",
    "The Pandas library is automatically installed when _Anaconda_ is installed."
   ]
  },
  {
   "attachments": {},
   "cell_type": "markdown",
   "metadata": {},
   "source": [
    "### Other Learning Resources for Pandas\n",
    "\n",
    "This section will not cover all details about Pandas.\n",
    "We have selected a small number of key features\n",
    "to achieve a maximal effect.\n",
    "\n",
    "Sometimes you may want to consult other information sources:\n",
    "\n",
    "* The _Python Data Science Handbook_ by Jake VanderPlas,\n",
    "  the chapter [_Data Manipulation with Pandas_](https://github.com/jakevdp/PythonDataScienceHandbook/blob/master/notebooks/03.00-Introduction-to-Pandas.ipynb)  \n",
    "  It provides a more comprehensive introduction and further background information.  \n",
    "  This book is also available as an [ebook in the TU/e library](https://tue.on.worldcat.org/oclc/964358680).\n",
    "* The official [Pandas documentation](http://pandas.pydata.org/).  \n",
    "  The Jupyter Notebook Help menu contains a menu item that leads there.\n",
    "* **Code completion** and **built-in** help in code cells,\n",
    "  using the **TAB** key and **Shift-TAB-TAB**.\n",
    "* Web search; but be warned that older solutions may no longer be valid or the most appropriate."
   ]
  },
  {
   "attachments": {},
   "cell_type": "markdown",
   "metadata": {},
   "source": [
    "\n",
    "Some exercises contain hints. Execute the following code cell to hide them by default and reveal the hints while pressing with the mouse on the \"Hint\" label. This will give you a chance to think for yourself before seeing a hint."
   ]
  },
  {
   "cell_type": "code",
   "execution_count": 2,
   "metadata": {},
   "outputs": [
    {
     "data": {
      "text/plain": "<IPython.core.display.HTML object>",
      "text/html": "<style>.h,.c{display:none}.t{color:#296eaa}.t:active+.h{display:block;}</style>"
     },
     "execution_count": 2,
     "metadata": {},
     "output_type": "execute_result"
    }
   ],
   "source": [
    "from IPython.display import HTML\n",
    "HTML(\"<style>.h,.c{display:none}.t{color:#296eaa}.t:active+.h{display:block;}</style>\")"
   ]
  },
  {
   "attachments": {},
   "cell_type": "markdown",
   "metadata": {},
   "source": [
    "## Loading the Library\n",
    "\n",
    "In order to use facilities from Pandas, you first need to import the Pandas library.\n",
    "It is useful to import NumPy as well,\n",
    "even though we will not make (much) use of it,\n",
    "since Pandas is built on top of NumPy.\n",
    "\n",
    "The next code cell shows the common way to do these imports,\n",
    "introducing the abbreviations `np` for NumPy and `pd` for Pandas.\n",
    "Execute this code cell (it will not result in any output)."
   ]
  },
  {
   "cell_type": "code",
   "execution_count": 3,
   "metadata": {},
   "outputs": [],
   "source": [
    "import numpy as np\n",
    "import pandas as pd"
   ]
  },
  {
   "attachments": {
    "Shift-Tab-Tab.png": {
     "image/png": "[encoded data removed]"
    }
   },
   "cell_type": "markdown",
   "metadata": {},
   "source": [
    "When you type an _identifier_ in a code cell, such as `pd`, followed by **Shift-TAB-TAB**,\n",
    "you get a floating window with the **built-in documentation** for that identifier:\n",
    "\n",
    "![Shift-Tab-Tab.png](attachment:Shift-Tab-Tab.png)\n",
    "\n",
    "Try it with `pd`:"
   ]
  },
  {
   "cell_type": "code",
   "execution_count": 4,
   "metadata": {},
   "outputs": [
    {
     "data": {
      "text/plain": "<module 'pandas' from 'C:\\\\Users\\\\mitlonginus\\\\anaconda3\\\\envs\\\\TUe\\\\lib\\\\site-packages\\\\pandas\\\\__init__.py'>"
     },
     "execution_count": 4,
     "metadata": {},
     "output_type": "execute_result"
    }
   ],
   "source": [
    "pd"
   ]
  },
  {
   "attachments": {},
   "cell_type": "markdown",
   "metadata": {},
   "source": [
    "Alternatively, you can show the built-in documentation by appending a `?` at the end:"
   ]
  },
  {
   "cell_type": "code",
   "execution_count": 5,
   "metadata": {},
   "outputs": [],
   "source": [
    "pd?"
   ]
  },
  {
   "attachments": {
    "Code-Completion.png": {
     "image/png": "[encoded data removed]"
    }
   },
   "cell_type": "markdown",
   "metadata": {},
   "source": [
    "When you type *part of an identifier*,\n",
    "followed by **TAB**, an attempt is made at **code completion**.\n",
    "When there are multiple possibilities to complete the identifier,\n",
    "a pop-up menu with all options is shown:\n",
    "\n",
    "![Code-Completion.png](attachment:Code-Completion.png)\n",
    "\n",
    "You can either\n",
    "* continue typing more characters of the identifier,\n",
    "    in which case the shown list will become shorter, or\n",
    "* you can select a particular item by\n",
    "    * clicking it with the mouse pointer, or\n",
    "    * moving the selection with the _arrow keys_ and hitting *Enter*.\n",
    "\n",
    "Try it: starting with `pd.D` hit TAB to complete this to `pd.DataFrame`.\n",
    "Next, do Shift-TAB-TAB to get its built-in documentation."
   ]
  },
  {
   "cell_type": "code",
   "execution_count": 6,
   "metadata": {},
   "outputs": [
    {
     "data": {
      "text/plain": "<module 'pandas' from 'C:\\\\Users\\\\mitlonginus\\\\anaconda3\\\\envs\\\\TUe\\\\lib\\\\site-packages\\\\pandas\\\\__init__.py'>"
     },
     "execution_count": 6,
     "metadata": {},
     "output_type": "execute_result"
    }
   ],
   "source": [
    "pd"
   ]
  },
  {
   "attachments": {},
   "cell_type": "markdown",
   "metadata": {},
   "source": [
    "## 1. Data Frames\n",
    "\n",
    "The most important data type of the Pandas library is **`pd.DataFrame`**.\n",
    "It is a _composite_ data type, whose values are called **data frames**.\n",
    "\n",
    "A data frame is a two-dimensional arrangement of data values. It can be helpful to think of it as a table with rows and columns. \n",
    "The data itself is typically of a primitive data type (`int`, `float`, `bool`, `str`,\n",
    "but also some variants of these as offered by the NumPy library;\n",
    "details are not relevant at this point).\n",
    "\n",
    "Here is an example in which we create a data frame from scratch; we name it `df`.\n",
    "It has\n",
    "\n",
    "* four rows indexed from 0 through 3, and\n",
    "* three columns labeled `'A'`, `'B'`, and `'C'`."
   ]
  },
  {
   "cell_type": "code",
   "execution_count": 7,
   "metadata": {},
   "outputs": [
    {
     "data": {
      "text/plain": "   A      B      C\n0  1    one  False\n1  2    two   True\n2  3  three  False\n3  4   four   True",
      "text/html": "<div>\n<style scoped>\n    .dataframe tbody tr th:only-of-type {\n        vertical-align: middle;\n    }\n\n    .dataframe tbody tr th {\n        vertical-align: top;\n    }\n\n    .dataframe thead th {\n        text-align: right;\n    }\n</style>\n<table border=\"1\" class=\"dataframe\">\n  <thead>\n    <tr style=\"text-align: right;\">\n      <th></th>\n      <th>A</th>\n      <th>B</th>\n      <th>C</th>\n    </tr>\n  </thead>\n  <tbody>\n    <tr>\n      <th>0</th>\n      <td>1</td>\n      <td>one</td>\n      <td>False</td>\n    </tr>\n    <tr>\n      <th>1</th>\n      <td>2</td>\n      <td>two</td>\n      <td>True</td>\n    </tr>\n    <tr>\n      <th>2</th>\n      <td>3</td>\n      <td>three</td>\n      <td>False</td>\n    </tr>\n    <tr>\n      <th>3</th>\n      <td>4</td>\n      <td>four</td>\n      <td>True</td>\n    </tr>\n  </tbody>\n</table>\n</div>"
     },
     "execution_count": 7,
     "metadata": {},
     "output_type": "execute_result"
    }
   ],
   "source": [
    "df = pd.DataFrame({'A': [1, 2, 3, 4], 'B': ['one', 'two', 'three', 'four'], 'C': [False, True, False, True]})\n",
    "df"
   ]
  },
  {
   "attachments": {},
   "cell_type": "markdown",
   "metadata": {},
   "source": [
    "The following diagram illustrates some terminology:\n",
    "\n",
    "<div style=\"text-align: center\">\n",
    "    <img src=\"files/df_terminology.png\"></img>\n",
    "</div>\n",
    "<figcaption style=\"text-align: center;\"><b>Figure 1. Data frame terminology.</b></figcaption>\n",
    "\n",
    "* A **row** is a horizontal selection of data values.\n",
    "* A **column** is a vertical selection of data values.\n",
    "* The **index** provides an identification of the rows.\n",
    "* The **column labels** provide an identification of the columns.\n",
    "\n",
    "Typically, all values in one column have the same type.\n",
    "Values in a row can be of different types."
   ]
  },
  {
   "attachments": {},
   "cell_type": "markdown",
   "metadata": {},
   "source": [
    "### Information About a `DataFrame`\n",
    "\n",
    "The following attributes provide information about the `DataFrame df`.\n",
    "\n",
    "* **`df.shape`**: the number of rows and number of columns\n",
    "* **`df.index`**: the row index\n",
    "* **`df.columns`**: the column labels\n",
    "* **`df.dtypes`**: the types of the values in each column"
   ]
  },
  {
   "cell_type": "code",
   "execution_count": 8,
   "metadata": {},
   "outputs": [
    {
     "data": {
      "text/plain": "(4, 3)"
     },
     "execution_count": 8,
     "metadata": {},
     "output_type": "execute_result"
    }
   ],
   "source": [
    "df.shape"
   ]
  },
  {
   "cell_type": "code",
   "execution_count": 9,
   "metadata": {},
   "outputs": [
    {
     "data": {
      "text/plain": "RangeIndex(start=0, stop=4, step=1)"
     },
     "execution_count": 9,
     "metadata": {},
     "output_type": "execute_result"
    }
   ],
   "source": [
    "df.index"
   ]
  },
  {
   "cell_type": "code",
   "execution_count": 10,
   "metadata": {},
   "outputs": [
    {
     "data": {
      "text/plain": "Index(['A', 'B', 'C'], dtype='object')"
     },
     "execution_count": 10,
     "metadata": {},
     "output_type": "execute_result"
    }
   ],
   "source": [
    "df.columns"
   ]
  },
  {
   "cell_type": "code",
   "execution_count": 11,
   "metadata": {},
   "outputs": [
    {
     "data": {
      "text/plain": "A     int64\nB    object\nC      bool\ndtype: object"
     },
     "execution_count": 11,
     "metadata": {},
     "output_type": "execute_result"
    }
   ],
   "source": [
    "df.dtypes"
   ]
  },
  {
   "attachments": {},
   "cell_type": "markdown",
   "metadata": {},
   "source": [
    "The `DataFrame` method **`info()`** returns\n",
    "an overview of a data frame, including its `RangeIndex`, number of `non-null` elements per column, types of the values in each column, and memory usage:"
   ]
  },
  {
   "cell_type": "code",
   "execution_count": 12,
   "metadata": {},
   "outputs": [
    {
     "name": "stdout",
     "output_type": "stream",
     "text": [
      "<class 'pandas.core.frame.DataFrame'>\n",
      "RangeIndex: 4 entries, 0 to 3\n",
      "Data columns (total 3 columns):\n",
      " #   Column  Non-Null Count  Dtype \n",
      "---  ------  --------------  ----- \n",
      " 0   A       4 non-null      int64 \n",
      " 1   B       4 non-null      object\n",
      " 2   C       4 non-null      bool  \n",
      "dtypes: bool(1), int64(1), object(1)\n",
      "memory usage: 196.0+ bytes\n"
     ]
    }
   ],
   "source": [
    "df.info()"
   ]
  },
  {
   "attachments": {},
   "cell_type": "markdown",
   "metadata": {},
   "source": [
    "> **Note:** A class type, like the `DataFrame` type, defines a set of functions (also referred to as *methods*) that can be called on any variable of that type. These methods are called using the dot notation, e.g. `df.info()` calls the method `info()` on the data frame `df`.\n",
    "\n",
    "We see that there are 4 rows. There are three columns of data, each containing 4 values of the following types:\n",
    "\n",
    "* column `'A'` contains 64-bit integers (`int64`)\n",
    "* column `'B'` contains generic Python objects (`object`)\n",
    "> **Note:** A column containing `string` values, or values of different types, will also be assigned the `object` type.\n",
    "* column `'C'` contains boolean values (`bool`)"
   ]
  },
  {
   "attachments": {},
   "cell_type": "markdown",
   "metadata": {},
   "source": [
    "### Exercise 1.a\n",
    "\n",
    "Suppose we are given the names and years of birth of five persons,"
   ]
  },
  {
   "cell_type": "code",
   "execution_count": 13,
   "metadata": {},
   "outputs": [],
   "source": [
    "names = ['Peter', 'Anna', 'Tom', 'John', 'Simone']\n",
    "years = [1998, 2002, 1946, 1973, 1962]"
   ]
  },
  {
   "attachments": {},
   "cell_type": "markdown",
   "metadata": {},
   "source": [
    "and want to organize this information in a data frame. "
   ]
  },
  {
   "attachments": {},
   "cell_type": "markdown",
   "metadata": {},
   "source": [
    "Create a data frame `df_years` out of this information containing two columns. One column should be labeled `'Name'` and contain the names, and the other should be labeled `'Year of birth'` and contain the year of birth. Use the provided lists `names` and `years`, so that your columns are in the same order."
   ]
  },
  {
   "cell_type": "code",
   "execution_count": 14,
   "metadata": {},
   "outputs": [
    {
     "data": {
      "text/plain": "     Name  Year of birth\n0   Peter           1998\n1    Anna           2002\n2     Tom           1946\n3    John           1973\n4  Simone           1962",
      "text/html": "<div>\n<style scoped>\n    .dataframe tbody tr th:only-of-type {\n        vertical-align: middle;\n    }\n\n    .dataframe tbody tr th {\n        vertical-align: top;\n    }\n\n    .dataframe thead th {\n        text-align: right;\n    }\n</style>\n<table border=\"1\" class=\"dataframe\">\n  <thead>\n    <tr style=\"text-align: right;\">\n      <th></th>\n      <th>Name</th>\n      <th>Year of birth</th>\n    </tr>\n  </thead>\n  <tbody>\n    <tr>\n      <th>0</th>\n      <td>Peter</td>\n      <td>1998</td>\n    </tr>\n    <tr>\n      <th>1</th>\n      <td>Anna</td>\n      <td>2002</td>\n    </tr>\n    <tr>\n      <th>2</th>\n      <td>Tom</td>\n      <td>1946</td>\n    </tr>\n    <tr>\n      <th>3</th>\n      <td>John</td>\n      <td>1973</td>\n    </tr>\n    <tr>\n      <th>4</th>\n      <td>Simone</td>\n      <td>1962</td>\n    </tr>\n  </tbody>\n</table>\n</div>"
     },
     "execution_count": 14,
     "metadata": {},
     "output_type": "execute_result"
    }
   ],
   "source": [
    "#// BEGIN_TODO [EDA_1a] Create a dataframe (1 point)\n",
    "\n",
    "df_years = pd.DataFrame({\"Name\": names, \"Year of birth\": years})\n",
    "#// END_TODO [EDA_1a]\n",
    "\n",
    "df_years"
   ]
  },
  {
   "attachments": {},
   "cell_type": "markdown",
   "metadata": {},
   "source": [
    "### Exercise 1.b"
   ]
  },
  {
   "attachments": {},
   "cell_type": "markdown",
   "metadata": {},
   "source": [
    "Use the `info()` function to get an overview of the dataframe `df_years`."
   ]
  },
  {
   "cell_type": "code",
   "execution_count": 15,
   "metadata": {},
   "outputs": [
    {
     "name": "stdout",
     "output_type": "stream",
     "text": [
      "<class 'pandas.core.frame.DataFrame'>\n",
      "RangeIndex: 5 entries, 0 to 4\n",
      "Data columns (total 2 columns):\n",
      " #   Column         Non-Null Count  Dtype \n",
      "---  ------         --------------  ----- \n",
      " 0   Name           5 non-null      object\n",
      " 1   Year of birth  5 non-null      int64 \n",
      "dtypes: int64(1), object(1)\n",
      "memory usage: 208.0+ bytes\n"
     ]
    }
   ],
   "source": [
    "#// BEGIN_TODO [EDA_1b] Get an overview of df_years (1 point)\n",
    "\n",
    "df_years.info()\n",
    "#// END_TODO [EDA_1b]"
   ]
  },
  {
   "attachments": {},
   "cell_type": "markdown",
   "metadata": {},
   "source": [
    "##  2. `Index` and `Series` Objects\n",
    "\n",
    "To understand Pandas data frames better,\n",
    "you should know about two more data types:\n",
    "\n",
    "* **`pd.Index`**:\n",
    "    this is a special type of object that holds the index;\n",
    "    by default, it is just a range of integers starting from 0.\n",
    "* **`pd.Series`**:\n",
    "    this type represents a single named sequence of data values of the same type,\n",
    "    with an index.  \n",
    "    It is used for a single column in a data frame,\n",
    "    but also for a row extracted from a data frame,\n",
    "    where the column labels then serve as the `Series` index,\n",
    "    and the row index serves as the `Series` name.\n",
    "    \n",
    "Thus, a data frame is a sequence of `Series` objects,\n",
    "with a shared `Index` object.\n",
    "The names of the `Series` objects are the column labels."
   ]
  },
  {
   "attachments": {},
   "cell_type": "markdown",
   "metadata": {},
   "source": [
    "Let us again consider the example with the list of names and years of birth."
   ]
  },
  {
   "cell_type": "code",
   "execution_count": 16,
   "metadata": {},
   "outputs": [],
   "source": [
    "names = ['Peter', 'Anna', 'Tom', 'John', 'Simone']\n",
    "years = [1998, 2002, 1946, 1973, 1962]"
   ]
  },
  {
   "attachments": {},
   "cell_type": "markdown",
   "metadata": {},
   "source": [
    "This time, instead of creating a data frame, we create a `Series` object out of the information as follows. The `Series` object itself will contain the years of birth, it will be indexed by the names, and the object will be called `'Years of birth'`. We assign the object to the variable `se_years`:"
   ]
  },
  {
   "cell_type": "code",
   "execution_count": 17,
   "metadata": {},
   "outputs": [
    {
     "data": {
      "text/plain": "Peter     1998\nAnna      2002\nTom       1946\nJohn      1973\nSimone    1962\nName: Years of birth, dtype: int64"
     },
     "execution_count": 17,
     "metadata": {},
     "output_type": "execute_result"
    }
   ],
   "source": [
    "se_years = pd.Series(years, index=names, name='Years of birth' )\n",
    "se_years"
   ]
  },
  {
   "attachments": {},
   "cell_type": "markdown",
   "metadata": {},
   "source": [
    "### Exercise 2.a"
   ]
  },
  {
   "attachments": {},
   "cell_type": "markdown",
   "metadata": {},
   "source": [
    "Create a `pd.Series` object containing the following prices (in Euros):"
   ]
  },
  {
   "cell_type": "code",
   "execution_count": 18,
   "metadata": {},
   "outputs": [],
   "source": [
    "prices = [2, 1, 3, 2.5, 1.5]"
   ]
  },
  {
   "attachments": {},
   "cell_type": "markdown",
   "metadata": {},
   "source": [
    "and indexed by the following items"
   ]
  },
  {
   "cell_type": "code",
   "execution_count": 19,
   "metadata": {},
   "outputs": [],
   "source": [
    "items = ['bread', 'milk', 'chips', 'bananas', 'carrots']"
   ]
  },
  {
   "attachments": {},
   "cell_type": "markdown",
   "metadata": {},
   "source": [
    "The series should be named `'Price (Euros)'`, and you should use the provided `prices` and `items` lists (so that in particular the index and values should are in the same order). Assign the resulting series to the variable `se_shopping_list`."
   ]
  },
  {
   "cell_type": "code",
   "execution_count": 20,
   "metadata": {},
   "outputs": [
    {
     "data": {
      "text/plain": "bread      2.0\nmilk       1.0\nchips      3.0\nbananas    2.5\ncarrots    1.5\nName: Price (Euros), dtype: float64"
     },
     "execution_count": 20,
     "metadata": {},
     "output_type": "execute_result"
    }
   ],
   "source": [
    "#// BEGIN_TODO [EDA_2a] Create an indexed list (1 point)\n",
    "\n",
    "se_shopping_list = pd.Series(prices, index=items, name=\"Price (Euros)\")\n",
    "\n",
    "#// END_TODO [EDA_2a]\n",
    "\n",
    "se_shopping_list"
   ]
  },
  {
   "attachments": {},
   "cell_type": "markdown",
   "metadata": {},
   "source": [
    "### Exercise 2.b"
   ]
  },
  {
   "attachments": {},
   "cell_type": "markdown",
   "metadata": {},
   "source": [
    "Now, consider the following data reporting expenses every $1^\\text{st}$ of January from 2020 until 2023. \n",
    "This data is later used to create the `df_expenses` data frame. "
   ]
  },
  {
   "cell_type": "code",
   "execution_count": 21,
   "metadata": {},
   "outputs": [],
   "source": [
    "years = [2020, 2021, 2022, 2023]\n",
    "months = [1, 1, 1, 1]\n",
    "days = [1, 1, 1, 1]\n",
    "expenses = [1000, 1050, 980, 1115]"
   ]
  },
  {
   "cell_type": "code",
   "execution_count": 22,
   "metadata": {
    "tags": []
   },
   "outputs": [
    {
     "data": {
      "text/plain": "   year  month  day  Expenses (Euros)\n0  2020      1    1              1000\n1  2021      1    1              1050\n2  2022      1    1               980\n3  2023      1    1              1115",
      "text/html": "<div>\n<style scoped>\n    .dataframe tbody tr th:only-of-type {\n        vertical-align: middle;\n    }\n\n    .dataframe tbody tr th {\n        vertical-align: top;\n    }\n\n    .dataframe thead th {\n        text-align: right;\n    }\n</style>\n<table border=\"1\" class=\"dataframe\">\n  <thead>\n    <tr style=\"text-align: right;\">\n      <th></th>\n      <th>year</th>\n      <th>month</th>\n      <th>day</th>\n      <th>Expenses (Euros)</th>\n    </tr>\n  </thead>\n  <tbody>\n    <tr>\n      <th>0</th>\n      <td>2020</td>\n      <td>1</td>\n      <td>1</td>\n      <td>1000</td>\n    </tr>\n    <tr>\n      <th>1</th>\n      <td>2021</td>\n      <td>1</td>\n      <td>1</td>\n      <td>1050</td>\n    </tr>\n    <tr>\n      <th>2</th>\n      <td>2022</td>\n      <td>1</td>\n      <td>1</td>\n      <td>980</td>\n    </tr>\n    <tr>\n      <th>3</th>\n      <td>2023</td>\n      <td>1</td>\n      <td>1</td>\n      <td>1115</td>\n    </tr>\n  </tbody>\n</table>\n</div>"
     },
     "execution_count": 22,
     "metadata": {},
     "output_type": "execute_result"
    }
   ],
   "source": [
    "df_expenses = pd.DataFrame({'year': years, 'month': months, 'day': days, 'Expenses (Euros)': expenses})\n",
    "df_expenses"
   ]
  },
  {
   "attachments": {},
   "cell_type": "markdown",
   "metadata": {},
   "source": [
    "Notice that each row is uniquely identified by the tuple $<year, month, day>$.\n",
    "It would be convenient to set our data frame index to such tuple.\n",
    "An index that is made out of multiple components is called a **multi-level index** (sometimes called a *hierarchical index* or *MultiIndex*).\n",
    "To do so, we need to use the `set_index` method and pass a list with the names of the columns that will be part of the multi-level index.\n",
    "The `set_index` method will return a copy of the data frame. \n",
    "If you want to modify the data frame directly, you must pass the `inplace=True` optional parameter.\n",
    "In general, setting a multi-level index on a data frame will look as follows:\n",
    "\n",
    "```python\n",
    "df.set_index(['index1', 'index2', 'index3'], inplace=True)\n",
    "```"
   ]
  },
  {
   "attachments": {},
   "cell_type": "markdown",
   "metadata": {},
   "source": [
    "In the following cell, create a multi-level index on the `df_expenses` data frame.\n",
    "The multi-index should include the `year`, `month`, and `day` of the data point."
   ]
  },
  {
   "cell_type": "code",
   "execution_count": 23,
   "metadata": {},
   "outputs": [
    {
     "data": {
      "text/plain": "                Expenses (Euros)\nyear month day                  \n2020 1     1                1000\n2021 1     1                1050\n2022 1     1                 980\n2023 1     1                1115",
      "text/html": "<div>\n<style scoped>\n    .dataframe tbody tr th:only-of-type {\n        vertical-align: middle;\n    }\n\n    .dataframe tbody tr th {\n        vertical-align: top;\n    }\n\n    .dataframe thead th {\n        text-align: right;\n    }\n</style>\n<table border=\"1\" class=\"dataframe\">\n  <thead>\n    <tr style=\"text-align: right;\">\n      <th></th>\n      <th></th>\n      <th></th>\n      <th>Expenses (Euros)</th>\n    </tr>\n    <tr>\n      <th>year</th>\n      <th>month</th>\n      <th>day</th>\n      <th></th>\n    </tr>\n  </thead>\n  <tbody>\n    <tr>\n      <th>2020</th>\n      <th>1</th>\n      <th>1</th>\n      <td>1000</td>\n    </tr>\n    <tr>\n      <th>2021</th>\n      <th>1</th>\n      <th>1</th>\n      <td>1050</td>\n    </tr>\n    <tr>\n      <th>2022</th>\n      <th>1</th>\n      <th>1</th>\n      <td>980</td>\n    </tr>\n    <tr>\n      <th>2023</th>\n      <th>1</th>\n      <th>1</th>\n      <td>1115</td>\n    </tr>\n  </tbody>\n</table>\n</div>"
     },
     "execution_count": 23,
     "metadata": {},
     "output_type": "execute_result"
    }
   ],
   "source": [
    "#// BEGIN_TODO [EDA_2b] Create a multi-index (1 point)\n",
    "\n",
    "df_expenses.set_index(['year', 'month', 'day'], inplace=True)\n",
    "#// END_TODO [EDA_2b]\n",
    "\n",
    "df_expenses"
   ]
  },
  {
   "attachments": {},
   "cell_type": "markdown",
   "metadata": {},
   "source": [
    "To access a row on the `df_expenses` data frame, you can use the `loc` attribute, and pass a concrete $<year, month, day>$ tuple.\n",
    "More information about the `loc` attribute will be provided later in this notebook."
   ]
  },
  {
   "cell_type": "code",
   "execution_count": 24,
   "metadata": {},
   "outputs": [
    {
     "data": {
      "text/plain": "Expenses (Euros)    980\nName: (2022, 1, 1), dtype: int64"
     },
     "execution_count": 24,
     "metadata": {},
     "output_type": "execute_result"
    }
   ],
   "source": [
    "df_expenses.loc[(2022, 1, 1)]"
   ]
  },
  {
   "attachments": {},
   "cell_type": "markdown",
   "metadata": {},
   "source": [
    "## Error Handling\n",
    "\n",
    "In case of errors, it is often useful to inspect the variable types. We can inspect the type of `DataFrame` and `Series` variables using the **`type()`** function:"
   ]
  },
  {
   "cell_type": "code",
   "execution_count": 25,
   "metadata": {},
   "outputs": [
    {
     "data": {
      "text/plain": "pandas.core.frame.DataFrame"
     },
     "execution_count": 25,
     "metadata": {},
     "output_type": "execute_result"
    }
   ],
   "source": [
    "type(df) # type of the df variable"
   ]
  },
  {
   "cell_type": "code",
   "execution_count": 26,
   "metadata": {},
   "outputs": [
    {
     "data": {
      "text/plain": "pandas.core.series.Series"
     },
     "execution_count": 26,
     "metadata": {},
     "output_type": "execute_result"
    }
   ],
   "source": [
    "type(df['C']) # type of the 'C' column in the df DataFrame"
   ]
  },
  {
   "cell_type": "code",
   "execution_count": 27,
   "metadata": {},
   "outputs": [
    {
     "data": {
      "text/plain": "pandas.core.series.Series"
     },
     "execution_count": 27,
     "metadata": {},
     "output_type": "execute_result"
    }
   ],
   "source": [
    "type(se_years) # type of the se_years variable"
   ]
  },
  {
   "attachments": {},
   "cell_type": "markdown",
   "metadata": {},
   "source": [
    "Note that a column has the `Series` type, which is not the same as the type of the values inside of a column. You can get the type of the values inside of a column using **`df.dtypes`**:"
   ]
  },
  {
   "cell_type": "code",
   "execution_count": 28,
   "metadata": {},
   "outputs": [
    {
     "data": {
      "text/plain": "dtype('bool')"
     },
     "execution_count": 28,
     "metadata": {},
     "output_type": "execute_result"
    }
   ],
   "source": [
    "df.dtypes['C']"
   ]
  },
  {
   "attachments": {},
   "cell_type": "markdown",
   "metadata": {},
   "source": [
    "## 3. Getting Data from a `DataFrame`\n",
    "\n",
    "You can **get a column** from a data frame by indexing, just like a sequence.\n",
    "The result is a `Series` object.\n",
    "This is useful to extract a particular feature from the data set."
   ]
  },
  {
   "cell_type": "code",
   "execution_count": 29,
   "metadata": {},
   "outputs": [
    {
     "data": {
      "text/plain": "0      one\n1      two\n2    three\n3     four\nName: B, dtype: object"
     },
     "execution_count": 29,
     "metadata": {},
     "output_type": "execute_result"
    }
   ],
   "source": [
    "df['B']"
   ]
  },
  {
   "attachments": {},
   "cell_type": "markdown",
   "metadata": {},
   "source": [
    "To **get a row** from a data frame,\n",
    "you use the `DataFrame` attribute `loc`.\n",
    "It is called an *indexer attribute*,\n",
    "because it supports indexing\n",
    "with *square brackets*, just like indexing of lists.\n",
    "The result is also a `Series` object:"
   ]
  },
  {
   "cell_type": "code",
   "execution_count": 30,
   "metadata": {},
   "outputs": [
    {
     "data": {
      "text/plain": "A        3\nB    three\nC    False\nName: 2, dtype: object"
     },
     "execution_count": 30,
     "metadata": {},
     "output_type": "execute_result"
    }
   ],
   "source": [
    "df.loc[2]"
   ]
  },
  {
   "attachments": {},
   "cell_type": "markdown",
   "metadata": {},
   "source": [
    "You can **get a value** at a given location in a data frame\n",
    "in several ways:\n",
    "\n",
    "* **`df[column_label][row_index]`** : first get the column,\n",
    "    then get the value from the resulting `Series` object.\n",
    "* **`df.loc[row_index, column_label]`** : get the value directly,\n",
    "    using `loc` with the row index and column label."
   ]
  },
  {
   "cell_type": "code",
   "execution_count": 31,
   "metadata": {},
   "outputs": [
    {
     "data": {
      "text/plain": "'three'"
     },
     "execution_count": 31,
     "metadata": {},
     "output_type": "execute_result"
    }
   ],
   "source": [
    "df['B'][2]"
   ]
  },
  {
   "cell_type": "code",
   "execution_count": 32,
   "metadata": {},
   "outputs": [
    {
     "data": {
      "text/plain": "'three'"
     },
     "execution_count": 32,
     "metadata": {},
     "output_type": "execute_result"
    }
   ],
   "source": [
    "df.loc[2, 'B']"
   ]
  },
  {
   "attachments": {},
   "cell_type": "markdown",
   "metadata": {},
   "source": [
    "_Slicing_ can be used to **get larger parts from a data frame**,\n",
    "with a syntax similar to the slicing of lists.\n",
    "\n",
    "> **Note:** When slicing `DataFrame` and `Series` objects\n",
    "> with the syntax `.loc[start:stop]`,\n",
    "> the **`stop` value is included**.  \n",
    "> This contrasts to _list_ slicing, where `stop` is _not_ included.\n",
    "\n",
    "To select a slice of rows,\n",
    "use `.loc[start:stop]`.\n",
    "The result is a (new!) data frame:"
   ]
  },
  {
   "cell_type": "code",
   "execution_count": 33,
   "metadata": {},
   "outputs": [
    {
     "data": {
      "text/plain": "   A      B      C\n1  2    two   True\n2  3  three  False",
      "text/html": "<div>\n<style scoped>\n    .dataframe tbody tr th:only-of-type {\n        vertical-align: middle;\n    }\n\n    .dataframe tbody tr th {\n        vertical-align: top;\n    }\n\n    .dataframe thead th {\n        text-align: right;\n    }\n</style>\n<table border=\"1\" class=\"dataframe\">\n  <thead>\n    <tr style=\"text-align: right;\">\n      <th></th>\n      <th>A</th>\n      <th>B</th>\n      <th>C</th>\n    </tr>\n  </thead>\n  <tbody>\n    <tr>\n      <th>1</th>\n      <td>2</td>\n      <td>two</td>\n      <td>True</td>\n    </tr>\n    <tr>\n      <th>2</th>\n      <td>3</td>\n      <td>three</td>\n      <td>False</td>\n    </tr>\n  </tbody>\n</table>\n</div>"
     },
     "execution_count": 33,
     "metadata": {},
     "output_type": "execute_result"
    }
   ],
   "source": [
    "df.loc[1:2]"
   ]
  },
  {
   "attachments": {},
   "cell_type": "markdown",
   "metadata": {},
   "source": [
    "When `start` or `stop` is omitted in the slice `start:stop`,\n",
    "the first or last item is implied. Therefore, `.loc[:2]` extracts the first three rows:"
   ]
  },
  {
   "cell_type": "code",
   "execution_count": 34,
   "metadata": {},
   "outputs": [
    {
     "data": {
      "text/plain": "   A      B      C\n0  1    one  False\n1  2    two   True\n2  3  three  False",
      "text/html": "<div>\n<style scoped>\n    .dataframe tbody tr th:only-of-type {\n        vertical-align: middle;\n    }\n\n    .dataframe tbody tr th {\n        vertical-align: top;\n    }\n\n    .dataframe thead th {\n        text-align: right;\n    }\n</style>\n<table border=\"1\" class=\"dataframe\">\n  <thead>\n    <tr style=\"text-align: right;\">\n      <th></th>\n      <th>A</th>\n      <th>B</th>\n      <th>C</th>\n    </tr>\n  </thead>\n  <tbody>\n    <tr>\n      <th>0</th>\n      <td>1</td>\n      <td>one</td>\n      <td>False</td>\n    </tr>\n    <tr>\n      <th>1</th>\n      <td>2</td>\n      <td>two</td>\n      <td>True</td>\n    </tr>\n    <tr>\n      <th>2</th>\n      <td>3</td>\n      <td>three</td>\n      <td>False</td>\n    </tr>\n  </tbody>\n</table>\n</div>"
     },
     "execution_count": 34,
     "metadata": {},
     "output_type": "execute_result"
    }
   ],
   "source": [
    "df.loc[:2]"
   ]
  },
  {
   "attachments": {},
   "cell_type": "markdown",
   "metadata": {},
   "source": [
    "and `.loc[:]` extracts all rows:"
   ]
  },
  {
   "cell_type": "code",
   "execution_count": 35,
   "metadata": {},
   "outputs": [
    {
     "data": {
      "text/plain": "   A      B      C\n0  1    one  False\n1  2    two   True\n2  3  three  False\n3  4   four   True",
      "text/html": "<div>\n<style scoped>\n    .dataframe tbody tr th:only-of-type {\n        vertical-align: middle;\n    }\n\n    .dataframe tbody tr th {\n        vertical-align: top;\n    }\n\n    .dataframe thead th {\n        text-align: right;\n    }\n</style>\n<table border=\"1\" class=\"dataframe\">\n  <thead>\n    <tr style=\"text-align: right;\">\n      <th></th>\n      <th>A</th>\n      <th>B</th>\n      <th>C</th>\n    </tr>\n  </thead>\n  <tbody>\n    <tr>\n      <th>0</th>\n      <td>1</td>\n      <td>one</td>\n      <td>False</td>\n    </tr>\n    <tr>\n      <th>1</th>\n      <td>2</td>\n      <td>two</td>\n      <td>True</td>\n    </tr>\n    <tr>\n      <th>2</th>\n      <td>3</td>\n      <td>three</td>\n      <td>False</td>\n    </tr>\n    <tr>\n      <th>3</th>\n      <td>4</td>\n      <td>four</td>\n      <td>True</td>\n    </tr>\n  </tbody>\n</table>\n</div>"
     },
     "execution_count": 35,
     "metadata": {},
     "output_type": "execute_result"
    }
   ],
   "source": [
    "df.loc[:]"
   ]
  },
  {
   "attachments": {},
   "cell_type": "markdown",
   "metadata": {},
   "source": [
    "The `DataFrame` method call **`df.head(n)`** returns the first `n` rows of the data frame `df`,\n",
    "regardless of how the rows are indexed.\n",
    "The default value for `n` is 5 (i.e. omitting the argument by calling `df.head()` is equivalent to `df.head(5)`).\n",
    "This method be very useful to quickly get an impression of the data in a data frame."
   ]
  },
  {
   "cell_type": "code",
   "execution_count": 36,
   "metadata": {},
   "outputs": [
    {
     "data": {
      "text/plain": "   A    B      C\n0  1  one  False\n1  2  two   True",
      "text/html": "<div>\n<style scoped>\n    .dataframe tbody tr th:only-of-type {\n        vertical-align: middle;\n    }\n\n    .dataframe tbody tr th {\n        vertical-align: top;\n    }\n\n    .dataframe thead th {\n        text-align: right;\n    }\n</style>\n<table border=\"1\" class=\"dataframe\">\n  <thead>\n    <tr style=\"text-align: right;\">\n      <th></th>\n      <th>A</th>\n      <th>B</th>\n      <th>C</th>\n    </tr>\n  </thead>\n  <tbody>\n    <tr>\n      <th>0</th>\n      <td>1</td>\n      <td>one</td>\n      <td>False</td>\n    </tr>\n    <tr>\n      <th>1</th>\n      <td>2</td>\n      <td>two</td>\n      <td>True</td>\n    </tr>\n  </tbody>\n</table>\n</div>"
     },
     "execution_count": 36,
     "metadata": {},
     "output_type": "execute_result"
    }
   ],
   "source": [
    "df.head(2)"
   ]
  },
  {
   "attachments": {},
   "cell_type": "markdown",
   "metadata": {},
   "source": [
    "You can also apply slicing to the columns:"
   ]
  },
  {
   "cell_type": "code",
   "execution_count": 37,
   "metadata": {},
   "outputs": [
    {
     "data": {
      "text/plain": "   A      B\n0  1    one\n1  2    two\n2  3  three\n3  4   four",
      "text/html": "<div>\n<style scoped>\n    .dataframe tbody tr th:only-of-type {\n        vertical-align: middle;\n    }\n\n    .dataframe tbody tr th {\n        vertical-align: top;\n    }\n\n    .dataframe thead th {\n        text-align: right;\n    }\n</style>\n<table border=\"1\" class=\"dataframe\">\n  <thead>\n    <tr style=\"text-align: right;\">\n      <th></th>\n      <th>A</th>\n      <th>B</th>\n    </tr>\n  </thead>\n  <tbody>\n    <tr>\n      <th>0</th>\n      <td>1</td>\n      <td>one</td>\n    </tr>\n    <tr>\n      <th>1</th>\n      <td>2</td>\n      <td>two</td>\n    </tr>\n    <tr>\n      <th>2</th>\n      <td>3</td>\n      <td>three</td>\n    </tr>\n    <tr>\n      <th>3</th>\n      <td>4</td>\n      <td>four</td>\n    </tr>\n  </tbody>\n</table>\n</div>"
     },
     "execution_count": 37,
     "metadata": {},
     "output_type": "execute_result"
    }
   ],
   "source": [
    "df.loc[:, 'A':'B']"
   ]
  },
  {
   "attachments": {},
   "cell_type": "markdown",
   "metadata": {},
   "source": [
    "Note that here the first `:` argument tells us to select all the rows.\n",
    "\n",
    "Using `.loc` we can also extract a particular slice of rows and columns in one go:"
   ]
  },
  {
   "cell_type": "code",
   "execution_count": 38,
   "metadata": {},
   "outputs": [
    {
     "data": {
      "text/plain": "   A      B\n1  2    two\n2  3  three",
      "text/html": "<div>\n<style scoped>\n    .dataframe tbody tr th:only-of-type {\n        vertical-align: middle;\n    }\n\n    .dataframe tbody tr th {\n        vertical-align: top;\n    }\n\n    .dataframe thead th {\n        text-align: right;\n    }\n</style>\n<table border=\"1\" class=\"dataframe\">\n  <thead>\n    <tr style=\"text-align: right;\">\n      <th></th>\n      <th>A</th>\n      <th>B</th>\n    </tr>\n  </thead>\n  <tbody>\n    <tr>\n      <th>1</th>\n      <td>2</td>\n      <td>two</td>\n    </tr>\n    <tr>\n      <th>2</th>\n      <td>3</td>\n      <td>three</td>\n    </tr>\n  </tbody>\n</table>\n</div>"
     },
     "execution_count": 38,
     "metadata": {},
     "output_type": "execute_result"
    }
   ],
   "source": [
    "df.loc[1:2, 'A':'B']"
   ]
  },
  {
   "attachments": {},
   "cell_type": "markdown",
   "metadata": {},
   "source": [
    "To **get _non-adjacent_ rows**,\n",
    "use `.loc` with a _list of row indices_\n",
    "(note the **double square brackets**).\n",
    "The result is a (new!) data frame:"
   ]
  },
  {
   "cell_type": "code",
   "execution_count": 39,
   "metadata": {},
   "outputs": [
    {
     "data": {
      "text/plain": "   A     B     C\n1  2   two  True\n3  4  four  True",
      "text/html": "<div>\n<style scoped>\n    .dataframe tbody tr th:only-of-type {\n        vertical-align: middle;\n    }\n\n    .dataframe tbody tr th {\n        vertical-align: top;\n    }\n\n    .dataframe thead th {\n        text-align: right;\n    }\n</style>\n<table border=\"1\" class=\"dataframe\">\n  <thead>\n    <tr style=\"text-align: right;\">\n      <th></th>\n      <th>A</th>\n      <th>B</th>\n      <th>C</th>\n    </tr>\n  </thead>\n  <tbody>\n    <tr>\n      <th>1</th>\n      <td>2</td>\n      <td>two</td>\n      <td>True</td>\n    </tr>\n    <tr>\n      <th>3</th>\n      <td>4</td>\n      <td>four</td>\n      <td>True</td>\n    </tr>\n  </tbody>\n</table>\n</div>"
     },
     "execution_count": 39,
     "metadata": {},
     "output_type": "execute_result"
    }
   ],
   "source": [
    "df.loc[[1, 3]]"
   ]
  },
  {
   "attachments": {},
   "cell_type": "markdown",
   "metadata": {},
   "source": [
    "You can also **get _non-adjacent_ columns**.\n",
    "One way is by providing a _list of column labels_ directly to the data frame\n",
    "(note the **double square brackets**).\n",
    "The result is a (new!) data frame:"
   ]
  },
  {
   "cell_type": "code",
   "execution_count": 40,
   "metadata": {},
   "outputs": [
    {
     "data": {
      "text/plain": "   A      C\n0  1  False\n1  2   True\n2  3  False\n3  4   True",
      "text/html": "<div>\n<style scoped>\n    .dataframe tbody tr th:only-of-type {\n        vertical-align: middle;\n    }\n\n    .dataframe tbody tr th {\n        vertical-align: top;\n    }\n\n    .dataframe thead th {\n        text-align: right;\n    }\n</style>\n<table border=\"1\" class=\"dataframe\">\n  <thead>\n    <tr style=\"text-align: right;\">\n      <th></th>\n      <th>A</th>\n      <th>C</th>\n    </tr>\n  </thead>\n  <tbody>\n    <tr>\n      <th>0</th>\n      <td>1</td>\n      <td>False</td>\n    </tr>\n    <tr>\n      <th>1</th>\n      <td>2</td>\n      <td>True</td>\n    </tr>\n    <tr>\n      <th>2</th>\n      <td>3</td>\n      <td>False</td>\n    </tr>\n    <tr>\n      <th>3</th>\n      <td>4</td>\n      <td>True</td>\n    </tr>\n  </tbody>\n</table>\n</div>"
     },
     "execution_count": 40,
     "metadata": {},
     "output_type": "execute_result"
    }
   ],
   "source": [
    "df[['A', 'C']]"
   ]
  },
  {
   "attachments": {},
   "cell_type": "markdown",
   "metadata": {},
   "source": [
    "An alternative way of getting non-adjacent columns\n",
    "is to use `.loc` with a _full slice_ for the rows using just '`:`':"
   ]
  },
  {
   "cell_type": "code",
   "execution_count": 41,
   "metadata": {},
   "outputs": [
    {
     "data": {
      "text/plain": "   A      C\n0  1  False\n1  2   True\n2  3  False\n3  4   True",
      "text/html": "<div>\n<style scoped>\n    .dataframe tbody tr th:only-of-type {\n        vertical-align: middle;\n    }\n\n    .dataframe tbody tr th {\n        vertical-align: top;\n    }\n\n    .dataframe thead th {\n        text-align: right;\n    }\n</style>\n<table border=\"1\" class=\"dataframe\">\n  <thead>\n    <tr style=\"text-align: right;\">\n      <th></th>\n      <th>A</th>\n      <th>C</th>\n    </tr>\n  </thead>\n  <tbody>\n    <tr>\n      <th>0</th>\n      <td>1</td>\n      <td>False</td>\n    </tr>\n    <tr>\n      <th>1</th>\n      <td>2</td>\n      <td>True</td>\n    </tr>\n    <tr>\n      <th>2</th>\n      <td>3</td>\n      <td>False</td>\n    </tr>\n    <tr>\n      <th>3</th>\n      <td>4</td>\n      <td>True</td>\n    </tr>\n  </tbody>\n</table>\n</div>"
     },
     "execution_count": 41,
     "metadata": {},
     "output_type": "execute_result"
    }
   ],
   "source": [
    "df.loc[:, ['A', 'C']]"
   ]
  },
  {
   "attachments": {},
   "cell_type": "markdown",
   "metadata": {},
   "source": [
    "Note that `df['B']` returns column '`B`' as a `Series` object.\n",
    "Sometimes it is more convenient to get it as a `DataFrame` with one column.\n",
    "This can be achieved by using a list with only one element `'B'` as a column label\n",
    "(note the **double square brackets**):"
   ]
  },
  {
   "cell_type": "code",
   "execution_count": 42,
   "metadata": {},
   "outputs": [
    {
     "data": {
      "text/plain": "       B\n0    one\n1    two\n2  three\n3   four",
      "text/html": "<div>\n<style scoped>\n    .dataframe tbody tr th:only-of-type {\n        vertical-align: middle;\n    }\n\n    .dataframe tbody tr th {\n        vertical-align: top;\n    }\n\n    .dataframe thead th {\n        text-align: right;\n    }\n</style>\n<table border=\"1\" class=\"dataframe\">\n  <thead>\n    <tr style=\"text-align: right;\">\n      <th></th>\n      <th>B</th>\n    </tr>\n  </thead>\n  <tbody>\n    <tr>\n      <th>0</th>\n      <td>one</td>\n    </tr>\n    <tr>\n      <th>1</th>\n      <td>two</td>\n    </tr>\n    <tr>\n      <th>2</th>\n      <td>three</td>\n    </tr>\n    <tr>\n      <th>3</th>\n      <td>four</td>\n    </tr>\n  </tbody>\n</table>\n</div>"
     },
     "execution_count": 42,
     "metadata": {},
     "output_type": "execute_result"
    }
   ],
   "source": [
    "df[['B']]"
   ]
  },
  {
   "attachments": {},
   "cell_type": "markdown",
   "metadata": {},
   "source": [
    "or using `.loc` with a list as second argument:"
   ]
  },
  {
   "cell_type": "code",
   "execution_count": 43,
   "metadata": {},
   "outputs": [
    {
     "data": {
      "text/plain": "       B\n0    one\n1    two\n2  three\n3   four",
      "text/html": "<div>\n<style scoped>\n    .dataframe tbody tr th:only-of-type {\n        vertical-align: middle;\n    }\n\n    .dataframe tbody tr th {\n        vertical-align: top;\n    }\n\n    .dataframe thead th {\n        text-align: right;\n    }\n</style>\n<table border=\"1\" class=\"dataframe\">\n  <thead>\n    <tr style=\"text-align: right;\">\n      <th></th>\n      <th>B</th>\n    </tr>\n  </thead>\n  <tbody>\n    <tr>\n      <th>0</th>\n      <td>one</td>\n    </tr>\n    <tr>\n      <th>1</th>\n      <td>two</td>\n    </tr>\n    <tr>\n      <th>2</th>\n      <td>three</td>\n    </tr>\n    <tr>\n      <th>3</th>\n      <td>four</td>\n    </tr>\n  </tbody>\n</table>\n</div>"
     },
     "execution_count": 43,
     "metadata": {},
     "output_type": "execute_result"
    }
   ],
   "source": [
    "df.loc[:, ['B']]"
   ]
  },
  {
   "attachments": {},
   "cell_type": "markdown",
   "metadata": {},
   "source": [
    "### Exercise 3.a"
   ]
  },
  {
   "attachments": {},
   "cell_type": "markdown",
   "metadata": {},
   "source": [
    "For the purpose of this exercise, we first organize the information"
   ]
  },
  {
   "cell_type": "code",
   "execution_count": 44,
   "metadata": {},
   "outputs": [],
   "source": [
    "prices = [2, 1, 3, 2.5, 1.5]\n",
    "items  = ['bread', 'milk', 'chips', 'bananas', 'carrots']"
   ]
  },
  {
   "attachments": {},
   "cell_type": "markdown",
   "metadata": {},
   "source": [
    "into a data frame called `df_shopping_list`"
   ]
  },
  {
   "cell_type": "code",
   "execution_count": 45,
   "metadata": {},
   "outputs": [
    {
     "data": {
      "text/plain": "      Item  Price (Euros)\n0    bread            2.0\n1     milk            1.0\n2    chips            3.0\n3  bananas            2.5\n4  carrots            1.5",
      "text/html": "<div>\n<style scoped>\n    .dataframe tbody tr th:only-of-type {\n        vertical-align: middle;\n    }\n\n    .dataframe tbody tr th {\n        vertical-align: top;\n    }\n\n    .dataframe thead th {\n        text-align: right;\n    }\n</style>\n<table border=\"1\" class=\"dataframe\">\n  <thead>\n    <tr style=\"text-align: right;\">\n      <th></th>\n      <th>Item</th>\n      <th>Price (Euros)</th>\n    </tr>\n  </thead>\n  <tbody>\n    <tr>\n      <th>0</th>\n      <td>bread</td>\n      <td>2.0</td>\n    </tr>\n    <tr>\n      <th>1</th>\n      <td>milk</td>\n      <td>1.0</td>\n    </tr>\n    <tr>\n      <th>2</th>\n      <td>chips</td>\n      <td>3.0</td>\n    </tr>\n    <tr>\n      <th>3</th>\n      <td>bananas</td>\n      <td>2.5</td>\n    </tr>\n    <tr>\n      <th>4</th>\n      <td>carrots</td>\n      <td>1.5</td>\n    </tr>\n  </tbody>\n</table>\n</div>"
     },
     "execution_count": 45,
     "metadata": {},
     "output_type": "execute_result"
    }
   ],
   "source": [
    "df_shopping_list = pd.DataFrame({'Item': items, 'Price (Euros)': prices})\n",
    "df_shopping_list"
   ]
  },
  {
   "attachments": {},
   "cell_type": "markdown",
   "metadata": {},
   "source": [
    "Create a _new_ data frame containing only the first four rows from `df_shopping_list` and assign it to `df_short_list`."
   ]
  },
  {
   "cell_type": "code",
   "execution_count": 46,
   "metadata": {},
   "outputs": [
    {
     "data": {
      "text/plain": "      Item  Price (Euros)\n0    bread            2.0\n1     milk            1.0\n2    chips            3.0\n3  bananas            2.5",
      "text/html": "<div>\n<style scoped>\n    .dataframe tbody tr th:only-of-type {\n        vertical-align: middle;\n    }\n\n    .dataframe tbody tr th {\n        vertical-align: top;\n    }\n\n    .dataframe thead th {\n        text-align: right;\n    }\n</style>\n<table border=\"1\" class=\"dataframe\">\n  <thead>\n    <tr style=\"text-align: right;\">\n      <th></th>\n      <th>Item</th>\n      <th>Price (Euros)</th>\n    </tr>\n  </thead>\n  <tbody>\n    <tr>\n      <th>0</th>\n      <td>bread</td>\n      <td>2.0</td>\n    </tr>\n    <tr>\n      <th>1</th>\n      <td>milk</td>\n      <td>1.0</td>\n    </tr>\n    <tr>\n      <th>2</th>\n      <td>chips</td>\n      <td>3.0</td>\n    </tr>\n    <tr>\n      <th>3</th>\n      <td>bananas</td>\n      <td>2.5</td>\n    </tr>\n  </tbody>\n</table>\n</div>"
     },
     "execution_count": 46,
     "metadata": {},
     "output_type": "execute_result"
    }
   ],
   "source": [
    "#// BEGIN_TODO [EDA_3a] Select first rows (1 point)\n",
    "\n",
    "df_short_list = df_shopping_list.loc[0:3, :]\n",
    "\n",
    "#// END_TODO [EDA_3a]\n",
    "\n",
    "df_short_list"
   ]
  },
  {
   "attachments": {},
   "cell_type": "markdown",
   "metadata": {},
   "source": [
    "### Exercise <span class=\"exercise\">3.b</span>\n",
    "\n",
    "Use an expression to select the `'Item'` column from the data frame `df_shopping_list` so that the result is a `Series` object."
   ]
  },
  {
   "cell_type": "code",
   "execution_count": 47,
   "metadata": {},
   "outputs": [
    {
     "data": {
      "text/plain": "0      bread\n1       milk\n2      chips\n3    bananas\n4    carrots\nName: Item, dtype: object"
     },
     "execution_count": 47,
     "metadata": {},
     "output_type": "execute_result"
    }
   ],
   "source": [
    "#// BEGIN_TODO [EDA_3b] Select a column (1 point)\n",
    "\n",
    "df_shopping_list['Item']\n",
    "#// END_TODO [EDA_3b]"
   ]
  },
  {
   "attachments": {},
   "cell_type": "markdown",
   "metadata": {},
   "source": [
    "### Exercise <span class=\"exercise\">3.c</span>\n",
    "\n",
    "Use an expression to select the prices from the rows with indices 2 to 4 (including 4), but now make sure the result is a data frame. "
   ]
  },
  {
   "cell_type": "code",
   "execution_count": 48,
   "metadata": {},
   "outputs": [
    {
     "data": {
      "text/plain": "   Price (Euros)\n2            3.0\n3            2.5\n4            1.5",
      "text/html": "<div>\n<style scoped>\n    .dataframe tbody tr th:only-of-type {\n        vertical-align: middle;\n    }\n\n    .dataframe tbody tr th {\n        vertical-align: top;\n    }\n\n    .dataframe thead th {\n        text-align: right;\n    }\n</style>\n<table border=\"1\" class=\"dataframe\">\n  <thead>\n    <tr style=\"text-align: right;\">\n      <th></th>\n      <th>Price (Euros)</th>\n    </tr>\n  </thead>\n  <tbody>\n    <tr>\n      <th>2</th>\n      <td>3.0</td>\n    </tr>\n    <tr>\n      <th>3</th>\n      <td>2.5</td>\n    </tr>\n    <tr>\n      <th>4</th>\n      <td>1.5</td>\n    </tr>\n  </tbody>\n</table>\n</div>"
     },
     "execution_count": 48,
     "metadata": {},
     "output_type": "execute_result"
    }
   ],
   "source": [
    "#// BEGIN_TODO [EDA_3c] Select rows _and_ columns (1 point)\n",
    "\n",
    "df_shopping_list.loc[2:4,['Price (Euros)']]\n",
    "#// END_TODO [EDA_3c]"
   ]
  },
  {
   "attachments": {},
   "cell_type": "markdown",
   "metadata": {},
   "source": [
    "## 4. Modifying a `DataFrame`\n",
    "\n",
    "`DataFrame` objects are _mutable_.\n",
    "In this lesson, we will only present two very basic ways of modifying a `DataFrame` object."
   ]
  },
  {
   "attachments": {},
   "cell_type": "markdown",
   "metadata": {},
   "source": [
    "### Changing a Value in a `DataFrame`\n",
    "\n",
    "To change a value at a particular location of a data frame `df`,\n",
    "you can use an assignment to the selected item:\n",
    "```python\n",
    "df.loc[row, column] = expression\n",
    "```"
   ]
  },
  {
   "cell_type": "code",
   "execution_count": 49,
   "metadata": {},
   "outputs": [
    {
     "data": {
      "text/plain": "   A      B      C\n0  1    ACE  False\n1  2    two   True\n2  3  three  False\n3  4   four   True",
      "text/html": "<div>\n<style scoped>\n    .dataframe tbody tr th:only-of-type {\n        vertical-align: middle;\n    }\n\n    .dataframe tbody tr th {\n        vertical-align: top;\n    }\n\n    .dataframe thead th {\n        text-align: right;\n    }\n</style>\n<table border=\"1\" class=\"dataframe\">\n  <thead>\n    <tr style=\"text-align: right;\">\n      <th></th>\n      <th>A</th>\n      <th>B</th>\n      <th>C</th>\n    </tr>\n  </thead>\n  <tbody>\n    <tr>\n      <th>0</th>\n      <td>1</td>\n      <td>ACE</td>\n      <td>False</td>\n    </tr>\n    <tr>\n      <th>1</th>\n      <td>2</td>\n      <td>two</td>\n      <td>True</td>\n    </tr>\n    <tr>\n      <th>2</th>\n      <td>3</td>\n      <td>three</td>\n      <td>False</td>\n    </tr>\n    <tr>\n      <th>3</th>\n      <td>4</td>\n      <td>four</td>\n      <td>True</td>\n    </tr>\n  </tbody>\n</table>\n</div>"
     },
     "execution_count": 49,
     "metadata": {},
     "output_type": "execute_result"
    }
   ],
   "source": [
    "df.loc[0, 'B'] = 'ACE'\n",
    "df"
   ]
  },
  {
   "attachments": {},
   "cell_type": "markdown",
   "metadata": {},
   "source": [
    "### Changing Values in a Slice from a `DataFrame`\n",
    "\n",
    "Modifying values in data frame slices is a little bit cumbersome.\n",
    "\n",
    "> **Important:** If you want to operate on slices, it is recommended to **explicitly create a copy** of the slice. This avoids accidentally modifying the original data frame.\n",
    "\n",
    "For example, let us take a look at the `df` data frame again:"
   ]
  },
  {
   "cell_type": "code",
   "execution_count": 50,
   "metadata": {},
   "outputs": [
    {
     "data": {
      "text/plain": "   A      B      C\n0  1    ACE  False\n1  2    two   True\n2  3  three  False\n3  4   four   True",
      "text/html": "<div>\n<style scoped>\n    .dataframe tbody tr th:only-of-type {\n        vertical-align: middle;\n    }\n\n    .dataframe tbody tr th {\n        vertical-align: top;\n    }\n\n    .dataframe thead th {\n        text-align: right;\n    }\n</style>\n<table border=\"1\" class=\"dataframe\">\n  <thead>\n    <tr style=\"text-align: right;\">\n      <th></th>\n      <th>A</th>\n      <th>B</th>\n      <th>C</th>\n    </tr>\n  </thead>\n  <tbody>\n    <tr>\n      <th>0</th>\n      <td>1</td>\n      <td>ACE</td>\n      <td>False</td>\n    </tr>\n    <tr>\n      <th>1</th>\n      <td>2</td>\n      <td>two</td>\n      <td>True</td>\n    </tr>\n    <tr>\n      <th>2</th>\n      <td>3</td>\n      <td>three</td>\n      <td>False</td>\n    </tr>\n    <tr>\n      <th>3</th>\n      <td>4</td>\n      <td>four</td>\n      <td>True</td>\n    </tr>\n  </tbody>\n</table>\n</div>"
     },
     "execution_count": 50,
     "metadata": {},
     "output_type": "execute_result"
    }
   ],
   "source": [
    "df"
   ]
  },
  {
   "attachments": {},
   "cell_type": "markdown",
   "metadata": {},
   "source": [
    "If we take a slice of the `df` data frame:"
   ]
  },
  {
   "cell_type": "code",
   "execution_count": 51,
   "metadata": {},
   "outputs": [
    {
     "data": {
      "text/plain": "   A      B      C\n1  2    two   True\n2  3  three  False",
      "text/html": "<div>\n<style scoped>\n    .dataframe tbody tr th:only-of-type {\n        vertical-align: middle;\n    }\n\n    .dataframe tbody tr th {\n        vertical-align: top;\n    }\n\n    .dataframe thead th {\n        text-align: right;\n    }\n</style>\n<table border=\"1\" class=\"dataframe\">\n  <thead>\n    <tr style=\"text-align: right;\">\n      <th></th>\n      <th>A</th>\n      <th>B</th>\n      <th>C</th>\n    </tr>\n  </thead>\n  <tbody>\n    <tr>\n      <th>1</th>\n      <td>2</td>\n      <td>two</td>\n      <td>True</td>\n    </tr>\n    <tr>\n      <th>2</th>\n      <td>3</td>\n      <td>three</td>\n      <td>False</td>\n    </tr>\n  </tbody>\n</table>\n</div>"
     },
     "execution_count": 51,
     "metadata": {},
     "output_type": "execute_result"
    }
   ],
   "source": [
    "df_slice = df.loc[1:2].copy()\n",
    "df_slice"
   ]
  },
  {
   "attachments": {},
   "cell_type": "markdown",
   "metadata": {},
   "source": [
    "and modify the values in the first row of the slice:"
   ]
  },
  {
   "cell_type": "code",
   "execution_count": 52,
   "metadata": {},
   "outputs": [
    {
     "data": {
      "text/plain": "   A      B      C\n1  8  EIGHT   True\n2  3  three  False",
      "text/html": "<div>\n<style scoped>\n    .dataframe tbody tr th:only-of-type {\n        vertical-align: middle;\n    }\n\n    .dataframe tbody tr th {\n        vertical-align: top;\n    }\n\n    .dataframe thead th {\n        text-align: right;\n    }\n</style>\n<table border=\"1\" class=\"dataframe\">\n  <thead>\n    <tr style=\"text-align: right;\">\n      <th></th>\n      <th>A</th>\n      <th>B</th>\n      <th>C</th>\n    </tr>\n  </thead>\n  <tbody>\n    <tr>\n      <th>1</th>\n      <td>8</td>\n      <td>EIGHT</td>\n      <td>True</td>\n    </tr>\n    <tr>\n      <th>2</th>\n      <td>3</td>\n      <td>three</td>\n      <td>False</td>\n    </tr>\n  </tbody>\n</table>\n</div>"
     },
     "execution_count": 52,
     "metadata": {},
     "output_type": "execute_result"
    }
   ],
   "source": [
    "df_slice.loc[1, 'A'] = 8\n",
    "df_slice.loc[1, 'B'] = \"EIGHT\"\n",
    "df_slice"
   ]
  },
  {
   "attachments": {},
   "cell_type": "markdown",
   "metadata": {},
   "source": [
    "the original data frame will not be affected:"
   ]
  },
  {
   "cell_type": "code",
   "execution_count": 53,
   "metadata": {},
   "outputs": [
    {
     "data": {
      "text/plain": "   A      B      C\n0  1    ACE  False\n1  2    two   True\n2  3  three  False\n3  4   four   True",
      "text/html": "<div>\n<style scoped>\n    .dataframe tbody tr th:only-of-type {\n        vertical-align: middle;\n    }\n\n    .dataframe tbody tr th {\n        vertical-align: top;\n    }\n\n    .dataframe thead th {\n        text-align: right;\n    }\n</style>\n<table border=\"1\" class=\"dataframe\">\n  <thead>\n    <tr style=\"text-align: right;\">\n      <th></th>\n      <th>A</th>\n      <th>B</th>\n      <th>C</th>\n    </tr>\n  </thead>\n  <tbody>\n    <tr>\n      <th>0</th>\n      <td>1</td>\n      <td>ACE</td>\n      <td>False</td>\n    </tr>\n    <tr>\n      <th>1</th>\n      <td>2</td>\n      <td>two</td>\n      <td>True</td>\n    </tr>\n    <tr>\n      <th>2</th>\n      <td>3</td>\n      <td>three</td>\n      <td>False</td>\n    </tr>\n    <tr>\n      <th>3</th>\n      <td>4</td>\n      <td>four</td>\n      <td>True</td>\n    </tr>\n  </tbody>\n</table>\n</div>"
     },
     "execution_count": 53,
     "metadata": {},
     "output_type": "execute_result"
    }
   ],
   "source": [
    "df"
   ]
  },
  {
   "attachments": {},
   "cell_type": "markdown",
   "metadata": {},
   "source": [
    "### Exercise <span class=\"exercise\">4.a</span>\n",
    "\n",
    "Let us continue with the shopping list example:"
   ]
  },
  {
   "cell_type": "code",
   "execution_count": 54,
   "metadata": {},
   "outputs": [
    {
     "data": {
      "text/plain": "      Item  Price (Euros)\n0    bread            2.0\n1     milk            1.0\n2    chips            3.0\n3  bananas            2.5\n4  carrots            1.5",
      "text/html": "<div>\n<style scoped>\n    .dataframe tbody tr th:only-of-type {\n        vertical-align: middle;\n    }\n\n    .dataframe tbody tr th {\n        vertical-align: top;\n    }\n\n    .dataframe thead th {\n        text-align: right;\n    }\n</style>\n<table border=\"1\" class=\"dataframe\">\n  <thead>\n    <tr style=\"text-align: right;\">\n      <th></th>\n      <th>Item</th>\n      <th>Price (Euros)</th>\n    </tr>\n  </thead>\n  <tbody>\n    <tr>\n      <th>0</th>\n      <td>bread</td>\n      <td>2.0</td>\n    </tr>\n    <tr>\n      <th>1</th>\n      <td>milk</td>\n      <td>1.0</td>\n    </tr>\n    <tr>\n      <th>2</th>\n      <td>chips</td>\n      <td>3.0</td>\n    </tr>\n    <tr>\n      <th>3</th>\n      <td>bananas</td>\n      <td>2.5</td>\n    </tr>\n    <tr>\n      <th>4</th>\n      <td>carrots</td>\n      <td>1.5</td>\n    </tr>\n  </tbody>\n</table>\n</div>"
     },
     "execution_count": 54,
     "metadata": {},
     "output_type": "execute_result"
    }
   ],
   "source": [
    "prices = [2, 1, 3, 2.5, 1.5 ]\n",
    "items  = ['bread', 'milk', 'chips', 'bananas', 'carrots']\n",
    "df_shopping_list = pd.DataFrame({'Item': items, 'Price (Euros)': prices})\n",
    "df_shopping_list"
   ]
  },
  {
   "attachments": {},
   "cell_type": "markdown",
   "metadata": {},
   "source": [
    "Change in the `df_shopping_list` data frame the price for the bananas to 2.00 Euros."
   ]
  },
  {
   "cell_type": "code",
   "execution_count": 55,
   "metadata": {},
   "outputs": [
    {
     "data": {
      "text/plain": "      Item  Price (Euros)\n0    bread            2.0\n1     milk            1.0\n2    chips            3.0\n3  bananas            2.0\n4  carrots            1.5",
      "text/html": "<div>\n<style scoped>\n    .dataframe tbody tr th:only-of-type {\n        vertical-align: middle;\n    }\n\n    .dataframe tbody tr th {\n        vertical-align: top;\n    }\n\n    .dataframe thead th {\n        text-align: right;\n    }\n</style>\n<table border=\"1\" class=\"dataframe\">\n  <thead>\n    <tr style=\"text-align: right;\">\n      <th></th>\n      <th>Item</th>\n      <th>Price (Euros)</th>\n    </tr>\n  </thead>\n  <tbody>\n    <tr>\n      <th>0</th>\n      <td>bread</td>\n      <td>2.0</td>\n    </tr>\n    <tr>\n      <th>1</th>\n      <td>milk</td>\n      <td>1.0</td>\n    </tr>\n    <tr>\n      <th>2</th>\n      <td>chips</td>\n      <td>3.0</td>\n    </tr>\n    <tr>\n      <th>3</th>\n      <td>bananas</td>\n      <td>2.0</td>\n    </tr>\n    <tr>\n      <th>4</th>\n      <td>carrots</td>\n      <td>1.5</td>\n    </tr>\n  </tbody>\n</table>\n</div>"
     },
     "execution_count": 55,
     "metadata": {},
     "output_type": "execute_result"
    }
   ],
   "source": [
    "#// BEGIN_TODO [EDA_4a] Update banana price (1 point)\n",
    "\n",
    "df_shopping_list.loc[3, 'Price (Euros)'] = 2.00\n",
    "\n",
    "#// END_TODO [EDA_4a]\n",
    "\n",
    "df_shopping_list"
   ]
  },
  {
   "attachments": {},
   "cell_type": "markdown",
   "metadata": {},
   "source": [
    "### Exercise 4.b\n",
    "\n",
    "Create a shorter shopping list by taking the rows 0 to 2 from the `df_shopping_list` and assign it to `df_shorter_list`. Change in `df_shorter_list` the price of chips to 2.70 Euros, making sure that the original `df_shopping_list` is not affected."
   ]
  },
  {
   "cell_type": "code",
   "execution_count": 56,
   "metadata": {},
   "outputs": [
    {
     "data": {
      "text/plain": "    Item  Price (Euros)\n0  bread            2.0\n1   milk            1.0\n2  chips            2.7",
      "text/html": "<div>\n<style scoped>\n    .dataframe tbody tr th:only-of-type {\n        vertical-align: middle;\n    }\n\n    .dataframe tbody tr th {\n        vertical-align: top;\n    }\n\n    .dataframe thead th {\n        text-align: right;\n    }\n</style>\n<table border=\"1\" class=\"dataframe\">\n  <thead>\n    <tr style=\"text-align: right;\">\n      <th></th>\n      <th>Item</th>\n      <th>Price (Euros)</th>\n    </tr>\n  </thead>\n  <tbody>\n    <tr>\n      <th>0</th>\n      <td>bread</td>\n      <td>2.0</td>\n    </tr>\n    <tr>\n      <th>1</th>\n      <td>milk</td>\n      <td>1.0</td>\n    </tr>\n    <tr>\n      <th>2</th>\n      <td>chips</td>\n      <td>2.7</td>\n    </tr>\n  </tbody>\n</table>\n</div>"
     },
     "execution_count": 56,
     "metadata": {},
     "output_type": "execute_result"
    }
   ],
   "source": [
    "#// BEGIN_TODO [EDA_4b] A new shorter list (1 point)\n",
    "\n",
    "df_shorter_list = df_shopping_list.loc[0:2].copy()\n",
    "df_shorter_list.loc[2, 'Price (Euros)'] = 2.70\n",
    "\n",
    "#// END_TODO [EDA_4b]\n",
    "\n",
    "df_shorter_list"
   ]
  },
  {
   "attachments": {},
   "cell_type": "markdown",
   "metadata": {},
   "source": [
    "## 5. Setting the Index of a `DataFrame`\n",
    "\n",
    "It may be convenient sometimes to use one of the columns of a data frame as its index. This makes it possible to index by the values in that column when extracting and modifying data.\n",
    "\n",
    "Recall the `df` data frame:"
   ]
  },
  {
   "cell_type": "code",
   "execution_count": 57,
   "metadata": {},
   "outputs": [
    {
     "data": {
      "text/plain": "   A      B      C\n0  1    ACE  False\n1  2    two   True\n2  3  three  False\n3  4   four   True",
      "text/html": "<div>\n<style scoped>\n    .dataframe tbody tr th:only-of-type {\n        vertical-align: middle;\n    }\n\n    .dataframe tbody tr th {\n        vertical-align: top;\n    }\n\n    .dataframe thead th {\n        text-align: right;\n    }\n</style>\n<table border=\"1\" class=\"dataframe\">\n  <thead>\n    <tr style=\"text-align: right;\">\n      <th></th>\n      <th>A</th>\n      <th>B</th>\n      <th>C</th>\n    </tr>\n  </thead>\n  <tbody>\n    <tr>\n      <th>0</th>\n      <td>1</td>\n      <td>ACE</td>\n      <td>False</td>\n    </tr>\n    <tr>\n      <th>1</th>\n      <td>2</td>\n      <td>two</td>\n      <td>True</td>\n    </tr>\n    <tr>\n      <th>2</th>\n      <td>3</td>\n      <td>three</td>\n      <td>False</td>\n    </tr>\n    <tr>\n      <th>3</th>\n      <td>4</td>\n      <td>four</td>\n      <td>True</td>\n    </tr>\n  </tbody>\n</table>\n</div>"
     },
     "execution_count": 57,
     "metadata": {},
     "output_type": "execute_result"
    }
   ],
   "source": [
    "df"
   ]
  },
  {
   "attachments": {},
   "cell_type": "markdown",
   "metadata": {},
   "source": [
    "The method call **`df.set_index(col)`** returns a *new* data frame with the index in `df` set to column `col`. For example, let us get a copy of the data frame `df` with its index set to the column `'B'`:"
   ]
  },
  {
   "cell_type": "code",
   "execution_count": 58,
   "metadata": {},
   "outputs": [
    {
     "data": {
      "text/plain": "       A      C\nB              \nACE    1  False\ntwo    2   True\nthree  3  False\nfour   4   True",
      "text/html": "<div>\n<style scoped>\n    .dataframe tbody tr th:only-of-type {\n        vertical-align: middle;\n    }\n\n    .dataframe tbody tr th {\n        vertical-align: top;\n    }\n\n    .dataframe thead th {\n        text-align: right;\n    }\n</style>\n<table border=\"1\" class=\"dataframe\">\n  <thead>\n    <tr style=\"text-align: right;\">\n      <th></th>\n      <th>A</th>\n      <th>C</th>\n    </tr>\n    <tr>\n      <th>B</th>\n      <th></th>\n      <th></th>\n    </tr>\n  </thead>\n  <tbody>\n    <tr>\n      <th>ACE</th>\n      <td>1</td>\n      <td>False</td>\n    </tr>\n    <tr>\n      <th>two</th>\n      <td>2</td>\n      <td>True</td>\n    </tr>\n    <tr>\n      <th>three</th>\n      <td>3</td>\n      <td>False</td>\n    </tr>\n    <tr>\n      <th>four</th>\n      <td>4</td>\n      <td>True</td>\n    </tr>\n  </tbody>\n</table>\n</div>"
     },
     "execution_count": 58,
     "metadata": {},
     "output_type": "execute_result"
    }
   ],
   "source": [
    "df_index = df.set_index('B')\n",
    "df_index"
   ]
  },
  {
   "attachments": {},
   "cell_type": "markdown",
   "metadata": {},
   "source": [
    "We can now select data from `df_index` using more descriptive names. For example, we can get the rows with an index between `'two'` and `'four'`."
   ]
  },
  {
   "cell_type": "code",
   "execution_count": 59,
   "metadata": {},
   "outputs": [
    {
     "data": {
      "text/plain": "       A      C\nB              \ntwo    2   True\nthree  3  False\nfour   4   True",
      "text/html": "<div>\n<style scoped>\n    .dataframe tbody tr th:only-of-type {\n        vertical-align: middle;\n    }\n\n    .dataframe tbody tr th {\n        vertical-align: top;\n    }\n\n    .dataframe thead th {\n        text-align: right;\n    }\n</style>\n<table border=\"1\" class=\"dataframe\">\n  <thead>\n    <tr style=\"text-align: right;\">\n      <th></th>\n      <th>A</th>\n      <th>C</th>\n    </tr>\n    <tr>\n      <th>B</th>\n      <th></th>\n      <th></th>\n    </tr>\n  </thead>\n  <tbody>\n    <tr>\n      <th>two</th>\n      <td>2</td>\n      <td>True</td>\n    </tr>\n    <tr>\n      <th>three</th>\n      <td>3</td>\n      <td>False</td>\n    </tr>\n    <tr>\n      <th>four</th>\n      <td>4</td>\n      <td>True</td>\n    </tr>\n  </tbody>\n</table>\n</div>"
     },
     "execution_count": 59,
     "metadata": {},
     "output_type": "execute_result"
    }
   ],
   "source": [
    "df_index.loc['two':'four']"
   ]
  },
  {
   "attachments": {},
   "cell_type": "markdown",
   "metadata": {},
   "source": [
    "Notice that the rows that are retrieved are the ones located in between the rows with indexes \"two\" and \"four\" inclusive; there is no retrieval based on lexicographical order."
   ]
  },
  {
   "attachments": {},
   "cell_type": "markdown",
   "metadata": {},
   "source": [
    "Similarly, we can use the new index to modify a value at a particular location in a data frame:"
   ]
  },
  {
   "cell_type": "code",
   "execution_count": 60,
   "metadata": {},
   "outputs": [
    {
     "data": {
      "text/plain": "       A      C\nB              \nACE    1  False\ntwo    2   True\nthree  3   True\nfour   4   True",
      "text/html": "<div>\n<style scoped>\n    .dataframe tbody tr th:only-of-type {\n        vertical-align: middle;\n    }\n\n    .dataframe tbody tr th {\n        vertical-align: top;\n    }\n\n    .dataframe thead th {\n        text-align: right;\n    }\n</style>\n<table border=\"1\" class=\"dataframe\">\n  <thead>\n    <tr style=\"text-align: right;\">\n      <th></th>\n      <th>A</th>\n      <th>C</th>\n    </tr>\n    <tr>\n      <th>B</th>\n      <th></th>\n      <th></th>\n    </tr>\n  </thead>\n  <tbody>\n    <tr>\n      <th>ACE</th>\n      <td>1</td>\n      <td>False</td>\n    </tr>\n    <tr>\n      <th>two</th>\n      <td>2</td>\n      <td>True</td>\n    </tr>\n    <tr>\n      <th>three</th>\n      <td>3</td>\n      <td>True</td>\n    </tr>\n    <tr>\n      <th>four</th>\n      <td>4</td>\n      <td>True</td>\n    </tr>\n  </tbody>\n</table>\n</div>"
     },
     "execution_count": 60,
     "metadata": {},
     "output_type": "execute_result"
    }
   ],
   "source": [
    "df_index.loc['three', 'C'] = True\n",
    "df_index"
   ]
  },
  {
   "attachments": {},
   "cell_type": "markdown",
   "metadata": {},
   "source": [
    "### Exercise 5.a\n",
    "\n",
    "Set the index in the data frame `df_shopping_list` to the column `'Item'` and assign the new data frame to `df_shopping_list_index`.\n",
    "\n",
    "> **Note:** Do not alter `df_shopping_list`."
   ]
  },
  {
   "cell_type": "code",
   "execution_count": 61,
   "metadata": {},
   "outputs": [
    {
     "data": {
      "text/plain": "         Price (Euros)\nItem                  \nbread              2.0\nmilk               1.0\nchips              3.0\nbananas            2.0\ncarrots            1.5",
      "text/html": "<div>\n<style scoped>\n    .dataframe tbody tr th:only-of-type {\n        vertical-align: middle;\n    }\n\n    .dataframe tbody tr th {\n        vertical-align: top;\n    }\n\n    .dataframe thead th {\n        text-align: right;\n    }\n</style>\n<table border=\"1\" class=\"dataframe\">\n  <thead>\n    <tr style=\"text-align: right;\">\n      <th></th>\n      <th>Price (Euros)</th>\n    </tr>\n    <tr>\n      <th>Item</th>\n      <th></th>\n    </tr>\n  </thead>\n  <tbody>\n    <tr>\n      <th>bread</th>\n      <td>2.0</td>\n    </tr>\n    <tr>\n      <th>milk</th>\n      <td>1.0</td>\n    </tr>\n    <tr>\n      <th>chips</th>\n      <td>3.0</td>\n    </tr>\n    <tr>\n      <th>bananas</th>\n      <td>2.0</td>\n    </tr>\n    <tr>\n      <th>carrots</th>\n      <td>1.5</td>\n    </tr>\n  </tbody>\n</table>\n</div>"
     },
     "execution_count": 61,
     "metadata": {},
     "output_type": "execute_result"
    }
   ],
   "source": [
    "#// BEGIN_TODO [EDA_5a] Set data frame index (1 point)\n",
    "\n",
    "df_shopping_list_index = df_shopping_list.set_index('Item').copy()\n",
    "#// END_TODO [EDA_5a]\n",
    "\n",
    "df_shopping_list_index"
   ]
  },
  {
   "attachments": {},
   "cell_type": "markdown",
   "metadata": {},
   "source": [
    "### Exercise 5.b\n",
    "In the data frame `df_shopping_list_index`, set the price of milk to 1.50 Euros."
   ]
  },
  {
   "cell_type": "code",
   "execution_count": 62,
   "metadata": {},
   "outputs": [
    {
     "data": {
      "text/plain": "         Price (Euros)\nItem                  \nbread              2.0\nmilk               1.5\nchips              3.0\nbananas            2.0\ncarrots            1.5",
      "text/html": "<div>\n<style scoped>\n    .dataframe tbody tr th:only-of-type {\n        vertical-align: middle;\n    }\n\n    .dataframe tbody tr th {\n        vertical-align: top;\n    }\n\n    .dataframe thead th {\n        text-align: right;\n    }\n</style>\n<table border=\"1\" class=\"dataframe\">\n  <thead>\n    <tr style=\"text-align: right;\">\n      <th></th>\n      <th>Price (Euros)</th>\n    </tr>\n    <tr>\n      <th>Item</th>\n      <th></th>\n    </tr>\n  </thead>\n  <tbody>\n    <tr>\n      <th>bread</th>\n      <td>2.0</td>\n    </tr>\n    <tr>\n      <th>milk</th>\n      <td>1.5</td>\n    </tr>\n    <tr>\n      <th>chips</th>\n      <td>3.0</td>\n    </tr>\n    <tr>\n      <th>bananas</th>\n      <td>2.0</td>\n    </tr>\n    <tr>\n      <th>carrots</th>\n      <td>1.5</td>\n    </tr>\n  </tbody>\n</table>\n</div>"
     },
     "execution_count": 62,
     "metadata": {},
     "output_type": "execute_result"
    }
   ],
   "source": [
    "#// BEGIN_TODO [EDA_5b] Set value using new index (1 point)\n",
    "\n",
    "df_shopping_list_index.loc['milk', 'Price (Euros)'] = 1.50\n",
    "#// END_TODO [EDA_5b]\n",
    "\n",
    "df_shopping_list_index"
   ]
  },
  {
   "attachments": {},
   "cell_type": "markdown",
   "metadata": {},
   "source": [
    "## 6. Reading Data from a File into a `DataFrame`\n",
    "\n",
    "In these lessons, we will mainly use the **Comma-Separated Values** (**CSV**) format\n",
    "for storing simple data in a file.\n",
    "\n",
    "Our CSV files will (usually) have\n",
    "\n",
    "* one header line with column labels,\n",
    "* each row on a line of its own,\n",
    "* commas to separate the fields in each row\n",
    "    (in some cases, you may encounter semicolons or TABs),\n",
    "* strings enclosed in double-quotes\n",
    "    (in some cases, strings are not enclosed), and\n",
    "* floating-point numbers using a decimal point (not a comma).\n",
    "\n",
    "The example file is named `country.csv`, located in the `datasets` directory inside the directory containing this notebook:"
   ]
  },
  {
   "cell_type": "code",
   "execution_count": 63,
   "metadata": {},
   "outputs": [],
   "source": [
    "file_countries = './datasets/country.csv'"
   ]
  },
  {
   "attachments": {},
   "cell_type": "markdown",
   "metadata": {},
   "source": [
    "> **Important:** If you move this notebook outside of the extracted ZIP archive, then you must ensure that the datasets are moved as well and accessible at the relative path above. "
   ]
  },
  {
   "attachments": {},
   "cell_type": "markdown",
   "metadata": {},
   "source": [
    "We use the function **`pd.read_csv`** to load the data from that file into a `DataFrame`\n",
    "that we will name `country_data`."
   ]
  },
  {
   "cell_type": "code",
   "execution_count": 64,
   "metadata": {},
   "outputs": [
    {
     "data": {
      "text/plain": "                   name alpha_3  tld continent           capital      area  \\\n0               Andorra     AND  .ad        EU  Andorra la Vella     468.0   \n1  United Arab Emirates     ARE  .ae        AS         Abu Dhabi   82880.0   \n2           Afghanistan     AFG  .af        AS             Kabul  647500.0   \n3   Antigua and Barbuda     ATG  .ag        NM        St. John's     443.0   \n4              Anguilla     AIA  .ai        NM        The Valley     102.0   \n\n   population  \n0       84000  \n1     4975593  \n2    29121286  \n3       86754  \n4       13254  ",
      "text/html": "<div>\n<style scoped>\n    .dataframe tbody tr th:only-of-type {\n        vertical-align: middle;\n    }\n\n    .dataframe tbody tr th {\n        vertical-align: top;\n    }\n\n    .dataframe thead th {\n        text-align: right;\n    }\n</style>\n<table border=\"1\" class=\"dataframe\">\n  <thead>\n    <tr style=\"text-align: right;\">\n      <th></th>\n      <th>name</th>\n      <th>alpha_3</th>\n      <th>tld</th>\n      <th>continent</th>\n      <th>capital</th>\n      <th>area</th>\n      <th>population</th>\n    </tr>\n  </thead>\n  <tbody>\n    <tr>\n      <th>0</th>\n      <td>Andorra</td>\n      <td>AND</td>\n      <td>.ad</td>\n      <td>EU</td>\n      <td>Andorra la Vella</td>\n      <td>468.0</td>\n      <td>84000</td>\n    </tr>\n    <tr>\n      <th>1</th>\n      <td>United Arab Emirates</td>\n      <td>ARE</td>\n      <td>.ae</td>\n      <td>AS</td>\n      <td>Abu Dhabi</td>\n      <td>82880.0</td>\n      <td>4975593</td>\n    </tr>\n    <tr>\n      <th>2</th>\n      <td>Afghanistan</td>\n      <td>AFG</td>\n      <td>.af</td>\n      <td>AS</td>\n      <td>Kabul</td>\n      <td>647500.0</td>\n      <td>29121286</td>\n    </tr>\n    <tr>\n      <th>3</th>\n      <td>Antigua and Barbuda</td>\n      <td>ATG</td>\n      <td>.ag</td>\n      <td>NM</td>\n      <td>St. John's</td>\n      <td>443.0</td>\n      <td>86754</td>\n    </tr>\n    <tr>\n      <th>4</th>\n      <td>Anguilla</td>\n      <td>AIA</td>\n      <td>.ai</td>\n      <td>NM</td>\n      <td>The Valley</td>\n      <td>102.0</td>\n      <td>13254</td>\n    </tr>\n  </tbody>\n</table>\n</div>"
     },
     "execution_count": 64,
     "metadata": {},
     "output_type": "execute_result"
    }
   ],
   "source": [
    "country_data = pd.read_csv(file_countries)\n",
    "country_data.head()"
   ]
  },
  {
   "attachments": {},
   "cell_type": "markdown",
   "metadata": {},
   "source": [
    "### Exercise 6.a\n",
    "\n",
    "Show just the `'name'`, `'area'`, and `'population'` columns for the first 10 rows of `country_data`."
   ]
  },
  {
   "cell_type": "code",
   "execution_count": 65,
   "metadata": {},
   "outputs": [
    {
     "data": {
      "text/plain": "                   name        area  population\n0               Andorra       468.0       84000\n1  United Arab Emirates     82880.0     4975593\n2           Afghanistan    647500.0    29121286\n3   Antigua and Barbuda       443.0       86754\n4              Anguilla       102.0       13254\n5               Albania     28748.0     2986952\n6               Armenia     29800.0     2968000\n7                Angola   1246700.0    13068161\n8            Antarctica  14000000.0           0\n9             Argentina   2766890.0    41343201",
      "text/html": "<div>\n<style scoped>\n    .dataframe tbody tr th:only-of-type {\n        vertical-align: middle;\n    }\n\n    .dataframe tbody tr th {\n        vertical-align: top;\n    }\n\n    .dataframe thead th {\n        text-align: right;\n    }\n</style>\n<table border=\"1\" class=\"dataframe\">\n  <thead>\n    <tr style=\"text-align: right;\">\n      <th></th>\n      <th>name</th>\n      <th>area</th>\n      <th>population</th>\n    </tr>\n  </thead>\n  <tbody>\n    <tr>\n      <th>0</th>\n      <td>Andorra</td>\n      <td>468.0</td>\n      <td>84000</td>\n    </tr>\n    <tr>\n      <th>1</th>\n      <td>United Arab Emirates</td>\n      <td>82880.0</td>\n      <td>4975593</td>\n    </tr>\n    <tr>\n      <th>2</th>\n      <td>Afghanistan</td>\n      <td>647500.0</td>\n      <td>29121286</td>\n    </tr>\n    <tr>\n      <th>3</th>\n      <td>Antigua and Barbuda</td>\n      <td>443.0</td>\n      <td>86754</td>\n    </tr>\n    <tr>\n      <th>4</th>\n      <td>Anguilla</td>\n      <td>102.0</td>\n      <td>13254</td>\n    </tr>\n    <tr>\n      <th>5</th>\n      <td>Albania</td>\n      <td>28748.0</td>\n      <td>2986952</td>\n    </tr>\n    <tr>\n      <th>6</th>\n      <td>Armenia</td>\n      <td>29800.0</td>\n      <td>2968000</td>\n    </tr>\n    <tr>\n      <th>7</th>\n      <td>Angola</td>\n      <td>1246700.0</td>\n      <td>13068161</td>\n    </tr>\n    <tr>\n      <th>8</th>\n      <td>Antarctica</td>\n      <td>14000000.0</td>\n      <td>0</td>\n    </tr>\n    <tr>\n      <th>9</th>\n      <td>Argentina</td>\n      <td>2766890.0</td>\n      <td>41343201</td>\n    </tr>\n  </tbody>\n</table>\n</div>"
     },
     "execution_count": 65,
     "metadata": {},
     "output_type": "execute_result"
    }
   ],
   "source": [
    "#// BEGIN_TODO [EDA_6a] Name, area, and population for first 10 rows (1 point)\n",
    "\n",
    "country_data.loc[:9, ['name', 'area', 'population']]\n",
    "#// END_TODO [EDA_6a]"
   ]
  },
  {
   "attachments": {},
   "cell_type": "markdown",
   "metadata": {},
   "source": [
    "### Exercise 6.b\n",
    "\n",
    "Get an overview of the data frame `country_data`, using one of the functions introduced earlier."
   ]
  },
  {
   "cell_type": "code",
   "execution_count": 66,
   "metadata": {},
   "outputs": [
    {
     "name": "stdout",
     "output_type": "stream",
     "text": [
      "<class 'pandas.core.frame.DataFrame'>\n",
      "RangeIndex: 251 entries, 0 to 250\n",
      "Data columns (total 7 columns):\n",
      " #   Column      Non-Null Count  Dtype  \n",
      "---  ------      --------------  -----  \n",
      " 0   name        251 non-null    object \n",
      " 1   alpha_3     251 non-null    object \n",
      " 2   tld         249 non-null    object \n",
      " 3   continent   251 non-null    object \n",
      " 4   capital     245 non-null    object \n",
      " 5   area        251 non-null    float64\n",
      " 6   population  251 non-null    int64  \n",
      "dtypes: float64(1), int64(1), object(5)\n",
      "memory usage: 13.9+ KB\n"
     ]
    }
   ],
   "source": [
    "#// BEGIN_TODO [EDA_6b] Get information about country_data (1 point)\n",
    "\n",
    "country_data.info()\n",
    "#// END_TODO [EDA_6b]"
   ]
  },
  {
   "attachments": {},
   "cell_type": "markdown",
   "metadata": {},
   "source": [
    "We see that there are 251 rows in total. However, some columns have missing values:\n",
    "\n",
    "* `tld` misses 2 values, and\n",
    "* `capital` misses 6 values.\n",
    "\n",
    "These are the seven columns of data and their types:\n",
    "\n",
    "* `name` (string): country name in English\n",
    "* `alpha_3` (string): 3-letter ISO 3166-1 country code\n",
    "* `tld` (string): top-level domain in Domain Name System (DNS)\n",
    "* `continent` (string): 2-letter continent code\n",
    "* `capital` (string): capital city in English\n",
    "* `area` (float): area in square kilometers\n",
    "* `population` (integer): population (measurement date/source unclear; cf. https://www.geonames.org/)"
   ]
  },
  {
   "attachments": {},
   "cell_type": "markdown",
   "metadata": {},
   "source": [
    "##  7. Summary Statistics\n",
    "\n",
    "Summary statistics for **numeric columns** in a data frame `df`\n",
    "can be obtained by calling **`df.describe()`**:"
   ]
  },
  {
   "cell_type": "code",
   "execution_count": 67,
   "metadata": {},
   "outputs": [
    {
     "data": {
      "text/plain": "               area    population\ncount  2.510000e+02  2.510000e+02\nmean   5.972518e+05  2.734232e+07\nstd    1.908368e+06  1.166406e+08\nmin    0.000000e+00  0.000000e+00\n25%    1.096000e+03  1.839045e+05\n50%    6.458900e+04  4.252277e+06\n75%    3.674280e+05  1.539375e+07\nmax    1.710000e+07  1.330044e+09",
      "text/html": "<div>\n<style scoped>\n    .dataframe tbody tr th:only-of-type {\n        vertical-align: middle;\n    }\n\n    .dataframe tbody tr th {\n        vertical-align: top;\n    }\n\n    .dataframe thead th {\n        text-align: right;\n    }\n</style>\n<table border=\"1\" class=\"dataframe\">\n  <thead>\n    <tr style=\"text-align: right;\">\n      <th></th>\n      <th>area</th>\n      <th>population</th>\n    </tr>\n  </thead>\n  <tbody>\n    <tr>\n      <th>count</th>\n      <td>2.510000e+02</td>\n      <td>2.510000e+02</td>\n    </tr>\n    <tr>\n      <th>mean</th>\n      <td>5.972518e+05</td>\n      <td>2.734232e+07</td>\n    </tr>\n    <tr>\n      <th>std</th>\n      <td>1.908368e+06</td>\n      <td>1.166406e+08</td>\n    </tr>\n    <tr>\n      <th>min</th>\n      <td>0.000000e+00</td>\n      <td>0.000000e+00</td>\n    </tr>\n    <tr>\n      <th>25%</th>\n      <td>1.096000e+03</td>\n      <td>1.839045e+05</td>\n    </tr>\n    <tr>\n      <th>50%</th>\n      <td>6.458900e+04</td>\n      <td>4.252277e+06</td>\n    </tr>\n    <tr>\n      <th>75%</th>\n      <td>3.674280e+05</td>\n      <td>1.539375e+07</td>\n    </tr>\n    <tr>\n      <th>max</th>\n      <td>1.710000e+07</td>\n      <td>1.330044e+09</td>\n    </tr>\n  </tbody>\n</table>\n</div>"
     },
     "execution_count": 67,
     "metadata": {},
     "output_type": "execute_result"
    }
   ],
   "source": [
    "country_data.describe()"
   ]
  },
  {
   "attachments": {},
   "cell_type": "markdown",
   "metadata": {},
   "source": [
    "To get summary statistics for **all columns** (instead of only for numeric columns) supply the keyword argument **`include='all'`**:"
   ]
  },
  {
   "cell_type": "code",
   "execution_count": 68,
   "metadata": {},
   "outputs": [
    {
     "data": {
      "text/plain": "           name alpha_3  tld continent   capital          area    population\ncount       251     251  249       251       245  2.510000e+02  2.510000e+02\nunique      251     251  247         7       244           NaN           NaN\ntop     Andorra     AND  .gp        AF  Kingston           NaN           NaN\nfreq          1       1    3        58         2           NaN           NaN\nmean        NaN     NaN  NaN       NaN       NaN  5.972518e+05  2.734232e+07\nstd         NaN     NaN  NaN       NaN       NaN  1.908368e+06  1.166406e+08\nmin         NaN     NaN  NaN       NaN       NaN  0.000000e+00  0.000000e+00\n25%         NaN     NaN  NaN       NaN       NaN  1.096000e+03  1.839045e+05\n50%         NaN     NaN  NaN       NaN       NaN  6.458900e+04  4.252277e+06\n75%         NaN     NaN  NaN       NaN       NaN  3.674280e+05  1.539375e+07\nmax         NaN     NaN  NaN       NaN       NaN  1.710000e+07  1.330044e+09",
      "text/html": "<div>\n<style scoped>\n    .dataframe tbody tr th:only-of-type {\n        vertical-align: middle;\n    }\n\n    .dataframe tbody tr th {\n        vertical-align: top;\n    }\n\n    .dataframe thead th {\n        text-align: right;\n    }\n</style>\n<table border=\"1\" class=\"dataframe\">\n  <thead>\n    <tr style=\"text-align: right;\">\n      <th></th>\n      <th>name</th>\n      <th>alpha_3</th>\n      <th>tld</th>\n      <th>continent</th>\n      <th>capital</th>\n      <th>area</th>\n      <th>population</th>\n    </tr>\n  </thead>\n  <tbody>\n    <tr>\n      <th>count</th>\n      <td>251</td>\n      <td>251</td>\n      <td>249</td>\n      <td>251</td>\n      <td>245</td>\n      <td>2.510000e+02</td>\n      <td>2.510000e+02</td>\n    </tr>\n    <tr>\n      <th>unique</th>\n      <td>251</td>\n      <td>251</td>\n      <td>247</td>\n      <td>7</td>\n      <td>244</td>\n      <td>NaN</td>\n      <td>NaN</td>\n    </tr>\n    <tr>\n      <th>top</th>\n      <td>Andorra</td>\n      <td>AND</td>\n      <td>.gp</td>\n      <td>AF</td>\n      <td>Kingston</td>\n      <td>NaN</td>\n      <td>NaN</td>\n    </tr>\n    <tr>\n      <th>freq</th>\n      <td>1</td>\n      <td>1</td>\n      <td>3</td>\n      <td>58</td>\n      <td>2</td>\n      <td>NaN</td>\n      <td>NaN</td>\n    </tr>\n    <tr>\n      <th>mean</th>\n      <td>NaN</td>\n      <td>NaN</td>\n      <td>NaN</td>\n      <td>NaN</td>\n      <td>NaN</td>\n      <td>5.972518e+05</td>\n      <td>2.734232e+07</td>\n    </tr>\n    <tr>\n      <th>std</th>\n      <td>NaN</td>\n      <td>NaN</td>\n      <td>NaN</td>\n      <td>NaN</td>\n      <td>NaN</td>\n      <td>1.908368e+06</td>\n      <td>1.166406e+08</td>\n    </tr>\n    <tr>\n      <th>min</th>\n      <td>NaN</td>\n      <td>NaN</td>\n      <td>NaN</td>\n      <td>NaN</td>\n      <td>NaN</td>\n      <td>0.000000e+00</td>\n      <td>0.000000e+00</td>\n    </tr>\n    <tr>\n      <th>25%</th>\n      <td>NaN</td>\n      <td>NaN</td>\n      <td>NaN</td>\n      <td>NaN</td>\n      <td>NaN</td>\n      <td>1.096000e+03</td>\n      <td>1.839045e+05</td>\n    </tr>\n    <tr>\n      <th>50%</th>\n      <td>NaN</td>\n      <td>NaN</td>\n      <td>NaN</td>\n      <td>NaN</td>\n      <td>NaN</td>\n      <td>6.458900e+04</td>\n      <td>4.252277e+06</td>\n    </tr>\n    <tr>\n      <th>75%</th>\n      <td>NaN</td>\n      <td>NaN</td>\n      <td>NaN</td>\n      <td>NaN</td>\n      <td>NaN</td>\n      <td>3.674280e+05</td>\n      <td>1.539375e+07</td>\n    </tr>\n    <tr>\n      <th>max</th>\n      <td>NaN</td>\n      <td>NaN</td>\n      <td>NaN</td>\n      <td>NaN</td>\n      <td>NaN</td>\n      <td>1.710000e+07</td>\n      <td>1.330044e+09</td>\n    </tr>\n  </tbody>\n</table>\n</div>"
     },
     "execution_count": 68,
     "metadata": {},
     "output_type": "execute_result"
    }
   ],
   "source": [
    "country_data.describe(include='all')"
   ]
  },
  {
   "attachments": {},
   "cell_type": "markdown",
   "metadata": {},
   "source": [
    "> **Note:** **NaN** stands for **\"Not a Number\"** and represents a **missing value**,\n",
    "> also known as a **not available** or **null value**."
   ]
  },
  {
   "attachments": {},
   "cell_type": "markdown",
   "metadata": {},
   "source": [
    "From these summary statistics for the country data, we see that:\n",
    "\n",
    "* names and alpha-3 codes are unique (maximum frequency equals 1);\n",
    "* 3 countries share the top-level domain `.gp`;\n",
    "* there are 7 continents, and Africa has the most countries (58), and;\n",
    "* 2 capitals are named Kingston, and there are no other such duplicates."
   ]
  },
  {
   "attachments": {},
   "cell_type": "markdown",
   "metadata": {},
   "source": [
    "### Separate Statistics\n",
    "\n",
    "There are also functions to obtain separate statistics for `DataFrame df`:\n",
    "\n",
    "* **`df.count()`**: Returns the **number** of values.\n",
    "* **`df.sum()`**: Returns the **sum** of the values.\n",
    "* **`df.mean()`**: Returns the **mean** of the values.\n",
    "* **`df.std()`**: Returns the **sample standard deviation** of the numeric values,\n",
    "    normalized by $N-1$, where $N$ is the number of values.\n",
    "* **`df.min()`**: Returns the **minimum** of the values.\n",
    "* **`df.max()`**: Returns the **maximum** of the values.\n",
    "* **`df.median()`**: Returns the **median** of the values.\n",
    "* **`df.quantile(q)`**: Returns the value at the given **quantile** `q`;\n",
    "    `q=0.5` is the default, giving the **median**.\n",
    "\n",
    "Notes:\n",
    "\n",
    "* **NaN/null values** are skipped by default.\n",
    "* A `Series` object is returned with the statistic for each column in the data frame.\n",
    "* All of these methods can also be called on `Series` objects (with numeric entries), in which case they return numbers."
   ]
  },
  {
   "attachments": {},
   "cell_type": "markdown",
   "metadata": {},
   "source": [
    "Let us compute the total _area_ and *population*:"
   ]
  },
  {
   "cell_type": "code",
   "execution_count": 69,
   "metadata": {},
   "outputs": [
    {
     "data": {
      "text/plain": "area          1.499102e+08\npopulation    6.862922e+09\ndtype: float64"
     },
     "execution_count": 69,
     "metadata": {},
     "output_type": "execute_result"
    }
   ],
   "source": [
    "country_data[['area', 'population']].sum()"
   ]
  },
  {
   "attachments": {},
   "cell_type": "markdown",
   "metadata": {},
   "source": [
    "### Exercise 7.a\n",
    "\n",
    "Count and output the number of values in the _capital_ column as a number (**not** a series)."
   ]
  },
  {
   "cell_type": "code",
   "execution_count": 70,
   "metadata": {},
   "outputs": [
    {
     "data": {
      "text/plain": "245"
     },
     "execution_count": 70,
     "metadata": {},
     "output_type": "execute_result"
    }
   ],
   "source": [
    "#// BEGIN_TODO [EDA_7a] Number of values in the 'capital' column (1 point)\n",
    "\n",
    "country_data['capital'].count()\n",
    "#// END_TODO [EDA_7a]"
   ]
  },
  {
   "attachments": {},
   "cell_type": "markdown",
   "metadata": {},
   "source": [
    "### Exercise 7.b\n",
    "\n",
    "Compute and output the country population at the 0.42 quantile as a number."
   ]
  },
  {
   "cell_type": "code",
   "execution_count": 71,
   "metadata": {},
   "outputs": [
    {
     "data": {
      "text/plain": "2007000.0"
     },
     "execution_count": 71,
     "metadata": {},
     "output_type": "execute_result"
    }
   ],
   "source": [
    "#// BEGIN_TODO [EDA_7b] 0.42 quantile in the 'population' column (1 point)\n",
    "\n",
    "country_data['population'].quantile(0.42)\n",
    "#// END_TODO [EDA_7b]"
   ]
  },
  {
   "attachments": {},
   "cell_type": "markdown",
   "metadata": {},
   "source": [
    "## 8. Sorting a `DataFrame`\n",
    "\n",
    "To sort a data frame `df` by the values in column `'c'` use **`df.sort_values(by='c')`**.\n",
    "Note that this does not modify the data frame,\n",
    "but rather returns a new data frame.\n",
    "A series is sorted by the same function,\n",
    "but it does not need the `by` argument.\n",
    "\n",
    "Here is the country data sorted by *area*:"
   ]
  },
  {
   "cell_type": "code",
   "execution_count": 72,
   "metadata": {},
   "outputs": [
    {
     "data": {
      "text/plain": "                                     name alpha_3  tld continent  \\\n232  United States Minor Outlying Islands     UMI  .um        OC   \n236                               Vatican     VAT  .va        EU   \n138                                Monaco     MCO  .mc        EU   \n82                              Gibraltar     GIB  .gi        EU   \n220                               Tokelau     TKL  .tk        OC   \n..                                    ...     ...  ...       ...   \n47                                  China     CHN  .cn        AS   \n233                         United States     USA  .us        NM   \n37                                 Canada     CAN  .ca        NM   \n8                              Antarctica     ATA  .aq        AN   \n191                                Russia     RUS  .ru        EU   \n\n          capital         area  population  \n232           NaN         0.00           0  \n236  Vatican City         0.44         921  \n138        Monaco         1.95       32965  \n82      Gibraltar         6.50       27884  \n220           NaN        10.00        1466  \n..            ...          ...         ...  \n47        Beijing   9596960.00  1330044000  \n233    Washington   9629091.00   310232863  \n37         Ottawa   9984670.00    33679000  \n8             NaN  14000000.00           0  \n191        Moscow  17100000.00   140702000  \n\n[251 rows x 7 columns]",
      "text/html": "<div>\n<style scoped>\n    .dataframe tbody tr th:only-of-type {\n        vertical-align: middle;\n    }\n\n    .dataframe tbody tr th {\n        vertical-align: top;\n    }\n\n    .dataframe thead th {\n        text-align: right;\n    }\n</style>\n<table border=\"1\" class=\"dataframe\">\n  <thead>\n    <tr style=\"text-align: right;\">\n      <th></th>\n      <th>name</th>\n      <th>alpha_3</th>\n      <th>tld</th>\n      <th>continent</th>\n      <th>capital</th>\n      <th>area</th>\n      <th>population</th>\n    </tr>\n  </thead>\n  <tbody>\n    <tr>\n      <th>232</th>\n      <td>United States Minor Outlying Islands</td>\n      <td>UMI</td>\n      <td>.um</td>\n      <td>OC</td>\n      <td>NaN</td>\n      <td>0.00</td>\n      <td>0</td>\n    </tr>\n    <tr>\n      <th>236</th>\n      <td>Vatican</td>\n      <td>VAT</td>\n      <td>.va</td>\n      <td>EU</td>\n      <td>Vatican City</td>\n      <td>0.44</td>\n      <td>921</td>\n    </tr>\n    <tr>\n      <th>138</th>\n      <td>Monaco</td>\n      <td>MCO</td>\n      <td>.mc</td>\n      <td>EU</td>\n      <td>Monaco</td>\n      <td>1.95</td>\n      <td>32965</td>\n    </tr>\n    <tr>\n      <th>82</th>\n      <td>Gibraltar</td>\n      <td>GIB</td>\n      <td>.gi</td>\n      <td>EU</td>\n      <td>Gibraltar</td>\n      <td>6.50</td>\n      <td>27884</td>\n    </tr>\n    <tr>\n      <th>220</th>\n      <td>Tokelau</td>\n      <td>TKL</td>\n      <td>.tk</td>\n      <td>OC</td>\n      <td>NaN</td>\n      <td>10.00</td>\n      <td>1466</td>\n    </tr>\n    <tr>\n      <th>...</th>\n      <td>...</td>\n      <td>...</td>\n      <td>...</td>\n      <td>...</td>\n      <td>...</td>\n      <td>...</td>\n      <td>...</td>\n    </tr>\n    <tr>\n      <th>47</th>\n      <td>China</td>\n      <td>CHN</td>\n      <td>.cn</td>\n      <td>AS</td>\n      <td>Beijing</td>\n      <td>9596960.00</td>\n      <td>1330044000</td>\n    </tr>\n    <tr>\n      <th>233</th>\n      <td>United States</td>\n      <td>USA</td>\n      <td>.us</td>\n      <td>NM</td>\n      <td>Washington</td>\n      <td>9629091.00</td>\n      <td>310232863</td>\n    </tr>\n    <tr>\n      <th>37</th>\n      <td>Canada</td>\n      <td>CAN</td>\n      <td>.ca</td>\n      <td>NM</td>\n      <td>Ottawa</td>\n      <td>9984670.00</td>\n      <td>33679000</td>\n    </tr>\n    <tr>\n      <th>8</th>\n      <td>Antarctica</td>\n      <td>ATA</td>\n      <td>.aq</td>\n      <td>AN</td>\n      <td>NaN</td>\n      <td>14000000.00</td>\n      <td>0</td>\n    </tr>\n    <tr>\n      <th>191</th>\n      <td>Russia</td>\n      <td>RUS</td>\n      <td>.ru</td>\n      <td>EU</td>\n      <td>Moscow</td>\n      <td>17100000.00</td>\n      <td>140702000</td>\n    </tr>\n  </tbody>\n</table>\n<p>251 rows × 7 columns</p>\n</div>"
     },
     "execution_count": 72,
     "metadata": {},
     "output_type": "execute_result"
    }
   ],
   "source": [
    "country_data.sort_values(by='area')"
   ]
  },
  {
   "attachments": {},
   "cell_type": "markdown",
   "metadata": {},
   "source": [
    "To sort in **descending order**, supply the argument **`ascending=False`**:"
   ]
  },
  {
   "cell_type": "code",
   "execution_count": 73,
   "metadata": {},
   "outputs": [
    {
     "data": {
      "text/plain": "                                     name alpha_3  tld continent  \\\n191                                Russia     RUS  .ru        EU   \n8                              Antarctica     ATA  .aq        AN   \n37                                 Canada     CAN  .ca        NM   \n233                         United States     USA  .us        NM   \n47                                  China     CHN  .cn        AS   \n..                                    ...     ...  ...       ...   \n220                               Tokelau     TKL  .tk        OC   \n82                              Gibraltar     GIB  .gi        EU   \n138                                Monaco     MCO  .mc        EU   \n236                               Vatican     VAT  .va        EU   \n232  United States Minor Outlying Islands     UMI  .um        OC   \n\n          capital         area  population  \n191        Moscow  17100000.00   140702000  \n8             NaN  14000000.00           0  \n37         Ottawa   9984670.00    33679000  \n233    Washington   9629091.00   310232863  \n47        Beijing   9596960.00  1330044000  \n..            ...          ...         ...  \n220           NaN        10.00        1466  \n82      Gibraltar         6.50       27884  \n138        Monaco         1.95       32965  \n236  Vatican City         0.44         921  \n232           NaN         0.00           0  \n\n[251 rows x 7 columns]",
      "text/html": "<div>\n<style scoped>\n    .dataframe tbody tr th:only-of-type {\n        vertical-align: middle;\n    }\n\n    .dataframe tbody tr th {\n        vertical-align: top;\n    }\n\n    .dataframe thead th {\n        text-align: right;\n    }\n</style>\n<table border=\"1\" class=\"dataframe\">\n  <thead>\n    <tr style=\"text-align: right;\">\n      <th></th>\n      <th>name</th>\n      <th>alpha_3</th>\n      <th>tld</th>\n      <th>continent</th>\n      <th>capital</th>\n      <th>area</th>\n      <th>population</th>\n    </tr>\n  </thead>\n  <tbody>\n    <tr>\n      <th>191</th>\n      <td>Russia</td>\n      <td>RUS</td>\n      <td>.ru</td>\n      <td>EU</td>\n      <td>Moscow</td>\n      <td>17100000.00</td>\n      <td>140702000</td>\n    </tr>\n    <tr>\n      <th>8</th>\n      <td>Antarctica</td>\n      <td>ATA</td>\n      <td>.aq</td>\n      <td>AN</td>\n      <td>NaN</td>\n      <td>14000000.00</td>\n      <td>0</td>\n    </tr>\n    <tr>\n      <th>37</th>\n      <td>Canada</td>\n      <td>CAN</td>\n      <td>.ca</td>\n      <td>NM</td>\n      <td>Ottawa</td>\n      <td>9984670.00</td>\n      <td>33679000</td>\n    </tr>\n    <tr>\n      <th>233</th>\n      <td>United States</td>\n      <td>USA</td>\n      <td>.us</td>\n      <td>NM</td>\n      <td>Washington</td>\n      <td>9629091.00</td>\n      <td>310232863</td>\n    </tr>\n    <tr>\n      <th>47</th>\n      <td>China</td>\n      <td>CHN</td>\n      <td>.cn</td>\n      <td>AS</td>\n      <td>Beijing</td>\n      <td>9596960.00</td>\n      <td>1330044000</td>\n    </tr>\n    <tr>\n      <th>...</th>\n      <td>...</td>\n      <td>...</td>\n      <td>...</td>\n      <td>...</td>\n      <td>...</td>\n      <td>...</td>\n      <td>...</td>\n    </tr>\n    <tr>\n      <th>220</th>\n      <td>Tokelau</td>\n      <td>TKL</td>\n      <td>.tk</td>\n      <td>OC</td>\n      <td>NaN</td>\n      <td>10.00</td>\n      <td>1466</td>\n    </tr>\n    <tr>\n      <th>82</th>\n      <td>Gibraltar</td>\n      <td>GIB</td>\n      <td>.gi</td>\n      <td>EU</td>\n      <td>Gibraltar</td>\n      <td>6.50</td>\n      <td>27884</td>\n    </tr>\n    <tr>\n      <th>138</th>\n      <td>Monaco</td>\n      <td>MCO</td>\n      <td>.mc</td>\n      <td>EU</td>\n      <td>Monaco</td>\n      <td>1.95</td>\n      <td>32965</td>\n    </tr>\n    <tr>\n      <th>236</th>\n      <td>Vatican</td>\n      <td>VAT</td>\n      <td>.va</td>\n      <td>EU</td>\n      <td>Vatican City</td>\n      <td>0.44</td>\n      <td>921</td>\n    </tr>\n    <tr>\n      <th>232</th>\n      <td>United States Minor Outlying Islands</td>\n      <td>UMI</td>\n      <td>.um</td>\n      <td>OC</td>\n      <td>NaN</td>\n      <td>0.00</td>\n      <td>0</td>\n    </tr>\n  </tbody>\n</table>\n<p>251 rows × 7 columns</p>\n</div>"
     },
     "execution_count": 73,
     "metadata": {},
     "output_type": "execute_result"
    }
   ],
   "source": [
    "country_data.sort_values(by='area', ascending=False)"
   ]
  },
  {
   "attachments": {},
   "cell_type": "markdown",
   "metadata": {},
   "source": [
    "> A data frame can be sorted **in place**,\n",
    "> that is, the data frame is modified,\n",
    "> rather than returning a new data frame.\n",
    "> This is achieved by supplying the argument **`inplace=True`**,\n",
    "> but is not recommended (rather, assign the result to a new variable)."
   ]
  },
  {
   "attachments": {},
   "cell_type": "markdown",
   "metadata": {},
   "source": [
    "To **sort on multiple columns**, provide a *list of column labels*:"
   ]
  },
  {
   "cell_type": "code",
   "execution_count": 74,
   "metadata": {},
   "outputs": [
    {
     "data": {
      "text/plain": "             name alpha_3  tld continent      capital       area  population\n61        Algeria     DZA  .dz        AF      Algiers  2381740.0    34586184\n7          Angola     AGO  .ao        AF       Luanda  1246700.0    13068161\n24          Benin     BEN  .bj        AF   Porto-Novo   112620.0     9056010\n34       Botswana     BWA  .bw        AF     Gaborone   600370.0     2029307\n20   Burkina Faso     BFA  .bf        AF  Ouagadougou   274200.0    16241811\n..            ...     ...  ...       ...          ...        ...         ...\n186      Paraguay     PRY  .py        SM     Asuncion   406750.0     6375830\n174          Peru     PER  .pe        SM         Lima  1285220.0    29907003\n208      Suriname     SUR  .sr        SM   Paramaribo   163270.0      492829\n234       Uruguay     URY  .uy        SM   Montevideo   176220.0     3477000\n238     Venezuela     VEN  .ve        SM      Caracas   912050.0    27223228\n\n[251 rows x 7 columns]",
      "text/html": "<div>\n<style scoped>\n    .dataframe tbody tr th:only-of-type {\n        vertical-align: middle;\n    }\n\n    .dataframe tbody tr th {\n        vertical-align: top;\n    }\n\n    .dataframe thead th {\n        text-align: right;\n    }\n</style>\n<table border=\"1\" class=\"dataframe\">\n  <thead>\n    <tr style=\"text-align: right;\">\n      <th></th>\n      <th>name</th>\n      <th>alpha_3</th>\n      <th>tld</th>\n      <th>continent</th>\n      <th>capital</th>\n      <th>area</th>\n      <th>population</th>\n    </tr>\n  </thead>\n  <tbody>\n    <tr>\n      <th>61</th>\n      <td>Algeria</td>\n      <td>DZA</td>\n      <td>.dz</td>\n      <td>AF</td>\n      <td>Algiers</td>\n      <td>2381740.0</td>\n      <td>34586184</td>\n    </tr>\n    <tr>\n      <th>7</th>\n      <td>Angola</td>\n      <td>AGO</td>\n      <td>.ao</td>\n      <td>AF</td>\n      <td>Luanda</td>\n      <td>1246700.0</td>\n      <td>13068161</td>\n    </tr>\n    <tr>\n      <th>24</th>\n      <td>Benin</td>\n      <td>BEN</td>\n      <td>.bj</td>\n      <td>AF</td>\n      <td>Porto-Novo</td>\n      <td>112620.0</td>\n      <td>9056010</td>\n    </tr>\n    <tr>\n      <th>34</th>\n      <td>Botswana</td>\n      <td>BWA</td>\n      <td>.bw</td>\n      <td>AF</td>\n      <td>Gaborone</td>\n      <td>600370.0</td>\n      <td>2029307</td>\n    </tr>\n    <tr>\n      <th>20</th>\n      <td>Burkina Faso</td>\n      <td>BFA</td>\n      <td>.bf</td>\n      <td>AF</td>\n      <td>Ouagadougou</td>\n      <td>274200.0</td>\n      <td>16241811</td>\n    </tr>\n    <tr>\n      <th>...</th>\n      <td>...</td>\n      <td>...</td>\n      <td>...</td>\n      <td>...</td>\n      <td>...</td>\n      <td>...</td>\n      <td>...</td>\n    </tr>\n    <tr>\n      <th>186</th>\n      <td>Paraguay</td>\n      <td>PRY</td>\n      <td>.py</td>\n      <td>SM</td>\n      <td>Asuncion</td>\n      <td>406750.0</td>\n      <td>6375830</td>\n    </tr>\n    <tr>\n      <th>174</th>\n      <td>Peru</td>\n      <td>PER</td>\n      <td>.pe</td>\n      <td>SM</td>\n      <td>Lima</td>\n      <td>1285220.0</td>\n      <td>29907003</td>\n    </tr>\n    <tr>\n      <th>208</th>\n      <td>Suriname</td>\n      <td>SUR</td>\n      <td>.sr</td>\n      <td>SM</td>\n      <td>Paramaribo</td>\n      <td>163270.0</td>\n      <td>492829</td>\n    </tr>\n    <tr>\n      <th>234</th>\n      <td>Uruguay</td>\n      <td>URY</td>\n      <td>.uy</td>\n      <td>SM</td>\n      <td>Montevideo</td>\n      <td>176220.0</td>\n      <td>3477000</td>\n    </tr>\n    <tr>\n      <th>238</th>\n      <td>Venezuela</td>\n      <td>VEN</td>\n      <td>.ve</td>\n      <td>SM</td>\n      <td>Caracas</td>\n      <td>912050.0</td>\n      <td>27223228</td>\n    </tr>\n  </tbody>\n</table>\n<p>251 rows × 7 columns</p>\n</div>"
     },
     "execution_count": 74,
     "metadata": {},
     "output_type": "execute_result"
    }
   ],
   "source": [
    "country_data.sort_values(by=['continent', 'name'])"
   ]
  },
  {
   "attachments": {},
   "cell_type": "markdown",
   "metadata": {},
   "source": [
    "As you can see, the index (left-most column) labels are sorted along as well.\n",
    "If you want to have a new index for the result, in sorted order,\n",
    "then you can use the function **`reset_index()`**.\n",
    "The old index is preserved as well in the column labeled `'index'`.\n",
    "\n",
    "Let us sort the `country_data` data frame by *population*,\n",
    "reset the index, and assign the result to the variable `country_data_sorted_by_pop`:"
   ]
  },
  {
   "cell_type": "code",
   "execution_count": 75,
   "metadata": {},
   "outputs": [
    {
     "data": {
      "text/plain": "     index                                          name alpha_3  tld  \\\n0       47                                         China     CHN  .cn   \n1      104                                         India     IND  .in   \n2      233                                 United States     USA  .us   \n3      100                                     Indonesia     IDN  .id   \n4       30                                        Brazil     BRA  .br   \n..     ...                                           ...     ...  ...   \n246     89  South Georgia and the South Sandwich Islands     SGS  .gs   \n247    232          United States Minor Outlying Islands     UMI  .um   \n248     33                                 Bouvet Island     BVT  .bv   \n249      8                                    Antarctica     ATA  .aq   \n250     95             Heard Island and McDonald Islands     HMD  .hm   \n\n    continent     capital        area  population  \n0          AS     Beijing   9596960.0  1330044000  \n1          AS   New Delhi   3287590.0  1173108018  \n2          NM  Washington   9629091.0   310232863  \n3          AS     Jakarta   1919440.0   242968342  \n4          SM    Brasilia   8511965.0   201103330  \n..        ...         ...         ...         ...  \n246        AN   Grytviken      3903.0          30  \n247        OC         NaN         0.0           0  \n248        AN         NaN        49.0           0  \n249        AN         NaN  14000000.0           0  \n250        AN         NaN       412.0           0  \n\n[251 rows x 8 columns]",
      "text/html": "<div>\n<style scoped>\n    .dataframe tbody tr th:only-of-type {\n        vertical-align: middle;\n    }\n\n    .dataframe tbody tr th {\n        vertical-align: top;\n    }\n\n    .dataframe thead th {\n        text-align: right;\n    }\n</style>\n<table border=\"1\" class=\"dataframe\">\n  <thead>\n    <tr style=\"text-align: right;\">\n      <th></th>\n      <th>index</th>\n      <th>name</th>\n      <th>alpha_3</th>\n      <th>tld</th>\n      <th>continent</th>\n      <th>capital</th>\n      <th>area</th>\n      <th>population</th>\n    </tr>\n  </thead>\n  <tbody>\n    <tr>\n      <th>0</th>\n      <td>47</td>\n      <td>China</td>\n      <td>CHN</td>\n      <td>.cn</td>\n      <td>AS</td>\n      <td>Beijing</td>\n      <td>9596960.0</td>\n      <td>1330044000</td>\n    </tr>\n    <tr>\n      <th>1</th>\n      <td>104</td>\n      <td>India</td>\n      <td>IND</td>\n      <td>.in</td>\n      <td>AS</td>\n      <td>New Delhi</td>\n      <td>3287590.0</td>\n      <td>1173108018</td>\n    </tr>\n    <tr>\n      <th>2</th>\n      <td>233</td>\n      <td>United States</td>\n      <td>USA</td>\n      <td>.us</td>\n      <td>NM</td>\n      <td>Washington</td>\n      <td>9629091.0</td>\n      <td>310232863</td>\n    </tr>\n    <tr>\n      <th>3</th>\n      <td>100</td>\n      <td>Indonesia</td>\n      <td>IDN</td>\n      <td>.id</td>\n      <td>AS</td>\n      <td>Jakarta</td>\n      <td>1919440.0</td>\n      <td>242968342</td>\n    </tr>\n    <tr>\n      <th>4</th>\n      <td>30</td>\n      <td>Brazil</td>\n      <td>BRA</td>\n      <td>.br</td>\n      <td>SM</td>\n      <td>Brasilia</td>\n      <td>8511965.0</td>\n      <td>201103330</td>\n    </tr>\n    <tr>\n      <th>...</th>\n      <td>...</td>\n      <td>...</td>\n      <td>...</td>\n      <td>...</td>\n      <td>...</td>\n      <td>...</td>\n      <td>...</td>\n      <td>...</td>\n    </tr>\n    <tr>\n      <th>246</th>\n      <td>89</td>\n      <td>South Georgia and the South Sandwich Islands</td>\n      <td>SGS</td>\n      <td>.gs</td>\n      <td>AN</td>\n      <td>Grytviken</td>\n      <td>3903.0</td>\n      <td>30</td>\n    </tr>\n    <tr>\n      <th>247</th>\n      <td>232</td>\n      <td>United States Minor Outlying Islands</td>\n      <td>UMI</td>\n      <td>.um</td>\n      <td>OC</td>\n      <td>NaN</td>\n      <td>0.0</td>\n      <td>0</td>\n    </tr>\n    <tr>\n      <th>248</th>\n      <td>33</td>\n      <td>Bouvet Island</td>\n      <td>BVT</td>\n      <td>.bv</td>\n      <td>AN</td>\n      <td>NaN</td>\n      <td>49.0</td>\n      <td>0</td>\n    </tr>\n    <tr>\n      <th>249</th>\n      <td>8</td>\n      <td>Antarctica</td>\n      <td>ATA</td>\n      <td>.aq</td>\n      <td>AN</td>\n      <td>NaN</td>\n      <td>14000000.0</td>\n      <td>0</td>\n    </tr>\n    <tr>\n      <th>250</th>\n      <td>95</td>\n      <td>Heard Island and McDonald Islands</td>\n      <td>HMD</td>\n      <td>.hm</td>\n      <td>AN</td>\n      <td>NaN</td>\n      <td>412.0</td>\n      <td>0</td>\n    </tr>\n  </tbody>\n</table>\n<p>251 rows × 8 columns</p>\n</div>"
     },
     "execution_count": 75,
     "metadata": {},
     "output_type": "execute_result"
    }
   ],
   "source": [
    "country_data_sorted_by_pop = country_data.sort_values(by='population', ascending=False).reset_index()\n",
    "country_data_sorted_by_pop"
   ]
  },
  {
   "attachments": {},
   "cell_type": "markdown",
   "metadata": {},
   "source": [
    "### Exercise 8.a\n",
    "\n",
    "Sort the country data on _area_ in descending order, and show the _name_ and _area_ for the first 10 rows."
   ]
  },
  {
   "cell_type": "code",
   "execution_count": 76,
   "metadata": {},
   "outputs": [
    {
     "data": {
      "text/plain": "            name        area\n0         Russia  17100000.0\n1     Antarctica  14000000.0\n2         Canada   9984670.0\n3  United States   9629091.0\n4          China   9596960.0\n5         Brazil   8511965.0\n6      Australia   7686850.0\n7          India   3287590.0\n8      Argentina   2766890.0\n9     Kazakhstan   2717300.0",
      "text/html": "<div>\n<style scoped>\n    .dataframe tbody tr th:only-of-type {\n        vertical-align: middle;\n    }\n\n    .dataframe tbody tr th {\n        vertical-align: top;\n    }\n\n    .dataframe thead th {\n        text-align: right;\n    }\n</style>\n<table border=\"1\" class=\"dataframe\">\n  <thead>\n    <tr style=\"text-align: right;\">\n      <th></th>\n      <th>name</th>\n      <th>area</th>\n    </tr>\n  </thead>\n  <tbody>\n    <tr>\n      <th>0</th>\n      <td>Russia</td>\n      <td>17100000.0</td>\n    </tr>\n    <tr>\n      <th>1</th>\n      <td>Antarctica</td>\n      <td>14000000.0</td>\n    </tr>\n    <tr>\n      <th>2</th>\n      <td>Canada</td>\n      <td>9984670.0</td>\n    </tr>\n    <tr>\n      <th>3</th>\n      <td>United States</td>\n      <td>9629091.0</td>\n    </tr>\n    <tr>\n      <th>4</th>\n      <td>China</td>\n      <td>9596960.0</td>\n    </tr>\n    <tr>\n      <th>5</th>\n      <td>Brazil</td>\n      <td>8511965.0</td>\n    </tr>\n    <tr>\n      <th>6</th>\n      <td>Australia</td>\n      <td>7686850.0</td>\n    </tr>\n    <tr>\n      <th>7</th>\n      <td>India</td>\n      <td>3287590.0</td>\n    </tr>\n    <tr>\n      <th>8</th>\n      <td>Argentina</td>\n      <td>2766890.0</td>\n    </tr>\n    <tr>\n      <th>9</th>\n      <td>Kazakhstan</td>\n      <td>2717300.0</td>\n    </tr>\n  </tbody>\n</table>\n</div>"
     },
     "execution_count": 76,
     "metadata": {},
     "output_type": "execute_result"
    }
   ],
   "source": [
    "#// BEGIN_TODO [EDA_8a] Name and area of first 10 rows after sorting on area (1 point)\n",
    "\n",
    "country_data.sort_values(by='area', ascending=False).reset_index().loc[0:9, ['name', 'area']]\n",
    "#// END_TODO [EDA_8a]"
   ]
  },
  {
   "attachments": {},
   "cell_type": "markdown",
   "metadata": {},
   "source": [
    "## 9. Computing Values from a `DataFrame`\n",
    "\n",
    "You can apply **arithmetic operations** on entire data frames or series,\n",
    "such as selected columns.\n",
    "\n",
    "Let us calculate the _population density_ (_population_ divided by *area*) for each country:"
   ]
  },
  {
   "cell_type": "code",
   "execution_count": 77,
   "metadata": {},
   "outputs": [
    {
     "data": {
      "text/plain": "0      179.487179\n1       60.033699\n2       44.974959\n3      195.832957\n4      129.941176\n          ...    \n246    425.245989\n247     40.166832\n248     17.884739\n249     33.440012\n250    312.500000\nLength: 251, dtype: float64"
     },
     "execution_count": 77,
     "metadata": {},
     "output_type": "execute_result"
    }
   ],
   "source": [
    "country_data['population'] / country_data['area']"
   ]
  },
  {
   "attachments": {},
   "cell_type": "markdown",
   "metadata": {},
   "source": [
    "### Adding a New Column to a `DataFrame`\n",
    "\n",
    "It is more useful to combine the computed population density with the existing data,\n",
    "by **adding a new column** with the computed density values.  \n",
    "We can add such a new column labeled `'density'` as follows:"
   ]
  },
  {
   "cell_type": "code",
   "execution_count": 78,
   "metadata": {},
   "outputs": [
    {
     "data": {
      "text/plain": "                     name alpha_3  tld continent           capital       area  \\\n0                 Andorra     AND  .ad        EU  Andorra la Vella      468.0   \n1    United Arab Emirates     ARE  .ae        AS         Abu Dhabi    82880.0   \n2             Afghanistan     AFG  .af        AS             Kabul   647500.0   \n3     Antigua and Barbuda     ATG  .ag        NM        St. John's      443.0   \n4                Anguilla     AIA  .ai        NM        The Valley      102.0   \n..                    ...     ...  ...       ...               ...        ...   \n246               Mayotte     MYT  .yt        AF         Mamoudzou      374.0   \n247          South Africa     ZAF  .za        AF          Pretoria  1219912.0   \n248                Zambia     ZMB  .zm        AF            Lusaka   752614.0   \n249              Zimbabwe     ZWE  .zw        AF            Harare   390580.0   \n250  Netherlands Antilles     ANT  .an        NM        Willemstad      960.0   \n\n     population     density  \n0         84000  179.487179  \n1       4975593   60.033699  \n2      29121286   44.974959  \n3         86754  195.832957  \n4         13254  129.941176  \n..          ...         ...  \n246      159042  425.245989  \n247    49000000   40.166832  \n248    13460305   17.884739  \n249    13061000   33.440012  \n250      300000  312.500000  \n\n[251 rows x 8 columns]",
      "text/html": "<div>\n<style scoped>\n    .dataframe tbody tr th:only-of-type {\n        vertical-align: middle;\n    }\n\n    .dataframe tbody tr th {\n        vertical-align: top;\n    }\n\n    .dataframe thead th {\n        text-align: right;\n    }\n</style>\n<table border=\"1\" class=\"dataframe\">\n  <thead>\n    <tr style=\"text-align: right;\">\n      <th></th>\n      <th>name</th>\n      <th>alpha_3</th>\n      <th>tld</th>\n      <th>continent</th>\n      <th>capital</th>\n      <th>area</th>\n      <th>population</th>\n      <th>density</th>\n    </tr>\n  </thead>\n  <tbody>\n    <tr>\n      <th>0</th>\n      <td>Andorra</td>\n      <td>AND</td>\n      <td>.ad</td>\n      <td>EU</td>\n      <td>Andorra la Vella</td>\n      <td>468.0</td>\n      <td>84000</td>\n      <td>179.487179</td>\n    </tr>\n    <tr>\n      <th>1</th>\n      <td>United Arab Emirates</td>\n      <td>ARE</td>\n      <td>.ae</td>\n      <td>AS</td>\n      <td>Abu Dhabi</td>\n      <td>82880.0</td>\n      <td>4975593</td>\n      <td>60.033699</td>\n    </tr>\n    <tr>\n      <th>2</th>\n      <td>Afghanistan</td>\n      <td>AFG</td>\n      <td>.af</td>\n      <td>AS</td>\n      <td>Kabul</td>\n      <td>647500.0</td>\n      <td>29121286</td>\n      <td>44.974959</td>\n    </tr>\n    <tr>\n      <th>3</th>\n      <td>Antigua and Barbuda</td>\n      <td>ATG</td>\n      <td>.ag</td>\n      <td>NM</td>\n      <td>St. John's</td>\n      <td>443.0</td>\n      <td>86754</td>\n      <td>195.832957</td>\n    </tr>\n    <tr>\n      <th>4</th>\n      <td>Anguilla</td>\n      <td>AIA</td>\n      <td>.ai</td>\n      <td>NM</td>\n      <td>The Valley</td>\n      <td>102.0</td>\n      <td>13254</td>\n      <td>129.941176</td>\n    </tr>\n    <tr>\n      <th>...</th>\n      <td>...</td>\n      <td>...</td>\n      <td>...</td>\n      <td>...</td>\n      <td>...</td>\n      <td>...</td>\n      <td>...</td>\n      <td>...</td>\n    </tr>\n    <tr>\n      <th>246</th>\n      <td>Mayotte</td>\n      <td>MYT</td>\n      <td>.yt</td>\n      <td>AF</td>\n      <td>Mamoudzou</td>\n      <td>374.0</td>\n      <td>159042</td>\n      <td>425.245989</td>\n    </tr>\n    <tr>\n      <th>247</th>\n      <td>South Africa</td>\n      <td>ZAF</td>\n      <td>.za</td>\n      <td>AF</td>\n      <td>Pretoria</td>\n      <td>1219912.0</td>\n      <td>49000000</td>\n      <td>40.166832</td>\n    </tr>\n    <tr>\n      <th>248</th>\n      <td>Zambia</td>\n      <td>ZMB</td>\n      <td>.zm</td>\n      <td>AF</td>\n      <td>Lusaka</td>\n      <td>752614.0</td>\n      <td>13460305</td>\n      <td>17.884739</td>\n    </tr>\n    <tr>\n      <th>249</th>\n      <td>Zimbabwe</td>\n      <td>ZWE</td>\n      <td>.zw</td>\n      <td>AF</td>\n      <td>Harare</td>\n      <td>390580.0</td>\n      <td>13061000</td>\n      <td>33.440012</td>\n    </tr>\n    <tr>\n      <th>250</th>\n      <td>Netherlands Antilles</td>\n      <td>ANT</td>\n      <td>.an</td>\n      <td>NM</td>\n      <td>Willemstad</td>\n      <td>960.0</td>\n      <td>300000</td>\n      <td>312.500000</td>\n    </tr>\n  </tbody>\n</table>\n<p>251 rows × 8 columns</p>\n</div>"
     },
     "execution_count": 78,
     "metadata": {},
     "output_type": "execute_result"
    }
   ],
   "source": [
    "country_data['density'] = country_data['population'] / country_data['area']\n",
    "country_data"
   ]
  },
  {
   "attachments": {},
   "cell_type": "markdown",
   "metadata": {},
   "source": [
    "### Exercise 9.a\n",
    "\n",
    "Add a new column to the `country_data` data frame labeled `specific_area` with the _specific area_\n",
    "(_area_ divided by *population*) **expressed in $\\mathrm{m}^2$ per person**. Then, show the first five rows of the data frame.\n",
    "\n",
    "<span class=\"t\">Hint<span class=\"c\">:</span></span>\n",
    "<span class=\"h\">\n",
    "The default value of `head()` is five.\n",
    "</span>"
   ]
  },
  {
   "cell_type": "code",
   "execution_count": 79,
   "metadata": {},
   "outputs": [
    {
     "data": {
      "text/plain": "                   name alpha_3  tld continent           capital      area  \\\n0               Andorra     AND  .ad        EU  Andorra la Vella     468.0   \n1  United Arab Emirates     ARE  .ae        AS         Abu Dhabi   82880.0   \n2           Afghanistan     AFG  .af        AS             Kabul  647500.0   \n3   Antigua and Barbuda     ATG  .ag        NM        St. John's     443.0   \n4              Anguilla     AIA  .ai        NM        The Valley     102.0   \n\n   population     density  specific_area  \n0       84000  179.487179    5571.428571  \n1     4975593   60.033699   16657.310998  \n2    29121286   44.974959   22234.594997  \n3       86754  195.832957    5106.392789  \n4       13254  129.941176    7695.789950  ",
      "text/html": "<div>\n<style scoped>\n    .dataframe tbody tr th:only-of-type {\n        vertical-align: middle;\n    }\n\n    .dataframe tbody tr th {\n        vertical-align: top;\n    }\n\n    .dataframe thead th {\n        text-align: right;\n    }\n</style>\n<table border=\"1\" class=\"dataframe\">\n  <thead>\n    <tr style=\"text-align: right;\">\n      <th></th>\n      <th>name</th>\n      <th>alpha_3</th>\n      <th>tld</th>\n      <th>continent</th>\n      <th>capital</th>\n      <th>area</th>\n      <th>population</th>\n      <th>density</th>\n      <th>specific_area</th>\n    </tr>\n  </thead>\n  <tbody>\n    <tr>\n      <th>0</th>\n      <td>Andorra</td>\n      <td>AND</td>\n      <td>.ad</td>\n      <td>EU</td>\n      <td>Andorra la Vella</td>\n      <td>468.0</td>\n      <td>84000</td>\n      <td>179.487179</td>\n      <td>5571.428571</td>\n    </tr>\n    <tr>\n      <th>1</th>\n      <td>United Arab Emirates</td>\n      <td>ARE</td>\n      <td>.ae</td>\n      <td>AS</td>\n      <td>Abu Dhabi</td>\n      <td>82880.0</td>\n      <td>4975593</td>\n      <td>60.033699</td>\n      <td>16657.310998</td>\n    </tr>\n    <tr>\n      <th>2</th>\n      <td>Afghanistan</td>\n      <td>AFG</td>\n      <td>.af</td>\n      <td>AS</td>\n      <td>Kabul</td>\n      <td>647500.0</td>\n      <td>29121286</td>\n      <td>44.974959</td>\n      <td>22234.594997</td>\n    </tr>\n    <tr>\n      <th>3</th>\n      <td>Antigua and Barbuda</td>\n      <td>ATG</td>\n      <td>.ag</td>\n      <td>NM</td>\n      <td>St. John's</td>\n      <td>443.0</td>\n      <td>86754</td>\n      <td>195.832957</td>\n      <td>5106.392789</td>\n    </tr>\n    <tr>\n      <th>4</th>\n      <td>Anguilla</td>\n      <td>AIA</td>\n      <td>.ai</td>\n      <td>NM</td>\n      <td>The Valley</td>\n      <td>102.0</td>\n      <td>13254</td>\n      <td>129.941176</td>\n      <td>7695.789950</td>\n    </tr>\n  </tbody>\n</table>\n</div>"
     },
     "execution_count": 79,
     "metadata": {},
     "output_type": "execute_result"
    }
   ],
   "source": [
    "#// BEGIN_TODO [EDA_9a] Add 'specific_area' column (1 point)\n",
    "\n",
    "country_data['specific_area'] = country_data['area'] / country_data['population'] * 1e6\n",
    "country_data.head()\n",
    "#// END_TODO [EDA_9a]"
   ]
  },
  {
   "attachments": {},
   "cell_type": "markdown",
   "metadata": {},
   "source": [
    "### Normalizing Values in a `DataFrame`\n",
    "\n",
    "Sometimes, we will need to compare different features or variables in a data frame.\n",
    "However, a problem arises when their values range in highly different scales.\n",
    "\n",
    "For instance, suppose you want to compare the `area` and `population` features in the `country_data` data frame.\n",
    "Nevertheless, as we can see below, the values vary in a different range.\n",
    "In this case, the `population` feature will dominate the `area` one."
   ]
  },
  {
   "cell_type": "code",
   "execution_count": 80,
   "metadata": {},
   "outputs": [
    {
     "name": "stdout",
     "output_type": "stream",
     "text": [
      "Area range: 0.0 - 17,100,000.0\n"
     ]
    }
   ],
   "source": [
    "area = country_data['area']\n",
    "print(f'Area range: {area.min():,} - {area.max():,}')"
   ]
  },
  {
   "cell_type": "code",
   "execution_count": 81,
   "metadata": {},
   "outputs": [
    {
     "name": "stdout",
     "output_type": "stream",
     "text": [
      "Population range: 0 - 1,330,044,000\n"
     ]
    }
   ],
   "source": [
    "population = country_data['population']\n",
    "print(f'Population range: {population.min():,} - {population.max():,}')"
   ]
  },
  {
   "attachments": {},
   "cell_type": "markdown",
   "metadata": {},
   "source": [
    "To solve this issue, we can **normalize** the values of both features.\n",
    "That is, both features will have a common scale.\n",
    "There are different data normalization methods, one of the most popular ones is the use of z-scores.\n",
    "\n",
    "#### Z-score Normalization\n",
    "**Z-score normalization** is a normalization method where each score tells you how far away the data point is from the mean of the feature distribution.\n",
    "The distance is given in the number of standard distributions: the number of standard distributions above or below the mean.\n",
    "One of its main advantages is that it deals with outliers (contrary to other methods such as min-max).\n",
    "\n",
    "The formula below computes a z-score $z$, where $x$ represents the data point's original value, $\\mu$ the mean of the feature distribution, and $\\sigma$ its standard deviation.\n",
    "\n",
    "$z = \\frac{x - \\mu}{\\sigma}$\n",
    "\n",
    "For example, the z-score of the `area` value 468 can be computed as follows."
   ]
  },
  {
   "cell_type": "code",
   "execution_count": 82,
   "metadata": {},
   "outputs": [
    {
     "data": {
      "text/plain": "-0.31271943681400244"
     },
     "execution_count": 82,
     "metadata": {},
     "output_type": "execute_result"
    }
   ],
   "source": [
    "value = 468\n",
    "mean = country_data['area'].mean()\n",
    "stdev = country_data['area'].std()\n",
    "zscore = (value - mean) / stdev\n",
    "zscore"
   ]
  },
  {
   "attachments": {},
   "cell_type": "markdown",
   "metadata": {},
   "source": [
    "### Exercise 9.b\n",
    "\n",
    "Add a new column to the `country_data` data frame that contains the `area` z-scores.\n",
    "Name the column `area_zscore`."
   ]
  },
  {
   "cell_type": "code",
   "execution_count": 83,
   "metadata": {},
   "outputs": [
    {
     "data": {
      "text/plain": "                     name alpha_3  tld continent           capital       area  \\\n0                 Andorra     AND  .ad        EU  Andorra la Vella      468.0   \n1    United Arab Emirates     ARE  .ae        AS         Abu Dhabi    82880.0   \n2             Afghanistan     AFG  .af        AS             Kabul   647500.0   \n3     Antigua and Barbuda     ATG  .ag        NM        St. John's      443.0   \n4                Anguilla     AIA  .ai        NM        The Valley      102.0   \n..                    ...     ...  ...       ...               ...        ...   \n246               Mayotte     MYT  .yt        AF         Mamoudzou      374.0   \n247          South Africa     ZAF  .za        AF          Pretoria  1219912.0   \n248                Zambia     ZMB  .zm        AF            Lusaka   752614.0   \n249              Zimbabwe     ZWE  .zw        AF            Harare   390580.0   \n250  Netherlands Antilles     ANT  .an        NM        Willemstad      960.0   \n\n     population     density  specific_area  area_zscore  \n0         84000  179.487179    5571.428571    -0.312719  \n1       4975593   60.033699   16657.310998    -0.269535  \n2      29121286   44.974959   22234.594997     0.026330  \n3         86754  195.832957    5106.392789    -0.312733  \n4         13254  129.941176    7695.789950    -0.312911  \n..          ...         ...            ...          ...  \n246      159042  425.245989    2351.580086    -0.312769  \n247    49000000   40.166832   24896.163265     0.326279  \n248    13460305   17.884739   55913.591854     0.081411  \n249    13061000   33.440012   29904.295230    -0.108298  \n250      300000  312.500000    3200.000000    -0.312462  \n\n[251 rows x 10 columns]",
      "text/html": "<div>\n<style scoped>\n    .dataframe tbody tr th:only-of-type {\n        vertical-align: middle;\n    }\n\n    .dataframe tbody tr th {\n        vertical-align: top;\n    }\n\n    .dataframe thead th {\n        text-align: right;\n    }\n</style>\n<table border=\"1\" class=\"dataframe\">\n  <thead>\n    <tr style=\"text-align: right;\">\n      <th></th>\n      <th>name</th>\n      <th>alpha_3</th>\n      <th>tld</th>\n      <th>continent</th>\n      <th>capital</th>\n      <th>area</th>\n      <th>population</th>\n      <th>density</th>\n      <th>specific_area</th>\n      <th>area_zscore</th>\n    </tr>\n  </thead>\n  <tbody>\n    <tr>\n      <th>0</th>\n      <td>Andorra</td>\n      <td>AND</td>\n      <td>.ad</td>\n      <td>EU</td>\n      <td>Andorra la Vella</td>\n      <td>468.0</td>\n      <td>84000</td>\n      <td>179.487179</td>\n      <td>5571.428571</td>\n      <td>-0.312719</td>\n    </tr>\n    <tr>\n      <th>1</th>\n      <td>United Arab Emirates</td>\n      <td>ARE</td>\n      <td>.ae</td>\n      <td>AS</td>\n      <td>Abu Dhabi</td>\n      <td>82880.0</td>\n      <td>4975593</td>\n      <td>60.033699</td>\n      <td>16657.310998</td>\n      <td>-0.269535</td>\n    </tr>\n    <tr>\n      <th>2</th>\n      <td>Afghanistan</td>\n      <td>AFG</td>\n      <td>.af</td>\n      <td>AS</td>\n      <td>Kabul</td>\n      <td>647500.0</td>\n      <td>29121286</td>\n      <td>44.974959</td>\n      <td>22234.594997</td>\n      <td>0.026330</td>\n    </tr>\n    <tr>\n      <th>3</th>\n      <td>Antigua and Barbuda</td>\n      <td>ATG</td>\n      <td>.ag</td>\n      <td>NM</td>\n      <td>St. John's</td>\n      <td>443.0</td>\n      <td>86754</td>\n      <td>195.832957</td>\n      <td>5106.392789</td>\n      <td>-0.312733</td>\n    </tr>\n    <tr>\n      <th>4</th>\n      <td>Anguilla</td>\n      <td>AIA</td>\n      <td>.ai</td>\n      <td>NM</td>\n      <td>The Valley</td>\n      <td>102.0</td>\n      <td>13254</td>\n      <td>129.941176</td>\n      <td>7695.789950</td>\n      <td>-0.312911</td>\n    </tr>\n    <tr>\n      <th>...</th>\n      <td>...</td>\n      <td>...</td>\n      <td>...</td>\n      <td>...</td>\n      <td>...</td>\n      <td>...</td>\n      <td>...</td>\n      <td>...</td>\n      <td>...</td>\n      <td>...</td>\n    </tr>\n    <tr>\n      <th>246</th>\n      <td>Mayotte</td>\n      <td>MYT</td>\n      <td>.yt</td>\n      <td>AF</td>\n      <td>Mamoudzou</td>\n      <td>374.0</td>\n      <td>159042</td>\n      <td>425.245989</td>\n      <td>2351.580086</td>\n      <td>-0.312769</td>\n    </tr>\n    <tr>\n      <th>247</th>\n      <td>South Africa</td>\n      <td>ZAF</td>\n      <td>.za</td>\n      <td>AF</td>\n      <td>Pretoria</td>\n      <td>1219912.0</td>\n      <td>49000000</td>\n      <td>40.166832</td>\n      <td>24896.163265</td>\n      <td>0.326279</td>\n    </tr>\n    <tr>\n      <th>248</th>\n      <td>Zambia</td>\n      <td>ZMB</td>\n      <td>.zm</td>\n      <td>AF</td>\n      <td>Lusaka</td>\n      <td>752614.0</td>\n      <td>13460305</td>\n      <td>17.884739</td>\n      <td>55913.591854</td>\n      <td>0.081411</td>\n    </tr>\n    <tr>\n      <th>249</th>\n      <td>Zimbabwe</td>\n      <td>ZWE</td>\n      <td>.zw</td>\n      <td>AF</td>\n      <td>Harare</td>\n      <td>390580.0</td>\n      <td>13061000</td>\n      <td>33.440012</td>\n      <td>29904.295230</td>\n      <td>-0.108298</td>\n    </tr>\n    <tr>\n      <th>250</th>\n      <td>Netherlands Antilles</td>\n      <td>ANT</td>\n      <td>.an</td>\n      <td>NM</td>\n      <td>Willemstad</td>\n      <td>960.0</td>\n      <td>300000</td>\n      <td>312.500000</td>\n      <td>3200.000000</td>\n      <td>-0.312462</td>\n    </tr>\n  </tbody>\n</table>\n<p>251 rows × 10 columns</p>\n</div>"
     },
     "execution_count": 83,
     "metadata": {},
     "output_type": "execute_result"
    }
   ],
   "source": [
    "#// BEGIN_TODO [EDA_9b] Add 'area_zscore' column (1 point)\n",
    "\n",
    "country_data['area_zscore'] = (country_data[['area']] - mean) / stdev\n",
    "country_data\n",
    "#// END_TODO [EDA_9b]"
   ]
  },
  {
   "attachments": {},
   "cell_type": "markdown",
   "metadata": {},
   "source": [
    "## 10. Selecting Rows by Using Boolean Masks\n",
    "\n",
    "A **boolean mask** is a list of boolean values that can be used to select those rows in a data frame for which the mask contains the value `True`. This is done by using the boolean mask as an index of the data frame. The length of the mask must equal the number of rows in the data frame.\n",
    "\n",
    "For example, let us take a look at our shopping list example:"
   ]
  },
  {
   "cell_type": "code",
   "execution_count": 84,
   "metadata": {},
   "outputs": [
    {
     "data": {
      "text/plain": "      Item  Price (Euros)\n0    bread            2.0\n1     milk            1.0\n2    chips            3.0\n3  bananas            2.0\n4  carrots            1.5",
      "text/html": "<div>\n<style scoped>\n    .dataframe tbody tr th:only-of-type {\n        vertical-align: middle;\n    }\n\n    .dataframe tbody tr th {\n        vertical-align: top;\n    }\n\n    .dataframe thead th {\n        text-align: right;\n    }\n</style>\n<table border=\"1\" class=\"dataframe\">\n  <thead>\n    <tr style=\"text-align: right;\">\n      <th></th>\n      <th>Item</th>\n      <th>Price (Euros)</th>\n    </tr>\n  </thead>\n  <tbody>\n    <tr>\n      <th>0</th>\n      <td>bread</td>\n      <td>2.0</td>\n    </tr>\n    <tr>\n      <th>1</th>\n      <td>milk</td>\n      <td>1.0</td>\n    </tr>\n    <tr>\n      <th>2</th>\n      <td>chips</td>\n      <td>3.0</td>\n    </tr>\n    <tr>\n      <th>3</th>\n      <td>bananas</td>\n      <td>2.0</td>\n    </tr>\n    <tr>\n      <th>4</th>\n      <td>carrots</td>\n      <td>1.5</td>\n    </tr>\n  </tbody>\n</table>\n</div>"
     },
     "execution_count": 84,
     "metadata": {},
     "output_type": "execute_result"
    }
   ],
   "source": [
    "df_shopping_list"
   ]
  },
  {
   "attachments": {},
   "cell_type": "markdown",
   "metadata": {},
   "source": [
    "We can use a Boolean mask to select a subset of rows for which the mask has a `True` value:"
   ]
  },
  {
   "cell_type": "code",
   "execution_count": 85,
   "metadata": {},
   "outputs": [
    {
     "data": {
      "text/plain": "      Item  Price (Euros)\n0    bread            2.0\n3  bananas            2.0",
      "text/html": "<div>\n<style scoped>\n    .dataframe tbody tr th:only-of-type {\n        vertical-align: middle;\n    }\n\n    .dataframe tbody tr th {\n        vertical-align: top;\n    }\n\n    .dataframe thead th {\n        text-align: right;\n    }\n</style>\n<table border=\"1\" class=\"dataframe\">\n  <thead>\n    <tr style=\"text-align: right;\">\n      <th></th>\n      <th>Item</th>\n      <th>Price (Euros)</th>\n    </tr>\n  </thead>\n  <tbody>\n    <tr>\n      <th>0</th>\n      <td>bread</td>\n      <td>2.0</td>\n    </tr>\n    <tr>\n      <th>3</th>\n      <td>bananas</td>\n      <td>2.0</td>\n    </tr>\n  </tbody>\n</table>\n</div>"
     },
     "execution_count": 85,
     "metadata": {},
     "output_type": "execute_result"
    }
   ],
   "source": [
    "df_shopping_list[[True, False, False, True, False]]"
   ]
  },
  {
   "attachments": {},
   "cell_type": "markdown",
   "metadata": {},
   "source": [
    "It is sometimes convenient to store a mask in a variable, e.g. to reuse it later:"
   ]
  },
  {
   "cell_type": "code",
   "execution_count": 86,
   "metadata": {},
   "outputs": [
    {
     "data": {
      "text/plain": "      Item  Price (Euros)\n0    bread            2.0\n3  bananas            2.0",
      "text/html": "<div>\n<style scoped>\n    .dataframe tbody tr th:only-of-type {\n        vertical-align: middle;\n    }\n\n    .dataframe tbody tr th {\n        vertical-align: top;\n    }\n\n    .dataframe thead th {\n        text-align: right;\n    }\n</style>\n<table border=\"1\" class=\"dataframe\">\n  <thead>\n    <tr style=\"text-align: right;\">\n      <th></th>\n      <th>Item</th>\n      <th>Price (Euros)</th>\n    </tr>\n  </thead>\n  <tbody>\n    <tr>\n      <th>0</th>\n      <td>bread</td>\n      <td>2.0</td>\n    </tr>\n    <tr>\n      <th>3</th>\n      <td>bananas</td>\n      <td>2.0</td>\n    </tr>\n  </tbody>\n</table>\n</div>"
     },
     "execution_count": 86,
     "metadata": {},
     "output_type": "execute_result"
    }
   ],
   "source": [
    "mask = [True, False, False, True, False]\n",
    "df_shopping_list[mask]"
   ]
  },
  {
   "attachments": {},
   "cell_type": "markdown",
   "metadata": {},
   "source": [
    "A Boolean mask can be created by applying **comparison and logical operations** on selected columns. For example, let us compute a mask of products in our shopping list that cost less than 1.70 Euros:"
   ]
  },
  {
   "cell_type": "code",
   "execution_count": 87,
   "metadata": {},
   "outputs": [
    {
     "data": {
      "text/plain": "0    False\n1     True\n2    False\n3    False\n4     True\nName: Price (Euros), dtype: bool"
     },
     "execution_count": 87,
     "metadata": {},
     "output_type": "execute_result"
    }
   ],
   "source": [
    "df_shopping_list['Price (Euros)'] < 1.70"
   ]
  },
  {
   "attachments": {},
   "cell_type": "markdown",
   "metadata": {},
   "source": [
    "We can use the mask to select those products"
   ]
  },
  {
   "cell_type": "code",
   "execution_count": 88,
   "metadata": {},
   "outputs": [
    {
     "data": {
      "text/plain": "      Item  Price (Euros)\n1     milk            1.0\n4  carrots            1.5",
      "text/html": "<div>\n<style scoped>\n    .dataframe tbody tr th:only-of-type {\n        vertical-align: middle;\n    }\n\n    .dataframe tbody tr th {\n        vertical-align: top;\n    }\n\n    .dataframe thead th {\n        text-align: right;\n    }\n</style>\n<table border=\"1\" class=\"dataframe\">\n  <thead>\n    <tr style=\"text-align: right;\">\n      <th></th>\n      <th>Item</th>\n      <th>Price (Euros)</th>\n    </tr>\n  </thead>\n  <tbody>\n    <tr>\n      <th>1</th>\n      <td>milk</td>\n      <td>1.0</td>\n    </tr>\n    <tr>\n      <th>4</th>\n      <td>carrots</td>\n      <td>1.5</td>\n    </tr>\n  </tbody>\n</table>\n</div>"
     },
     "execution_count": 88,
     "metadata": {},
     "output_type": "execute_result"
    }
   ],
   "source": [
    "df_shopping_list[df_shopping_list['Price (Euros)'] < 1.70]"
   ]
  },
  {
   "attachments": {},
   "cell_type": "markdown",
   "metadata": {},
   "source": [
    "As another example, let us compute which countries are in _Europe_ and assign the result to the variable `countries_in_EU`:"
   ]
  },
  {
   "cell_type": "code",
   "execution_count": 89,
   "metadata": {},
   "outputs": [
    {
     "data": {
      "text/plain": "0       True\n1      False\n2      False\n3      False\n4      False\n       ...  \n246    False\n247    False\n248    False\n249    False\n250    False\nName: continent, Length: 251, dtype: bool"
     },
     "execution_count": 89,
     "metadata": {},
     "output_type": "execute_result"
    }
   ],
   "source": [
    "countries_in_EU = country_data['continent'] == 'EU'\n",
    "countries_in_EU"
   ]
  },
  {
   "attachments": {},
   "cell_type": "markdown",
   "metadata": {},
   "source": [
    "Let us use the mask `countries_in_EU` to select countries in *Europe*:"
   ]
  },
  {
   "cell_type": "code",
   "execution_count": 90,
   "metadata": {},
   "outputs": [
    {
     "data": {
      "text/plain": "                       name alpha_3  tld continent           capital  \\\n0                   Andorra     AND  .ad        EU  Andorra la Vella   \n5                   Albania     ALB  .al        EU            Tirana   \n11                  Austria     AUT  .at        EU            Vienna   \n14            Aland Islands     ALA  .ax        EU         Mariehamn   \n16   Bosnia and Herzegovina     BIH  .ba        EU          Sarajevo   \n19                  Belgium     BEL  .be        EU          Brussels   \n21                 Bulgaria     BGR  .bg        EU             Sofia   \n35                  Belarus     BLR  .by        EU             Minsk   \n42              Switzerland     CHE  .ch        EU              Bern   \n54                   Cyprus     CYP  .cy        EU           Nicosia   \n55                  Czechia     CZE  .cz        EU            Prague   \n56                  Germany     DEU  .de        EU            Berlin   \n58                  Denmark     DNK  .dk        EU        Copenhagen   \n63                  Estonia     EST  .ee        EU           Tallinn   \n67                    Spain     ESP  .es        EU            Madrid   \n69                  Finland     FIN  .fi        EU          Helsinki   \n73            Faroe Islands     FRO  .fo        EU          Torshavn   \n74                   France     FRA  .fr        EU             Paris   \n76           United Kingdom     GBR  .uk        EU            London   \n80                 Guernsey     GGY  .gg        EU     St Peter Port   \n82                Gibraltar     GIB  .gi        EU         Gibraltar   \n88                   Greece     GRC  .gr        EU            Athens   \n97                  Croatia     HRV  .hr        EU            Zagreb   \n99                  Hungary     HUN  .hu        EU          Budapest   \n101                 Ireland     IRL  .ie        EU            Dublin   \n103             Isle of Man     IMN  .im        EU           Douglas   \n108                 Iceland     ISL  .is        EU         Reykjavik   \n109                   Italy     ITA  .it        EU              Rome   \n110                  Jersey     JEY  .je        EU      Saint Helier   \n122                  Kosovo     XKX  NaN        EU          Pristina   \n129           Liechtenstein     LIE  .li        EU             Vaduz   \n133               Lithuania     LTU  .lt        EU           Vilnius   \n134              Luxembourg     LUX  .lu        EU        Luxembourg   \n135                  Latvia     LVA  .lv        EU              Riga   \n138                  Monaco     MCO  .mc        EU            Monaco   \n139                 Moldova     MDA  .md        EU          Chisinau   \n140              Montenegro     MNE  .me        EU         Podgorica   \n144               Macedonia     MKD  .mk        EU            Skopje   \n153                   Malta     MLT  .mt        EU          Valletta   \n166             Netherlands     NLD  .nl        EU         Amsterdam   \n167                  Norway     NOR  .no        EU              Oslo   \n179                  Poland     POL  .pl        EU            Warsaw   \n184                Portugal     PRT  .pt        EU            Lisbon   \n189                 Romania     ROU  .ro        EU         Bucharest   \n190                  Serbia     SRB  .rs        EU          Belgrade   \n191                  Russia     RUS  .ru        EU            Moscow   \n198                  Sweden     SWE  .se        EU         Stockholm   \n201                Slovenia     SVN  .si        EU         Ljubljana   \n202  Svalbard and Jan Mayen     SJM  .sj        EU      Longyearbyen   \n203                Slovakia     SVK  .sk        EU        Bratislava   \n205              San Marino     SMR  .sm        EU        San Marino   \n230                 Ukraine     UKR  .ua        EU              Kiev   \n236                 Vatican     VAT  .va        EU      Vatican City   \n\n            area  population       density  specific_area  area_zscore  \n0         468.00       84000    179.487179   5.571429e+03    -0.312719  \n5       28748.00     2986952    103.901211   9.624527e+03    -0.297900  \n11      83858.00     8205000     97.843974   1.022035e+04    -0.269022  \n14       1580.00       26711     16.905696   5.915166e+04    -0.312137  \n16      51129.00     4590000     89.772927   1.113922e+04    -0.286173  \n19      30510.00    10403000    340.970174   2.932808e+03    -0.296977  \n21     110910.00     7148785     64.455730   1.551452e+04    -0.254847  \n35     207600.00     9685000     46.652216   2.143521e+04    -0.204181  \n42      41290.00     7581000    183.603778   5.446511e+03    -0.291328  \n54       9250.00     1102677    119.208324   8.388676e+03    -0.308118  \n55      78866.00    10476000    132.832906   7.528255e+03    -0.271638  \n56     357021.00    81802257    229.124497   4.364439e+03    -0.125883  \n58      43094.00     5484000    127.256695   7.858133e+03    -0.290383  \n63      45226.00     1291170     28.549286   3.502715e+04    -0.289266  \n67     504782.00    46505963     92.130787   1.085413e+04    -0.048455  \n69     337030.00     5244000     15.559446   6.426964e+04    -0.136358  \n73       1399.00       48228     34.473195   2.900805e+04    -0.312232  \n74     547030.00    64768389    118.400068   8.445941e+03    -0.026317  \n76     244820.00    62348447    254.670562   3.926642e+03    -0.184677  \n80         78.00       65228    836.256410   1.195805e+03    -0.312924  \n82          6.50       27884   4289.846154   2.331086e+02    -0.312961  \n88     131940.00    11000000     83.371229   1.199455e+04    -0.243827  \n97      56542.00     4284889     75.782410   1.319567e+04    -0.283336  \n99      93030.00     9982000    107.298721   9.319776e+03    -0.264216  \n101     70280.00     4622917     65.778557   1.520252e+04    -0.276137  \n103       572.00       75049    131.204545   7.621687e+03    -0.312665  \n108    103000.00      308910      2.999126   3.334304e+05    -0.258992  \n109    301230.00    60340328    200.313143   4.992184e+03    -0.155118  \n110       116.00       90812    782.862069   1.277364e+03    -0.312904  \n122     10908.00     1800000    165.016502   6.060000e+03    -0.307249  \n129       160.00       35000    218.750000   4.571429e+03    -0.312881  \n133     65200.00     2944459     45.160414   2.214329e+04    -0.278799  \n134      2586.00      497538    192.396752   5.197593e+03    -0.311610  \n135     64589.00     2217969     34.339733   2.912079e+04    -0.279120  \n138         1.95       32965  16905.128205   5.915365e+01    -0.312964  \n139     33843.00     4324000    127.766451   7.826781e+03    -0.295231  \n140     14026.00      666730     47.535292   2.103700e+04    -0.305615  \n144     25333.00     2062294     81.407413   1.228389e+04    -0.299690  \n153       316.00      403000   1275.316456   7.841191e+02    -0.312799  \n166     41526.00    16645000    400.833213   2.494803e+03    -0.291205  \n167    324220.00     5009150     15.449849   6.472555e+04    -0.143071  \n179    312685.00    38500000    123.127109   8.121688e+03    -0.149115  \n184     92391.00    10676000    115.552381   8.654084e+03    -0.264551  \n189    237500.00    21959278     92.460118   1.081547e+04    -0.188513  \n190     88361.00     7344847     83.123177   1.203034e+04    -0.266663  \n191  17100000.00   140702000      8.228187   1.215335e+05     8.647571  \n198    449964.00     9828655     21.843203   4.578083e+04    -0.077180  \n201     20273.00     2007000     98.998668   1.010115e+04    -0.302341  \n202     62049.00        2550      0.041097   2.433294e+07    -0.280451  \n203     48845.00     5455000    111.679803   8.954170e+03    -0.287370  \n205        61.20       31477    514.330065   1.944277e+03    -0.312933  \n230    603700.00    45415596     75.228749   1.329279e+04     0.003379  \n236         0.44         921   2093.181818   4.777416e+02    -0.312964  ",
      "text/html": "<div>\n<style scoped>\n    .dataframe tbody tr th:only-of-type {\n        vertical-align: middle;\n    }\n\n    .dataframe tbody tr th {\n        vertical-align: top;\n    }\n\n    .dataframe thead th {\n        text-align: right;\n    }\n</style>\n<table border=\"1\" class=\"dataframe\">\n  <thead>\n    <tr style=\"text-align: right;\">\n      <th></th>\n      <th>name</th>\n      <th>alpha_3</th>\n      <th>tld</th>\n      <th>continent</th>\n      <th>capital</th>\n      <th>area</th>\n      <th>population</th>\n      <th>density</th>\n      <th>specific_area</th>\n      <th>area_zscore</th>\n    </tr>\n  </thead>\n  <tbody>\n    <tr>\n      <th>0</th>\n      <td>Andorra</td>\n      <td>AND</td>\n      <td>.ad</td>\n      <td>EU</td>\n      <td>Andorra la Vella</td>\n      <td>468.00</td>\n      <td>84000</td>\n      <td>179.487179</td>\n      <td>5.571429e+03</td>\n      <td>-0.312719</td>\n    </tr>\n    <tr>\n      <th>5</th>\n      <td>Albania</td>\n      <td>ALB</td>\n      <td>.al</td>\n      <td>EU</td>\n      <td>Tirana</td>\n      <td>28748.00</td>\n      <td>2986952</td>\n      <td>103.901211</td>\n      <td>9.624527e+03</td>\n      <td>-0.297900</td>\n    </tr>\n    <tr>\n      <th>11</th>\n      <td>Austria</td>\n      <td>AUT</td>\n      <td>.at</td>\n      <td>EU</td>\n      <td>Vienna</td>\n      <td>83858.00</td>\n      <td>8205000</td>\n      <td>97.843974</td>\n      <td>1.022035e+04</td>\n      <td>-0.269022</td>\n    </tr>\n    <tr>\n      <th>14</th>\n      <td>Aland Islands</td>\n      <td>ALA</td>\n      <td>.ax</td>\n      <td>EU</td>\n      <td>Mariehamn</td>\n      <td>1580.00</td>\n      <td>26711</td>\n      <td>16.905696</td>\n      <td>5.915166e+04</td>\n      <td>-0.312137</td>\n    </tr>\n    <tr>\n      <th>16</th>\n      <td>Bosnia and Herzegovina</td>\n      <td>BIH</td>\n      <td>.ba</td>\n      <td>EU</td>\n      <td>Sarajevo</td>\n      <td>51129.00</td>\n      <td>4590000</td>\n      <td>89.772927</td>\n      <td>1.113922e+04</td>\n      <td>-0.286173</td>\n    </tr>\n    <tr>\n      <th>19</th>\n      <td>Belgium</td>\n      <td>BEL</td>\n      <td>.be</td>\n      <td>EU</td>\n      <td>Brussels</td>\n      <td>30510.00</td>\n      <td>10403000</td>\n      <td>340.970174</td>\n      <td>2.932808e+03</td>\n      <td>-0.296977</td>\n    </tr>\n    <tr>\n      <th>21</th>\n      <td>Bulgaria</td>\n      <td>BGR</td>\n      <td>.bg</td>\n      <td>EU</td>\n      <td>Sofia</td>\n      <td>110910.00</td>\n      <td>7148785</td>\n      <td>64.455730</td>\n      <td>1.551452e+04</td>\n      <td>-0.254847</td>\n    </tr>\n    <tr>\n      <th>35</th>\n      <td>Belarus</td>\n      <td>BLR</td>\n      <td>.by</td>\n      <td>EU</td>\n      <td>Minsk</td>\n      <td>207600.00</td>\n      <td>9685000</td>\n      <td>46.652216</td>\n      <td>2.143521e+04</td>\n      <td>-0.204181</td>\n    </tr>\n    <tr>\n      <th>42</th>\n      <td>Switzerland</td>\n      <td>CHE</td>\n      <td>.ch</td>\n      <td>EU</td>\n      <td>Bern</td>\n      <td>41290.00</td>\n      <td>7581000</td>\n      <td>183.603778</td>\n      <td>5.446511e+03</td>\n      <td>-0.291328</td>\n    </tr>\n    <tr>\n      <th>54</th>\n      <td>Cyprus</td>\n      <td>CYP</td>\n      <td>.cy</td>\n      <td>EU</td>\n      <td>Nicosia</td>\n      <td>9250.00</td>\n      <td>1102677</td>\n      <td>119.208324</td>\n      <td>8.388676e+03</td>\n      <td>-0.308118</td>\n    </tr>\n    <tr>\n      <th>55</th>\n      <td>Czechia</td>\n      <td>CZE</td>\n      <td>.cz</td>\n      <td>EU</td>\n      <td>Prague</td>\n      <td>78866.00</td>\n      <td>10476000</td>\n      <td>132.832906</td>\n      <td>7.528255e+03</td>\n      <td>-0.271638</td>\n    </tr>\n    <tr>\n      <th>56</th>\n      <td>Germany</td>\n      <td>DEU</td>\n      <td>.de</td>\n      <td>EU</td>\n      <td>Berlin</td>\n      <td>357021.00</td>\n      <td>81802257</td>\n      <td>229.124497</td>\n      <td>4.364439e+03</td>\n      <td>-0.125883</td>\n    </tr>\n    <tr>\n      <th>58</th>\n      <td>Denmark</td>\n      <td>DNK</td>\n      <td>.dk</td>\n      <td>EU</td>\n      <td>Copenhagen</td>\n      <td>43094.00</td>\n      <td>5484000</td>\n      <td>127.256695</td>\n      <td>7.858133e+03</td>\n      <td>-0.290383</td>\n    </tr>\n    <tr>\n      <th>63</th>\n      <td>Estonia</td>\n      <td>EST</td>\n      <td>.ee</td>\n      <td>EU</td>\n      <td>Tallinn</td>\n      <td>45226.00</td>\n      <td>1291170</td>\n      <td>28.549286</td>\n      <td>3.502715e+04</td>\n      <td>-0.289266</td>\n    </tr>\n    <tr>\n      <th>67</th>\n      <td>Spain</td>\n      <td>ESP</td>\n      <td>.es</td>\n      <td>EU</td>\n      <td>Madrid</td>\n      <td>504782.00</td>\n      <td>46505963</td>\n      <td>92.130787</td>\n      <td>1.085413e+04</td>\n      <td>-0.048455</td>\n    </tr>\n    <tr>\n      <th>69</th>\n      <td>Finland</td>\n      <td>FIN</td>\n      <td>.fi</td>\n      <td>EU</td>\n      <td>Helsinki</td>\n      <td>337030.00</td>\n      <td>5244000</td>\n      <td>15.559446</td>\n      <td>6.426964e+04</td>\n      <td>-0.136358</td>\n    </tr>\n    <tr>\n      <th>73</th>\n      <td>Faroe Islands</td>\n      <td>FRO</td>\n      <td>.fo</td>\n      <td>EU</td>\n      <td>Torshavn</td>\n      <td>1399.00</td>\n      <td>48228</td>\n      <td>34.473195</td>\n      <td>2.900805e+04</td>\n      <td>-0.312232</td>\n    </tr>\n    <tr>\n      <th>74</th>\n      <td>France</td>\n      <td>FRA</td>\n      <td>.fr</td>\n      <td>EU</td>\n      <td>Paris</td>\n      <td>547030.00</td>\n      <td>64768389</td>\n      <td>118.400068</td>\n      <td>8.445941e+03</td>\n      <td>-0.026317</td>\n    </tr>\n    <tr>\n      <th>76</th>\n      <td>United Kingdom</td>\n      <td>GBR</td>\n      <td>.uk</td>\n      <td>EU</td>\n      <td>London</td>\n      <td>244820.00</td>\n      <td>62348447</td>\n      <td>254.670562</td>\n      <td>3.926642e+03</td>\n      <td>-0.184677</td>\n    </tr>\n    <tr>\n      <th>80</th>\n      <td>Guernsey</td>\n      <td>GGY</td>\n      <td>.gg</td>\n      <td>EU</td>\n      <td>St Peter Port</td>\n      <td>78.00</td>\n      <td>65228</td>\n      <td>836.256410</td>\n      <td>1.195805e+03</td>\n      <td>-0.312924</td>\n    </tr>\n    <tr>\n      <th>82</th>\n      <td>Gibraltar</td>\n      <td>GIB</td>\n      <td>.gi</td>\n      <td>EU</td>\n      <td>Gibraltar</td>\n      <td>6.50</td>\n      <td>27884</td>\n      <td>4289.846154</td>\n      <td>2.331086e+02</td>\n      <td>-0.312961</td>\n    </tr>\n    <tr>\n      <th>88</th>\n      <td>Greece</td>\n      <td>GRC</td>\n      <td>.gr</td>\n      <td>EU</td>\n      <td>Athens</td>\n      <td>131940.00</td>\n      <td>11000000</td>\n      <td>83.371229</td>\n      <td>1.199455e+04</td>\n      <td>-0.243827</td>\n    </tr>\n    <tr>\n      <th>97</th>\n      <td>Croatia</td>\n      <td>HRV</td>\n      <td>.hr</td>\n      <td>EU</td>\n      <td>Zagreb</td>\n      <td>56542.00</td>\n      <td>4284889</td>\n      <td>75.782410</td>\n      <td>1.319567e+04</td>\n      <td>-0.283336</td>\n    </tr>\n    <tr>\n      <th>99</th>\n      <td>Hungary</td>\n      <td>HUN</td>\n      <td>.hu</td>\n      <td>EU</td>\n      <td>Budapest</td>\n      <td>93030.00</td>\n      <td>9982000</td>\n      <td>107.298721</td>\n      <td>9.319776e+03</td>\n      <td>-0.264216</td>\n    </tr>\n    <tr>\n      <th>101</th>\n      <td>Ireland</td>\n      <td>IRL</td>\n      <td>.ie</td>\n      <td>EU</td>\n      <td>Dublin</td>\n      <td>70280.00</td>\n      <td>4622917</td>\n      <td>65.778557</td>\n      <td>1.520252e+04</td>\n      <td>-0.276137</td>\n    </tr>\n    <tr>\n      <th>103</th>\n      <td>Isle of Man</td>\n      <td>IMN</td>\n      <td>.im</td>\n      <td>EU</td>\n      <td>Douglas</td>\n      <td>572.00</td>\n      <td>75049</td>\n      <td>131.204545</td>\n      <td>7.621687e+03</td>\n      <td>-0.312665</td>\n    </tr>\n    <tr>\n      <th>108</th>\n      <td>Iceland</td>\n      <td>ISL</td>\n      <td>.is</td>\n      <td>EU</td>\n      <td>Reykjavik</td>\n      <td>103000.00</td>\n      <td>308910</td>\n      <td>2.999126</td>\n      <td>3.334304e+05</td>\n      <td>-0.258992</td>\n    </tr>\n    <tr>\n      <th>109</th>\n      <td>Italy</td>\n      <td>ITA</td>\n      <td>.it</td>\n      <td>EU</td>\n      <td>Rome</td>\n      <td>301230.00</td>\n      <td>60340328</td>\n      <td>200.313143</td>\n      <td>4.992184e+03</td>\n      <td>-0.155118</td>\n    </tr>\n    <tr>\n      <th>110</th>\n      <td>Jersey</td>\n      <td>JEY</td>\n      <td>.je</td>\n      <td>EU</td>\n      <td>Saint Helier</td>\n      <td>116.00</td>\n      <td>90812</td>\n      <td>782.862069</td>\n      <td>1.277364e+03</td>\n      <td>-0.312904</td>\n    </tr>\n    <tr>\n      <th>122</th>\n      <td>Kosovo</td>\n      <td>XKX</td>\n      <td>NaN</td>\n      <td>EU</td>\n      <td>Pristina</td>\n      <td>10908.00</td>\n      <td>1800000</td>\n      <td>165.016502</td>\n      <td>6.060000e+03</td>\n      <td>-0.307249</td>\n    </tr>\n    <tr>\n      <th>129</th>\n      <td>Liechtenstein</td>\n      <td>LIE</td>\n      <td>.li</td>\n      <td>EU</td>\n      <td>Vaduz</td>\n      <td>160.00</td>\n      <td>35000</td>\n      <td>218.750000</td>\n      <td>4.571429e+03</td>\n      <td>-0.312881</td>\n    </tr>\n    <tr>\n      <th>133</th>\n      <td>Lithuania</td>\n      <td>LTU</td>\n      <td>.lt</td>\n      <td>EU</td>\n      <td>Vilnius</td>\n      <td>65200.00</td>\n      <td>2944459</td>\n      <td>45.160414</td>\n      <td>2.214329e+04</td>\n      <td>-0.278799</td>\n    </tr>\n    <tr>\n      <th>134</th>\n      <td>Luxembourg</td>\n      <td>LUX</td>\n      <td>.lu</td>\n      <td>EU</td>\n      <td>Luxembourg</td>\n      <td>2586.00</td>\n      <td>497538</td>\n      <td>192.396752</td>\n      <td>5.197593e+03</td>\n      <td>-0.311610</td>\n    </tr>\n    <tr>\n      <th>135</th>\n      <td>Latvia</td>\n      <td>LVA</td>\n      <td>.lv</td>\n      <td>EU</td>\n      <td>Riga</td>\n      <td>64589.00</td>\n      <td>2217969</td>\n      <td>34.339733</td>\n      <td>2.912079e+04</td>\n      <td>-0.279120</td>\n    </tr>\n    <tr>\n      <th>138</th>\n      <td>Monaco</td>\n      <td>MCO</td>\n      <td>.mc</td>\n      <td>EU</td>\n      <td>Monaco</td>\n      <td>1.95</td>\n      <td>32965</td>\n      <td>16905.128205</td>\n      <td>5.915365e+01</td>\n      <td>-0.312964</td>\n    </tr>\n    <tr>\n      <th>139</th>\n      <td>Moldova</td>\n      <td>MDA</td>\n      <td>.md</td>\n      <td>EU</td>\n      <td>Chisinau</td>\n      <td>33843.00</td>\n      <td>4324000</td>\n      <td>127.766451</td>\n      <td>7.826781e+03</td>\n      <td>-0.295231</td>\n    </tr>\n    <tr>\n      <th>140</th>\n      <td>Montenegro</td>\n      <td>MNE</td>\n      <td>.me</td>\n      <td>EU</td>\n      <td>Podgorica</td>\n      <td>14026.00</td>\n      <td>666730</td>\n      <td>47.535292</td>\n      <td>2.103700e+04</td>\n      <td>-0.305615</td>\n    </tr>\n    <tr>\n      <th>144</th>\n      <td>Macedonia</td>\n      <td>MKD</td>\n      <td>.mk</td>\n      <td>EU</td>\n      <td>Skopje</td>\n      <td>25333.00</td>\n      <td>2062294</td>\n      <td>81.407413</td>\n      <td>1.228389e+04</td>\n      <td>-0.299690</td>\n    </tr>\n    <tr>\n      <th>153</th>\n      <td>Malta</td>\n      <td>MLT</td>\n      <td>.mt</td>\n      <td>EU</td>\n      <td>Valletta</td>\n      <td>316.00</td>\n      <td>403000</td>\n      <td>1275.316456</td>\n      <td>7.841191e+02</td>\n      <td>-0.312799</td>\n    </tr>\n    <tr>\n      <th>166</th>\n      <td>Netherlands</td>\n      <td>NLD</td>\n      <td>.nl</td>\n      <td>EU</td>\n      <td>Amsterdam</td>\n      <td>41526.00</td>\n      <td>16645000</td>\n      <td>400.833213</td>\n      <td>2.494803e+03</td>\n      <td>-0.291205</td>\n    </tr>\n    <tr>\n      <th>167</th>\n      <td>Norway</td>\n      <td>NOR</td>\n      <td>.no</td>\n      <td>EU</td>\n      <td>Oslo</td>\n      <td>324220.00</td>\n      <td>5009150</td>\n      <td>15.449849</td>\n      <td>6.472555e+04</td>\n      <td>-0.143071</td>\n    </tr>\n    <tr>\n      <th>179</th>\n      <td>Poland</td>\n      <td>POL</td>\n      <td>.pl</td>\n      <td>EU</td>\n      <td>Warsaw</td>\n      <td>312685.00</td>\n      <td>38500000</td>\n      <td>123.127109</td>\n      <td>8.121688e+03</td>\n      <td>-0.149115</td>\n    </tr>\n    <tr>\n      <th>184</th>\n      <td>Portugal</td>\n      <td>PRT</td>\n      <td>.pt</td>\n      <td>EU</td>\n      <td>Lisbon</td>\n      <td>92391.00</td>\n      <td>10676000</td>\n      <td>115.552381</td>\n      <td>8.654084e+03</td>\n      <td>-0.264551</td>\n    </tr>\n    <tr>\n      <th>189</th>\n      <td>Romania</td>\n      <td>ROU</td>\n      <td>.ro</td>\n      <td>EU</td>\n      <td>Bucharest</td>\n      <td>237500.00</td>\n      <td>21959278</td>\n      <td>92.460118</td>\n      <td>1.081547e+04</td>\n      <td>-0.188513</td>\n    </tr>\n    <tr>\n      <th>190</th>\n      <td>Serbia</td>\n      <td>SRB</td>\n      <td>.rs</td>\n      <td>EU</td>\n      <td>Belgrade</td>\n      <td>88361.00</td>\n      <td>7344847</td>\n      <td>83.123177</td>\n      <td>1.203034e+04</td>\n      <td>-0.266663</td>\n    </tr>\n    <tr>\n      <th>191</th>\n      <td>Russia</td>\n      <td>RUS</td>\n      <td>.ru</td>\n      <td>EU</td>\n      <td>Moscow</td>\n      <td>17100000.00</td>\n      <td>140702000</td>\n      <td>8.228187</td>\n      <td>1.215335e+05</td>\n      <td>8.647571</td>\n    </tr>\n    <tr>\n      <th>198</th>\n      <td>Sweden</td>\n      <td>SWE</td>\n      <td>.se</td>\n      <td>EU</td>\n      <td>Stockholm</td>\n      <td>449964.00</td>\n      <td>9828655</td>\n      <td>21.843203</td>\n      <td>4.578083e+04</td>\n      <td>-0.077180</td>\n    </tr>\n    <tr>\n      <th>201</th>\n      <td>Slovenia</td>\n      <td>SVN</td>\n      <td>.si</td>\n      <td>EU</td>\n      <td>Ljubljana</td>\n      <td>20273.00</td>\n      <td>2007000</td>\n      <td>98.998668</td>\n      <td>1.010115e+04</td>\n      <td>-0.302341</td>\n    </tr>\n    <tr>\n      <th>202</th>\n      <td>Svalbard and Jan Mayen</td>\n      <td>SJM</td>\n      <td>.sj</td>\n      <td>EU</td>\n      <td>Longyearbyen</td>\n      <td>62049.00</td>\n      <td>2550</td>\n      <td>0.041097</td>\n      <td>2.433294e+07</td>\n      <td>-0.280451</td>\n    </tr>\n    <tr>\n      <th>203</th>\n      <td>Slovakia</td>\n      <td>SVK</td>\n      <td>.sk</td>\n      <td>EU</td>\n      <td>Bratislava</td>\n      <td>48845.00</td>\n      <td>5455000</td>\n      <td>111.679803</td>\n      <td>8.954170e+03</td>\n      <td>-0.287370</td>\n    </tr>\n    <tr>\n      <th>205</th>\n      <td>San Marino</td>\n      <td>SMR</td>\n      <td>.sm</td>\n      <td>EU</td>\n      <td>San Marino</td>\n      <td>61.20</td>\n      <td>31477</td>\n      <td>514.330065</td>\n      <td>1.944277e+03</td>\n      <td>-0.312933</td>\n    </tr>\n    <tr>\n      <th>230</th>\n      <td>Ukraine</td>\n      <td>UKR</td>\n      <td>.ua</td>\n      <td>EU</td>\n      <td>Kiev</td>\n      <td>603700.00</td>\n      <td>45415596</td>\n      <td>75.228749</td>\n      <td>1.329279e+04</td>\n      <td>0.003379</td>\n    </tr>\n    <tr>\n      <th>236</th>\n      <td>Vatican</td>\n      <td>VAT</td>\n      <td>.va</td>\n      <td>EU</td>\n      <td>Vatican City</td>\n      <td>0.44</td>\n      <td>921</td>\n      <td>2093.181818</td>\n      <td>4.777416e+02</td>\n      <td>-0.312964</td>\n    </tr>\n  </tbody>\n</table>\n</div>"
     },
     "execution_count": 90,
     "metadata": {},
     "output_type": "execute_result"
    }
   ],
   "source": [
    "country_data[countries_in_EU]"
   ]
  },
  {
   "attachments": {},
   "cell_type": "markdown",
   "metadata": {},
   "source": [
    "Here is another example selecting the data for the *Netherlands*, using that it has the _top-level domain_ `.nl`:"
   ]
  },
  {
   "cell_type": "code",
   "execution_count": 91,
   "metadata": {},
   "outputs": [
    {
     "data": {
      "text/plain": "            name alpha_3  tld continent    capital     area  population  \\\n166  Netherlands     NLD  .nl        EU  Amsterdam  41526.0    16645000   \n\n        density  specific_area  area_zscore  \n166  400.833213    2494.803244    -0.291205  ",
      "text/html": "<div>\n<style scoped>\n    .dataframe tbody tr th:only-of-type {\n        vertical-align: middle;\n    }\n\n    .dataframe tbody tr th {\n        vertical-align: top;\n    }\n\n    .dataframe thead th {\n        text-align: right;\n    }\n</style>\n<table border=\"1\" class=\"dataframe\">\n  <thead>\n    <tr style=\"text-align: right;\">\n      <th></th>\n      <th>name</th>\n      <th>alpha_3</th>\n      <th>tld</th>\n      <th>continent</th>\n      <th>capital</th>\n      <th>area</th>\n      <th>population</th>\n      <th>density</th>\n      <th>specific_area</th>\n      <th>area_zscore</th>\n    </tr>\n  </thead>\n  <tbody>\n    <tr>\n      <th>166</th>\n      <td>Netherlands</td>\n      <td>NLD</td>\n      <td>.nl</td>\n      <td>EU</td>\n      <td>Amsterdam</td>\n      <td>41526.0</td>\n      <td>16645000</td>\n      <td>400.833213</td>\n      <td>2494.803244</td>\n      <td>-0.291205</td>\n    </tr>\n  </tbody>\n</table>\n</div>"
     },
     "execution_count": 91,
     "metadata": {},
     "output_type": "execute_result"
    }
   ],
   "source": [
    "country_data[country_data['tld'] == '.nl']"
   ]
  },
  {
   "attachments": {},
   "cell_type": "markdown",
   "metadata": {},
   "source": [
    "### Boolean Mask for Missing Values\n",
    "\n",
    "The `Series` method **`isnull()`** can be used to create a **Boolean mask\n",
    "for missing values** (these are also known as **not available** (na) or **null values**).\n",
    "\n",
    "Let us check which countries don't have a *top-level domain*:"
   ]
  },
  {
   "cell_type": "code",
   "execution_count": 92,
   "metadata": {},
   "outputs": [
    {
     "data": {
      "text/plain": "            name alpha_3  tld continent   capital      area  population  \\\n122       Kosovo     XKX  NaN        EU  Pristina   10908.0     1800000   \n197  South Sudan     SSD  NaN        AF      Juba  644329.0     8260490   \n\n        density  specific_area  area_zscore  \n122  165.016502    6060.000000    -0.307249  \n197   12.820298   78001.305007     0.024669  ",
      "text/html": "<div>\n<style scoped>\n    .dataframe tbody tr th:only-of-type {\n        vertical-align: middle;\n    }\n\n    .dataframe tbody tr th {\n        vertical-align: top;\n    }\n\n    .dataframe thead th {\n        text-align: right;\n    }\n</style>\n<table border=\"1\" class=\"dataframe\">\n  <thead>\n    <tr style=\"text-align: right;\">\n      <th></th>\n      <th>name</th>\n      <th>alpha_3</th>\n      <th>tld</th>\n      <th>continent</th>\n      <th>capital</th>\n      <th>area</th>\n      <th>population</th>\n      <th>density</th>\n      <th>specific_area</th>\n      <th>area_zscore</th>\n    </tr>\n  </thead>\n  <tbody>\n    <tr>\n      <th>122</th>\n      <td>Kosovo</td>\n      <td>XKX</td>\n      <td>NaN</td>\n      <td>EU</td>\n      <td>Pristina</td>\n      <td>10908.0</td>\n      <td>1800000</td>\n      <td>165.016502</td>\n      <td>6060.000000</td>\n      <td>-0.307249</td>\n    </tr>\n    <tr>\n      <th>197</th>\n      <td>South Sudan</td>\n      <td>SSD</td>\n      <td>NaN</td>\n      <td>AF</td>\n      <td>Juba</td>\n      <td>644329.0</td>\n      <td>8260490</td>\n      <td>12.820298</td>\n      <td>78001.305007</td>\n      <td>0.024669</td>\n    </tr>\n  </tbody>\n</table>\n</div>"
     },
     "execution_count": 92,
     "metadata": {},
     "output_type": "execute_result"
    }
   ],
   "source": [
    "country_data[country_data['tld'].isnull()]"
   ]
  },
  {
   "attachments": {},
   "cell_type": "markdown",
   "metadata": {},
   "source": [
    "### Combining Boolean Masks\n",
    "\n",
    "Boolean masks can be combined into more complex Boolean conditions using the following operators:\n",
    "\n",
    "* **`&`** for **and**\n",
    "* **`|`** for **or**\n",
    "* **`~`** for **not**\n",
    "\n",
    "These operators apply the corresponding logical operator to each row in a data frame or series. For example, let us compute the truth table for the logical expression: not A or B:"
   ]
  },
  {
   "cell_type": "code",
   "execution_count": 93,
   "metadata": {},
   "outputs": [
    {
     "data": {
      "text/plain": "       A      B  A or B  not (A or B)\n0   True   True    True         False\n1   True  False    True         False\n2  False   True    True         False\n3  False  False   False          True",
      "text/html": "<div>\n<style scoped>\n    .dataframe tbody tr th:only-of-type {\n        vertical-align: middle;\n    }\n\n    .dataframe tbody tr th {\n        vertical-align: top;\n    }\n\n    .dataframe thead th {\n        text-align: right;\n    }\n</style>\n<table border=\"1\" class=\"dataframe\">\n  <thead>\n    <tr style=\"text-align: right;\">\n      <th></th>\n      <th>A</th>\n      <th>B</th>\n      <th>A or B</th>\n      <th>not (A or B)</th>\n    </tr>\n  </thead>\n  <tbody>\n    <tr>\n      <th>0</th>\n      <td>True</td>\n      <td>True</td>\n      <td>True</td>\n      <td>False</td>\n    </tr>\n    <tr>\n      <th>1</th>\n      <td>True</td>\n      <td>False</td>\n      <td>True</td>\n      <td>False</td>\n    </tr>\n    <tr>\n      <th>2</th>\n      <td>False</td>\n      <td>True</td>\n      <td>True</td>\n      <td>False</td>\n    </tr>\n    <tr>\n      <th>3</th>\n      <td>False</td>\n      <td>False</td>\n      <td>False</td>\n      <td>True</td>\n    </tr>\n  </tbody>\n</table>\n</div>"
     },
     "execution_count": 93,
     "metadata": {},
     "output_type": "execute_result"
    }
   ],
   "source": [
    "df_truth = pd.DataFrame({'A': [True, True, False, False], 'B': [True, False, True, False]})\n",
    "df_truth['A or B'] = df_truth['A'] | df_truth['B']\n",
    "df_truth['not (A or B)'] = ~(df_truth['A'] | df_truth['B'])\n",
    "df_truth"
   ]
  },
  {
   "attachments": {},
   "cell_type": "markdown",
   "metadata": {},
   "source": [
    "The operators for combining Boolean masks bind stronger than comparison operators, e.g. `df['A'] & df['B'] < 42` is equivalent to `(df['A'] & df['B']) < 42`. Use parentheses to evaluate comparisons first.\n",
    "\n",
    "For example, let us show data for countries with a _population_ of less than one million and\n",
    "an _area_ of more than one hundred thousand square kilometers:\n",
    "\n",
    "> **Note:** the use of underscores in the integers to improve readability. These can be freely placed inside integers without affecting the value. Alternatively we could have used scientific notation, e.g., `1e6`, but note that this would have produced a `float`."
   ]
  },
  {
   "cell_type": "code",
   "execution_count": 94,
   "metadata": {},
   "outputs": [
    {
     "data": {
      "text/plain": "               name alpha_3  tld continent     capital        area  \\\n8        Antarctica     ATA  .aq        AN         NaN  14000000.0   \n65   Western Sahara     ESH  .eh        AF    El-Aaiun    266000.0   \n83        Greenland     GRL  .gl        NM        Nuuk   2166086.0   \n93           Guyana     GUY  .gy        SM  Georgetown    214970.0   \n108         Iceland     ISL  .is        EU   Reykjavik    103000.0   \n208        Suriname     SUR  .sr        SM  Paramaribo    163270.0   \n\n     population   density  specific_area  area_zscore  \n8             0  0.000000            inf     7.023147  \n65       273008  1.026346   9.743304e+05    -0.173579  \n83        56375  0.026026   3.842281e+07     0.822082  \n93       748486  3.481816   2.872064e+05    -0.200319  \n108      308910  2.999126   3.334304e+05    -0.258992  \n208      492829  3.018491   3.312914e+05    -0.227410  ",
      "text/html": "<div>\n<style scoped>\n    .dataframe tbody tr th:only-of-type {\n        vertical-align: middle;\n    }\n\n    .dataframe tbody tr th {\n        vertical-align: top;\n    }\n\n    .dataframe thead th {\n        text-align: right;\n    }\n</style>\n<table border=\"1\" class=\"dataframe\">\n  <thead>\n    <tr style=\"text-align: right;\">\n      <th></th>\n      <th>name</th>\n      <th>alpha_3</th>\n      <th>tld</th>\n      <th>continent</th>\n      <th>capital</th>\n      <th>area</th>\n      <th>population</th>\n      <th>density</th>\n      <th>specific_area</th>\n      <th>area_zscore</th>\n    </tr>\n  </thead>\n  <tbody>\n    <tr>\n      <th>8</th>\n      <td>Antarctica</td>\n      <td>ATA</td>\n      <td>.aq</td>\n      <td>AN</td>\n      <td>NaN</td>\n      <td>14000000.0</td>\n      <td>0</td>\n      <td>0.000000</td>\n      <td>inf</td>\n      <td>7.023147</td>\n    </tr>\n    <tr>\n      <th>65</th>\n      <td>Western Sahara</td>\n      <td>ESH</td>\n      <td>.eh</td>\n      <td>AF</td>\n      <td>El-Aaiun</td>\n      <td>266000.0</td>\n      <td>273008</td>\n      <td>1.026346</td>\n      <td>9.743304e+05</td>\n      <td>-0.173579</td>\n    </tr>\n    <tr>\n      <th>83</th>\n      <td>Greenland</td>\n      <td>GRL</td>\n      <td>.gl</td>\n      <td>NM</td>\n      <td>Nuuk</td>\n      <td>2166086.0</td>\n      <td>56375</td>\n      <td>0.026026</td>\n      <td>3.842281e+07</td>\n      <td>0.822082</td>\n    </tr>\n    <tr>\n      <th>93</th>\n      <td>Guyana</td>\n      <td>GUY</td>\n      <td>.gy</td>\n      <td>SM</td>\n      <td>Georgetown</td>\n      <td>214970.0</td>\n      <td>748486</td>\n      <td>3.481816</td>\n      <td>2.872064e+05</td>\n      <td>-0.200319</td>\n    </tr>\n    <tr>\n      <th>108</th>\n      <td>Iceland</td>\n      <td>ISL</td>\n      <td>.is</td>\n      <td>EU</td>\n      <td>Reykjavik</td>\n      <td>103000.0</td>\n      <td>308910</td>\n      <td>2.999126</td>\n      <td>3.334304e+05</td>\n      <td>-0.258992</td>\n    </tr>\n    <tr>\n      <th>208</th>\n      <td>Suriname</td>\n      <td>SUR</td>\n      <td>.sr</td>\n      <td>SM</td>\n      <td>Paramaribo</td>\n      <td>163270.0</td>\n      <td>492829</td>\n      <td>3.018491</td>\n      <td>3.312914e+05</td>\n      <td>-0.227410</td>\n    </tr>\n  </tbody>\n</table>\n</div>"
     },
     "execution_count": 94,
     "metadata": {},
     "output_type": "execute_result"
    }
   ],
   "source": [
    "country_data[(country_data['population'] < 1_000_000) & (country_data['area'] > 100_000)]"
   ]
  },
  {
   "attachments": {},
   "cell_type": "markdown",
   "metadata": {},
   "source": [
    "### Exercise 10.a\n",
    "\n",
    "Compute a Boolean mask that is `True` for those rows that have `'Kingston'` as *capital*,\n",
    "and assign it to `capital_kingston`."
   ]
  },
  {
   "cell_type": "code",
   "execution_count": 95,
   "metadata": {},
   "outputs": [
    {
     "data": {
      "text/plain": "0      False\n1      False\n2      False\n3      False\n4      False\n       ...  \n246    False\n247    False\n248    False\n249    False\n250    False\nName: capital, Length: 251, dtype: bool"
     },
     "execution_count": 95,
     "metadata": {},
     "output_type": "execute_result"
    }
   ],
   "source": [
    "#// BEGIN_TODO [EDA_10a] Boolean mask for capital Kingston (1 point)\n",
    "\n",
    "capital_kingston = country_data['capital'] == 'Kingston'\n",
    "#// END_TODO [EDA_10a]\n",
    "\n",
    "capital_kingston"
   ]
  },
  {
   "attachments": {},
   "cell_type": "markdown",
   "metadata": {},
   "source": [
    "### Exercise 10.b\n",
    "\n",
    "Show the data for countries with _capital_ `'Kingston'`,\n",
    "using the Boolean mask `capital_kingston` computed earlier:"
   ]
  },
  {
   "cell_type": "code",
   "execution_count": 96,
   "metadata": {},
   "outputs": [
    {
     "data": {
      "text/plain": "               name alpha_3  tld continent   capital     area  population  \\\n111         Jamaica     JAM  .jm        NM  Kingston  10991.0     2847232   \n163  Norfolk Island     NFK  .nf        OC  Kingston     34.6        1828   \n\n        density  specific_area  area_zscore  \n111  259.051224    3860.240402    -0.307205  \n163   52.832370   18927.789934    -0.312947  ",
      "text/html": "<div>\n<style scoped>\n    .dataframe tbody tr th:only-of-type {\n        vertical-align: middle;\n    }\n\n    .dataframe tbody tr th {\n        vertical-align: top;\n    }\n\n    .dataframe thead th {\n        text-align: right;\n    }\n</style>\n<table border=\"1\" class=\"dataframe\">\n  <thead>\n    <tr style=\"text-align: right;\">\n      <th></th>\n      <th>name</th>\n      <th>alpha_3</th>\n      <th>tld</th>\n      <th>continent</th>\n      <th>capital</th>\n      <th>area</th>\n      <th>population</th>\n      <th>density</th>\n      <th>specific_area</th>\n      <th>area_zscore</th>\n    </tr>\n  </thead>\n  <tbody>\n    <tr>\n      <th>111</th>\n      <td>Jamaica</td>\n      <td>JAM</td>\n      <td>.jm</td>\n      <td>NM</td>\n      <td>Kingston</td>\n      <td>10991.0</td>\n      <td>2847232</td>\n      <td>259.051224</td>\n      <td>3860.240402</td>\n      <td>-0.307205</td>\n    </tr>\n    <tr>\n      <th>163</th>\n      <td>Norfolk Island</td>\n      <td>NFK</td>\n      <td>.nf</td>\n      <td>OC</td>\n      <td>Kingston</td>\n      <td>34.6</td>\n      <td>1828</td>\n      <td>52.832370</td>\n      <td>18927.789934</td>\n      <td>-0.312947</td>\n    </tr>\n  </tbody>\n</table>\n</div>"
     },
     "execution_count": 96,
     "metadata": {},
     "output_type": "execute_result"
    }
   ],
   "source": [
    "#// BEGIN_TODO [EDA_10b] Show data for countries with capital Kingston (1 point)\n",
    "\n",
    "country_data[capital_kingston]\n",
    "#// END_TODO [EDA_10b]"
   ]
  },
  {
   "attachments": {},
   "cell_type": "markdown",
   "metadata": {},
   "source": [
    "### Exercise 10.c\n",
    "\n",
    "Compute a boolean mask that is `True` for those rows that have a _population_\n",
    "larger than 100 million.\n",
    "Assign it to the variable `large_population`."
   ]
  },
  {
   "cell_type": "code",
   "execution_count": 97,
   "metadata": {},
   "outputs": [
    {
     "data": {
      "text/plain": "0      False\n1      False\n2      False\n3      False\n4      False\n       ...  \n246    False\n247    False\n248    False\n249    False\n250    False\nName: population, Length: 251, dtype: bool"
     },
     "execution_count": 97,
     "metadata": {},
     "output_type": "execute_result"
    }
   ],
   "source": [
    "#// BEGIN_TODO [EDA_10c] Boolean mask for population larger than 100 million (1 point)\n",
    "\n",
    "large_population = country_data['population'] > 100e6\n",
    "#// END_TODO [EDA_10c]\n",
    "\n",
    "large_population"
   ]
  },
  {
   "attachments": {},
   "cell_type": "markdown",
   "metadata": {},
   "source": [
    "### Exercise 10.d\n",
    "\n",
    "Show the data for countries whose _population_ exceeds 100 million,\n",
    "by using the Boolean mask `large_population` computed earlier:"
   ]
  },
  {
   "cell_type": "code",
   "execution_count": 98,
   "metadata": {},
   "outputs": [
    {
     "data": {
      "text/plain": "              name alpha_3  tld continent      capital        area  \\\n18      Bangladesh     BGD  .bd        AS        Dhaka    144000.0   \n30          Brazil     BRA  .br        SM     Brasilia   8511965.0   \n47           China     CHN  .cn        AS      Beijing   9596960.0   \n100      Indonesia     IDN  .id        AS      Jakarta   1919440.0   \n104          India     IND  .in        AS    New Delhi   3287590.0   \n113          Japan     JPN  .jp        AS        Tokyo    377835.0   \n157         Mexico     MEX  .mx        NM  Mexico City   1972550.0   \n164        Nigeria     NGA  .ng        AF        Abuja    923768.0   \n178       Pakistan     PAK  .pk        AS    Islamabad    803940.0   \n191         Russia     RUS  .ru        EU       Moscow  17100000.0   \n233  United States     USA  .us        NM   Washington   9629091.0   \n\n     population      density  specific_area  area_zscore  \n18    156118464  1084.156000     922.376485    -0.237508  \n30    201103330    23.625958   42326.325477     4.147373  \n47   1330044000   138.590137    7215.520690     4.715919  \n100   242968342   126.582931    7899.959247     0.692837  \n104  1173108018   356.829172    2802.461452     1.409759  \n113   127288000   336.887795    2968.347370    -0.114976  \n157   112468855    57.016986   17538.633251     0.720667  \n164   154000000   166.708524    5998.493506     0.171097  \n178   184404791   229.376310    4359.648118     0.108306  \n191   140702000     8.228187  121533.453682     8.647571  \n233   310232863    32.218292   31038.268825     4.732756  ",
      "text/html": "<div>\n<style scoped>\n    .dataframe tbody tr th:only-of-type {\n        vertical-align: middle;\n    }\n\n    .dataframe tbody tr th {\n        vertical-align: top;\n    }\n\n    .dataframe thead th {\n        text-align: right;\n    }\n</style>\n<table border=\"1\" class=\"dataframe\">\n  <thead>\n    <tr style=\"text-align: right;\">\n      <th></th>\n      <th>name</th>\n      <th>alpha_3</th>\n      <th>tld</th>\n      <th>continent</th>\n      <th>capital</th>\n      <th>area</th>\n      <th>population</th>\n      <th>density</th>\n      <th>specific_area</th>\n      <th>area_zscore</th>\n    </tr>\n  </thead>\n  <tbody>\n    <tr>\n      <th>18</th>\n      <td>Bangladesh</td>\n      <td>BGD</td>\n      <td>.bd</td>\n      <td>AS</td>\n      <td>Dhaka</td>\n      <td>144000.0</td>\n      <td>156118464</td>\n      <td>1084.156000</td>\n      <td>922.376485</td>\n      <td>-0.237508</td>\n    </tr>\n    <tr>\n      <th>30</th>\n      <td>Brazil</td>\n      <td>BRA</td>\n      <td>.br</td>\n      <td>SM</td>\n      <td>Brasilia</td>\n      <td>8511965.0</td>\n      <td>201103330</td>\n      <td>23.625958</td>\n      <td>42326.325477</td>\n      <td>4.147373</td>\n    </tr>\n    <tr>\n      <th>47</th>\n      <td>China</td>\n      <td>CHN</td>\n      <td>.cn</td>\n      <td>AS</td>\n      <td>Beijing</td>\n      <td>9596960.0</td>\n      <td>1330044000</td>\n      <td>138.590137</td>\n      <td>7215.520690</td>\n      <td>4.715919</td>\n    </tr>\n    <tr>\n      <th>100</th>\n      <td>Indonesia</td>\n      <td>IDN</td>\n      <td>.id</td>\n      <td>AS</td>\n      <td>Jakarta</td>\n      <td>1919440.0</td>\n      <td>242968342</td>\n      <td>126.582931</td>\n      <td>7899.959247</td>\n      <td>0.692837</td>\n    </tr>\n    <tr>\n      <th>104</th>\n      <td>India</td>\n      <td>IND</td>\n      <td>.in</td>\n      <td>AS</td>\n      <td>New Delhi</td>\n      <td>3287590.0</td>\n      <td>1173108018</td>\n      <td>356.829172</td>\n      <td>2802.461452</td>\n      <td>1.409759</td>\n    </tr>\n    <tr>\n      <th>113</th>\n      <td>Japan</td>\n      <td>JPN</td>\n      <td>.jp</td>\n      <td>AS</td>\n      <td>Tokyo</td>\n      <td>377835.0</td>\n      <td>127288000</td>\n      <td>336.887795</td>\n      <td>2968.347370</td>\n      <td>-0.114976</td>\n    </tr>\n    <tr>\n      <th>157</th>\n      <td>Mexico</td>\n      <td>MEX</td>\n      <td>.mx</td>\n      <td>NM</td>\n      <td>Mexico City</td>\n      <td>1972550.0</td>\n      <td>112468855</td>\n      <td>57.016986</td>\n      <td>17538.633251</td>\n      <td>0.720667</td>\n    </tr>\n    <tr>\n      <th>164</th>\n      <td>Nigeria</td>\n      <td>NGA</td>\n      <td>.ng</td>\n      <td>AF</td>\n      <td>Abuja</td>\n      <td>923768.0</td>\n      <td>154000000</td>\n      <td>166.708524</td>\n      <td>5998.493506</td>\n      <td>0.171097</td>\n    </tr>\n    <tr>\n      <th>178</th>\n      <td>Pakistan</td>\n      <td>PAK</td>\n      <td>.pk</td>\n      <td>AS</td>\n      <td>Islamabad</td>\n      <td>803940.0</td>\n      <td>184404791</td>\n      <td>229.376310</td>\n      <td>4359.648118</td>\n      <td>0.108306</td>\n    </tr>\n    <tr>\n      <th>191</th>\n      <td>Russia</td>\n      <td>RUS</td>\n      <td>.ru</td>\n      <td>EU</td>\n      <td>Moscow</td>\n      <td>17100000.0</td>\n      <td>140702000</td>\n      <td>8.228187</td>\n      <td>121533.453682</td>\n      <td>8.647571</td>\n    </tr>\n    <tr>\n      <th>233</th>\n      <td>United States</td>\n      <td>USA</td>\n      <td>.us</td>\n      <td>NM</td>\n      <td>Washington</td>\n      <td>9629091.0</td>\n      <td>310232863</td>\n      <td>32.218292</td>\n      <td>31038.268825</td>\n      <td>4.732756</td>\n    </tr>\n  </tbody>\n</table>\n</div>"
     },
     "execution_count": 98,
     "metadata": {},
     "output_type": "execute_result"
    }
   ],
   "source": [
    "#// BEGIN_TODO [EDA_10d] Show data for countries with large population (1 point)\n",
    "\n",
    "country_data[large_population]\n",
    "#// END_TODO [EDA_10d]"
   ]
  },
  {
   "attachments": {},
   "cell_type": "markdown",
   "metadata": {
    "tags": []
   },
   "source": [
    "### Exercise 10.e\n",
    "\n",
    "Show the data for countries for which the _capital_ is missing in the data set.  \n",
    "\n",
    "<span class=\"t\">Hint<span class=\"c\">:</span></span>\n",
    "<span class=\"h\">\n",
    "Use `isnull()` to construct an appropriate _Boolean mask_.\n",
    "</span>"
   ]
  },
  {
   "cell_type": "code",
   "execution_count": 99,
   "metadata": {},
   "outputs": [
    {
     "data": {
      "text/plain": "                                     name alpha_3  tld continent capital  \\\n8                              Antarctica     ATA  .aq        AN     NaN   \n29     Bonaire, Saint Eustatius and Saba      BES  .bq        NM     NaN   \n33                          Bouvet Island     BVT  .bv        AN     NaN   \n95      Heard Island and McDonald Islands     HMD  .hm        AN     NaN   \n220                               Tokelau     TKL  .tk        OC     NaN   \n232  United States Minor Outlying Islands     UMI  .um        OC     NaN   \n\n           area  population     density  specific_area  area_zscore  \n8    14000000.0           0    0.000000            inf     7.023147  \n29        328.0       18012   54.914634   1.821008e+04    -0.312793  \n33         49.0           0    0.000000            inf    -0.312939  \n95        412.0           0    0.000000            inf    -0.312749  \n220        10.0        1466  146.600000   6.821282e+03    -0.312959  \n232         0.0           0         NaN            NaN    -0.312965  ",
      "text/html": "<div>\n<style scoped>\n    .dataframe tbody tr th:only-of-type {\n        vertical-align: middle;\n    }\n\n    .dataframe tbody tr th {\n        vertical-align: top;\n    }\n\n    .dataframe thead th {\n        text-align: right;\n    }\n</style>\n<table border=\"1\" class=\"dataframe\">\n  <thead>\n    <tr style=\"text-align: right;\">\n      <th></th>\n      <th>name</th>\n      <th>alpha_3</th>\n      <th>tld</th>\n      <th>continent</th>\n      <th>capital</th>\n      <th>area</th>\n      <th>population</th>\n      <th>density</th>\n      <th>specific_area</th>\n      <th>area_zscore</th>\n    </tr>\n  </thead>\n  <tbody>\n    <tr>\n      <th>8</th>\n      <td>Antarctica</td>\n      <td>ATA</td>\n      <td>.aq</td>\n      <td>AN</td>\n      <td>NaN</td>\n      <td>14000000.0</td>\n      <td>0</td>\n      <td>0.000000</td>\n      <td>inf</td>\n      <td>7.023147</td>\n    </tr>\n    <tr>\n      <th>29</th>\n      <td>Bonaire, Saint Eustatius and Saba</td>\n      <td>BES</td>\n      <td>.bq</td>\n      <td>NM</td>\n      <td>NaN</td>\n      <td>328.0</td>\n      <td>18012</td>\n      <td>54.914634</td>\n      <td>1.821008e+04</td>\n      <td>-0.312793</td>\n    </tr>\n    <tr>\n      <th>33</th>\n      <td>Bouvet Island</td>\n      <td>BVT</td>\n      <td>.bv</td>\n      <td>AN</td>\n      <td>NaN</td>\n      <td>49.0</td>\n      <td>0</td>\n      <td>0.000000</td>\n      <td>inf</td>\n      <td>-0.312939</td>\n    </tr>\n    <tr>\n      <th>95</th>\n      <td>Heard Island and McDonald Islands</td>\n      <td>HMD</td>\n      <td>.hm</td>\n      <td>AN</td>\n      <td>NaN</td>\n      <td>412.0</td>\n      <td>0</td>\n      <td>0.000000</td>\n      <td>inf</td>\n      <td>-0.312749</td>\n    </tr>\n    <tr>\n      <th>220</th>\n      <td>Tokelau</td>\n      <td>TKL</td>\n      <td>.tk</td>\n      <td>OC</td>\n      <td>NaN</td>\n      <td>10.0</td>\n      <td>1466</td>\n      <td>146.600000</td>\n      <td>6.821282e+03</td>\n      <td>-0.312959</td>\n    </tr>\n    <tr>\n      <th>232</th>\n      <td>United States Minor Outlying Islands</td>\n      <td>UMI</td>\n      <td>.um</td>\n      <td>OC</td>\n      <td>NaN</td>\n      <td>0.0</td>\n      <td>0</td>\n      <td>NaN</td>\n      <td>NaN</td>\n      <td>-0.312965</td>\n    </tr>\n  </tbody>\n</table>\n</div>"
     },
     "execution_count": 99,
     "metadata": {},
     "output_type": "execute_result"
    }
   ],
   "source": [
    "#// BEGIN_TODO [EDA_10e] Show data for countries whose capital is missing (1 point)\n",
    "\n",
    "country_data[country_data['capital'].isnull()]\n",
    "#// END_TODO [EDA_10e]"
   ]
  },
  {
   "attachments": {},
   "cell_type": "markdown",
   "metadata": {},
   "source": [
    "### Exercise 10.f\n",
    "\n",
    "Show data for those countries in _Europe_ that have a _population_ between ten and twenty million (inclusive) as cell output.  \n",
    "\n",
    "<span class=\"t\">Hint<span class=\"c\">:</span></span>\n",
    "<span class=\"h\">\n",
    "First compute three separate boolean masks: <code>countries_in_EU</code> for 'in Europe', <code>pop_more_10M</code> for 'population at least ten million', <code>pop_less_20M</code> for 'population at most twenty million'. Then combine them into one boolean mask using `&`.\n",
    "</span>"
   ]
  },
  {
   "cell_type": "code",
   "execution_count": 100,
   "metadata": {},
   "outputs": [
    {
     "data": {
      "text/plain": "            name alpha_3  tld continent    capital      area  population  \\\n19       Belgium     BEL  .be        EU   Brussels   30510.0    10403000   \n55       Czechia     CZE  .cz        EU     Prague   78866.0    10476000   \n88        Greece     GRC  .gr        EU     Athens  131940.0    11000000   \n166  Netherlands     NLD  .nl        EU  Amsterdam   41526.0    16645000   \n184     Portugal     PRT  .pt        EU     Lisbon   92391.0    10676000   \n\n        density  specific_area  area_zscore  \n19   340.970174    2932.807844    -0.296977  \n55   132.832906    7528.255059    -0.271638  \n88    83.371229   11994.545455    -0.243827  \n166  400.833213    2494.803244    -0.291205  \n184  115.552381    8654.083927    -0.264551  ",
      "text/html": "<div>\n<style scoped>\n    .dataframe tbody tr th:only-of-type {\n        vertical-align: middle;\n    }\n\n    .dataframe tbody tr th {\n        vertical-align: top;\n    }\n\n    .dataframe thead th {\n        text-align: right;\n    }\n</style>\n<table border=\"1\" class=\"dataframe\">\n  <thead>\n    <tr style=\"text-align: right;\">\n      <th></th>\n      <th>name</th>\n      <th>alpha_3</th>\n      <th>tld</th>\n      <th>continent</th>\n      <th>capital</th>\n      <th>area</th>\n      <th>population</th>\n      <th>density</th>\n      <th>specific_area</th>\n      <th>area_zscore</th>\n    </tr>\n  </thead>\n  <tbody>\n    <tr>\n      <th>19</th>\n      <td>Belgium</td>\n      <td>BEL</td>\n      <td>.be</td>\n      <td>EU</td>\n      <td>Brussels</td>\n      <td>30510.0</td>\n      <td>10403000</td>\n      <td>340.970174</td>\n      <td>2932.807844</td>\n      <td>-0.296977</td>\n    </tr>\n    <tr>\n      <th>55</th>\n      <td>Czechia</td>\n      <td>CZE</td>\n      <td>.cz</td>\n      <td>EU</td>\n      <td>Prague</td>\n      <td>78866.0</td>\n      <td>10476000</td>\n      <td>132.832906</td>\n      <td>7528.255059</td>\n      <td>-0.271638</td>\n    </tr>\n    <tr>\n      <th>88</th>\n      <td>Greece</td>\n      <td>GRC</td>\n      <td>.gr</td>\n      <td>EU</td>\n      <td>Athens</td>\n      <td>131940.0</td>\n      <td>11000000</td>\n      <td>83.371229</td>\n      <td>11994.545455</td>\n      <td>-0.243827</td>\n    </tr>\n    <tr>\n      <th>166</th>\n      <td>Netherlands</td>\n      <td>NLD</td>\n      <td>.nl</td>\n      <td>EU</td>\n      <td>Amsterdam</td>\n      <td>41526.0</td>\n      <td>16645000</td>\n      <td>400.833213</td>\n      <td>2494.803244</td>\n      <td>-0.291205</td>\n    </tr>\n    <tr>\n      <th>184</th>\n      <td>Portugal</td>\n      <td>PRT</td>\n      <td>.pt</td>\n      <td>EU</td>\n      <td>Lisbon</td>\n      <td>92391.0</td>\n      <td>10676000</td>\n      <td>115.552381</td>\n      <td>8654.083927</td>\n      <td>-0.264551</td>\n    </tr>\n  </tbody>\n</table>\n</div>"
     },
     "execution_count": 100,
     "metadata": {},
     "output_type": "execute_result"
    }
   ],
   "source": [
    "#// BEGIN_TODO [EDA_10f] Population between ten and twenty million (1 point)\n",
    "\n",
    "countries_in_EU = country_data['continent'] == 'EU'\n",
    "pop_more_10M = country_data['population'] >= 10e6\n",
    "pop_less_20M = country_data['population'] <= 20e6\n",
    "country_data[countries_in_EU & pop_more_10M & pop_less_20M]\n",
    "#// END_TODO [EDA_10f]"
   ]
  },
  {
   "attachments": {},
   "cell_type": "markdown",
   "metadata": {},
   "source": [
    "## 11. Grouping Rows in a `DataFrame`"
   ]
  },
  {
   "attachments": {},
   "cell_type": "markdown",
   "metadata": {},
   "source": [
    "By sorting a data frame,\n",
    "you can bring items with the same value together.\n",
    "But this is not good enough to gather statistics\n",
    "about groups of equal values.\n",
    "\n",
    "Take for instance the `country_data` data frame.\n",
    "What about the total _population_ and _area_ per *continent*?\n",
    "\n",
    "That is where **grouping** comes in.\n",
    "First, we create a so-called `GroupBy` object\n",
    "from the data frame,\n",
    "using the method **`groupby()`**\n",
    "with the column label(s) to group by as an argument.\n",
    "\n",
    "This is how you group the country data by *continent*\n",
    "and assign the `GroupBy` object to the variable `grouped`."
   ]
  },
  {
   "cell_type": "code",
   "execution_count": 101,
   "metadata": {},
   "outputs": [],
   "source": [
    "grouped = country_data.groupby('continent')"
   ]
  },
  {
   "attachments": {},
   "cell_type": "markdown",
   "metadata": {},
   "source": [
    "The **`groups`** attribute of the `GroupBy` object\n",
    "shows for each continent which rows concern that continent:"
   ]
  },
  {
   "cell_type": "code",
   "execution_count": 102,
   "metadata": {},
   "outputs": [
    {
     "data": {
      "text/plain": "{'AF': [7, 20, 23, 24, 34, 39, 40, 41, 43, 46, 51, 57, 61, 64, 65, 66, 68, 75, 81, 84, 85, 87, 92, 114, 118, 131, 132, 136, 137, 142, 145, 151, 154, 156, 159, 160, 162, 164, 188, 192, 195, 196, 197, 200, 204, 206, 207, 209, 213, 215, 217, 223, 229, 231, 246, 247, 248, 249], 'AN': [8, 33, 89, 95, 216], 'AS': [1, 2, 6, 15, 18, 22, 27, 32, 38, 47, 53, 78, 94, 100, 102, 104, 105, 106, 107, 112, 113, 115, 116, 120, 121, 123, 125, 126, 127, 130, 146, 147, 148, 155, 158, 168, 172, 177, 178, 183, 187, 193, 199, 212, 218, 219, 222, 225, 228, 235, 241, 245], 'EU': [0, 5, 11, 14, 16, 19, 21, 35, 42, 54, 55, 56, 58, 63, 67, 69, 73, 74, 76, 80, 82, 88, 97, 99, 101, 103, 108, 109, 110, 122, 129, 133, 134, 135, 138, 139, 140, 144, 153, 166, 167, 179, 184, 189, 190, 191, 198, 201, 202, 203, 205, 230, 236], 'NM': [3, 4, 13, 17, 25, 26, 29, 31, 36, 37, 49, 50, 52, 59, 60, 77, 83, 86, 90, 96, 98, 111, 119, 124, 128, 141, 150, 152, 157, 165, 173, 180, 182, 210, 211, 214, 226, 233, 237, 239, 240, 250], 'OC': [10, 12, 44, 70, 72, 91, 117, 143, 149, 161, 163, 169, 170, 171, 175, 176, 181, 185, 194, 220, 221, 224, 227, 232, 242, 243, 244], 'SM': [9, 28, 30, 45, 48, 62, 71, 79, 93, 174, 186, 208, 234, 238]}"
     },
     "execution_count": 102,
     "metadata": {},
     "output_type": "execute_result"
    }
   ],
   "source": [
    "grouped.groups"
   ]
  },
  {
   "attachments": {},
   "cell_type": "markdown",
   "metadata": {},
   "source": [
    "> Note that Australia and New Zealand are apparently put under Oceania,\n",
    "> since there is no separate continent `AU`."
   ]
  },
  {
   "attachments": {},
   "cell_type": "markdown",
   "metadata": {},
   "source": [
    "The `GroupBy` object can be treated like a `DataFrame` in a number of ways.\n",
    "\n",
    "For instance, this is how you get the summary statistics for _area_ per _continent_:"
   ]
  },
  {
   "cell_type": "code",
   "execution_count": 103,
   "metadata": {},
   "outputs": [
    {
     "data": {
      "text/plain": "           count          mean           std       min        25%       50%  \\\ncontinent                                                                     \nAF          58.0  5.234534e+05  5.956923e+05    374.00   31796.25  270933.5   \nAN           5.0  2.802439e+06  6.259628e+06     49.00     412.00    3903.0   \nAS          52.0  6.077544e+05  1.454325e+06     14.00   20032.50  143550.0   \nEU          53.0  4.354706e+05  2.338187e+06      0.44    9250.00   51129.0   \nNM          42.0  5.836313e+05  2.134253e+06     21.00     278.50     857.0   \nOC          27.0  3.156854e+05  1.476550e+06      0.00     190.15     549.0   \nSM          14.0  1.272751e+06  2.207496e+06  12173.00  185907.50  581850.0   \n\n                 75%         max  \ncontinent                         \nAF          819461.0   2381740.0  \nAN            7829.0  14000000.0  \nAS          494575.0   9596960.0  \nEU          131940.0  17100000.0  \nNM           43485.0   9984670.0  \nOC           13603.5   7686850.0  \nSM         1128827.5   8511965.0  ",
      "text/html": "<div>\n<style scoped>\n    .dataframe tbody tr th:only-of-type {\n        vertical-align: middle;\n    }\n\n    .dataframe tbody tr th {\n        vertical-align: top;\n    }\n\n    .dataframe thead th {\n        text-align: right;\n    }\n</style>\n<table border=\"1\" class=\"dataframe\">\n  <thead>\n    <tr style=\"text-align: right;\">\n      <th></th>\n      <th>count</th>\n      <th>mean</th>\n      <th>std</th>\n      <th>min</th>\n      <th>25%</th>\n      <th>50%</th>\n      <th>75%</th>\n      <th>max</th>\n    </tr>\n    <tr>\n      <th>continent</th>\n      <th></th>\n      <th></th>\n      <th></th>\n      <th></th>\n      <th></th>\n      <th></th>\n      <th></th>\n      <th></th>\n    </tr>\n  </thead>\n  <tbody>\n    <tr>\n      <th>AF</th>\n      <td>58.0</td>\n      <td>5.234534e+05</td>\n      <td>5.956923e+05</td>\n      <td>374.00</td>\n      <td>31796.25</td>\n      <td>270933.5</td>\n      <td>819461.0</td>\n      <td>2381740.0</td>\n    </tr>\n    <tr>\n      <th>AN</th>\n      <td>5.0</td>\n      <td>2.802439e+06</td>\n      <td>6.259628e+06</td>\n      <td>49.00</td>\n      <td>412.00</td>\n      <td>3903.0</td>\n      <td>7829.0</td>\n      <td>14000000.0</td>\n    </tr>\n    <tr>\n      <th>AS</th>\n      <td>52.0</td>\n      <td>6.077544e+05</td>\n      <td>1.454325e+06</td>\n      <td>14.00</td>\n      <td>20032.50</td>\n      <td>143550.0</td>\n      <td>494575.0</td>\n      <td>9596960.0</td>\n    </tr>\n    <tr>\n      <th>EU</th>\n      <td>53.0</td>\n      <td>4.354706e+05</td>\n      <td>2.338187e+06</td>\n      <td>0.44</td>\n      <td>9250.00</td>\n      <td>51129.0</td>\n      <td>131940.0</td>\n      <td>17100000.0</td>\n    </tr>\n    <tr>\n      <th>NM</th>\n      <td>42.0</td>\n      <td>5.836313e+05</td>\n      <td>2.134253e+06</td>\n      <td>21.00</td>\n      <td>278.50</td>\n      <td>857.0</td>\n      <td>43485.0</td>\n      <td>9984670.0</td>\n    </tr>\n    <tr>\n      <th>OC</th>\n      <td>27.0</td>\n      <td>3.156854e+05</td>\n      <td>1.476550e+06</td>\n      <td>0.00</td>\n      <td>190.15</td>\n      <td>549.0</td>\n      <td>13603.5</td>\n      <td>7686850.0</td>\n    </tr>\n    <tr>\n      <th>SM</th>\n      <td>14.0</td>\n      <td>1.272751e+06</td>\n      <td>2.207496e+06</td>\n      <td>12173.00</td>\n      <td>185907.50</td>\n      <td>581850.0</td>\n      <td>1128827.5</td>\n      <td>8511965.0</td>\n    </tr>\n  </tbody>\n</table>\n</div>"
     },
     "execution_count": 103,
     "metadata": {},
     "output_type": "execute_result"
    }
   ],
   "source": [
    "grouped['area'].describe()"
   ]
  },
  {
   "attachments": {},
   "cell_type": "markdown",
   "metadata": {},
   "source": [
    "You can compute separate summary statistics for particular columns using one of several aggregation methods like **`.sum()`**, **`.mean()`**, **`.min()`**, or **`.median()`** (see the section on *Summary Statistics* earlier for more aggregation functions). For example, this is how you get total _population_ and _area_ per *continent*:"
   ]
  },
  {
   "cell_type": "code",
   "execution_count": 104,
   "metadata": {},
   "outputs": [
    {
     "data": {
      "text/plain": "           population         area\ncontinent                         \nAF         1016879730  30360296.00\nAN                170  14012193.00\nAS         4130586341  31603228.70\nEU          739141025  23079944.09\nNM          540105043  24512514.00\nOC           36066049   8523505.90\nSM          400143568  17818508.00",
      "text/html": "<div>\n<style scoped>\n    .dataframe tbody tr th:only-of-type {\n        vertical-align: middle;\n    }\n\n    .dataframe tbody tr th {\n        vertical-align: top;\n    }\n\n    .dataframe thead th {\n        text-align: right;\n    }\n</style>\n<table border=\"1\" class=\"dataframe\">\n  <thead>\n    <tr style=\"text-align: right;\">\n      <th></th>\n      <th>population</th>\n      <th>area</th>\n    </tr>\n    <tr>\n      <th>continent</th>\n      <th></th>\n      <th></th>\n    </tr>\n  </thead>\n  <tbody>\n    <tr>\n      <th>AF</th>\n      <td>1016879730</td>\n      <td>30360296.00</td>\n    </tr>\n    <tr>\n      <th>AN</th>\n      <td>170</td>\n      <td>14012193.00</td>\n    </tr>\n    <tr>\n      <th>AS</th>\n      <td>4130586341</td>\n      <td>31603228.70</td>\n    </tr>\n    <tr>\n      <th>EU</th>\n      <td>739141025</td>\n      <td>23079944.09</td>\n    </tr>\n    <tr>\n      <th>NM</th>\n      <td>540105043</td>\n      <td>24512514.00</td>\n    </tr>\n    <tr>\n      <th>OC</th>\n      <td>36066049</td>\n      <td>8523505.90</td>\n    </tr>\n    <tr>\n      <th>SM</th>\n      <td>400143568</td>\n      <td>17818508.00</td>\n    </tr>\n  </tbody>\n</table>\n</div>"
     },
     "execution_count": 104,
     "metadata": {},
     "output_type": "execute_result"
    }
   ],
   "source": [
    "grouped[['population', 'area']].sum()"
   ]
  },
  {
   "attachments": {},
   "cell_type": "markdown",
   "metadata": {},
   "source": [
    "You can also aggregate several quantities at once using **`.agg()`** by providing a dictionary as an argument, containing the column names as keys and lists of quantities as values. For example, this is how to compute the mean and median population and the largest area:"
   ]
  },
  {
   "cell_type": "code",
   "execution_count": 105,
   "metadata": {},
   "outputs": [
    {
     "data": {
      "text/plain": "             population                    area\n                   mean      median         max\ncontinent                                      \nAF         1.753241e+07   9987785.0   2381740.0\nAN         3.400000e+01         0.0  14000000.0\nAS         7.943435e+07  11378596.0   9596960.0\nEU         1.394606e+07   4590000.0  17100000.0\nNM         1.285964e+07    223287.5   9984670.0\nOC         1.335780e+06     92533.0   7686850.0\nSM         2.858168e+07  12369013.0   8511965.0",
      "text/html": "<div>\n<style scoped>\n    .dataframe tbody tr th:only-of-type {\n        vertical-align: middle;\n    }\n\n    .dataframe tbody tr th {\n        vertical-align: top;\n    }\n\n    .dataframe thead tr th {\n        text-align: left;\n    }\n\n    .dataframe thead tr:last-of-type th {\n        text-align: right;\n    }\n</style>\n<table border=\"1\" class=\"dataframe\">\n  <thead>\n    <tr>\n      <th></th>\n      <th colspan=\"2\" halign=\"left\">population</th>\n      <th>area</th>\n    </tr>\n    <tr>\n      <th></th>\n      <th>mean</th>\n      <th>median</th>\n      <th>max</th>\n    </tr>\n    <tr>\n      <th>continent</th>\n      <th></th>\n      <th></th>\n      <th></th>\n    </tr>\n  </thead>\n  <tbody>\n    <tr>\n      <th>AF</th>\n      <td>1.753241e+07</td>\n      <td>9987785.0</td>\n      <td>2381740.0</td>\n    </tr>\n    <tr>\n      <th>AN</th>\n      <td>3.400000e+01</td>\n      <td>0.0</td>\n      <td>14000000.0</td>\n    </tr>\n    <tr>\n      <th>AS</th>\n      <td>7.943435e+07</td>\n      <td>11378596.0</td>\n      <td>9596960.0</td>\n    </tr>\n    <tr>\n      <th>EU</th>\n      <td>1.394606e+07</td>\n      <td>4590000.0</td>\n      <td>17100000.0</td>\n    </tr>\n    <tr>\n      <th>NM</th>\n      <td>1.285964e+07</td>\n      <td>223287.5</td>\n      <td>9984670.0</td>\n    </tr>\n    <tr>\n      <th>OC</th>\n      <td>1.335780e+06</td>\n      <td>92533.0</td>\n      <td>7686850.0</td>\n    </tr>\n    <tr>\n      <th>SM</th>\n      <td>2.858168e+07</td>\n      <td>12369013.0</td>\n      <td>8511965.0</td>\n    </tr>\n  </tbody>\n</table>\n</div>"
     },
     "execution_count": 105,
     "metadata": {},
     "output_type": "execute_result"
    }
   ],
   "source": [
    "grouped.agg({'population' : ['mean', 'median'], 'area' : ['max']})"
   ]
  },
  {
   "attachments": {},
   "cell_type": "markdown",
   "metadata": {},
   "source": [
    "Note that this creates a data frame whose **columns** are a `MultiIndex` with two levels."
   ]
  },
  {
   "attachments": {},
   "cell_type": "markdown",
   "metadata": {},
   "source": [
    "By passing more than one column label to the `groupby()` method (as a list), you can group the data based on multiple columns at the same time. When computing summary statistics for such a `GroupBy` object the resulting data frame has a `MultiIndex` as its index. For example,"
   ]
  },
  {
   "cell_type": "code",
   "execution_count": 106,
   "metadata": {},
   "outputs": [
    {
     "data": {
      "text/plain": "                        area  population     density  specific_area  \\\ncontinent alpha_3                                                     \nAF        AGO      1246700.0  13068161.0   10.482202   95399.804150   \n          BDI        27830.0   9863117.0  354.405929    2821.623225   \n          BEN       112620.0   9056010.0   80.412094   12435.940331   \n          BFA       274200.0  16241811.0   59.233446   16882.353821   \n          BWA       600370.0   2029307.0    3.380094  295849.765462   \n\n                   area_zscore  \ncontinent alpha_3               \nAF        AGO         0.340316  \n          BDI        -0.298382  \n          BEN        -0.253951  \n          BFA        -0.169282  \n          BWA         0.001634  ",
      "text/html": "<div>\n<style scoped>\n    .dataframe tbody tr th:only-of-type {\n        vertical-align: middle;\n    }\n\n    .dataframe tbody tr th {\n        vertical-align: top;\n    }\n\n    .dataframe thead th {\n        text-align: right;\n    }\n</style>\n<table border=\"1\" class=\"dataframe\">\n  <thead>\n    <tr style=\"text-align: right;\">\n      <th></th>\n      <th></th>\n      <th>area</th>\n      <th>population</th>\n      <th>density</th>\n      <th>specific_area</th>\n      <th>area_zscore</th>\n    </tr>\n    <tr>\n      <th>continent</th>\n      <th>alpha_3</th>\n      <th></th>\n      <th></th>\n      <th></th>\n      <th></th>\n      <th></th>\n    </tr>\n  </thead>\n  <tbody>\n    <tr>\n      <th rowspan=\"5\" valign=\"top\">AF</th>\n      <th>AGO</th>\n      <td>1246700.0</td>\n      <td>13068161.0</td>\n      <td>10.482202</td>\n      <td>95399.804150</td>\n      <td>0.340316</td>\n    </tr>\n    <tr>\n      <th>BDI</th>\n      <td>27830.0</td>\n      <td>9863117.0</td>\n      <td>354.405929</td>\n      <td>2821.623225</td>\n      <td>-0.298382</td>\n    </tr>\n    <tr>\n      <th>BEN</th>\n      <td>112620.0</td>\n      <td>9056010.0</td>\n      <td>80.412094</td>\n      <td>12435.940331</td>\n      <td>-0.253951</td>\n    </tr>\n    <tr>\n      <th>BFA</th>\n      <td>274200.0</td>\n      <td>16241811.0</td>\n      <td>59.233446</td>\n      <td>16882.353821</td>\n      <td>-0.169282</td>\n    </tr>\n    <tr>\n      <th>BWA</th>\n      <td>600370.0</td>\n      <td>2029307.0</td>\n      <td>3.380094</td>\n      <td>295849.765462</td>\n      <td>0.001634</td>\n    </tr>\n  </tbody>\n</table>\n</div>"
     },
     "execution_count": 106,
     "metadata": {},
     "output_type": "execute_result"
    }
   ],
   "source": [
    "country_data.groupby(['continent', 'alpha_3']).mean(numeric_only=True).head()"
   ]
  },
  {
   "attachments": {},
   "cell_type": "markdown",
   "metadata": {},
   "source": [
    "computes the mean of the numeric columns for each (`continent`, `alpha_3`)-pair. Since the `alpha_3` code is a unique identifier for each country these computed averages are simply the values for the corresponding countries (as they are averages over sets of size 1). The effect of this operation is thus, in this case, exactly the same as setting the index of the dataframe as follows"
   ]
  },
  {
   "cell_type": "code",
   "execution_count": 107,
   "metadata": {},
   "outputs": [
    {
     "data": {
      "text/plain": "                           name  tld      capital       area  population  \\\ncontinent alpha_3                                                          \nAF        AGO            Angola  .ao       Luanda  1246700.0    13068161   \n          BDI           Burundi  .bi    Bujumbura    27830.0     9863117   \n          BEN             Benin  .bj   Porto-Novo   112620.0     9056010   \n          BFA      Burkina Faso  .bf  Ouagadougou   274200.0    16241811   \n          BWA          Botswana  .bw     Gaborone   600370.0     2029307   \n\n                      density  specific_area  area_zscore  \ncontinent alpha_3                                          \nAF        AGO       10.482202   95399.804150     0.340316  \n          BDI      354.405929    2821.623225    -0.298382  \n          BEN       80.412094   12435.940331    -0.253951  \n          BFA       59.233446   16882.353821    -0.169282  \n          BWA        3.380094  295849.765462     0.001634  ",
      "text/html": "<div>\n<style scoped>\n    .dataframe tbody tr th:only-of-type {\n        vertical-align: middle;\n    }\n\n    .dataframe tbody tr th {\n        vertical-align: top;\n    }\n\n    .dataframe thead th {\n        text-align: right;\n    }\n</style>\n<table border=\"1\" class=\"dataframe\">\n  <thead>\n    <tr style=\"text-align: right;\">\n      <th></th>\n      <th></th>\n      <th>name</th>\n      <th>tld</th>\n      <th>capital</th>\n      <th>area</th>\n      <th>population</th>\n      <th>density</th>\n      <th>specific_area</th>\n      <th>area_zscore</th>\n    </tr>\n    <tr>\n      <th>continent</th>\n      <th>alpha_3</th>\n      <th></th>\n      <th></th>\n      <th></th>\n      <th></th>\n      <th></th>\n      <th></th>\n      <th></th>\n      <th></th>\n    </tr>\n  </thead>\n  <tbody>\n    <tr>\n      <th rowspan=\"5\" valign=\"top\">AF</th>\n      <th>AGO</th>\n      <td>Angola</td>\n      <td>.ao</td>\n      <td>Luanda</td>\n      <td>1246700.0</td>\n      <td>13068161</td>\n      <td>10.482202</td>\n      <td>95399.804150</td>\n      <td>0.340316</td>\n    </tr>\n    <tr>\n      <th>BDI</th>\n      <td>Burundi</td>\n      <td>.bi</td>\n      <td>Bujumbura</td>\n      <td>27830.0</td>\n      <td>9863117</td>\n      <td>354.405929</td>\n      <td>2821.623225</td>\n      <td>-0.298382</td>\n    </tr>\n    <tr>\n      <th>BEN</th>\n      <td>Benin</td>\n      <td>.bj</td>\n      <td>Porto-Novo</td>\n      <td>112620.0</td>\n      <td>9056010</td>\n      <td>80.412094</td>\n      <td>12435.940331</td>\n      <td>-0.253951</td>\n    </tr>\n    <tr>\n      <th>BFA</th>\n      <td>Burkina Faso</td>\n      <td>.bf</td>\n      <td>Ouagadougou</td>\n      <td>274200.0</td>\n      <td>16241811</td>\n      <td>59.233446</td>\n      <td>16882.353821</td>\n      <td>-0.169282</td>\n    </tr>\n    <tr>\n      <th>BWA</th>\n      <td>Botswana</td>\n      <td>.bw</td>\n      <td>Gaborone</td>\n      <td>600370.0</td>\n      <td>2029307</td>\n      <td>3.380094</td>\n      <td>295849.765462</td>\n      <td>0.001634</td>\n    </tr>\n  </tbody>\n</table>\n</div>"
     },
     "execution_count": 107,
     "metadata": {},
     "output_type": "execute_result"
    }
   ],
   "source": [
    "country_data.set_index(['continent', 'alpha_3']).sort_index().head()"
   ]
  },
  {
   "attachments": {},
   "cell_type": "markdown",
   "metadata": {},
   "source": [
    "### Exercise 11.a\n",
    "\n",
    "Show the summary statistics for _population_ per _continent_ (reuse the variable `grouped` defined above)."
   ]
  },
  {
   "cell_type": "code",
   "execution_count": 108,
   "metadata": {},
   "outputs": [
    {
     "data": {
      "text/plain": "           count          mean           std     min         25%         50%  \\\ncontinent                                                                      \nAF          58.0  1.753241e+07  2.663389e+07  7460.0  1674830.00   9987785.0   \nAN           5.0  3.400000e+01  6.066300e+01     0.0        0.00         0.0   \nAS          52.0  7.943435e+07  2.424824e+08   628.0  3621729.50  11378596.0   \nEU          53.0  1.394606e+07  2.615535e+07   921.0   403000.00   4590000.0   \nNM          42.0  1.285964e+07  5.031131e+07  7012.0    52444.25    223287.5   \nOC          27.0  1.335780e+06  4.262102e+06     0.0    13248.50     92533.0   \nSM          14.0  2.858168e+07  5.209916e+07  2638.0  1430614.50  12369013.0   \n\n                   75%           max  \ncontinent                             \nAF         20617635.75  1.540000e+08  \nAN               30.00  1.400000e+02  \nAS         34359364.75  1.330044e+09  \nEU         10403000.00  1.407020e+08  \nNM          4366323.00  3.102329e+08  \nOC           246018.50  2.151575e+07  \nSM         29236059.25  2.011033e+08  ",
      "text/html": "<div>\n<style scoped>\n    .dataframe tbody tr th:only-of-type {\n        vertical-align: middle;\n    }\n\n    .dataframe tbody tr th {\n        vertical-align: top;\n    }\n\n    .dataframe thead th {\n        text-align: right;\n    }\n</style>\n<table border=\"1\" class=\"dataframe\">\n  <thead>\n    <tr style=\"text-align: right;\">\n      <th></th>\n      <th>count</th>\n      <th>mean</th>\n      <th>std</th>\n      <th>min</th>\n      <th>25%</th>\n      <th>50%</th>\n      <th>75%</th>\n      <th>max</th>\n    </tr>\n    <tr>\n      <th>continent</th>\n      <th></th>\n      <th></th>\n      <th></th>\n      <th></th>\n      <th></th>\n      <th></th>\n      <th></th>\n      <th></th>\n    </tr>\n  </thead>\n  <tbody>\n    <tr>\n      <th>AF</th>\n      <td>58.0</td>\n      <td>1.753241e+07</td>\n      <td>2.663389e+07</td>\n      <td>7460.0</td>\n      <td>1674830.00</td>\n      <td>9987785.0</td>\n      <td>20617635.75</td>\n      <td>1.540000e+08</td>\n    </tr>\n    <tr>\n      <th>AN</th>\n      <td>5.0</td>\n      <td>3.400000e+01</td>\n      <td>6.066300e+01</td>\n      <td>0.0</td>\n      <td>0.00</td>\n      <td>0.0</td>\n      <td>30.00</td>\n      <td>1.400000e+02</td>\n    </tr>\n    <tr>\n      <th>AS</th>\n      <td>52.0</td>\n      <td>7.943435e+07</td>\n      <td>2.424824e+08</td>\n      <td>628.0</td>\n      <td>3621729.50</td>\n      <td>11378596.0</td>\n      <td>34359364.75</td>\n      <td>1.330044e+09</td>\n    </tr>\n    <tr>\n      <th>EU</th>\n      <td>53.0</td>\n      <td>1.394606e+07</td>\n      <td>2.615535e+07</td>\n      <td>921.0</td>\n      <td>403000.00</td>\n      <td>4590000.0</td>\n      <td>10403000.00</td>\n      <td>1.407020e+08</td>\n    </tr>\n    <tr>\n      <th>NM</th>\n      <td>42.0</td>\n      <td>1.285964e+07</td>\n      <td>5.031131e+07</td>\n      <td>7012.0</td>\n      <td>52444.25</td>\n      <td>223287.5</td>\n      <td>4366323.00</td>\n      <td>3.102329e+08</td>\n    </tr>\n    <tr>\n      <th>OC</th>\n      <td>27.0</td>\n      <td>1.335780e+06</td>\n      <td>4.262102e+06</td>\n      <td>0.0</td>\n      <td>13248.50</td>\n      <td>92533.0</td>\n      <td>246018.50</td>\n      <td>2.151575e+07</td>\n    </tr>\n    <tr>\n      <th>SM</th>\n      <td>14.0</td>\n      <td>2.858168e+07</td>\n      <td>5.209916e+07</td>\n      <td>2638.0</td>\n      <td>1430614.50</td>\n      <td>12369013.0</td>\n      <td>29236059.25</td>\n      <td>2.011033e+08</td>\n    </tr>\n  </tbody>\n</table>\n</div>"
     },
     "execution_count": 108,
     "metadata": {},
     "output_type": "execute_result"
    }
   ],
   "source": [
    "#// BEGIN_TODO [EDA_11a] Summary statistics for population per continent (1 point)\n",
    "\n",
    "grouped['population'].describe()\n",
    "#// END_TODO [EDA_11a]"
   ]
  },
  {
   "attachments": {},
   "cell_type": "markdown",
   "metadata": {},
   "source": [
    "### Exercise 11.b\n",
    "\n",
    "Show the _maximum_ _density_ per _continent_, where the result should be a `Series` object (reuse `grouped`)."
   ]
  },
  {
   "cell_type": "code",
   "execution_count": 109,
   "metadata": {},
   "outputs": [
    {
     "data": {
      "text/plain": "continent\nAF      634.364706\nAN        0.017882\nAS     6786.587267\nEU    16905.128205\nNM     1782.333333\nOC      479.285714\nSM       52.160418\nName: density, dtype: float64"
     },
     "execution_count": 109,
     "metadata": {},
     "output_type": "execute_result"
    }
   ],
   "source": [
    "#// BEGIN_TODO [EDA_11b] Maximum density per continent (1 point)\n",
    "\n",
    "grouped['density'].max()\n",
    "#// END_TODO [EDA_11b]"
   ]
  },
  {
   "attachments": {},
   "cell_type": "markdown",
   "metadata": {},
   "source": [
    "### Exercise 11.c\n",
    "\n",
    "Show the minimum, maximum, and total *area* per *continent* (reuse `grouped`)."
   ]
  },
  {
   "cell_type": "code",
   "execution_count": 110,
   "metadata": {},
   "outputs": [
    {
     "data": {
      "text/plain": "               area                         \n                min         max          sum\ncontinent                                   \nAF           374.00   2381740.0  30360296.00\nAN            49.00  14000000.0  14012193.00\nAS            14.00   9596960.0  31603228.70\nEU             0.44  17100000.0  23079944.09\nNM            21.00   9984670.0  24512514.00\nOC             0.00   7686850.0   8523505.90\nSM         12173.00   8511965.0  17818508.00",
      "text/html": "<div>\n<style scoped>\n    .dataframe tbody tr th:only-of-type {\n        vertical-align: middle;\n    }\n\n    .dataframe tbody tr th {\n        vertical-align: top;\n    }\n\n    .dataframe thead tr th {\n        text-align: left;\n    }\n\n    .dataframe thead tr:last-of-type th {\n        text-align: right;\n    }\n</style>\n<table border=\"1\" class=\"dataframe\">\n  <thead>\n    <tr>\n      <th></th>\n      <th colspan=\"3\" halign=\"left\">area</th>\n    </tr>\n    <tr>\n      <th></th>\n      <th>min</th>\n      <th>max</th>\n      <th>sum</th>\n    </tr>\n    <tr>\n      <th>continent</th>\n      <th></th>\n      <th></th>\n      <th></th>\n    </tr>\n  </thead>\n  <tbody>\n    <tr>\n      <th>AF</th>\n      <td>374.00</td>\n      <td>2381740.0</td>\n      <td>30360296.00</td>\n    </tr>\n    <tr>\n      <th>AN</th>\n      <td>49.00</td>\n      <td>14000000.0</td>\n      <td>14012193.00</td>\n    </tr>\n    <tr>\n      <th>AS</th>\n      <td>14.00</td>\n      <td>9596960.0</td>\n      <td>31603228.70</td>\n    </tr>\n    <tr>\n      <th>EU</th>\n      <td>0.44</td>\n      <td>17100000.0</td>\n      <td>23079944.09</td>\n    </tr>\n    <tr>\n      <th>NM</th>\n      <td>21.00</td>\n      <td>9984670.0</td>\n      <td>24512514.00</td>\n    </tr>\n    <tr>\n      <th>OC</th>\n      <td>0.00</td>\n      <td>7686850.0</td>\n      <td>8523505.90</td>\n    </tr>\n    <tr>\n      <th>SM</th>\n      <td>12173.00</td>\n      <td>8511965.0</td>\n      <td>17818508.00</td>\n    </tr>\n  </tbody>\n</table>\n</div>"
     },
     "execution_count": 110,
     "metadata": {},
     "output_type": "execute_result"
    }
   ],
   "source": [
    "#// BEGIN_TODO [EDA_11c] Minimum, maximum and total area per continent (1 point)\n",
    "grouped.agg({'area' : ['min', 'max', 'sum']})\n",
    "#// END_TODO [EDA_11c]"
   ]
  },
  {
   "attachments": {},
   "cell_type": "markdown",
   "metadata": {},
   "source": [
    "## 12. Deleting Rows or Columns from a `DataFrame`\n",
    "\n",
    "To delete one or more rows or columns from a `DataFrame`\n",
    "use the data frame method **`drop()`**.\n",
    "\n",
    "* **`df.drop(row)`**\n",
    "* **`df.drop(list_of_rows)`**\n",
    "* **`df.drop(column, axis=1)`**\n",
    "* **`df.drop(list_columns, axis=1)`**\n",
    "\n",
    "This returns a *new data frame*, with the specified rows or columns removed.\n",
    "\n",
    "The parameter `axis` indicates along which axis to drop, with `axis=0` referring to rows and `axis=1` referring to columns. The default is `axis=0` to drop rows.\n",
    "\n",
    "> **Note:** alternatively, you can use the keyword arguments `index` and `columns` to drop rows or columns respectively.\n",
    "\n",
    "For example, given the following data frame:"
   ]
  },
  {
   "cell_type": "code",
   "execution_count": 111,
   "metadata": {},
   "outputs": [
    {
     "data": {
      "text/plain": "   A      B      C\n0  1    one  False\n1  2    two   True\n2  3  three  False\n3  4   four   True",
      "text/html": "<div>\n<style scoped>\n    .dataframe tbody tr th:only-of-type {\n        vertical-align: middle;\n    }\n\n    .dataframe tbody tr th {\n        vertical-align: top;\n    }\n\n    .dataframe thead th {\n        text-align: right;\n    }\n</style>\n<table border=\"1\" class=\"dataframe\">\n  <thead>\n    <tr style=\"text-align: right;\">\n      <th></th>\n      <th>A</th>\n      <th>B</th>\n      <th>C</th>\n    </tr>\n  </thead>\n  <tbody>\n    <tr>\n      <th>0</th>\n      <td>1</td>\n      <td>one</td>\n      <td>False</td>\n    </tr>\n    <tr>\n      <th>1</th>\n      <td>2</td>\n      <td>two</td>\n      <td>True</td>\n    </tr>\n    <tr>\n      <th>2</th>\n      <td>3</td>\n      <td>three</td>\n      <td>False</td>\n    </tr>\n    <tr>\n      <th>3</th>\n      <td>4</td>\n      <td>four</td>\n      <td>True</td>\n    </tr>\n  </tbody>\n</table>\n</div>"
     },
     "execution_count": 111,
     "metadata": {},
     "output_type": "execute_result"
    }
   ],
   "source": [
    "df_example = pd.DataFrame({'A': [1, 2, 3, 4], 'B': ['one', 'two', 'three', 'four'], 'C': [False, True, False, True]})\n",
    "df_example"
   ]
  },
  {
   "attachments": {},
   "cell_type": "markdown",
   "metadata": {},
   "source": [
    "You can drop the row with index label 1 (i.e. the second row):"
   ]
  },
  {
   "cell_type": "code",
   "execution_count": 112,
   "metadata": {},
   "outputs": [
    {
     "data": {
      "text/plain": "   A      B      C\n0  1    one  False\n2  3  three  False\n3  4   four   True",
      "text/html": "<div>\n<style scoped>\n    .dataframe tbody tr th:only-of-type {\n        vertical-align: middle;\n    }\n\n    .dataframe tbody tr th {\n        vertical-align: top;\n    }\n\n    .dataframe thead th {\n        text-align: right;\n    }\n</style>\n<table border=\"1\" class=\"dataframe\">\n  <thead>\n    <tr style=\"text-align: right;\">\n      <th></th>\n      <th>A</th>\n      <th>B</th>\n      <th>C</th>\n    </tr>\n  </thead>\n  <tbody>\n    <tr>\n      <th>0</th>\n      <td>1</td>\n      <td>one</td>\n      <td>False</td>\n    </tr>\n    <tr>\n      <th>2</th>\n      <td>3</td>\n      <td>three</td>\n      <td>False</td>\n    </tr>\n    <tr>\n      <th>3</th>\n      <td>4</td>\n      <td>four</td>\n      <td>True</td>\n    </tr>\n  </tbody>\n</table>\n</div>"
     },
     "execution_count": 112,
     "metadata": {},
     "output_type": "execute_result"
    }
   ],
   "source": [
    "df_example.drop(1)"
   ]
  },
  {
   "attachments": {},
   "cell_type": "markdown",
   "metadata": {},
   "source": [
    "You can drop the column with the label 'C':"
   ]
  },
  {
   "cell_type": "code",
   "execution_count": 113,
   "metadata": {},
   "outputs": [
    {
     "data": {
      "text/plain": "   A      B\n0  1    one\n1  2    two\n2  3  three\n3  4   four",
      "text/html": "<div>\n<style scoped>\n    .dataframe tbody tr th:only-of-type {\n        vertical-align: middle;\n    }\n\n    .dataframe tbody tr th {\n        vertical-align: top;\n    }\n\n    .dataframe thead th {\n        text-align: right;\n    }\n</style>\n<table border=\"1\" class=\"dataframe\">\n  <thead>\n    <tr style=\"text-align: right;\">\n      <th></th>\n      <th>A</th>\n      <th>B</th>\n    </tr>\n  </thead>\n  <tbody>\n    <tr>\n      <th>0</th>\n      <td>1</td>\n      <td>one</td>\n    </tr>\n    <tr>\n      <th>1</th>\n      <td>2</td>\n      <td>two</td>\n    </tr>\n    <tr>\n      <th>2</th>\n      <td>3</td>\n      <td>three</td>\n    </tr>\n    <tr>\n      <th>3</th>\n      <td>4</td>\n      <td>four</td>\n    </tr>\n  </tbody>\n</table>\n</div>"
     },
     "execution_count": 113,
     "metadata": {},
     "output_type": "execute_result"
    }
   ],
   "source": [
    "df_example.drop('C', axis=1)"
   ]
  },
  {
   "attachments": {},
   "cell_type": "markdown",
   "metadata": {},
   "source": [
    "You can also **drop rows based on a condition** using `drop()`,\n",
    "by cleverly combining\n",
    "\n",
    "* selection with a Boolean mask and\n",
    "* the `index` attribute:\n",
    "\n",
    "```python\n",
    "df.drop(df[boolean_mask].index)\n",
    "```\n",
    "\n",
    "For example, you can drop countries in Europe from the `country_data` data frame:"
   ]
  },
  {
   "cell_type": "code",
   "execution_count": 114,
   "metadata": {},
   "outputs": [
    {
     "data": {
      "text/plain": "                     name alpha_3  tld continent     capital       area  \\\n1    United Arab Emirates     ARE  .ae        AS   Abu Dhabi    82880.0   \n2             Afghanistan     AFG  .af        AS       Kabul   647500.0   \n3     Antigua and Barbuda     ATG  .ag        NM  St. John's      443.0   \n4                Anguilla     AIA  .ai        NM  The Valley      102.0   \n6                 Armenia     ARM  .am        AS     Yerevan    29800.0   \n..                    ...     ...  ...       ...         ...        ...   \n246               Mayotte     MYT  .yt        AF   Mamoudzou      374.0   \n247          South Africa     ZAF  .za        AF    Pretoria  1219912.0   \n248                Zambia     ZMB  .zm        AF      Lusaka   752614.0   \n249              Zimbabwe     ZWE  .zw        AF      Harare   390580.0   \n250  Netherlands Antilles     ANT  .an        NM  Willemstad      960.0   \n\n     population     density  specific_area  area_zscore  \n1       4975593   60.033699   16657.310998    -0.269535  \n2      29121286   44.974959   22234.594997     0.026330  \n3         86754  195.832957    5106.392789    -0.312733  \n4         13254  129.941176    7695.789950    -0.312911  \n6       2968000   99.597315   10040.431267    -0.297349  \n..          ...         ...            ...          ...  \n246      159042  425.245989    2351.580086    -0.312769  \n247    49000000   40.166832   24896.163265     0.326279  \n248    13460305   17.884739   55913.591854     0.081411  \n249    13061000   33.440012   29904.295230    -0.108298  \n250      300000  312.500000    3200.000000    -0.312462  \n\n[198 rows x 10 columns]",
      "text/html": "<div>\n<style scoped>\n    .dataframe tbody tr th:only-of-type {\n        vertical-align: middle;\n    }\n\n    .dataframe tbody tr th {\n        vertical-align: top;\n    }\n\n    .dataframe thead th {\n        text-align: right;\n    }\n</style>\n<table border=\"1\" class=\"dataframe\">\n  <thead>\n    <tr style=\"text-align: right;\">\n      <th></th>\n      <th>name</th>\n      <th>alpha_3</th>\n      <th>tld</th>\n      <th>continent</th>\n      <th>capital</th>\n      <th>area</th>\n      <th>population</th>\n      <th>density</th>\n      <th>specific_area</th>\n      <th>area_zscore</th>\n    </tr>\n  </thead>\n  <tbody>\n    <tr>\n      <th>1</th>\n      <td>United Arab Emirates</td>\n      <td>ARE</td>\n      <td>.ae</td>\n      <td>AS</td>\n      <td>Abu Dhabi</td>\n      <td>82880.0</td>\n      <td>4975593</td>\n      <td>60.033699</td>\n      <td>16657.310998</td>\n      <td>-0.269535</td>\n    </tr>\n    <tr>\n      <th>2</th>\n      <td>Afghanistan</td>\n      <td>AFG</td>\n      <td>.af</td>\n      <td>AS</td>\n      <td>Kabul</td>\n      <td>647500.0</td>\n      <td>29121286</td>\n      <td>44.974959</td>\n      <td>22234.594997</td>\n      <td>0.026330</td>\n    </tr>\n    <tr>\n      <th>3</th>\n      <td>Antigua and Barbuda</td>\n      <td>ATG</td>\n      <td>.ag</td>\n      <td>NM</td>\n      <td>St. John's</td>\n      <td>443.0</td>\n      <td>86754</td>\n      <td>195.832957</td>\n      <td>5106.392789</td>\n      <td>-0.312733</td>\n    </tr>\n    <tr>\n      <th>4</th>\n      <td>Anguilla</td>\n      <td>AIA</td>\n      <td>.ai</td>\n      <td>NM</td>\n      <td>The Valley</td>\n      <td>102.0</td>\n      <td>13254</td>\n      <td>129.941176</td>\n      <td>7695.789950</td>\n      <td>-0.312911</td>\n    </tr>\n    <tr>\n      <th>6</th>\n      <td>Armenia</td>\n      <td>ARM</td>\n      <td>.am</td>\n      <td>AS</td>\n      <td>Yerevan</td>\n      <td>29800.0</td>\n      <td>2968000</td>\n      <td>99.597315</td>\n      <td>10040.431267</td>\n      <td>-0.297349</td>\n    </tr>\n    <tr>\n      <th>...</th>\n      <td>...</td>\n      <td>...</td>\n      <td>...</td>\n      <td>...</td>\n      <td>...</td>\n      <td>...</td>\n      <td>...</td>\n      <td>...</td>\n      <td>...</td>\n      <td>...</td>\n    </tr>\n    <tr>\n      <th>246</th>\n      <td>Mayotte</td>\n      <td>MYT</td>\n      <td>.yt</td>\n      <td>AF</td>\n      <td>Mamoudzou</td>\n      <td>374.0</td>\n      <td>159042</td>\n      <td>425.245989</td>\n      <td>2351.580086</td>\n      <td>-0.312769</td>\n    </tr>\n    <tr>\n      <th>247</th>\n      <td>South Africa</td>\n      <td>ZAF</td>\n      <td>.za</td>\n      <td>AF</td>\n      <td>Pretoria</td>\n      <td>1219912.0</td>\n      <td>49000000</td>\n      <td>40.166832</td>\n      <td>24896.163265</td>\n      <td>0.326279</td>\n    </tr>\n    <tr>\n      <th>248</th>\n      <td>Zambia</td>\n      <td>ZMB</td>\n      <td>.zm</td>\n      <td>AF</td>\n      <td>Lusaka</td>\n      <td>752614.0</td>\n      <td>13460305</td>\n      <td>17.884739</td>\n      <td>55913.591854</td>\n      <td>0.081411</td>\n    </tr>\n    <tr>\n      <th>249</th>\n      <td>Zimbabwe</td>\n      <td>ZWE</td>\n      <td>.zw</td>\n      <td>AF</td>\n      <td>Harare</td>\n      <td>390580.0</td>\n      <td>13061000</td>\n      <td>33.440012</td>\n      <td>29904.295230</td>\n      <td>-0.108298</td>\n    </tr>\n    <tr>\n      <th>250</th>\n      <td>Netherlands Antilles</td>\n      <td>ANT</td>\n      <td>.an</td>\n      <td>NM</td>\n      <td>Willemstad</td>\n      <td>960.0</td>\n      <td>300000</td>\n      <td>312.500000</td>\n      <td>3200.000000</td>\n      <td>-0.312462</td>\n    </tr>\n  </tbody>\n</table>\n<p>198 rows × 10 columns</p>\n</div>"
     },
     "execution_count": 114,
     "metadata": {},
     "output_type": "execute_result"
    }
   ],
   "source": [
    "country_data.drop(country_data[countries_in_EU].index)"
   ]
  },
  {
   "attachments": {},
   "cell_type": "markdown",
   "metadata": {},
   "source": [
    "## 13. Persisting the Modifications\n",
    "\n",
    "The data frame methods that we have discussed so far (`sort_values(), head(), drop()`) return a _new_ data frame, just like the `copy()` method we have seen before. To store the results of any modifications to a data frame we can assign the result to a new variable and then work on that variable.\n",
    "\n",
    "For example, the `drop()` method will return a new data frame:"
   ]
  },
  {
   "cell_type": "code",
   "execution_count": 115,
   "metadata": {},
   "outputs": [
    {
     "data": {
      "text/plain": "   A      B\n0  1    one\n1  2    two\n2  3  three\n3  4   four",
      "text/html": "<div>\n<style scoped>\n    .dataframe tbody tr th:only-of-type {\n        vertical-align: middle;\n    }\n\n    .dataframe tbody tr th {\n        vertical-align: top;\n    }\n\n    .dataframe thead th {\n        text-align: right;\n    }\n</style>\n<table border=\"1\" class=\"dataframe\">\n  <thead>\n    <tr style=\"text-align: right;\">\n      <th></th>\n      <th>A</th>\n      <th>B</th>\n    </tr>\n  </thead>\n  <tbody>\n    <tr>\n      <th>0</th>\n      <td>1</td>\n      <td>one</td>\n    </tr>\n    <tr>\n      <th>1</th>\n      <td>2</td>\n      <td>two</td>\n    </tr>\n    <tr>\n      <th>2</th>\n      <td>3</td>\n      <td>three</td>\n    </tr>\n    <tr>\n      <th>3</th>\n      <td>4</td>\n      <td>four</td>\n    </tr>\n  </tbody>\n</table>\n</div>"
     },
     "execution_count": 115,
     "metadata": {},
     "output_type": "execute_result"
    }
   ],
   "source": [
    "df_drop = df_example.drop('C', axis=1)\n",
    "df_drop"
   ]
  },
  {
   "attachments": {},
   "cell_type": "markdown",
   "metadata": {},
   "source": [
    "The original data frame `df_example` is not affected by the dropping:"
   ]
  },
  {
   "cell_type": "code",
   "execution_count": 116,
   "metadata": {},
   "outputs": [
    {
     "data": {
      "text/plain": "   A      B      C\n0  1    one  False\n1  2    two   True\n2  3  three  False\n3  4   four   True",
      "text/html": "<div>\n<style scoped>\n    .dataframe tbody tr th:only-of-type {\n        vertical-align: middle;\n    }\n\n    .dataframe tbody tr th {\n        vertical-align: top;\n    }\n\n    .dataframe thead th {\n        text-align: right;\n    }\n</style>\n<table border=\"1\" class=\"dataframe\">\n  <thead>\n    <tr style=\"text-align: right;\">\n      <th></th>\n      <th>A</th>\n      <th>B</th>\n      <th>C</th>\n    </tr>\n  </thead>\n  <tbody>\n    <tr>\n      <th>0</th>\n      <td>1</td>\n      <td>one</td>\n      <td>False</td>\n    </tr>\n    <tr>\n      <th>1</th>\n      <td>2</td>\n      <td>two</td>\n      <td>True</td>\n    </tr>\n    <tr>\n      <th>2</th>\n      <td>3</td>\n      <td>three</td>\n      <td>False</td>\n    </tr>\n    <tr>\n      <th>3</th>\n      <td>4</td>\n      <td>four</td>\n      <td>True</td>\n    </tr>\n  </tbody>\n</table>\n</div>"
     },
     "execution_count": 116,
     "metadata": {},
     "output_type": "execute_result"
    }
   ],
   "source": [
    "df_example"
   ]
  },
  {
   "attachments": {},
   "cell_type": "markdown",
   "metadata": {},
   "source": [
    "Moreover, any modifications to `df_drop` will not affect `df_example`:"
   ]
  },
  {
   "cell_type": "code",
   "execution_count": 117,
   "metadata": {},
   "outputs": [
    {
     "data": {
      "text/plain": "   A      B\n0  1    one\n1  2  EIGHT\n2  3  three\n3  4   four",
      "text/html": "<div>\n<style scoped>\n    .dataframe tbody tr th:only-of-type {\n        vertical-align: middle;\n    }\n\n    .dataframe tbody tr th {\n        vertical-align: top;\n    }\n\n    .dataframe thead th {\n        text-align: right;\n    }\n</style>\n<table border=\"1\" class=\"dataframe\">\n  <thead>\n    <tr style=\"text-align: right;\">\n      <th></th>\n      <th>A</th>\n      <th>B</th>\n    </tr>\n  </thead>\n  <tbody>\n    <tr>\n      <th>0</th>\n      <td>1</td>\n      <td>one</td>\n    </tr>\n    <tr>\n      <th>1</th>\n      <td>2</td>\n      <td>EIGHT</td>\n    </tr>\n    <tr>\n      <th>2</th>\n      <td>3</td>\n      <td>three</td>\n    </tr>\n    <tr>\n      <th>3</th>\n      <td>4</td>\n      <td>four</td>\n    </tr>\n  </tbody>\n</table>\n</div>"
     },
     "execution_count": 117,
     "metadata": {},
     "output_type": "execute_result"
    }
   ],
   "source": [
    "df_drop.loc[1, 'B'] = 'EIGHT'\n",
    "df_drop"
   ]
  },
  {
   "cell_type": "code",
   "execution_count": 118,
   "metadata": {},
   "outputs": [
    {
     "data": {
      "text/plain": "   A      B      C\n0  1    one  False\n1  2    two   True\n2  3  three  False\n3  4   four   True",
      "text/html": "<div>\n<style scoped>\n    .dataframe tbody tr th:only-of-type {\n        vertical-align: middle;\n    }\n\n    .dataframe tbody tr th {\n        vertical-align: top;\n    }\n\n    .dataframe thead th {\n        text-align: right;\n    }\n</style>\n<table border=\"1\" class=\"dataframe\">\n  <thead>\n    <tr style=\"text-align: right;\">\n      <th></th>\n      <th>A</th>\n      <th>B</th>\n      <th>C</th>\n    </tr>\n  </thead>\n  <tbody>\n    <tr>\n      <th>0</th>\n      <td>1</td>\n      <td>one</td>\n      <td>False</td>\n    </tr>\n    <tr>\n      <th>1</th>\n      <td>2</td>\n      <td>two</td>\n      <td>True</td>\n    </tr>\n    <tr>\n      <th>2</th>\n      <td>3</td>\n      <td>three</td>\n      <td>False</td>\n    </tr>\n    <tr>\n      <th>3</th>\n      <td>4</td>\n      <td>four</td>\n      <td>True</td>\n    </tr>\n  </tbody>\n</table>\n</div>"
     },
     "execution_count": 118,
     "metadata": {},
     "output_type": "execute_result"
    }
   ],
   "source": [
    "df_example"
   ]
  },
  {
   "attachments": {},
   "cell_type": "markdown",
   "metadata": {},
   "source": [
    "#### The `inplace` Argument\n",
    "\n",
    "For many data frame methods, you can supply the extra argument **`inplace=True`** to store the modifications in the target data frame. However, this is usually not recommended; it is often better to assign the result to a new variable.\n",
    "\n",
    "The following cell drops the rows with index labels 1 and 3, modifying `df_example` in place:"
   ]
  },
  {
   "cell_type": "code",
   "execution_count": 119,
   "metadata": {},
   "outputs": [
    {
     "data": {
      "text/plain": "   A      B      C\n0  1    one  False\n2  3  three  False",
      "text/html": "<div>\n<style scoped>\n    .dataframe tbody tr th:only-of-type {\n        vertical-align: middle;\n    }\n\n    .dataframe tbody tr th {\n        vertical-align: top;\n    }\n\n    .dataframe thead th {\n        text-align: right;\n    }\n</style>\n<table border=\"1\" class=\"dataframe\">\n  <thead>\n    <tr style=\"text-align: right;\">\n      <th></th>\n      <th>A</th>\n      <th>B</th>\n      <th>C</th>\n    </tr>\n  </thead>\n  <tbody>\n    <tr>\n      <th>0</th>\n      <td>1</td>\n      <td>one</td>\n      <td>False</td>\n    </tr>\n    <tr>\n      <th>2</th>\n      <td>3</td>\n      <td>three</td>\n      <td>False</td>\n    </tr>\n  </tbody>\n</table>\n</div>"
     },
     "execution_count": 119,
     "metadata": {},
     "output_type": "execute_result"
    }
   ],
   "source": [
    "df_example.drop([1, 3], inplace=True)\n",
    "df_example"
   ]
  },
  {
   "attachments": {},
   "cell_type": "markdown",
   "metadata": {},
   "source": [
    "## 14. Plotting a `DataFrame`"
   ]
  },
  {
   "attachments": {},
   "cell_type": "markdown",
   "metadata": {},
   "source": [
    "Various plots can be made directly from a `DataFrame` or `Series` object.\n",
    "\n",
    "First, we\n",
    "* import the underlying plotting libraries **Matplotlib** and **Seaborn**;\n",
    "* configure some parameters (see the comments for details)."
   ]
  },
  {
   "cell_type": "code",
   "execution_count": 120,
   "metadata": {},
   "outputs": [],
   "source": [
    "import matplotlib.pyplot as plt\n",
    "import seaborn as sns\n",
    "\n",
    "sns.set()                               # Sets Seaborn default values\n",
    "plt.rcParams['figure.figsize'] = 10, 5  # Default hor./vert. size of plots, in inches"
   ]
  },
  {
   "attachments": {},
   "cell_type": "markdown",
   "metadata": {},
   "source": [
    "> **Note:** This section presents a brief overview of plotting data for a quick exploration. More advanced plotting and annotation methods that are needed for communicating your data analysis with others will be addressed in _Exercises - VIS_."
   ]
  },
  {
   "attachments": {},
   "cell_type": "markdown",
   "metadata": {},
   "source": [
    "The general method to make a plot for a `DataFrame` is\n",
    "\n",
    "* **`df.plot(kind='...', ...)`**\n",
    "\n",
    "where the following kinds of plots are supported.\n",
    "\n",
    "* **`'line'`**: default\n",
    "* **`'area'`**: like `'line'`, but with the area below the line filled in\n",
    "* **`'bar'`**: vertical bar plot, with separated bars\n",
    "* **`'barh'`**: horizontal bar plot, with separated bars\n",
    "* **`'hist'`**: histogram, with automatic binning; use `bins=n` to set the number of bins to `n`\n",
    "* **`'box'`**: vertical box (and whisker) plot, with outliers\n",
    "* **`'density'`**: density plot (a kind of continuous histogram)\n",
    "* **`'scatter'`**: scatter plot\n",
    "\n",
    "All of these plots, **except `'scatter`'**, apply to `Series` objects as well.\n",
    "\n",
    "When used on a `DataFrame` object, all (numeric) columns are plotted, and a **legend** is included.\n",
    "\n",
    "The extra arguments are mostly irrelevant in this lesson; the ones that are relevant will be discussed below.\n",
    "\n",
    "Remember that you can get an explanation of all the method parameters like `kind='...'` with `?` or Shift-Tab-Tab. Execute the following cell to get built-in help for the Pandas plotting method (most of the details are irrelevant for this lesson):"
   ]
  },
  {
   "cell_type": "code",
   "execution_count": 121,
   "metadata": {},
   "outputs": [],
   "source": [
    "country_data.plot?"
   ]
  },
  {
   "attachments": {},
   "cell_type": "markdown",
   "metadata": {},
   "source": [
    "You are encouraged to use the built-in help for the methods introduced below to explore and learn about other parameters they support. \n",
    "\n",
    "### Line Plot\n",
    "\n",
    "We begin with a **line plot** of the  _population_ per country. It shows the `'population'` column on the y-axis and the index (of the series `country_data['population']`) on the $x$-axis.\n",
    "\n",
    "Note that in this plot, since the $x$-axis has the row indices, the countries are ordered as in the original data file."
   ]
  },
  {
   "cell_type": "code",
   "execution_count": 122,
   "metadata": {},
   "outputs": [
    {
     "data": {
      "text/plain": "<Figure size 1000x500 with 1 Axes>",
      "image/png": "[encoded data removed]"
     },
     "metadata": {},
     "output_type": "display_data"
    }
   ],
   "source": [
    "country_data['population'].plot();"
   ]
  },
  {
   "attachments": {},
   "cell_type": "markdown",
   "metadata": {},
   "source": [
    "The semicolon **`;`** on the last line\n",
    "suppresses the textual output (which is not relevant to us).\n",
    "\n",
    "We can plot the _population_ in descending order,\n",
    "by using the earlier computed `country_data_sorted_by_pop`:"
   ]
  },
  {
   "cell_type": "code",
   "execution_count": 123,
   "metadata": {},
   "outputs": [
    {
     "data": {
      "text/plain": "<Figure size 1000x500 with 1 Axes>",
      "image/png": "[encoded data removed]"
     },
     "metadata": {},
     "output_type": "display_data"
    }
   ],
   "source": [
    "country_data_sorted_by_pop['population'].plot();"
   ]
  },
  {
   "attachments": {},
   "cell_type": "markdown",
   "metadata": {},
   "source": [
    "### Area Plot\n",
    "\n",
    "Now we create the same plots as **area plots**:"
   ]
  },
  {
   "cell_type": "code",
   "execution_count": 124,
   "metadata": {},
   "outputs": [
    {
     "data": {
      "text/plain": "<Figure size 1000x500 with 1 Axes>",
      "image/png": "[encoded data removed]"
     },
     "metadata": {},
     "output_type": "display_data"
    }
   ],
   "source": [
    "country_data['population'].plot(kind='area');"
   ]
  },
  {
   "cell_type": "code",
   "execution_count": 125,
   "metadata": {},
   "outputs": [
    {
     "data": {
      "text/plain": "<Figure size 1000x500 with 1 Axes>",
      "image/png": "[encoded data removed]"
     },
     "metadata": {},
     "output_type": "display_data"
    }
   ],
   "source": [
    "country_data_sorted_by_pop['population'].plot(kind='area');"
   ]
  },
  {
   "attachments": {},
   "cell_type": "markdown",
   "metadata": {},
   "source": [
    "### Dot Plot\n",
    "\n",
    "A **dot plot** is obtained by creating a _line plot_ where the _marker_ is set to dots (**`marker='o'`**) and the lines are hidden (**`linestyle=''`**):"
   ]
  },
  {
   "cell_type": "code",
   "execution_count": 126,
   "metadata": {},
   "outputs": [
    {
     "data": {
      "text/plain": "<Figure size 1000x500 with 1 Axes>",
      "image/png": "[encoded data removed]"
     },
     "metadata": {},
     "output_type": "display_data"
    }
   ],
   "source": [
    "country_data['population'].plot(marker=\"o\", linestyle='');"
   ]
  },
  {
   "attachments": {},
   "cell_type": "markdown",
   "metadata": {},
   "source": [
    "### Histogram\n",
    "\n",
    "We plot a **histogram** for the _population_ in *Europe*,\n",
    "using the default number of bins.  \n",
    "First, we select the relevant data,\n",
    "reusing the Boolean mask `countries_in_EU`\n",
    "(this results in a `DataFrame` object,\n",
    "because of the double square brackets around `'population'`)."
   ]
  },
  {
   "cell_type": "code",
   "execution_count": 127,
   "metadata": {},
   "outputs": [
    {
     "data": {
      "text/plain": "<Figure size 1000x500 with 1 Axes>",
      "image/png": "[encoded data removed]"
     },
     "metadata": {},
     "output_type": "display_data"
    }
   ],
   "source": [
    "country_data[countries_in_EU][['population']].plot(kind='hist');"
   ]
  },
  {
   "attachments": {},
   "cell_type": "markdown",
   "metadata": {},
   "source": [
    "When plotting a single series of this data frame,\n",
    "the histogram will not include a legend\n",
    "(now there are single square brackets around `'population'`):"
   ]
  },
  {
   "cell_type": "code",
   "execution_count": 128,
   "metadata": {},
   "outputs": [
    {
     "data": {
      "text/plain": "<Figure size 1000x500 with 1 Axes>",
      "image/png": "[encoded data removed]"
     },
     "metadata": {},
     "output_type": "display_data"
    }
   ],
   "source": [
    "country_data[countries_in_EU]['population'].plot(kind='hist');"
   ]
  },
  {
   "attachments": {},
   "cell_type": "markdown",
   "metadata": {},
   "source": [
    "Next, we plot a **histogram** for this data,\n",
    "using 20 bins (`bins=20`), and normalizing the total area so it integrates to one (`density=True`):"
   ]
  },
  {
   "cell_type": "code",
   "execution_count": 129,
   "metadata": {},
   "outputs": [
    {
     "data": {
      "text/plain": "<Figure size 1000x500 with 1 Axes>",
      "image/png": "[encoded data removed]"
     },
     "metadata": {},
     "output_type": "display_data"
    }
   ],
   "source": [
    "country_data[countries_in_EU][['population']].plot(kind='hist', bins=20, density=True);"
   ]
  },
  {
   "attachments": {},
   "cell_type": "markdown",
   "metadata": {},
   "source": [
    "### Density Plot\n",
    "\n",
    "A **density plot** (a kind of continuous histogram) for the same data:"
   ]
  },
  {
   "cell_type": "code",
   "execution_count": 130,
   "metadata": {},
   "outputs": [
    {
     "data": {
      "text/plain": "<Figure size 1000x500 with 1 Axes>",
      "image/png": "[encoded data removed]"
     },
     "metadata": {},
     "output_type": "display_data"
    }
   ],
   "source": [
    "country_data[countries_in_EU][['population']].plot(kind='density');"
   ]
  },
  {
   "attachments": {},
   "cell_type": "markdown",
   "metadata": {},
   "source": [
    "> **Note:** The contribution of each value is smeared out and integrated.  \n",
    "> Of course, there are no negative populations in reality."
   ]
  },
  {
   "attachments": {},
   "cell_type": "markdown",
   "metadata": {},
   "source": [
    "### Box Plot\n",
    "\n",
    "A **box plot** for the _population_\n",
    "(note the **outliers**):"
   ]
  },
  {
   "cell_type": "code",
   "execution_count": 131,
   "metadata": {},
   "outputs": [
    {
     "data": {
      "text/plain": "<Figure size 1000x500 with 1 Axes>",
      "image/png": "[encoded data removed]"
     },
     "metadata": {},
     "output_type": "display_data"
    }
   ],
   "source": [
    "country_data[countries_in_EU][['population']].plot(kind='box');"
   ]
  },
  {
   "attachments": {},
   "cell_type": "markdown",
   "metadata": {},
   "source": [
    "For **box plots** of `DataFrame` objects, there is a special variant:\n",
    "\n",
    "* **`df.boxplot(column=..., by=...)`** :\n",
    "    side-by-side box plots for given column(s), grouped by given column(s)\n",
    "\n",
    "A **box plot** for the _population_ **grouped by** *continent*:"
   ]
  },
  {
   "cell_type": "code",
   "execution_count": 132,
   "metadata": {},
   "outputs": [
    {
     "data": {
      "text/plain": "<Figure size 1000x500 with 1 Axes>",
      "image/png": "[encoded data removed]"
     },
     "metadata": {},
     "output_type": "display_data"
    }
   ],
   "source": [
    "country_data.boxplot(column='population', by='continent');"
   ]
  },
  {
   "attachments": {},
   "cell_type": "markdown",
   "metadata": {},
   "source": [
    "### Bar Plot\n",
    "\n",
    "A **bar plot** for the _number of countries_ per _continent_\n",
    "can be obtained via **grouping**.  \n",
    "Recall that `grouped` was defined earlier\n",
    "to capture the grouping of country data per continent."
   ]
  },
  {
   "cell_type": "code",
   "execution_count": 133,
   "metadata": {},
   "outputs": [
    {
     "data": {
      "text/plain": "<Figure size 1000x500 with 1 Axes>",
      "image/png": "[encoded data removed]"
     },
     "metadata": {},
     "output_type": "display_data"
    }
   ],
   "source": [
    "grouped['continent'].count().plot(kind='bar');"
   ]
  },
  {
   "attachments": {},
   "cell_type": "markdown",
   "metadata": {},
   "source": [
    "A **bar plot** for total _population_ per *continent*,\n",
    "again based on the grouping computed earlier:"
   ]
  },
  {
   "cell_type": "code",
   "execution_count": 134,
   "metadata": {},
   "outputs": [
    {
     "data": {
      "text/plain": "<Figure size 1000x500 with 1 Axes>",
      "image/png": "[encoded data removed]"
     },
     "metadata": {},
     "output_type": "display_data"
    }
   ],
   "source": [
    "grouped['population'].sum().plot(kind='bar');"
   ]
  },
  {
   "attachments": {},
   "cell_type": "markdown",
   "metadata": {},
   "source": [
    "### Scatter Plot\n",
    "\n",
    "A **scatter plot** that plots _area_ against _population_ using blue color:"
   ]
  },
  {
   "cell_type": "code",
   "execution_count": 135,
   "metadata": {},
   "outputs": [
    {
     "data": {
      "text/plain": "<Figure size 1000x500 with 1 Axes>",
      "image/png": "[encoded data removed]"
     },
     "metadata": {},
     "output_type": "display_data"
    }
   ],
   "source": [
    "country_data.plot(kind='scatter', x='area', y='population', color=\"b\");"
   ]
  },
  {
   "attachments": {},
   "cell_type": "markdown",
   "metadata": {},
   "source": [
    "Note that the dot plot introduced earlier shows the index on the $x$-axis and one or more columns on the $y$-axis, while  the scatter plot is meant to visualize the relationship between two columns. You will learn more about both in *Exercises-VIS*."
   ]
  },
  {
   "attachments": {},
   "cell_type": "markdown",
   "metadata": {},
   "source": [
    "### Exercise 14.a\n",
    "\n",
    "Show a dot plot of _area_ per country, using the method introduced above."
   ]
  },
  {
   "cell_type": "code",
   "execution_count": 136,
   "metadata": {},
   "outputs": [
    {
     "data": {
      "text/plain": "<Axes: >"
     },
     "execution_count": 136,
     "metadata": {},
     "output_type": "execute_result"
    },
    {
     "data": {
      "text/plain": "<Figure size 1000x500 with 1 Axes>",
      "image/png": "[encoded data removed]"
     },
     "metadata": {},
     "output_type": "display_data"
    }
   ],
   "source": [
    "#// BEGIN_TODO [EDA_14a] Dot plot for area per country (1 point)\n",
    "\n",
    "country_data['area'].plot(marker=\"o\", linestyle='')\n",
    "#// END_TODO [EDA_14a]"
   ]
  },
  {
   "attachments": {},
   "cell_type": "markdown",
   "metadata": {
    "tags": []
   },
   "source": [
    "### Exercise 14.b\n",
    "\n",
    "Show an area plot of the _area_ per country sorted in descending order.  \n",
    "\n",
    "<span class=\"t\">Hint<span class=\"c\">:</span></span>\n",
    "<span class=\"h\">\n",
    "First compute country data sorted in descending order by *area*,\n",
    "assigning it to `country_data_sorted_by_area`.  \n",
    "Don't forget to use `.reset_index()`.\n",
    "</span>"
   ]
  },
  {
   "cell_type": "code",
   "execution_count": 137,
   "metadata": {},
   "outputs": [
    {
     "data": {
      "text/plain": "<Axes: >"
     },
     "execution_count": 137,
     "metadata": {},
     "output_type": "execute_result"
    },
    {
     "data": {
      "text/plain": "<Figure size 1000x500 with 1 Axes>",
      "image/png": "[encoded data removed]"
     },
     "metadata": {},
     "output_type": "display_data"
    }
   ],
   "source": [
    "#// BEGIN_TODO [EDA_14b] Area plot for area per country (1 point)\n",
    "\n",
    "country_data_sorted_by_area = country_data['area'].sort_values(ascending=False).reset_index()\n",
    "country_data_sorted_by_area.plot(kind='area')\n",
    "#// END_TODO [EDA_14b]"
   ]
  },
  {
   "attachments": {},
   "cell_type": "markdown",
   "metadata": {},
   "source": [
    "### Exercise 14.c\n",
    "\n",
    "Show a histogram with 30 bins for the country _area_ in _Europe_.  \n",
    "\n",
    "<span class=\"t\">Hint<span class=\"c\">:</span></span>\n",
    "<span class=\"h\">\n",
    "Reuse the boolean mask `countries_in_EU` computed earlier.\n",
    "</span>"
   ]
  },
  {
   "cell_type": "code",
   "execution_count": 138,
   "metadata": {},
   "outputs": [
    {
     "data": {
      "text/plain": "<Axes: ylabel='Frequency'>"
     },
     "execution_count": 138,
     "metadata": {},
     "output_type": "execute_result"
    },
    {
     "data": {
      "text/plain": "<Figure size 1000x500 with 1 Axes>",
      "image/png": "[encoded data removed]"
     },
     "metadata": {},
     "output_type": "display_data"
    }
   ],
   "source": [
    "#// BEGIN_TODO [EDA_14c] Histogram for area per country in Europe (1 point)\n",
    "\n",
    "country_data[countries_in_EU][['area']].plot(kind='hist', bins=30, density=True)\n",
    "#// END_TODO [EDA_14c]"
   ]
  },
  {
   "attachments": {},
   "cell_type": "markdown",
   "metadata": {},
   "source": [
    "The resulting histogram is not very informative,\n",
    "illustrating the limitation of histograms.\n",
    "Here, this is caused by one **outlier**.\n",
    "\n",
    "### Exercise 14.d\n",
    "\n",
    "Define a boolean mask `countries_in_EU_not_RUS` for countries in _Europe_ without _Russia_.  \n",
    "\n",
    "<span class=\"t\">Hint<span class=\"c\">:</span></span>\n",
    "<span class=\"h\">\n",
    "Reuse the boolean mask `countries_in_EU`. Keep in mind that the operators for combining boolean masks bind stronger than comparison operators. The `alpha_3` code of Russia is `RUS`.\n",
    "</span>"
   ]
  },
  {
   "cell_type": "code",
   "execution_count": 139,
   "metadata": {},
   "outputs": [
    {
     "data": {
      "text/plain": "0       True\n5       True\n11      True\n14      True\n16      True\n19      True\n21      True\n35      True\n42      True\n54      True\n55      True\n56      True\n58      True\n63      True\n67      True\n69      True\n73      True\n74      True\n76      True\n80      True\n82      True\n88      True\n97      True\n99      True\n101     True\n103     True\n108     True\n109     True\n110     True\n122     True\n129     True\n133     True\n134     True\n135     True\n138     True\n139     True\n140     True\n144     True\n153     True\n166     True\n167     True\n179     True\n184     True\n189     True\n190     True\n191    False\n198     True\n201     True\n202     True\n203     True\n205     True\n230     True\n236     True\nName: alpha_3, dtype: bool"
     },
     "execution_count": 139,
     "metadata": {},
     "output_type": "execute_result"
    }
   ],
   "source": [
    "#// BEGIN_TODO [EDA_14d] Boolean mask for countries in Europe without Russia (1 point)\n",
    "\n",
    "countries_in_EU_not_RUS = country_data.loc[countries_in_EU, 'alpha_3'] != 'RUS'\n",
    "countries_in_EU_not_RUS\n",
    "#// END_TODO [EDA_14d]"
   ]
  },
  {
   "attachments": {},
   "cell_type": "markdown",
   "metadata": {},
   "source": [
    "### Exercise 14.e\n",
    "\n",
    "Show a histogram with 30 bins for the country _area_ in _Europe_ without _Russia_.  \n",
    "\n",
    "<span class=\"t\">Hint<span class=\"c\">:</span></span>\n",
    "<span class=\"h\">\n",
    "Reuse the boolean mask `countries_in_EU_not_RUS` computed earlier.\n",
    "</span>"
   ]
  },
  {
   "cell_type": "code",
   "execution_count": 140,
   "metadata": {},
   "outputs": [
    {
     "data": {
      "text/plain": "<Axes: ylabel='Frequency'>"
     },
     "execution_count": 140,
     "metadata": {},
     "output_type": "execute_result"
    },
    {
     "data": {
      "text/plain": "<Figure size 1000x500 with 1 Axes>",
      "image/png": "[encoded data removed]"
     },
     "metadata": {},
     "output_type": "display_data"
    }
   ],
   "source": [
    "#// BEGIN_TODO [EDA_14e] Histogram for area per country in Europe (1 point)\n",
    "\n",
    "country_data[countries_in_EU][countries_in_EU_not_RUS][['area']].plot(kind='hist', bins=30, density=True)\n",
    "#// END_TODO [EDA_14e]"
   ]
  },
  {
   "attachments": {},
   "cell_type": "markdown",
   "metadata": {},
   "source": [
    "### Exercise 14.f\n",
    "\n",
    "Show a density plot for the country _area_ in _Europe_ without _Russia_."
   ]
  },
  {
   "cell_type": "code",
   "execution_count": 141,
   "metadata": {},
   "outputs": [
    {
     "data": {
      "text/plain": "<Axes: ylabel='Density'>"
     },
     "execution_count": 141,
     "metadata": {},
     "output_type": "execute_result"
    },
    {
     "data": {
      "text/plain": "<Figure size 1000x500 with 1 Axes>",
      "image/png": "[encoded data removed]"
     },
     "metadata": {},
     "output_type": "display_data"
    }
   ],
   "source": [
    "#// BEGIN_TODO [EDA_14f] Density plot for area per country in Europe (1 point)\n",
    "\n",
    "country_data[countries_in_EU][countries_in_EU_not_RUS][['area']].plot(kind='density')\n",
    "\n",
    "#// END_TODO [EDA_14f]"
   ]
  },
  {
   "attachments": {},
   "cell_type": "markdown",
   "metadata": {},
   "source": [
    "### Exercise 14.g\n",
    "\n",
    "Show a box plot for the country _area_ in _Europe_ without *Russia*:"
   ]
  },
  {
   "cell_type": "code",
   "execution_count": 142,
   "metadata": {},
   "outputs": [
    {
     "data": {
      "text/plain": "<Axes: >"
     },
     "execution_count": 142,
     "metadata": {},
     "output_type": "execute_result"
    },
    {
     "data": {
      "text/plain": "<Figure size 1000x500 with 1 Axes>",
      "image/png": "[encoded data removed]"
     },
     "metadata": {},
     "output_type": "display_data"
    }
   ],
   "source": [
    "#// BEGIN_TODO [EDA_14g] Box plot for area per country in Europe without Russia (1 point)\n",
    "\n",
    "country_data[countries_in_EU][countries_in_EU_not_RUS][['area']].plot(kind='box')\n",
    "\n",
    "#// END_TODO [EDA_14g]"
   ]
  },
  {
   "attachments": {},
   "cell_type": "markdown",
   "metadata": {},
   "source": [
    "### Exercise 14.h\n",
    "\n",
    "Creat a box plot for country _area_ grouped by *continent*:"
   ]
  },
  {
   "cell_type": "code",
   "execution_count": 143,
   "metadata": {},
   "outputs": [
    {
     "data": {
      "text/plain": "<Axes: title={'center': 'area'}, xlabel='continent'>"
     },
     "execution_count": 143,
     "metadata": {},
     "output_type": "execute_result"
    },
    {
     "data": {
      "text/plain": "<Figure size 1000x500 with 1 Axes>",
      "image/png": "[encoded data removed]"
     },
     "metadata": {},
     "output_type": "display_data"
    }
   ],
   "source": [
    "#// BEGIN_TODO [EDA_14h] Box plots for country area grouped by continent (1 point)\n",
    "country_data.boxplot(column='area', by='continent')\n",
    "#// END_TODO [EDA_14h]"
   ]
  },
  {
   "attachments": {},
   "cell_type": "markdown",
   "metadata": {},
   "source": [
    "### Exercise 14.i\n",
    "\n",
    "Show a scatter plot that plots _area_ against _population_\n",
    "for countries in _Europe_ without *Russia*:"
   ]
  },
  {
   "cell_type": "code",
   "execution_count": 144,
   "metadata": {},
   "outputs": [
    {
     "data": {
      "text/plain": "<Axes: xlabel='area', ylabel='population'>"
     },
     "execution_count": 144,
     "metadata": {},
     "output_type": "execute_result"
    },
    {
     "data": {
      "text/plain": "<Figure size 1000x500 with 1 Axes>",
      "image/png": "[encoded data removed]"
     },
     "metadata": {},
     "output_type": "display_data"
    }
   ],
   "source": [
    "#// BEGIN_TODO [EDA_14i] Scatter plot for area against population for countries in Europe without Russia (1 point)\n",
    "\n",
    "country_data[countries_in_EU][countries_in_EU_not_RUS].plot(kind='scatter', x='area', y='population', color='orange')\n",
    "#// END_TODO [EDA_14i]"
   ]
  },
  {
   "attachments": {},
   "cell_type": "markdown",
   "metadata": {},
   "source": [
    "# 15. Exercise: Speed of Light\n",
    "\n",
    "Now, let us put your data exploration skills to the test by evaluating an old experiment measuring the speed of light.\n",
    "\n",
    "\n",
    "In the earlier exercises you were closely guided. In the following exercises we will put your knowledge to the test.\n",
    "\n",
    "Note that these exercises may seem more difficult as you will need to work more indepedently. When you struggle with an exercise then go back to the corresponding earlier section and make sure you really understand the introduced concepts. Do not hesitate to experiment with your own code!\n",
    "\n",
    "\n",
    "In the 19th century, French physicists Fizeau and Foucault independently invented ways to measure the speed of light. Foucault's method turned out to be the most accurate one. The American physicists Michelson and Newcomb improved Foucault's method. The data set `light.csv` contains measurements by Newcomb from 1882."
   ]
  },
  {
   "attachments": {},
   "cell_type": "markdown",
   "metadata": {},
   "source": [
    "### Exercise 15.a: Load the Data Set\n",
    "\n",
    "Write Python code to load the data set into a Pandas `DataFrame` named `df_light` and show the first 10 rows."
   ]
  },
  {
   "cell_type": "code",
   "execution_count": 145,
   "metadata": {},
   "outputs": [
    {
     "data": {
      "text/plain": "   Measurement\n0           28\n1           26\n2           33\n3           24\n4           34\n5          -44\n6           27\n7           16\n8           40\n9           -2",
      "text/html": "<div>\n<style scoped>\n    .dataframe tbody tr th:only-of-type {\n        vertical-align: middle;\n    }\n\n    .dataframe tbody tr th {\n        vertical-align: top;\n    }\n\n    .dataframe thead th {\n        text-align: right;\n    }\n</style>\n<table border=\"1\" class=\"dataframe\">\n  <thead>\n    <tr style=\"text-align: right;\">\n      <th></th>\n      <th>Measurement</th>\n    </tr>\n  </thead>\n  <tbody>\n    <tr>\n      <th>0</th>\n      <td>28</td>\n    </tr>\n    <tr>\n      <th>1</th>\n      <td>26</td>\n    </tr>\n    <tr>\n      <th>2</th>\n      <td>33</td>\n    </tr>\n    <tr>\n      <th>3</th>\n      <td>24</td>\n    </tr>\n    <tr>\n      <th>4</th>\n      <td>34</td>\n    </tr>\n    <tr>\n      <th>5</th>\n      <td>-44</td>\n    </tr>\n    <tr>\n      <th>6</th>\n      <td>27</td>\n    </tr>\n    <tr>\n      <th>7</th>\n      <td>16</td>\n    </tr>\n    <tr>\n      <th>8</th>\n      <td>40</td>\n    </tr>\n    <tr>\n      <th>9</th>\n      <td>-2</td>\n    </tr>\n  </tbody>\n</table>\n</div>"
     },
     "execution_count": 145,
     "metadata": {},
     "output_type": "execute_result"
    }
   ],
   "source": [
    "file_light = './datasets/light.csv'\n",
    "\n",
    "#// BEGIN_TODO [EDA_15a] Load the data set and show first 10 rows (1 point)\n",
    "\n",
    "df_light = pd.read_csv(file_light)\n",
    "df_light.head(10)\n",
    "#// END_TODO [EDA_15a]"
   ]
  },
  {
   "attachments": {},
   "cell_type": "markdown",
   "metadata": {},
   "source": [
    "### Exercise 15.b: Summary Statistics of Raw Values\n",
    "\n",
    "Show the summary statistics for the `df_light` data frame."
   ]
  },
  {
   "cell_type": "code",
   "execution_count": 146,
   "metadata": {},
   "outputs": [
    {
     "data": {
      "text/plain": "       Measurement\ncount    66.000000\nmean     26.212121\nstd      10.745325\nmin     -44.000000\n25%      24.000000\n50%      27.000000\n75%      30.750000\nmax      40.000000",
      "text/html": "<div>\n<style scoped>\n    .dataframe tbody tr th:only-of-type {\n        vertical-align: middle;\n    }\n\n    .dataframe tbody tr th {\n        vertical-align: top;\n    }\n\n    .dataframe thead th {\n        text-align: right;\n    }\n</style>\n<table border=\"1\" class=\"dataframe\">\n  <thead>\n    <tr style=\"text-align: right;\">\n      <th></th>\n      <th>Measurement</th>\n    </tr>\n  </thead>\n  <tbody>\n    <tr>\n      <th>count</th>\n      <td>66.000000</td>\n    </tr>\n    <tr>\n      <th>mean</th>\n      <td>26.212121</td>\n    </tr>\n    <tr>\n      <th>std</th>\n      <td>10.745325</td>\n    </tr>\n    <tr>\n      <th>min</th>\n      <td>-44.000000</td>\n    </tr>\n    <tr>\n      <th>25%</th>\n      <td>24.000000</td>\n    </tr>\n    <tr>\n      <th>50%</th>\n      <td>27.000000</td>\n    </tr>\n    <tr>\n      <th>75%</th>\n      <td>30.750000</td>\n    </tr>\n    <tr>\n      <th>max</th>\n      <td>40.000000</td>\n    </tr>\n  </tbody>\n</table>\n</div>"
     },
     "execution_count": 146,
     "metadata": {},
     "output_type": "execute_result"
    }
   ],
   "source": [
    "#// BEGIN_TODO [EDA_15b] Summary statistics (1 point)\n",
    "\n",
    "df_light.describe()\n",
    "#// END_TODO [EDA_15b]"
   ]
  },
  {
   "attachments": {},
   "cell_type": "markdown",
   "metadata": {},
   "source": [
    "### Exercise 15.c: Observation\n",
    "\n",
    "Looking at the summary statistics, what do you observe? Select one of the answers below and assign your answer as a string to the variable `stats_observation`, e.g. `stats_observation = 'a'`.\n",
    "\n",
    "a) The mean and the median are equal.\n",
    "\n",
    "b) It is not clear how these values are related to the speed of light.\n",
    "\n",
    "c) On average, the values are as expected.\n",
    "\n",
    "d) The median is in the middle between the min and max and equal to -2."
   ]
  },
  {
   "cell_type": "code",
   "execution_count": 147,
   "metadata": {},
   "outputs": [
    {
     "data": {
      "text/plain": "'b'"
     },
     "execution_count": 147,
     "metadata": {},
     "output_type": "execute_result"
    }
   ],
   "source": [
    "#// BEGIN_TODO [EDA_15c] What do you notice? (1 point)\n",
    "\n",
    "stats_observation = 'b'\n",
    "\n",
    "#// END_TODO [EDA_15c]\n",
    "\n",
    "stats_observation"
   ]
  },
  {
   "attachments": {},
   "cell_type": "markdown",
   "metadata": {},
   "source": [
    "### Exercise 15.d: Add Column with the Decoded Speed\n",
    "\n",
    "It turns out that Newcomb encoded his measurements to get smaller numbers to save space in his table. The coding of these measurements was as follows:\n",
    "\n",
    "> From the original measurements of time (**in microseconds**) needed by light to travel a distance of 7442 meters,\n",
    "> first 24.8 was subtracted,\n",
    "> after which the results were multiplied with 1000.\n",
    "\n",
    "Create a new column labeled `\"Speed [km/s]\"` in your data set with the measured light speed in km/s.\n",
    "\n",
    "<span class=\"t\">Hint<span class=\"c\">:</span></span>\n",
    "<span class=\"h\">\n",
    "Write down on a piece of paper the formula that Newcomb used to encode his measurements. This will help you to reverse the computation.\n",
    "</span>"
   ]
  },
  {
   "cell_type": "code",
   "execution_count": 148,
   "metadata": {},
   "outputs": [
    {
     "data": {
      "text/plain": "    Measurement   Speed [km/s]\n0            28  299742.226518\n1            26  299766.373963\n2            33  299681.874924\n3            24  299790.525298\n4            34  299669.807522\n..          ...            ...\n61           27  299754.299754\n62           28  299742.226518\n63           29  299730.154255\n64           16  299887.169568\n65           23  299802.602425\n\n[66 rows x 2 columns]",
      "text/html": "<div>\n<style scoped>\n    .dataframe tbody tr th:only-of-type {\n        vertical-align: middle;\n    }\n\n    .dataframe tbody tr th {\n        vertical-align: top;\n    }\n\n    .dataframe thead th {\n        text-align: right;\n    }\n</style>\n<table border=\"1\" class=\"dataframe\">\n  <thead>\n    <tr style=\"text-align: right;\">\n      <th></th>\n      <th>Measurement</th>\n      <th>Speed [km/s]</th>\n    </tr>\n  </thead>\n  <tbody>\n    <tr>\n      <th>0</th>\n      <td>28</td>\n      <td>299742.226518</td>\n    </tr>\n    <tr>\n      <th>1</th>\n      <td>26</td>\n      <td>299766.373963</td>\n    </tr>\n    <tr>\n      <th>2</th>\n      <td>33</td>\n      <td>299681.874924</td>\n    </tr>\n    <tr>\n      <th>3</th>\n      <td>24</td>\n      <td>299790.525298</td>\n    </tr>\n    <tr>\n      <th>4</th>\n      <td>34</td>\n      <td>299669.807522</td>\n    </tr>\n    <tr>\n      <th>...</th>\n      <td>...</td>\n      <td>...</td>\n    </tr>\n    <tr>\n      <th>61</th>\n      <td>27</td>\n      <td>299754.299754</td>\n    </tr>\n    <tr>\n      <th>62</th>\n      <td>28</td>\n      <td>299742.226518</td>\n    </tr>\n    <tr>\n      <th>63</th>\n      <td>29</td>\n      <td>299730.154255</td>\n    </tr>\n    <tr>\n      <th>64</th>\n      <td>16</td>\n      <td>299887.169568</td>\n    </tr>\n    <tr>\n      <th>65</th>\n      <td>23</td>\n      <td>299802.602425</td>\n    </tr>\n  </tbody>\n</table>\n<p>66 rows × 2 columns</p>\n</div>"
     },
     "execution_count": 148,
     "metadata": {},
     "output_type": "execute_result"
    }
   ],
   "source": [
    "#// BEGIN_TODO [EDA_15d] Added column with speed in km/s (3 points)\n",
    "\n",
    "df_light['Speed [km/s]'] = 7.442 / (df_light['Measurement'] / 1e3 + 24.8) * 1e6\n",
    "df_light\n",
    "#// END_TODO [EDA_15d]"
   ]
  },
  {
   "attachments": {},
   "cell_type": "markdown",
   "metadata": {},
   "source": [
    "### Exercise 15.e: Summary Statistics of the Decoded Speed\n",
    "\n",
    "Show the summary statistics for only the speed of light in km/s."
   ]
  },
  {
   "cell_type": "code",
   "execution_count": 149,
   "metadata": {},
   "outputs": [
    {
     "data": {
      "text/plain": "        Speed [km/s]\ncount      66.000000\nmean   299763.868098\nstd       129.995513\nmin    299597.423510\n25%    299709.030225\n50%    299754.299754\n75%    299790.525298\nmax    300613.992567",
      "text/html": "<div>\n<style scoped>\n    .dataframe tbody tr th:only-of-type {\n        vertical-align: middle;\n    }\n\n    .dataframe tbody tr th {\n        vertical-align: top;\n    }\n\n    .dataframe thead th {\n        text-align: right;\n    }\n</style>\n<table border=\"1\" class=\"dataframe\">\n  <thead>\n    <tr style=\"text-align: right;\">\n      <th></th>\n      <th>Speed [km/s]</th>\n    </tr>\n  </thead>\n  <tbody>\n    <tr>\n      <th>count</th>\n      <td>66.000000</td>\n    </tr>\n    <tr>\n      <th>mean</th>\n      <td>299763.868098</td>\n    </tr>\n    <tr>\n      <th>std</th>\n      <td>129.995513</td>\n    </tr>\n    <tr>\n      <th>min</th>\n      <td>299597.423510</td>\n    </tr>\n    <tr>\n      <th>25%</th>\n      <td>299709.030225</td>\n    </tr>\n    <tr>\n      <th>50%</th>\n      <td>299754.299754</td>\n    </tr>\n    <tr>\n      <th>75%</th>\n      <td>299790.525298</td>\n    </tr>\n    <tr>\n      <th>max</th>\n      <td>300613.992567</td>\n    </tr>\n  </tbody>\n</table>\n</div>"
     },
     "execution_count": 149,
     "metadata": {},
     "output_type": "execute_result"
    }
   ],
   "source": [
    "#// BEGIN_TODO [EDA_15e] Summary statics of speed (1 point)\n",
    "\n",
    "df_light[['Speed [km/s]']].describe()\n",
    "#// END_TODO [EDA_15e]"
   ]
  },
  {
   "attachments": {},
   "cell_type": "markdown",
   "metadata": {},
   "source": [
    "### Exercise 15.f: Make a Dot Plot\n",
    "\n",
    "Make a dot plot of the speed of light in km/s against the observation number (the observations are ordered by time)."
   ]
  },
  {
   "cell_type": "code",
   "execution_count": 150,
   "metadata": {},
   "outputs": [
    {
     "data": {
      "text/plain": "<Axes: >"
     },
     "execution_count": 150,
     "metadata": {},
     "output_type": "execute_result"
    },
    {
     "data": {
      "text/plain": "<Figure size 1000x500 with 1 Axes>",
      "image/png": "[encoded data removed]"
     },
     "metadata": {},
     "output_type": "display_data"
    }
   ],
   "source": [
    "#// BEGIN_TODO [EDA_15f] Plot data against observation number (1 point)\n",
    "\n",
    "df_light[['Speed [km/s]']].plot(marker='o', linestyle='')\n",
    "#// END_TODO [EDA_15f]"
   ]
  },
  {
   "attachments": {},
   "cell_type": "markdown",
   "metadata": {},
   "source": [
    "### Exercise 15.g: Remove Suspicious Rows\n",
    "\n",
    "Clean the data by removing any suspicious observations that you found by visually inspecting the plot in the previous question. Store the modified `DataFrame` under the name `df_light_clean`, and recompute the summary statistics of the speed of light in km/s in `df_light_clean`.\n",
    "\n",
    "<span class=\"t\">Hint<span class=\"c\">:</span></span>\n",
    "<span class=\"h\">\n",
    "You are encouraged to add new markdown and code cells between the marker lines to explain the steps you are taking, e.g. what you define as a suspicious observation. You can simply drop a list of indexes of rows containing the suspicious observations.\n",
    "</span>"
   ]
  },
  {
   "cell_type": "code",
   "execution_count": 151,
   "metadata": {},
   "outputs": [],
   "source": [
    "#// BEGIN_TODO [EDA_15g] Remove suspicious rows (3 points)\n",
    "\n",
    "df_light_clean = df_light[(df_light['Speed [km/s]'] <= df_light['Speed [km/s]'].quantile(.75) + (df_light['Speed [km/s]'].quantile(.75) - df_light['Speed [km/s]'].quantile(.25)) * 1.5) & (df_light['Speed [km/s]'] >= df_light['Speed [km/s]'].quantile(.25) - (df_light['Speed [km/s]'].quantile(.75) - df_light['Speed [km/s]'].quantile(.25)) * 1.5)]"
   ]
  },
  {
   "cell_type": "markdown",
   "source": [
    "I simply removed the outliers based on the Inter-quartile Range computation taught in this course"
   ],
   "metadata": {
    "collapsed": false
   }
  },
  {
   "cell_type": "code",
   "execution_count": 152,
   "metadata": {},
   "outputs": [],
   "source": [
    "#// END_TODO [EDA_15g]"
   ]
  },
  {
   "attachments": {},
   "cell_type": "markdown",
   "metadata": {},
   "source": [
    "### Exercise 15.h: Find the Definition of the Speed of Light\n",
    "\n",
    "Since the time when Newcomb did his experiments, the speed of light has been precisely defined. Find (using external sources) the definition of the speed of light in km/s. Assign this value (in km/s) to the variable `speed_of_light`.\n",
    "\n",
    "> Note that this is no longer an estimate of the speed of light but rather a definition, because these days the meter is defined in terms of the distance light travels in one second."
   ]
  },
  {
   "cell_type": "code",
   "execution_count": 153,
   "metadata": {},
   "outputs": [
    {
     "data": {
      "text/plain": "299792"
     },
     "execution_count": 153,
     "metadata": {},
     "output_type": "execute_result"
    }
   ],
   "source": [
    "#// BEGIN_TODO [EDA_15h] Current estimate of the speed of light (1 point)\n",
    "\n",
    "speed_of_light = 299792\n",
    "#// END_TODO [EDA_15h]\n",
    "\n",
    "speed_of_light"
   ]
  },
  {
   "attachments": {},
   "cell_type": "markdown",
   "metadata": {},
   "source": [
    "### Exercise 15.i: Compare to Newcomb's Estimate\n",
    "\n",
    "Is the value of `speed_of_light` in the previous exercise consistent with Newcomb's measurements in the _cleaned_ data?\n",
    "\n",
    "Compute the **relative error percentage** of Newcomb's mean value in `df_light_clean` with respect to the current definition `speed_of_light`, i.e.\n",
    "\n",
    "$$\n",
    "\\textsf{relative error percentage} = \\frac{(\\textsf{Newcomb's mean value}) - (\\textsf{current definition})}{\\textsf{current definition}} \\times 100\n",
    "$$\n",
    "\n",
    "Assign your computed relative error percentage to the variable `newcomb_rel`."
   ]
  },
  {
   "cell_type": "code",
   "execution_count": 154,
   "metadata": {},
   "outputs": [],
   "source": [
    "#// BEGIN_TODO [EDA_15i] Compare to Newcomb's measurements (2 points)\n",
    "\n",
    "newcomb_rel = (df_light['Speed [km/s]'].mean() - speed_of_light) / speed_of_light * 100\n"
   ]
  },
  {
   "cell_type": "code",
   "execution_count": 155,
   "metadata": {},
   "outputs": [
    {
     "data": {
      "text/plain": "-0.00938380673696817"
     },
     "execution_count": 155,
     "metadata": {},
     "output_type": "execute_result"
    }
   ],
   "source": [
    "#// END_TODO [EDA_15i]\n",
    "\n",
    "newcomb_rel"
   ]
  },
  {
   "cell_type": "markdown",
   "metadata": {},
   "source": [
    "# Feedback\n",
    "\n",
    "Please fill in this questionaire to help us improve this course for the next year. Your feedback will be anonymized and will not affect your grade in any way!"
   ]
  },
  {
   "cell_type": "markdown",
   "metadata": {},
   "source": [
    "### How many hours did you spend on these Exercises?\n",
    "\n",
    "Assign a number to `feedback_time`."
   ]
  },
  {
   "cell_type": "code",
   "execution_count": 156,
   "metadata": {},
   "outputs": [
    {
     "data": {
      "text/plain": "5"
     },
     "execution_count": 156,
     "metadata": {},
     "output_type": "execute_result"
    }
   ],
   "source": [
    "#// BEGIN_FEEDBACK [Feedback_1] (0 point)\n",
    "feedback_time = 5\n",
    "#// END_FEEDBACK [Feedback_1] (0 point)\n",
    "\n",
    "import numbers\n",
    "assert isinstance(feedback_time, numbers.Number), \"Please assign a number to feedback_time\"\n",
    "feedback_time"
   ]
  },
  {
   "cell_type": "markdown",
   "metadata": {},
   "source": [
    "### How difficult did you find these Exercises?\n",
    "\n",
    "Assign an integer to `feedback_difficulty`, on a scale 0 - 10, with 0 being very easy, 5 being just right, and 10 being very difficult."
   ]
  },
  {
   "cell_type": "code",
   "execution_count": 157,
   "metadata": {},
   "outputs": [
    {
     "data": {
      "text/plain": "5"
     },
     "execution_count": 157,
     "metadata": {},
     "output_type": "execute_result"
    }
   ],
   "source": [
    "#// BEGIN_FEEDBACK [Feedback_2] (0 point)\n",
    "feedback_difficulty = 5\n",
    "#// END_FEEDBACK [Feedback_2] (0 point)\n",
    "\n",
    "import numbers\n",
    "assert isinstance(feedback_difficulty, numbers.Number), \"Please assign a number to feedback_difficulty\"\n",
    "feedback_difficulty"
   ]
  },
  {
   "cell_type": "markdown",
   "metadata": {},
   "source": [
    "### (Optional) What did you like?\n",
    "\n",
    "Assign a string to `feedback_like`."
   ]
  },
  {
   "cell_type": "code",
   "execution_count": 158,
   "metadata": {},
   "outputs": [],
   "source": [
    "#// BEGIN_FEEDBACK [Feedback_3] (0 point)\n",
    "feedback_like = 'the interesting datasets'\n",
    "#// END_FEEDBACK [Feedback_3] (0 point)"
   ]
  },
  {
   "cell_type": "markdown",
   "metadata": {},
   "source": [
    "### (Optional) What can be improved?\n",
    "\n",
    "Assign a string to `feedback_improve`. Please be specific, so that we can act on your feedback. For example, mention the specific exercises and what was unclear."
   ]
  },
  {
   "cell_type": "code",
   "execution_count": 159,
   "metadata": {},
   "outputs": [],
   "source": [
    "#// BEGIN_FEEDBACK [Feedback_4] (0 point)\n",
    "feedback_improve = 'which graph under the situation of exercise is most appropriate'\n",
    "#// END_FEEDBACK [Feedback_4] (0 point)"
   ]
  },
  {
   "attachments": {},
   "cell_type": "markdown",
   "metadata": {},
   "source": [
    "\n",
    "\n",
    "\n",
    "## How to Submit Your Work\n",
    "\n",
    "1. **Before submitting**, you must run your notebook by doing **Kernel > Restart & Run All**.  \n",
    "   Make sure that your notebook runs without errors **in linear order**.\n",
    "1. Remember to rename the notebook, replacing `...-template.ipynb` with `...-yourIDnr.ipynb`, where `yourIDnr` is your TU/e identification number.\n",
    "1. Submit the executed notebook with your work\n",
    "   for the appropriate assignment in **Canvas**.\n",
    "1. In the **Momotor** tab in Canvas,\n",
    "  you can select that assignment again to find some feedback on your submitted work.\n",
    "  If there are any problems reported by _Momotor_,\n",
    "  then you need to fix those,\n",
    "  and **resubmit the fixed notebook**.\n",
    "\n",
    "In case of a high workload on our server\n",
    "(because many students submit close to the deadline),\n",
    "it may take longer to receive the feedback.\n",
    "\n",
    "\n"
   ]
  },
  {
   "cell_type": "markdown",
   "metadata": {},
   "source": [
    "---"
   ]
  },
  {
   "cell_type": "code",
   "execution_count": 160,
   "metadata": {},
   "outputs": [
    {
     "name": "stdout",
     "output_type": "stream",
     "text": [
      "Variable                      Type                Data/Info\n",
      "-----------------------------------------------------------\n",
      "AUTHOR_DATE                   str                 2023-11-20\n",
      "AUTHOR_ID_NR                  str                 1920847\n",
      "AUTHOR_NAME                   str                 Shiyun Kong\n",
      "HTML                          type                <class 'IPython.core.display.HTML'>\n",
      "area                          Series              0          468.0\\n1      <...>ngth: 251, dtype: float64\n",
      "capital_kingston              Series              0      False\\n1      Fals<...> Length: 251, dtype: bool\n",
      "countries_in_EU               Series              0       True\\n1      Fals<...> Length: 251, dtype: bool\n",
      "countries_in_EU_not_RUS       Series              0       True\\n5       Tru<...>ame: alpha_3, dtype: bool\n",
      "country_data                  DataFrame                                name<...>\\n[251 rows x 10 columns]\n",
      "country_data_sorted_by_area   DataFrame                index         area\\n<...>n\\n[251 rows x 2 columns]\n",
      "country_data_sorted_by_pop    DataFrame                index               <...>n\\n[251 rows x 8 columns]\n",
      "days                          list                n=4\n",
      "df                            DataFrame              A      B      C\\n0  1 <...>False\\n3  4   four   True\n",
      "df_drop                       DataFrame              A      B\\n0  1    one\\<...>n2  3  three\\n3  4   four\n",
      "df_example                    DataFrame              A      B      C\\n0  1 <...>False\\n2  3  three  False\n",
      "df_expenses                   DataFrame                           Expenses <...>    1                1115\n",
      "df_index                      DataFrame                  A      C\\nB       <...>3   True\\nfour   4   True\n",
      "df_light                      DataFrame               Measurement   Speed [<...>\\n\\n[66 rows x 2 columns]\n",
      "df_light_clean                DataFrame               Measurement   Speed [<...>\\n\\n[64 rows x 2 columns]\n",
      "df_shopping_list              DataFrame                 Item  Price (Euros)<...>4  carrots            1.5\n",
      "df_shopping_list_index        DataFrame                    Price (Euros)\\nI<...>0\\ncarrots            1.5\n",
      "df_short_list                 DataFrame                 Item  Price (Euros)<...>3  bananas            2.5\n",
      "df_shorter_list               DataFrame               Item  Price (Euros)\\n<...>\\n2  chips            2.7\n",
      "df_slice                      DataFrame              A      B      C\\n1  8 <...> True\\n2  3  three  False\n",
      "df_truth                      DataFrame                  A      B  A or B  <...>lse   False          True\n",
      "df_years                      DataFrame                Name  Year of birth\\<...>n4  Simone           1962\n",
      "expenses                      list                n=4\n",
      "feedback_difficulty           int                 5\n",
      "feedback_improve              str                 which graph under the sit<...>rcise is most appropriate\n",
      "feedback_like                 str                 the interesting datasets\n",
      "feedback_time                 int                 5\n",
      "file_countries                str                 ./datasets/country.csv\n",
      "file_light                    str                 ./datasets/light.csv\n",
      "grouped                       DataFrameGroupBy    <pandas.core.groupby.gene<...>ct at 0x00000201A76D3E20>\n",
      "items                         list                n=5\n",
      "large_population              Series              0      False\\n1      Fals<...> Length: 251, dtype: bool\n",
      "mask                          list                n=5\n",
      "mean                          float64             597251.7517529881\n",
      "months                        list                n=4\n",
      "names                         list                n=5\n",
      "newcomb_rel                   float64             -0.00938380673696817\n",
      "np                            module              <module 'numpy' from 'C:\\<...>ges\\\\numpy\\\\__init__.py'>\n",
      "numbers                       module              <module 'numbers' from 'C<...>s\\\\TUe\\\\lib\\\\numbers.py'>\n",
      "pd                            module              <module 'pandas' from 'C:<...>es\\\\pandas\\\\__init__.py'>\n",
      "plt                           module              <module 'matplotlib.pyplo<...>\\\\matplotlib\\\\pyplot.py'>\n",
      "pop_less_20M                  Series              0       True\\n1       Tru<...> Length: 251, dtype: bool\n",
      "pop_more_10M                  Series              0      False\\n1      Fals<...> Length: 251, dtype: bool\n",
      "population                    Series              0         84000\\n1       <...>Length: 251, dtype: int64\n",
      "prices                        list                n=5\n",
      "se_shopping_list              Series              bread      2.0\\nmilk     <...>e (Euros), dtype: float64\n",
      "se_years                      Series              Peter     1998\\nAnna     <...>rs of birth, dtype: int64\n",
      "sns                           module              <module 'seaborn' from 'C<...>s\\\\seaborn\\\\__init__.py'>\n",
      "speed_of_light                int                 299792\n",
      "stats_observation             str                 b\n",
      "stdev                         float               1908367.9538216228\n",
      "value                         int                 468\n",
      "years                         list                n=4\n",
      "zscore                        float64             -0.31271943681400244\n"
     ]
    }
   ],
   "source": [
    "# List all defined names\n",
    "%whos"
   ]
  },
  {
   "cell_type": "markdown",
   "metadata": {},
   "source": [
    "---\n",
    "\n",
    "# (End of Notebook) <span class=\"tocSkip\"></span>\n",
    "\n",
    "&copy; 2017-2023 - **TU/e** - Eindhoven University of Technology"
   ]
  }
 ],
 "metadata": {
  "hide_input": false,
  "kernelspec": {
   "display_name": "Python 3",
   "language": "python",
   "name": "python3"
  },
  "language_info": {
   "codemirror_mode": {
    "name": "ipython",
    "version": 3
   },
   "file_extension": ".py",
   "mimetype": "text/x-python",
   "name": "python",
   "nbconvert_exporter": "python",
   "pygments_lexer": "ipython3",
   "version": "3.10.9"
  },
  "toc": {
   "base_numbering": 1,
   "nav_menu": {
    "height": "228px",
    "width": "252px"
   },
   "number_sections": false,
   "sideBar": true,
   "skip_h1_title": false,
   "title_cell": "Table of Contents",
   "title_sidebar": "Contents",
   "toc_cell": true,
   "toc_position": {
    "height": "calc(100% - 180px)",
    "left": "10px",
    "top": "150px",
    "width": "308.594px"
   },
   "toc_section_display": "block",
   "toc_window_display": true
  },
  "varInspector": {
   "cols": {
    "lenName": 16,
    "lenType": 16,
    "lenVar": 40
   },
   "kernels_config": {
    "python": {
     "delete_cmd_postfix": "",
     "delete_cmd_prefix": "del ",
     "library": "var_list.py",
     "varRefreshCmd": "print(var_dic_list())"
    },
    "r": {
     "delete_cmd_postfix": ") ",
     "delete_cmd_prefix": "rm(",
     "library": "var_list.r",
     "varRefreshCmd": "cat(var_dic_list()) "
    }
   },
   "types_to_exclude": [
    "module",
    "function",
    "builtin_function_or_method",
    "instance",
    "_Feature"
   ],
   "window_display": false
  },
  "vscode": {
   "interpreter": {
    "hash": "60e5673dee0b20898bfa4f3c497959fb0c8d0d39a7f6ea9d7f166a7012267d3f"
   }
  }
 },
 "nbformat": 4,
 "nbformat_minor": 4
}
