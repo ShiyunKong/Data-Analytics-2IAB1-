{
 "cells": [
  {
   "attachments": {},
   "cell_type": "markdown",
   "metadata": {},
   "source": [
    "# Programming Lesson and Exercises - EDA\n",
    "\n",
    "The goal of these programming lesson and exercises is to teach you how to perform _Exploratory Data Analysis_."
   ]
  },
  {
   "attachments": {},
   "cell_type": "markdown",
   "metadata": {},
   "source": [
    "\n",
    "This notebook has the following structure:\n",
    "\n",
    "- The first part introduces the concepts for this week. The theory is interleaved with small exercises, which have the goal of letting you practice the concepts that were just intruduced.\n",
    "- At the end there are one or more larger exercises, which have the goal to test what you have learned earlier. These will be more difficult and will require more independent work than the exercises in the first part.\n",
    "\n",
    "All exercises can be solved with the concepts that were introduced earlier. Since there are often more than one correct way to solve a programming problem, we try to accept various correct anwers. However, many of the automatic tests in Momotor (see _How to submit your work_ below) assume that your answers are constructed using the concepts introduced in these notebooks. If you look for answers on the Internet (e.g. if you import other libraries) you run the risk that your answers will be rejected.\n",
    "\n",
    "Some of the small exercises can be solved by copy-pasting code from the examples. However, it is up to you to try to solve the exercises yourself, which will help you learn, before copy-pasting the answers. The ease of looking up answers is meant to provide guidance when you get stuck, especially for those of you who are new to programming.\n",
    "\n",
    "For your convenience, in the `support` directory you will find a summary of the Python methods introduced in this notebook.\n",
    "\n",
    "\n",
    "\n",
    "# Introduction to This Template Notebook\n",
    "\n",
    "* This is a **personal** notebook.\n",
    "* Make sure you work in a **copy** of `...-template.ipynb`,\n",
    "**renamed** to `...-yourIDnr.ipynb`,\n",
    "where `yourIDnr` is your TU/e identification number.\n",
    "\n",
    "<div class=\"alert alert-danger\" role=\"danger\">\n",
    "<h3>Integrity</h3>\n",
    "<ul>\n",
    "    <li>In this course you must act according to the rules of the TU/e code of scientific conduct.</li>\n",
    "    <li>All the exercises and the graded assignments are to be executed individually and independently.</li>\n",
    "    <li>You must not copy from the Internet, your friends, books... If you represent other people's work as your own, then that constitutes fraud and will be reported to the Examination Committee.</li>\n",
    "    <li>Making your work available to others (complicity) also constitutes fraud.</li>\n",
    "</ul>\n",
    "</div>\n",
    "\n",
    "You are expected to work with Python code in this notebook.\n",
    "\n",
    "The locations where you should write your solutions can be recognized by\n",
    "**marker lines**,\n",
    "which look like this:\n",
    "\n",
    ">`#//`\n",
    ">    `BEGIN_TODO [Label]` `Description` `(n points)`\n",
    ">\n",
    ">`#//`\n",
    ">    `END_TODO [Label]`\n",
    "\n",
    "<div class=\"alert alert-warning\" role=\"alert\">Do NOT modify or delete these marker lines.  Keep them as they are.<br/>\n",
    "NEVER write code <i>outside</i> the marked blocks.\n",
    "Such code cannot be evaluated.\n",
    "</div>\n",
    "\n",
    "Proceed in this notebook as follows:\n",
    "* **Read** the text.\n",
    "* **Fill in** your solutions between `BEGIN_TODO` and `END_TODO` marker lines.\n",
    "* **Run** _all_ code cells (also the ones _without_ your code),\n",
    "    _in linear order_ from the first code cell.\n",
    "\n",
    "**Personalize your notebook**:\n",
    "1. Copy the following three lines of code:\n",
    "\n",
    "  ```python\n",
    "  AUTHOR_NAME = 'Your Full Name'\n",
    "  AUTHOR_ID_NR = '1234567'\n",
    "  AUTHOR_DATE = 'YYYY-MM-DD'\n",
    "  ```\n",
    "1. Paste them between the marker lines in the next code cell.\n",
    "1. Fill in your _full name_, _identification number_, and the current _date_ (i.e. when you first modified this notebook, e.g. '2023-11-01') as strings between the `Author` markers.\n",
    "1. Run the code cell by putting the cursor there and typing **Control-Enter**.\n"
   ]
  },
  {
   "cell_type": "code",
   "execution_count": null,
   "metadata": {},
   "outputs": [],
   "source": [
    "#// BEGIN_TODO [Author] Name, Id.nr., Date, as strings (1 point)\n",
    "\n",
    "# ===== =====> Replace this line by your code. <===== ===== #\n",
    "\n",
    "#// END_TODO [Author]"
   ]
  },
  {
   "attachments": {},
   "cell_type": "markdown",
   "metadata": {},
   "source": [
    "## Table of Contents\n",
    "\n",
    "- [Learning Objectives](#Learning-Objectives)\n",
    "- [Introduction](#Introduction)  \n",
    "    - [Other Learning Resources for Pandas](#Other-Learning-Resources-for-Pandas)\n",
    "- [Loading the Library](#Loading-the-Library)\n",
    "- [1. Data Frames](#1.-Data-Frames) \n",
    "  - [Information About a `DataFrame`](#Information-About-a-DataFrame)\n",
    "  - [Exercise 1.a](#Exercise-1.a)\n",
    "  - [Exercise 1.b](#Exercise-1.b)\n",
    "- [2 .`Index` and `Series` Objects](#2.-Index-and-Series-Objects) \n",
    "  - [Exercise 2.a](#Exercise-2.a)\n",
    "  - [Exercise 2.b](#Exercise-2.b)\n",
    "- [Error Handling](#Error-Handling)\n",
    "- [3. Getting Data from a `DataFrame`](#3.-Getting-Data-from-a-DataFrame) \n",
    "  - [Exercise 3.a](#Exercise-3.a)\n",
    "  - [Exercise 3.b](#Exercise-3.b)\n",
    "  - [Exercise 3.c](#Exercise-3.c)\n",
    "- [4. Modifying a `DataFrame`](#4.-Modifying-a-DataFrame)\n",
    "  - [Changing a Value in a `DataFrame`](#Changing-a-Value-in-a-DataFrame)\n",
    "  - [Changing Values in a Slice from a `DataFrame`](#Changing-Values-in-a-Slice-from-a-DataFrame)\n",
    "  - [Exercise 4.a](#Exercise-4.a)\n",
    "  - [Exercise 4.b](#Exercise-4.b)\n",
    "- [5. Setting the Index of a `DataFrame`](#5.-Setting-the-Index-of-a-DataFrame) \n",
    "  - [Exercise 5.a](#Exercise-5.a)\n",
    "  - [Exercise 5.b](#Exercise-5.b)\n",
    "- [6. Reading Data froma File into a `DataFrame`](#6.-Reading-Data-from-a-File-into-a-DataFrame) \n",
    "  - [Exercise 6.a](#Exercise-6.a)\n",
    "  - [Exercise 6.b](#Exercise-6.b)\n",
    "- [7. Summary Statistics](#7.-Summary-Statistics) \n",
    "  - [Separate Statistics](#Separate-Statistics) \n",
    "  - [Exercise 7.a](#Exercise-7.a)\n",
    "  - [Exercise 7.b](#Exercise-7.b)\n",
    "- [8. Sorting a `DataFrame`](#8.-Sorting-a-DataFrame) \n",
    "  - [Exercise 8.a](#Exercise-8.a)\n",
    "- [9. Computing Values from a `DataFrame`](#9.-Computing-Values-from-a-DataFrame) \n",
    "  - [Adding a New Column to a `DataFrame`](#Adding-a-New-Column-to-a-DataFrame)\n",
    "  - [Exercise 9.a](#Exercise-9.a)\n",
    "  - [Normalizing Values in a `DataFrame`](#Normalizing-Values-in-a-DataFrame)\n",
    "      - [Z-score Normalization](#Z-score-Normalization)\n",
    "  - [Exercise 9.b](#Exercise-9.b)\n",
    "- [10. Selecting Rows by Using Boolean Masks](#10.-Selecting-Rows-by-Using-Boolean-Masks) \n",
    "  - [Boolean Mask for Missing Values](#Boolean-Mask-for-Missing-Values)\n",
    "  - [Combining Boolean Masks](#Combining-Boolean-Masks)\n",
    "  - [Exercise 10.a](#Exercise-10.a)\n",
    "  - [Exercise 10.b](#Exercise-10.b)\n",
    "  - [Exercise 10.c](#Exercise-10.c)\n",
    "  - [Exercise 10.d](#Exercise-10.d)\n",
    "  - [Exercise 10.e](#Exercise-10.e)\n",
    "  - [Exercise 10.f](#Exercise-10.f)\n",
    "- [11. Grouping Rows in a `DataFrame`](#11.-Grouping-Rows-in-a-DataFrame) \n",
    "  - [Exercise 11.a](#Exercise-11.a)\n",
    "  - [Exercise 11.b](#Exercise-11.b)\n",
    "  - [Exercise 11.c](#Exercise-11.c)\n",
    "- [12. Deleting Rows or Columns from a `DataFrame`](#12.-Deleting-Rows-or-Columns-from-a-DataFrame)\n",
    "- [13. Persisting the Modifications](#13.-Persisting-the-Modifications) \n",
    "  - [The `inplace` Argument](#The-inplace-Argument)\n",
    "- [14. Plotting a `DataFrame`](#14.-Plotting-a-DataFrame) \n",
    "  - [Line Plot](#Line-Plot)\n",
    "  - [Area Plot](#Area-Plot)\n",
    "  - [Dot Plot](#Dot-Plot)\n",
    "  - [Histogram](#Histogram)\n",
    "  - [Density Plot](#Density-Plot)\n",
    "  - [Box Plot](#Box-Plot)\n",
    "  - [Bar Plot](#Bar-Plot)\n",
    "  - [Scatter Plot](#Scatter-Plot)\n",
    "  - [Exercise 14.a](#Exercise-14.a)\n",
    "  - [Exercise 14.b](#Exercise-14.b)\n",
    "  - [Exercise 14.c](#Exercise-14.c)\n",
    "  - [Exercise 14.d](#Exercise-14.d)\n",
    "  - [Exercise 14.e](#Exercise-14.e)\n",
    "  - [Exercise 14.f](#Exercise-14.f)\n",
    "  - [Exercise 14.g](#Exercise-14.g)\n",
    "  - [Exercise 14.h](#Exercise-14.h)\n",
    "  - [Exercise 14.i](#Exercise-14.i)\n",
    "- [15. Exercise: Speed of Light](#15.-Exercise:-Speed-of-Light) \n",
    "  - [Exercise 15.a: Load the Data Set](#Exercise-15.a:-Load-the-Data-Set)\n",
    "  - [Exercise 15.b: Summary Statistics of Raw Values](#Exercise-15.b:-Summary-Statistics-of-Raw-Values)\n",
    "  - [Exercise 15.c: Observation](#Exercise-15.c:-Observation)\n",
    "  - [Exercise 15.d: Add Column with the Decoded Speed](#Exercise-15.d:-Add-Column-with-the-Decoded-Speed)\n",
    "  - [Exercise 15.e: Summary Statistics of the Decoded Speed](#Exercise-15.e:-Summary-Statistics-of-the-Decoded-Speed)\n",
    "  - [Exercise 15.f: Make a Dot Plot](#Exercise-15.f:-Make-a-Dot-Plot)\n",
    "  - [Exercise 15.g: Remove Suspicious Rows](#Exercise-15.g:-Remove-Suspicious-Rows)\n",
    "  - [Exercise 15.h: Find the Definition of the Speed of Light](#Exercise-15.h:-Find-the-Definition-of-the-Speed-of-Light)\n",
    "  - [Exercise 15.i: Compare to Current Estimate](#Exercise-15.i:-Compare-to-Current-Estimate)"
   ]
  },
  {
   "attachments": {},
   "cell_type": "markdown",
   "metadata": {},
   "source": [
    "## Learning Objectives\n",
    "\n",
    "After this section, you should\n",
    "\n",
    "* Be able to work with Pandas `DataFrame` and `Series` objects;\n",
    "    in particular,\n",
    "    \n",
    "    * to create,\n",
    "    * to inspect and extract parts from,\n",
    "    * to modify,\n",
    "    * to compute summary statistics for, and\n",
    "    * to visualize\n",
    "    \n",
    "  `DataFrame` objects."
   ]
  },
  {
   "attachments": {},
   "cell_type": "markdown",
   "metadata": {},
   "source": [
    "## Introduction\n",
    "\n",
    "Most of the programming for Data Analytics will involve\n",
    "Python libraries that provide solutions for specific data analysis tasks.\n",
    "\n",
    "In this section,\n",
    "we introduce you to the **Pandas** library.\n",
    "The name _Pandas_ is a contraction of _Panel Data_,\n",
    "which you can think of as tabular data, like a spreadsheet,\n",
    "with multiple (labeled) rows and columns.\n",
    "\n",
    "The Pandas library is automatically installed when _Anaconda_ is installed."
   ]
  },
  {
   "attachments": {},
   "cell_type": "markdown",
   "metadata": {},
   "source": [
    "### Other Learning Resources for Pandas\n",
    "\n",
    "This section will not cover all details about Pandas.\n",
    "We have selected a small number of key features\n",
    "to achieve a maximal effect.\n",
    "\n",
    "Sometimes you may want to consult other information sources:\n",
    "\n",
    "* The _Python Data Science Handbook_ by Jake VanderPlas,\n",
    "  the chapter [_Data Manipulation with Pandas_](https://github.com/jakevdp/PythonDataScienceHandbook/blob/master/notebooks/03.00-Introduction-to-Pandas.ipynb)  \n",
    "  It provides a more comprehensive introduction and further background information.  \n",
    "  This book is also available as an [ebook in the TU/e library](https://tue.on.worldcat.org/oclc/964358680).\n",
    "* The official [Pandas documentation](http://pandas.pydata.org/).  \n",
    "  The Jupyter Notebook Help menu contains a menu item that leads there.\n",
    "* **Code completion** and **built-in** help in code cells,\n",
    "  using the **TAB** key and **Shift-TAB-TAB**.\n",
    "* Web search; but be warned that older solutions may no longer be valid or the most appropriate."
   ]
  },
  {
   "attachments": {},
   "cell_type": "markdown",
   "metadata": {},
   "source": [
    "\n",
    "Some exercises contain hints. Execute the following code cell to hide them by default and reveal the hints while pressing with the mouse on the \"Hint\" label. This will give you a chance to think for yourself before seeing a hint."
   ]
  },
  {
   "cell_type": "code",
   "execution_count": null,
   "metadata": {},
   "outputs": [],
   "source": [
    "from IPython.display import HTML\n",
    "HTML(\"<style>.h,.c{display:none}.t{color:#296eaa}.t:active+.h{display:block;}</style>\")"
   ]
  },
  {
   "attachments": {},
   "cell_type": "markdown",
   "metadata": {},
   "source": [
    "## Loading the Library\n",
    "\n",
    "In order to use facilities from Pandas, you first need to import the Pandas library.\n",
    "It is useful to import NumPy as well,\n",
    "even though we will not make (much) use of it,\n",
    "since Pandas is built on top of NumPy.\n",
    "\n",
    "The next code cell shows the common way to do these imports,\n",
    "introducing the abbreviations `np` for NumPy and `pd` for Pandas.\n",
    "Execute this code cell (it will not result in any output)."
   ]
  },
  {
   "cell_type": "code",
   "execution_count": null,
   "metadata": {},
   "outputs": [],
   "source": [
    "import numpy as np\n",
    "import pandas as pd"
   ]
  },
  {
   "attachments": {
    "Shift-Tab-Tab.png": {
     "image/png": "[encoded data removed]"
    }
   },
   "cell_type": "markdown",
   "metadata": {},
   "source": [
    "When you type an _identifier_ in a code cell, such as `pd`, followed by **Shift-TAB-TAB**,\n",
    "you get a floating window with the **built-in documentation** for that identifier:\n",
    "\n",
    "![Shift-Tab-Tab.png](attachment:Shift-Tab-Tab.png)\n",
    "\n",
    "Try it with `pd`:"
   ]
  },
  {
   "cell_type": "code",
   "execution_count": null,
   "metadata": {},
   "outputs": [],
   "source": [
    "pd"
   ]
  },
  {
   "attachments": {},
   "cell_type": "markdown",
   "metadata": {},
   "source": [
    "Alternatively, you can show the built-in documentation by appending a `?` at the end:"
   ]
  },
  {
   "cell_type": "code",
   "execution_count": null,
   "metadata": {},
   "outputs": [],
   "source": [
    "pd?"
   ]
  },
  {
   "attachments": {
    "Code-Completion.png": {
     "image/png": "[encoded data removed]"
    }
   },
   "cell_type": "markdown",
   "metadata": {},
   "source": [
    "When you type *part of an identifier*,\n",
    "followed by **TAB**, an attempt is made at **code completion**.\n",
    "When there are multiple possibilities to complete the identifier,\n",
    "a pop-up menu with all options is shown:\n",
    "\n",
    "![Code-Completion.png](attachment:Code-Completion.png)\n",
    "\n",
    "You can either\n",
    "* continue typing more characters of the identifier,\n",
    "    in which case the shown list will become shorter, or\n",
    "* you can select a particular item by\n",
    "    * clicking it with the mouse pointer, or\n",
    "    * moving the selection with the _arrow keys_ and hitting *Enter*.\n",
    "\n",
    "Try it: starting with `pd.D` hit TAB to complete this to `pd.DataFrame`.\n",
    "Next, do Shift-TAB-TAB to get its built-in documentation."
   ]
  },
  {
   "cell_type": "code",
   "execution_count": null,
   "metadata": {},
   "outputs": [],
   "source": [
    "pd"
   ]
  },
  {
   "attachments": {},
   "cell_type": "markdown",
   "metadata": {},
   "source": [
    "## 1. Data Frames\n",
    "\n",
    "The most important data type of the Pandas library is **`pd.DataFrame`**.\n",
    "It is a _composite_ data type, whose values are called **data frames**.\n",
    "\n",
    "A data frame is a two-dimensional arrangement of data values. It can be helpful to think of it as a table with rows and columns. \n",
    "The data itself is typically of a primitive data type (`int`, `float`, `bool`, `str`,\n",
    "but also some variants of these as offered by the NumPy library;\n",
    "details are not relevant at this point).\n",
    "\n",
    "Here is an example in which we create a data frame from scratch; we name it `df`.\n",
    "It has\n",
    "\n",
    "* four rows indexed from 0 through 3, and\n",
    "* three columns labeled `'A'`, `'B'`, and `'C'`."
   ]
  },
  {
   "cell_type": "code",
   "execution_count": null,
   "metadata": {},
   "outputs": [],
   "source": [
    "df = pd.DataFrame({'A': [1, 2, 3, 4], 'B': ['one', 'two', 'three', 'four'], 'C': [False, True, False, True]})\n",
    "df"
   ]
  },
  {
   "attachments": {},
   "cell_type": "markdown",
   "metadata": {},
   "source": [
    "The following diagram illustrates some terminology:\n",
    "\n",
    "<div style=\"text-align: center\">\n",
    "    <img src=\"files/df_terminology.png\"></img>\n",
    "</div>\n",
    "<figcaption style=\"text-align: center;\"><b>Figure 1. Data frame terminology.</b></figcaption>\n",
    "\n",
    "* A **row** is a horizontal selection of data values.\n",
    "* A **column** is a vertical selection of data values.\n",
    "* The **index** provides an identification of the rows.\n",
    "* The **column labels** provide an identification of the columns.\n",
    "\n",
    "Typically, all values in one column have the same type.\n",
    "Values in a row can be of different types."
   ]
  },
  {
   "attachments": {},
   "cell_type": "markdown",
   "metadata": {},
   "source": [
    "### Information About a `DataFrame`\n",
    "\n",
    "The following attributes provide information about the `DataFrame df`.\n",
    "\n",
    "* **`df.shape`**: the number of rows and number of columns\n",
    "* **`df.index`**: the row index\n",
    "* **`df.columns`**: the column labels\n",
    "* **`df.dtypes`**: the types of the values in each column"
   ]
  },
  {
   "cell_type": "code",
   "execution_count": null,
   "metadata": {},
   "outputs": [],
   "source": [
    "df.shape"
   ]
  },
  {
   "cell_type": "code",
   "execution_count": null,
   "metadata": {},
   "outputs": [],
   "source": [
    "df.index"
   ]
  },
  {
   "cell_type": "code",
   "execution_count": null,
   "metadata": {},
   "outputs": [],
   "source": [
    "df.columns"
   ]
  },
  {
   "cell_type": "code",
   "execution_count": null,
   "metadata": {},
   "outputs": [],
   "source": [
    "df.dtypes"
   ]
  },
  {
   "attachments": {},
   "cell_type": "markdown",
   "metadata": {},
   "source": [
    "The `DataFrame` method **`info()`** returns\n",
    "an overview of a data frame, including its `RangeIndex`, number of `non-null` elements per column, types of the values in each column, and memory usage:"
   ]
  },
  {
   "cell_type": "code",
   "execution_count": null,
   "metadata": {},
   "outputs": [],
   "source": [
    "df.info()"
   ]
  },
  {
   "attachments": {},
   "cell_type": "markdown",
   "metadata": {},
   "source": [
    "> **Note:** A class type, like the `DataFrame` type, defines a set of functions (also referred to as *methods*) that can be called on any variable of that type. These methods are called using the dot notation, e.g. `df.info()` calls the method `info()` on the data frame `df`.\n",
    "\n",
    "We see that there are 4 rows. There are three columns of data, each containing 4 values of the following types:\n",
    "\n",
    "* column `'A'` contains 64-bit integers (`int64`)\n",
    "* column `'B'` contains generic Python objects (`object`)\n",
    "> **Note:** A column containing `string` values, or values of different types, will also be assigned the `object` type.\n",
    "* column `'C'` contains boolean values (`bool`)"
   ]
  },
  {
   "attachments": {},
   "cell_type": "markdown",
   "metadata": {},
   "source": [
    "### Exercise 1.a\n",
    "\n",
    "Suppose we are given the names and years of birth of five persons,"
   ]
  },
  {
   "cell_type": "code",
   "execution_count": null,
   "metadata": {},
   "outputs": [],
   "source": [
    "names = ['Peter', 'Anna', 'Tom', 'John', 'Simone']\n",
    "years = [1998, 2002, 1946, 1973, 1962]"
   ]
  },
  {
   "attachments": {},
   "cell_type": "markdown",
   "metadata": {},
   "source": [
    "and want to organize this information in a data frame. "
   ]
  },
  {
   "attachments": {},
   "cell_type": "markdown",
   "metadata": {},
   "source": [
    "Create a data frame `df_years` out of this information containing two columns. One column should be labeled `'Name'` and contain the names, and the other should be labeled `'Year of birth'` and contain the year of birth. Use the provided lists `names` and `years`, so that your columns are in the same order."
   ]
  },
  {
   "cell_type": "code",
   "execution_count": null,
   "metadata": {},
   "outputs": [],
   "source": [
    "#// BEGIN_TODO [EDA_1a] Create a dataframe (1 point)\n",
    "\n",
    "# ===== =====> Replace this line by your code. <===== ===== #\n",
    "\n",
    "#// END_TODO [EDA_1a]\n",
    "\n",
    "df_years"
   ]
  },
  {
   "attachments": {},
   "cell_type": "markdown",
   "metadata": {},
   "source": [
    "### Exercise 1.b"
   ]
  },
  {
   "attachments": {},
   "cell_type": "markdown",
   "metadata": {},
   "source": [
    "Use the `info()` function to get an overview of the dataframe `df_years`."
   ]
  },
  {
   "cell_type": "code",
   "execution_count": null,
   "metadata": {},
   "outputs": [],
   "source": [
    "#// BEGIN_TODO [EDA_1b] Get an overview of df_years (1 point)\n",
    "\n",
    "# ===== =====> Replace this line by your code. <===== ===== #\n",
    "\n",
    "#// END_TODO [EDA_1b]"
   ]
  },
  {
   "attachments": {},
   "cell_type": "markdown",
   "metadata": {},
   "source": [
    "##  2. `Index` and `Series` Objects\n",
    "\n",
    "To understand Pandas data frames better,\n",
    "you should know about two more data types:\n",
    "\n",
    "* **`pd.Index`**:\n",
    "    this is a special type of object that holds the index;\n",
    "    by default, it is just a range of integers starting from 0.\n",
    "* **`pd.Series`**:\n",
    "    this type represents a single named sequence of data values of the same type,\n",
    "    with an index.  \n",
    "    It is used for a single column in a data frame,\n",
    "    but also for a row extracted from a data frame,\n",
    "    where the column labels then serve as the `Series` index,\n",
    "    and the row index serves as the `Series` name.\n",
    "    \n",
    "Thus, a data frame is a sequence of `Series` objects,\n",
    "with a shared `Index` object.\n",
    "The names of the `Series` objects are the column labels."
   ]
  },
  {
   "attachments": {},
   "cell_type": "markdown",
   "metadata": {},
   "source": [
    "Let us again consider the example with the list of names and years of birth."
   ]
  },
  {
   "cell_type": "code",
   "execution_count": null,
   "metadata": {},
   "outputs": [],
   "source": [
    "names = ['Peter', 'Anna', 'Tom', 'John', 'Simone']\n",
    "years = [1998, 2002, 1946, 1973, 1962]"
   ]
  },
  {
   "attachments": {},
   "cell_type": "markdown",
   "metadata": {},
   "source": [
    "This time, instead of creating a data frame, we create a `Series` object out of the information as follows. The `Series` object itself will contain the years of birth, it will be indexed by the names, and the object will be called `'Years of birth'`. We assign the object to the variable `se_years`:"
   ]
  },
  {
   "cell_type": "code",
   "execution_count": null,
   "metadata": {},
   "outputs": [],
   "source": [
    "se_years = pd.Series(years, index=names, name='Years of birth' )\n",
    "se_years"
   ]
  },
  {
   "attachments": {},
   "cell_type": "markdown",
   "metadata": {},
   "source": [
    "### Exercise 2.a"
   ]
  },
  {
   "attachments": {},
   "cell_type": "markdown",
   "metadata": {},
   "source": [
    "Create a `pd.Series` object containing the following prices (in Euros):"
   ]
  },
  {
   "cell_type": "code",
   "execution_count": null,
   "metadata": {},
   "outputs": [],
   "source": [
    "prices = [2, 1, 3, 2.5, 1.5]"
   ]
  },
  {
   "attachments": {},
   "cell_type": "markdown",
   "metadata": {},
   "source": [
    "and indexed by the following items"
   ]
  },
  {
   "cell_type": "code",
   "execution_count": null,
   "metadata": {},
   "outputs": [],
   "source": [
    "items = ['bread', 'milk', 'chips', 'bananas', 'carrots']"
   ]
  },
  {
   "attachments": {},
   "cell_type": "markdown",
   "metadata": {},
   "source": [
    "The series should be named `'Price (Euros)'`, and you should use the provided `prices` and `items` lists (so that in particular the index and values should are in the same order). Assign the resulting series to the variable `se_shopping_list`."
   ]
  },
  {
   "cell_type": "code",
   "execution_count": null,
   "metadata": {},
   "outputs": [],
   "source": [
    "#// BEGIN_TODO [EDA_2a] Create an indexed list (1 point)\n",
    "\n",
    "# ===== =====> Replace this line by your code. <===== ===== #\n",
    "\n",
    "#// END_TODO [EDA_2a]\n",
    "\n",
    "se_shopping_list"
   ]
  },
  {
   "attachments": {},
   "cell_type": "markdown",
   "metadata": {},
   "source": [
    "### Exercise 2.b"
   ]
  },
  {
   "attachments": {},
   "cell_type": "markdown",
   "metadata": {},
   "source": [
    "Now, consider the following data reporting expenses every $1^\\text{st}$ of January from 2020 until 2023. \n",
    "This data is later used to create the `df_expenses` data frame. "
   ]
  },
  {
   "cell_type": "code",
   "execution_count": null,
   "metadata": {},
   "outputs": [],
   "source": [
    "years = [2020, 2021, 2022, 2023]\n",
    "months = [1, 1, 1, 1]\n",
    "days = [1, 1, 1, 1]\n",
    "expenses = [1000, 1050, 980, 1115]"
   ]
  },
  {
   "cell_type": "code",
   "execution_count": null,
   "metadata": {
    "tags": []
   },
   "outputs": [],
   "source": [
    "df_expenses = pd.DataFrame({'year': years, 'month': months, 'day': days, 'Expenses (Euros)': expenses})\n",
    "df_expenses"
   ]
  },
  {
   "attachments": {},
   "cell_type": "markdown",
   "metadata": {},
   "source": [
    "Notice that each row is uniquely identified by the tuple $<year, month, day>$.\n",
    "It would be convenient to set our data frame index to such tuple.\n",
    "An index that is made out of multiple components is called a **multi-level index** (sometimes called a *hierarchical index* or *MultiIndex*).\n",
    "To do so, we need to use the `set_index` method and pass a list with the names of the columns that will be part of the multi-level index.\n",
    "The `set_index` method will return a copy of the data frame. \n",
    "If you want to modify the data frame directly, you must pass the `inplace=True` optional parameter.\n",
    "In general, setting a multi-level index on a data frame will look as follows:\n",
    "\n",
    "```python\n",
    "df.set_index(['index1', 'index2', 'index3'], inplace=True)\n",
    "```"
   ]
  },
  {
   "attachments": {},
   "cell_type": "markdown",
   "metadata": {},
   "source": [
    "In the following cell, create a multi-level index on the `df_expenses` data frame.\n",
    "The multi-index should include the `year`, `month`, and `day` of the data point."
   ]
  },
  {
   "cell_type": "code",
   "execution_count": null,
   "metadata": {},
   "outputs": [],
   "source": [
    "#// BEGIN_TODO [EDA_2b] Create a multi-index (1 point)\n",
    "\n",
    "# ===== =====> Replace this line by your code. <===== ===== #\n",
    "\n",
    "#// END_TODO [EDA_2b]\n",
    "\n",
    "df_expenses"
   ]
  },
  {
   "attachments": {},
   "cell_type": "markdown",
   "metadata": {},
   "source": [
    "To access a row on the `df_expenses` data frame, you can use the `loc` attribute, and pass a concrete $<year, month, day>$ tuple.\n",
    "More information about the `loc` attribute will be provided later in this notebook."
   ]
  },
  {
   "cell_type": "code",
   "execution_count": null,
   "metadata": {},
   "outputs": [],
   "source": [
    "df_expenses.loc[(2022, 1, 1)]"
   ]
  },
  {
   "attachments": {},
   "cell_type": "markdown",
   "metadata": {},
   "source": [
    "## Error Handling\n",
    "\n",
    "In case of errors, it is often useful to inspect the variable types. We can inspect the type of `DataFrame` and `Series` variables using the **`type()`** function:"
   ]
  },
  {
   "cell_type": "code",
   "execution_count": null,
   "metadata": {},
   "outputs": [],
   "source": [
    "type(df) # type of the df variable"
   ]
  },
  {
   "cell_type": "code",
   "execution_count": null,
   "metadata": {},
   "outputs": [],
   "source": [
    "type(df['C']) # type of the 'C' column in the df DataFrame"
   ]
  },
  {
   "cell_type": "code",
   "execution_count": null,
   "metadata": {},
   "outputs": [],
   "source": [
    "type(se_years) # type of the se_years variable"
   ]
  },
  {
   "attachments": {},
   "cell_type": "markdown",
   "metadata": {},
   "source": [
    "Note that a column has the `Series` type, which is not the same as the type of the values inside of a column. You can get the type of the values inside of a column using **`df.dtypes`**:"
   ]
  },
  {
   "cell_type": "code",
   "execution_count": null,
   "metadata": {},
   "outputs": [],
   "source": [
    "df.dtypes['C']"
   ]
  },
  {
   "attachments": {},
   "cell_type": "markdown",
   "metadata": {},
   "source": [
    "## 3. Getting Data from a `DataFrame`\n",
    "\n",
    "You can **get a column** from a data frame by indexing, just like a sequence.\n",
    "The result is a `Series` object.\n",
    "This is useful to extract a particular feature from the data set."
   ]
  },
  {
   "cell_type": "code",
   "execution_count": null,
   "metadata": {},
   "outputs": [],
   "source": [
    "df['B']"
   ]
  },
  {
   "attachments": {},
   "cell_type": "markdown",
   "metadata": {},
   "source": [
    "To **get a row** from a data frame,\n",
    "you use the `DataFrame` attribute `loc`.\n",
    "It is called an *indexer attribute*,\n",
    "because it supports indexing\n",
    "with *square brackets*, just like indexing of lists.\n",
    "The result is also a `Series` object:"
   ]
  },
  {
   "cell_type": "code",
   "execution_count": null,
   "metadata": {},
   "outputs": [],
   "source": [
    "df.loc[2]"
   ]
  },
  {
   "attachments": {},
   "cell_type": "markdown",
   "metadata": {},
   "source": [
    "You can **get a value** at a given location in a data frame\n",
    "in several ways:\n",
    "\n",
    "* **`df[column_label][row_index]`** : first get the column,\n",
    "    then get the value from the resulting `Series` object.\n",
    "* **`df.loc[row_index, column_label]`** : get the value directly,\n",
    "    using `loc` with the row index and column label."
   ]
  },
  {
   "cell_type": "code",
   "execution_count": null,
   "metadata": {},
   "outputs": [],
   "source": [
    "df['B'][2]"
   ]
  },
  {
   "cell_type": "code",
   "execution_count": null,
   "metadata": {},
   "outputs": [],
   "source": [
    "df.loc[2, 'B']"
   ]
  },
  {
   "attachments": {},
   "cell_type": "markdown",
   "metadata": {},
   "source": [
    "_Slicing_ can be used to **get larger parts from a data frame**,\n",
    "with a syntax similar to the slicing of lists.\n",
    "\n",
    "> **Note:** When slicing `DataFrame` and `Series` objects\n",
    "> with the syntax `.loc[start:stop]`,\n",
    "> the **`stop` value is included**.  \n",
    "> This contrasts to _list_ slicing, where `stop` is _not_ included.\n",
    "\n",
    "To select a slice of rows,\n",
    "use `.loc[start:stop]`.\n",
    "The result is a (new!) data frame:"
   ]
  },
  {
   "cell_type": "code",
   "execution_count": null,
   "metadata": {},
   "outputs": [],
   "source": [
    "df.loc[1:2]"
   ]
  },
  {
   "attachments": {},
   "cell_type": "markdown",
   "metadata": {},
   "source": [
    "When `start` or `stop` is omitted in the slice `start:stop`,\n",
    "the first or last item is implied. Therefore, `.loc[:2]` extracts the first three rows:"
   ]
  },
  {
   "cell_type": "code",
   "execution_count": null,
   "metadata": {},
   "outputs": [],
   "source": [
    "df.loc[:2]"
   ]
  },
  {
   "attachments": {},
   "cell_type": "markdown",
   "metadata": {},
   "source": [
    "and `.loc[:]` extracts all rows:"
   ]
  },
  {
   "cell_type": "code",
   "execution_count": null,
   "metadata": {},
   "outputs": [],
   "source": [
    "df.loc[:]"
   ]
  },
  {
   "attachments": {},
   "cell_type": "markdown",
   "metadata": {},
   "source": [
    "The `DataFrame` method call **`df.head(n)`** returns the first `n` rows of the data frame `df`,\n",
    "regardless of how the rows are indexed.\n",
    "The default value for `n` is 5 (i.e. omitting the argument by calling `df.head()` is equivalent to `df.head(5)`).\n",
    "This method be very useful to quickly get an impression of the data in a data frame."
   ]
  },
  {
   "cell_type": "code",
   "execution_count": null,
   "metadata": {},
   "outputs": [],
   "source": [
    "df.head(2)"
   ]
  },
  {
   "attachments": {},
   "cell_type": "markdown",
   "metadata": {},
   "source": [
    "You can also apply slicing to the columns:"
   ]
  },
  {
   "cell_type": "code",
   "execution_count": null,
   "metadata": {},
   "outputs": [],
   "source": [
    "df.loc[:, 'A':'B']"
   ]
  },
  {
   "attachments": {},
   "cell_type": "markdown",
   "metadata": {},
   "source": [
    "Note that here the first `:` argument tells us to select all the rows.\n",
    "\n",
    "Using `.loc` we can also extract a particular slice of rows and columns in one go:"
   ]
  },
  {
   "cell_type": "code",
   "execution_count": null,
   "metadata": {},
   "outputs": [],
   "source": [
    "df.loc[1:2, 'A':'B']"
   ]
  },
  {
   "attachments": {},
   "cell_type": "markdown",
   "metadata": {},
   "source": [
    "To **get _non-adjacent_ rows**,\n",
    "use `.loc` with a _list of row indices_\n",
    "(note the **double square brackets**).\n",
    "The result is a (new!) data frame:"
   ]
  },
  {
   "cell_type": "code",
   "execution_count": null,
   "metadata": {},
   "outputs": [],
   "source": [
    "df.loc[[1, 3]]"
   ]
  },
  {
   "attachments": {},
   "cell_type": "markdown",
   "metadata": {},
   "source": [
    "You can also **get _non-adjacent_ columns**.\n",
    "One way is by providing a _list of column labels_ directly to the data frame\n",
    "(note the **double square brackets**).\n",
    "The result is a (new!) data frame:"
   ]
  },
  {
   "cell_type": "code",
   "execution_count": null,
   "metadata": {},
   "outputs": [],
   "source": [
    "df[['A', 'C']]"
   ]
  },
  {
   "attachments": {},
   "cell_type": "markdown",
   "metadata": {},
   "source": [
    "An alternative way of getting non-adjacent columns\n",
    "is to use `.loc` with a _full slice_ for the rows using just '`:`':"
   ]
  },
  {
   "cell_type": "code",
   "execution_count": null,
   "metadata": {},
   "outputs": [],
   "source": [
    "df.loc[:, ['A', 'C']]"
   ]
  },
  {
   "attachments": {},
   "cell_type": "markdown",
   "metadata": {},
   "source": [
    "Note that `df['B']` returns column '`B`' as a `Series` object.\n",
    "Sometimes it is more convenient to get it as a `DataFrame` with one column.\n",
    "This can be achieved by using a list with only one element `'B'` as a column label\n",
    "(note the **double square brackets**):"
   ]
  },
  {
   "cell_type": "code",
   "execution_count": null,
   "metadata": {},
   "outputs": [],
   "source": [
    "df[['B']]"
   ]
  },
  {
   "attachments": {},
   "cell_type": "markdown",
   "metadata": {},
   "source": [
    "or using `.loc` with a list as second argument:"
   ]
  },
  {
   "cell_type": "code",
   "execution_count": null,
   "metadata": {},
   "outputs": [],
   "source": [
    "df.loc[:, ['B']]"
   ]
  },
  {
   "attachments": {},
   "cell_type": "markdown",
   "metadata": {},
   "source": [
    "### Exercise 3.a"
   ]
  },
  {
   "attachments": {},
   "cell_type": "markdown",
   "metadata": {},
   "source": [
    "For the purpose of this exercise, we first organize the information"
   ]
  },
  {
   "cell_type": "code",
   "execution_count": null,
   "metadata": {},
   "outputs": [],
   "source": [
    "prices = [2, 1, 3, 2.5, 1.5]\n",
    "items  = ['bread', 'milk', 'chips', 'bananas', 'carrots']"
   ]
  },
  {
   "attachments": {},
   "cell_type": "markdown",
   "metadata": {},
   "source": [
    "into a data frame called `df_shopping_list`"
   ]
  },
  {
   "cell_type": "code",
   "execution_count": null,
   "metadata": {},
   "outputs": [],
   "source": [
    "df_shopping_list = pd.DataFrame({'Item': items, 'Price (Euros)': prices})\n",
    "df_shopping_list"
   ]
  },
  {
   "attachments": {},
   "cell_type": "markdown",
   "metadata": {},
   "source": [
    "Create a _new_ data frame containing only the first four rows from `df_shopping_list` and assign it to `df_short_list`."
   ]
  },
  {
   "cell_type": "code",
   "execution_count": null,
   "metadata": {},
   "outputs": [],
   "source": [
    "#// BEGIN_TODO [EDA_3a] Select first rows (1 point)\n",
    "\n",
    "# ===== =====> Replace this line by your code. <===== ===== #\n",
    "\n",
    "#// END_TODO [EDA_3a]\n",
    "\n",
    "df_short_list"
   ]
  },
  {
   "attachments": {},
   "cell_type": "markdown",
   "metadata": {},
   "source": [
    "### Exercise <span class=\"exercise\">3.b</span>\n",
    "\n",
    "Use an expression to select the `'Item'` column from the data frame `df_shopping_list` so that the result is a `Series` object."
   ]
  },
  {
   "cell_type": "code",
   "execution_count": null,
   "metadata": {},
   "outputs": [],
   "source": [
    "#// BEGIN_TODO [EDA_3b] Select a column (1 point)\n",
    "\n",
    "# ===== =====> Replace this line by your code. <===== ===== #\n",
    "\n",
    "#// END_TODO [EDA_3b]"
   ]
  },
  {
   "attachments": {},
   "cell_type": "markdown",
   "metadata": {},
   "source": [
    "### Exercise <span class=\"exercise\">3.c</span>\n",
    "\n",
    "Use an expression to select the prices from the rows with indices 2 to 4 (including 4), but now make sure the result is a data frame. "
   ]
  },
  {
   "cell_type": "code",
   "execution_count": null,
   "metadata": {},
   "outputs": [],
   "source": [
    "#// BEGIN_TODO [EDA_3c] Select rows _and_ columns (1 point)\n",
    "\n",
    "# ===== =====> Replace this line by your code. <===== ===== #\n",
    "\n",
    "#// END_TODO [EDA_3c]"
   ]
  },
  {
   "attachments": {},
   "cell_type": "markdown",
   "metadata": {},
   "source": [
    "## 4. Modifying a `DataFrame`\n",
    "\n",
    "`DataFrame` objects are _mutable_.\n",
    "In this lesson, we will only present two very basic ways of modifying a `DataFrame` object."
   ]
  },
  {
   "attachments": {},
   "cell_type": "markdown",
   "metadata": {},
   "source": [
    "### Changing a Value in a `DataFrame`\n",
    "\n",
    "To change a value at a particular location of a data frame `df`,\n",
    "you can use an assignment to the selected item:\n",
    "```python\n",
    "df.loc[row, column] = expression\n",
    "```"
   ]
  },
  {
   "cell_type": "code",
   "execution_count": null,
   "metadata": {},
   "outputs": [],
   "source": [
    "df.loc[0, 'B'] = 'ACE'\n",
    "df"
   ]
  },
  {
   "attachments": {},
   "cell_type": "markdown",
   "metadata": {},
   "source": [
    "### Changing Values in a Slice from a `DataFrame`\n",
    "\n",
    "Modifying values in data frame slices is a little bit cumbersome.\n",
    "\n",
    "> **Important:** If you want to operate on slices, it is recommended to **explicitly create a copy** of the slice. This avoids accidentally modifying the original data frame.\n",
    "\n",
    "For example, let us take a look at the `df` data frame again:"
   ]
  },
  {
   "cell_type": "code",
   "execution_count": null,
   "metadata": {},
   "outputs": [],
   "source": [
    "df"
   ]
  },
  {
   "attachments": {},
   "cell_type": "markdown",
   "metadata": {},
   "source": [
    "If we take a slice of the `df` data frame:"
   ]
  },
  {
   "cell_type": "code",
   "execution_count": null,
   "metadata": {},
   "outputs": [],
   "source": [
    "df_slice = df.loc[1:2].copy()\n",
    "df_slice"
   ]
  },
  {
   "attachments": {},
   "cell_type": "markdown",
   "metadata": {},
   "source": [
    "and modify the values in the first row of the slice:"
   ]
  },
  {
   "cell_type": "code",
   "execution_count": null,
   "metadata": {},
   "outputs": [],
   "source": [
    "df_slice.loc[1, 'A'] = 8\n",
    "df_slice.loc[1, 'B'] = \"EIGHT\"\n",
    "df_slice"
   ]
  },
  {
   "attachments": {},
   "cell_type": "markdown",
   "metadata": {},
   "source": [
    "the original data frame will not be affected:"
   ]
  },
  {
   "cell_type": "code",
   "execution_count": null,
   "metadata": {},
   "outputs": [],
   "source": [
    "df"
   ]
  },
  {
   "attachments": {},
   "cell_type": "markdown",
   "metadata": {},
   "source": [
    "### Exercise <span class=\"exercise\">4.a</span>\n",
    "\n",
    "Let us continue with the shopping list example:"
   ]
  },
  {
   "cell_type": "code",
   "execution_count": null,
   "metadata": {},
   "outputs": [],
   "source": [
    "prices = [2, 1, 3, 2.5, 1.5 ]\n",
    "items  = ['bread', 'milk', 'chips', 'bananas', 'carrots']\n",
    "df_shopping_list = pd.DataFrame({'Item': items, 'Price (Euros)': prices})\n",
    "df_shopping_list"
   ]
  },
  {
   "attachments": {},
   "cell_type": "markdown",
   "metadata": {},
   "source": [
    "Change in the `df_shopping_list` data frame the price for the bananas to 2.00 Euros."
   ]
  },
  {
   "cell_type": "code",
   "execution_count": null,
   "metadata": {},
   "outputs": [],
   "source": [
    "#// BEGIN_TODO [EDA_4a] Update banana price (1 point)\n",
    "\n",
    "# ===== =====> Replace this line by your code. <===== ===== #\n",
    "\n",
    "#// END_TODO [EDA_4a]\n",
    "\n",
    "df_shopping_list"
   ]
  },
  {
   "attachments": {},
   "cell_type": "markdown",
   "metadata": {},
   "source": [
    "### Exercise 4.b\n",
    "\n",
    "Create a shorter shopping list by taking the rows 0 to 2 from the `df_shopping_list` and assign it to `df_shorter_list`. Change in `df_shorter_list` the price of chips to 2.70 Euros, making sure that the original `df_shopping_list` is not affected."
   ]
  },
  {
   "cell_type": "code",
   "execution_count": null,
   "metadata": {},
   "outputs": [],
   "source": [
    "#// BEGIN_TODO [EDA_4b] A new shorter list (1 point)\n",
    "\n",
    "# ===== =====> Replace this line by your code. <===== ===== #\n",
    "\n",
    "#// END_TODO [EDA_4b]\n",
    "\n",
    "df_shorter_list"
   ]
  },
  {
   "attachments": {},
   "cell_type": "markdown",
   "metadata": {},
   "source": [
    "## 5. Setting the Index of a `DataFrame`\n",
    "\n",
    "It may be convenient sometimes to use one of the columns of a data frame as its index. This makes it possible to index by the values in that column when extracting and modifying data.\n",
    "\n",
    "Recall the `df` data frame:"
   ]
  },
  {
   "cell_type": "code",
   "execution_count": null,
   "metadata": {},
   "outputs": [],
   "source": [
    "df"
   ]
  },
  {
   "attachments": {},
   "cell_type": "markdown",
   "metadata": {},
   "source": [
    "The method call **`df.set_index(col)`** returns a *new* data frame with the index in `df` set to column `col`. For example, let us get a copy of the data frame `df` with its index set to the column `'B'`:"
   ]
  },
  {
   "cell_type": "code",
   "execution_count": null,
   "metadata": {},
   "outputs": [],
   "source": [
    "df_index = df.set_index('B')\n",
    "df_index"
   ]
  },
  {
   "attachments": {},
   "cell_type": "markdown",
   "metadata": {},
   "source": [
    "We can now select data from `df_index` using more descriptive names. For example, we can get the rows with an index between `'two'` and `'four'`."
   ]
  },
  {
   "cell_type": "code",
   "execution_count": null,
   "metadata": {},
   "outputs": [],
   "source": [
    "df_index.loc['two':'four']"
   ]
  },
  {
   "attachments": {},
   "cell_type": "markdown",
   "metadata": {},
   "source": [
    "Notice that the rows that are retrieved are the ones located in between the rows with indexes \"two\" and \"four\" inclusive; there is no retrieval based on lexicographical order."
   ]
  },
  {
   "attachments": {},
   "cell_type": "markdown",
   "metadata": {},
   "source": [
    "Similarly, we can use the new index to modify a value at a particular location in a data frame:"
   ]
  },
  {
   "cell_type": "code",
   "execution_count": null,
   "metadata": {},
   "outputs": [],
   "source": [
    "df_index.loc['three', 'C'] = True\n",
    "df_index"
   ]
  },
  {
   "attachments": {},
   "cell_type": "markdown",
   "metadata": {},
   "source": [
    "### Exercise 5.a\n",
    "\n",
    "Set the index in the data frame `df_shopping_list` to the column `'Item'` and assign the new data frame to `df_shopping_list_index`.\n",
    "\n",
    "> **Note:** Do not alter `df_shopping_list`."
   ]
  },
  {
   "cell_type": "code",
   "execution_count": null,
   "metadata": {},
   "outputs": [],
   "source": [
    "#// BEGIN_TODO [EDA_5a] Set data frame index (1 point)\n",
    "\n",
    "# ===== =====> Replace this line by your code. <===== ===== #\n",
    "\n",
    "#// END_TODO [EDA_5a]\n",
    "\n",
    "df_shopping_list_index"
   ]
  },
  {
   "attachments": {},
   "cell_type": "markdown",
   "metadata": {},
   "source": [
    "### Exercise 5.b\n",
    "In the data frame `df_shopping_list_index`, set the price of milk to 1.50 Euros."
   ]
  },
  {
   "cell_type": "code",
   "execution_count": null,
   "metadata": {},
   "outputs": [],
   "source": [
    "#// BEGIN_TODO [EDA_5b] Set value using new index (1 point)\n",
    "\n",
    "# ===== =====> Replace this line by your code. <===== ===== #\n",
    "\n",
    "#// END_TODO [EDA_5b]\n",
    "\n",
    "df_shopping_list_index"
   ]
  },
  {
   "attachments": {},
   "cell_type": "markdown",
   "metadata": {},
   "source": [
    "## 6. Reading Data from a File into a `DataFrame`\n",
    "\n",
    "In these lessons, we will mainly use the **Comma-Separated Values** (**CSV**) format\n",
    "for storing simple data in a file.\n",
    "\n",
    "Our CSV files will (usually) have\n",
    "\n",
    "* one header line with column labels,\n",
    "* each row on a line of its own,\n",
    "* commas to separate the fields in each row\n",
    "    (in some cases, you may encounter semicolons or TABs),\n",
    "* strings enclosed in double-quotes\n",
    "    (in some cases, strings are not enclosed), and\n",
    "* floating-point numbers using a decimal point (not a comma).\n",
    "\n",
    "The example file is named `country.csv`, located in the `datasets` directory inside the directory containing this notebook:"
   ]
  },
  {
   "cell_type": "code",
   "execution_count": null,
   "metadata": {},
   "outputs": [],
   "source": [
    "file_countries = './datasets/country.csv'"
   ]
  },
  {
   "attachments": {},
   "cell_type": "markdown",
   "metadata": {},
   "source": [
    "> **Important:** If you move this notebook outside of the extracted ZIP archive, then you must ensure that the datasets are moved as well and accessible at the relative path above. "
   ]
  },
  {
   "attachments": {},
   "cell_type": "markdown",
   "metadata": {},
   "source": [
    "We use the function **`pd.read_csv`** to load the data from that file into a `DataFrame`\n",
    "that we will name `country_data`."
   ]
  },
  {
   "cell_type": "code",
   "execution_count": null,
   "metadata": {},
   "outputs": [],
   "source": [
    "country_data = pd.read_csv(file_countries)\n",
    "country_data.head()"
   ]
  },
  {
   "attachments": {},
   "cell_type": "markdown",
   "metadata": {},
   "source": [
    "### Exercise 6.a\n",
    "\n",
    "Show just the `'name'`, `'area'`, and `'population'` columns for the first 10 rows of `country_data`."
   ]
  },
  {
   "cell_type": "code",
   "execution_count": null,
   "metadata": {},
   "outputs": [],
   "source": [
    "#// BEGIN_TODO [EDA_6a] Name, area, and population for first 10 rows (1 point)\n",
    "\n",
    "# ===== =====> Replace this line by your code. <===== ===== #\n",
    "\n",
    "#// END_TODO [EDA_6a]"
   ]
  },
  {
   "attachments": {},
   "cell_type": "markdown",
   "metadata": {},
   "source": [
    "### Exercise 6.b\n",
    "\n",
    "Get an overview of the data frame `country_data`, using one of the functions introduced earlier."
   ]
  },
  {
   "cell_type": "code",
   "execution_count": null,
   "metadata": {},
   "outputs": [],
   "source": [
    "#// BEGIN_TODO [EDA_6b] Get information about country_data (1 point)\n",
    "\n",
    "# ===== =====> Replace this line by your code. <===== ===== #\n",
    "\n",
    "#// END_TODO [EDA_6b]"
   ]
  },
  {
   "attachments": {},
   "cell_type": "markdown",
   "metadata": {},
   "source": [
    "We see that there are 251 rows in total. However, some columns have missing values:\n",
    "\n",
    "* `tld` misses 2 values, and\n",
    "* `capital` misses 6 values.\n",
    "\n",
    "These are the seven columns of data and their types:\n",
    "\n",
    "* `name` (string): country name in English\n",
    "* `alpha_3` (string): 3-letter ISO 3166-1 country code\n",
    "* `tld` (string): top-level domain in Domain Name System (DNS)\n",
    "* `continent` (string): 2-letter continent code\n",
    "* `capital` (string): capital city in English\n",
    "* `area` (float): area in square kilometers\n",
    "* `population` (integer): population (measurement date/source unclear; cf. https://www.geonames.org/)"
   ]
  },
  {
   "attachments": {},
   "cell_type": "markdown",
   "metadata": {},
   "source": [
    "##  7. Summary Statistics\n",
    "\n",
    "Summary statistics for **numeric columns** in a data frame `df`\n",
    "can be obtained by calling **`df.describe()`**:"
   ]
  },
  {
   "cell_type": "code",
   "execution_count": null,
   "metadata": {},
   "outputs": [],
   "source": [
    "country_data.describe()"
   ]
  },
  {
   "attachments": {},
   "cell_type": "markdown",
   "metadata": {},
   "source": [
    "To get summary statistics for **all columns** (instead of only for numeric columns) supply the keyword argument **`include='all'`**:"
   ]
  },
  {
   "cell_type": "code",
   "execution_count": null,
   "metadata": {},
   "outputs": [],
   "source": [
    "country_data.describe(include='all')"
   ]
  },
  {
   "attachments": {},
   "cell_type": "markdown",
   "metadata": {},
   "source": [
    "> **Note:** **NaN** stands for **\"Not a Number\"** and represents a **missing value**,\n",
    "> also known as a **not available** or **null value**."
   ]
  },
  {
   "attachments": {},
   "cell_type": "markdown",
   "metadata": {},
   "source": [
    "From these summary statistics for the country data, we see that:\n",
    "\n",
    "* names and alpha-3 codes are unique (maximum frequency equals 1);\n",
    "* 3 countries share the top-level domain `.gp`;\n",
    "* there are 7 continents, and Africa has the most countries (58), and;\n",
    "* 2 capitals are named Kingston, and there are no other such duplicates."
   ]
  },
  {
   "attachments": {},
   "cell_type": "markdown",
   "metadata": {},
   "source": [
    "### Separate Statistics\n",
    "\n",
    "There are also functions to obtain separate statistics for `DataFrame df`:\n",
    "\n",
    "* **`df.count()`**: Returns the **number** of values.\n",
    "* **`df.sum()`**: Returns the **sum** of the values.\n",
    "* **`df.mean()`**: Returns the **mean** of the values.\n",
    "* **`df.std()`**: Returns the **sample standard deviation** of the numeric values,\n",
    "    normalized by $N-1$, where $N$ is the number of values.\n",
    "* **`df.min()`**: Returns the **minimum** of the values.\n",
    "* **`df.max()`**: Returns the **maximum** of the values.\n",
    "* **`df.median()`**: Returns the **median** of the values.\n",
    "* **`df.quantile(q)`**: Returns the value at the given **quantile** `q`;\n",
    "    `q=0.5` is the default, giving the **median**.\n",
    "\n",
    "Notes:\n",
    "\n",
    "* **NaN/null values** are skipped by default.\n",
    "* A `Series` object is returned with the statistic for each column in the data frame.\n",
    "* All of these methods can also be called on `Series` objects (with numeric entries), in which case they return numbers."
   ]
  },
  {
   "attachments": {},
   "cell_type": "markdown",
   "metadata": {},
   "source": [
    "Let us compute the total _area_ and *population*:"
   ]
  },
  {
   "cell_type": "code",
   "execution_count": null,
   "metadata": {},
   "outputs": [],
   "source": [
    "country_data[['area', 'population']].sum()"
   ]
  },
  {
   "attachments": {},
   "cell_type": "markdown",
   "metadata": {},
   "source": [
    "### Exercise 7.a\n",
    "\n",
    "Count and output the number of values in the _capital_ column as a number (**not** a series)."
   ]
  },
  {
   "cell_type": "code",
   "execution_count": null,
   "metadata": {},
   "outputs": [],
   "source": [
    "#// BEGIN_TODO [EDA_7a] Number of values in the 'capital' column (1 point)\n",
    "\n",
    "# ===== =====> Replace this line by your code. <===== ===== #\n",
    "\n",
    "#// END_TODO [EDA_7a]"
   ]
  },
  {
   "attachments": {},
   "cell_type": "markdown",
   "metadata": {},
   "source": [
    "### Exercise 7.b\n",
    "\n",
    "Compute and output the country population at the 0.42 quantile as a number."
   ]
  },
  {
   "cell_type": "code",
   "execution_count": null,
   "metadata": {},
   "outputs": [],
   "source": [
    "#// BEGIN_TODO [EDA_7b] 0.42 quantile in the 'population' column (1 point)\n",
    "\n",
    "# ===== =====> Replace this line by your code. <===== ===== #\n",
    "\n",
    "#// END_TODO [EDA_7b]"
   ]
  },
  {
   "attachments": {},
   "cell_type": "markdown",
   "metadata": {},
   "source": [
    "## 8. Sorting a `DataFrame`\n",
    "\n",
    "To sort a data frame `df` by the values in column `'c'` use **`df.sort_values(by='c')`**.\n",
    "Note that this does not modify the data frame,\n",
    "but rather returns a new data frame.\n",
    "A series is sorted by the same function,\n",
    "but it does not need the `by` argument.\n",
    "\n",
    "Here is the country data sorted by *area*:"
   ]
  },
  {
   "cell_type": "code",
   "execution_count": null,
   "metadata": {},
   "outputs": [],
   "source": [
    "country_data.sort_values(by='area')"
   ]
  },
  {
   "attachments": {},
   "cell_type": "markdown",
   "metadata": {},
   "source": [
    "To sort in **descending order**, supply the argument **`ascending=False`**:"
   ]
  },
  {
   "cell_type": "code",
   "execution_count": null,
   "metadata": {},
   "outputs": [],
   "source": [
    "country_data.sort_values(by='area', ascending=False)"
   ]
  },
  {
   "attachments": {},
   "cell_type": "markdown",
   "metadata": {},
   "source": [
    "> A data frame can be sorted **in place**,\n",
    "> that is, the data frame is modified,\n",
    "> rather than returning a new data frame.\n",
    "> This is achieved by supplying the argument **`inplace=True`**,\n",
    "> but is not recommended (rather, assign the result to a new variable)."
   ]
  },
  {
   "attachments": {},
   "cell_type": "markdown",
   "metadata": {},
   "source": [
    "To **sort on multiple columns**, provide a *list of column labels*:"
   ]
  },
  {
   "cell_type": "code",
   "execution_count": null,
   "metadata": {},
   "outputs": [],
   "source": [
    "country_data.sort_values(by=['continent', 'name'])"
   ]
  },
  {
   "attachments": {},
   "cell_type": "markdown",
   "metadata": {},
   "source": [
    "As you can see, the index (left-most column) labels are sorted along as well.\n",
    "If you want to have a new index for the result, in sorted order,\n",
    "then you can use the function **`reset_index()`**.\n",
    "The old index is preserved as well in the column labeled `'index'`.\n",
    "\n",
    "Let us sort the `country_data` data frame by *population*,\n",
    "reset the index, and assign the result to the variable `country_data_sorted_by_pop`:"
   ]
  },
  {
   "cell_type": "code",
   "execution_count": null,
   "metadata": {},
   "outputs": [],
   "source": [
    "country_data_sorted_by_pop = country_data.sort_values(by='population', ascending=False).reset_index()\n",
    "country_data_sorted_by_pop"
   ]
  },
  {
   "attachments": {},
   "cell_type": "markdown",
   "metadata": {},
   "source": [
    "### Exercise 8.a\n",
    "\n",
    "Sort the country data on _area_ in descending order, and show the _name_ and _area_ for the first 10 rows."
   ]
  },
  {
   "cell_type": "code",
   "execution_count": null,
   "metadata": {},
   "outputs": [],
   "source": [
    "#// BEGIN_TODO [EDA_8a] Name and area of first 10 rows after sorting on area (1 point)\n",
    "\n",
    "# ===== =====> Replace this line by your code. <===== ===== #\n",
    "\n",
    "#// END_TODO [EDA_8a]"
   ]
  },
  {
   "attachments": {},
   "cell_type": "markdown",
   "metadata": {},
   "source": [
    "## 9. Computing Values from a `DataFrame`\n",
    "\n",
    "You can apply **arithmetic operations** on entire data frames or series,\n",
    "such as selected columns.\n",
    "\n",
    "Let us calculate the _population density_ (_population_ divided by *area*) for each country:"
   ]
  },
  {
   "cell_type": "code",
   "execution_count": null,
   "metadata": {},
   "outputs": [],
   "source": [
    "country_data['population'] / country_data['area']"
   ]
  },
  {
   "attachments": {},
   "cell_type": "markdown",
   "metadata": {},
   "source": [
    "### Adding a New Column to a `DataFrame`\n",
    "\n",
    "It is more useful to combine the computed population density with the existing data,\n",
    "by **adding a new column** with the computed density values.  \n",
    "We can add such a new column labeled `'density'` as follows:"
   ]
  },
  {
   "cell_type": "code",
   "execution_count": null,
   "metadata": {},
   "outputs": [],
   "source": [
    "country_data['density'] = country_data['population'] / country_data['area']\n",
    "country_data"
   ]
  },
  {
   "attachments": {},
   "cell_type": "markdown",
   "metadata": {},
   "source": [
    "### Exercise 9.a\n",
    "\n",
    "Add a new column to the `country_data` data frame labeled `specific_area` with the _specific area_\n",
    "(_area_ divided by *population*) **expressed in $\\mathrm{m}^2$ per person**. Then, show the first five rows of the data frame.\n",
    "\n",
    "<span class=\"t\">Hint<span class=\"c\">:</span></span>\n",
    "<span class=\"h\">\n",
    "The default value of `head()` is five.\n",
    "</span>"
   ]
  },
  {
   "cell_type": "code",
   "execution_count": null,
   "metadata": {},
   "outputs": [],
   "source": [
    "#// BEGIN_TODO [EDA_9a] Add 'specific_area' column (1 point)\n",
    "\n",
    "# ===== =====> Replace this line by your code. <===== ===== #\n",
    "\n",
    "#// END_TODO [EDA_9a]"
   ]
  },
  {
   "attachments": {},
   "cell_type": "markdown",
   "metadata": {},
   "source": [
    "### Normalizing Values in a `DataFrame`\n",
    "\n",
    "Sometimes, we will need to compare different features or variables in a data frame.\n",
    "However, a problem arises when their values range in highly different scales.\n",
    "\n",
    "For instance, suppose you want to compare the `area` and `population` features in the `country_data` data frame.\n",
    "Nevertheless, as we can see below, the values vary in a different range.\n",
    "In this case, the `population` feature will dominate the `area` one."
   ]
  },
  {
   "cell_type": "code",
   "execution_count": null,
   "metadata": {},
   "outputs": [],
   "source": [
    "area = country_data['area']\n",
    "print(f'Area range: {area.min():,} - {area.max():,}')"
   ]
  },
  {
   "cell_type": "code",
   "execution_count": null,
   "metadata": {},
   "outputs": [],
   "source": [
    "population = country_data['population']\n",
    "print(f'Population range: {population.min():,} - {population.max():,}')"
   ]
  },
  {
   "attachments": {},
   "cell_type": "markdown",
   "metadata": {},
   "source": [
    "To solve this issue, we can **normalize** the values of both features.\n",
    "That is, both features will have a common scale.\n",
    "There are different data normalization methods, one of the most popular ones is the use of z-scores.\n",
    "\n",
    "#### Z-score Normalization\n",
    "**Z-score normalization** is a normalization method where each score tells you how far away the data point is from the mean of the feature distribution.\n",
    "The distance is given in the number of standard distributions: the number of standard distributions above or below the mean.\n",
    "One of its main advantages is that it deals with outliers (contrary to other methods such as min-max).\n",
    "\n",
    "The formula below computes a z-score $z$, where $x$ represents the data point's original value, $\\mu$ the mean of the feature distribution, and $\\sigma$ its standard deviation.\n",
    "\n",
    "$z = \\frac{x - \\mu}{\\sigma}$\n",
    "\n",
    "For example, the z-score of the `area` value 468 can be computed as follows."
   ]
  },
  {
   "cell_type": "code",
   "execution_count": null,
   "metadata": {},
   "outputs": [],
   "source": [
    "value = 468\n",
    "mean = country_data['area'].mean()\n",
    "stdev = country_data['area'].std()\n",
    "zscore = (value - mean) / stdev\n",
    "zscore"
   ]
  },
  {
   "attachments": {},
   "cell_type": "markdown",
   "metadata": {},
   "source": [
    "### Exercise 9.b\n",
    "\n",
    "Add a new column to the `country_data` data frame that contains the `area` z-scores.\n",
    "Name the column `area_zscore`."
   ]
  },
  {
   "cell_type": "code",
   "execution_count": null,
   "metadata": {},
   "outputs": [],
   "source": [
    "#// BEGIN_TODO [EDA_9b] Add 'area_zscore' column (1 point)\n",
    "\n",
    "# ===== =====> Replace this line by your code. <===== ===== #\n",
    "\n",
    "#// END_TODO [EDA_9b]"
   ]
  },
  {
   "attachments": {},
   "cell_type": "markdown",
   "metadata": {},
   "source": [
    "## 10. Selecting Rows by Using Boolean Masks\n",
    "\n",
    "A **boolean mask** is a list of boolean values that can be used to select those rows in a data frame for which the mask contains the value `True`. This is done by using the boolean mask as an index of the data frame. The length of the mask must equal the number of rows in the data frame.\n",
    "\n",
    "For example, let us take a look at our shopping list example:"
   ]
  },
  {
   "cell_type": "code",
   "execution_count": null,
   "metadata": {},
   "outputs": [],
   "source": [
    "df_shopping_list"
   ]
  },
  {
   "attachments": {},
   "cell_type": "markdown",
   "metadata": {},
   "source": [
    "We can use a Boolean mask to select a subset of rows for which the mask has a `True` value:"
   ]
  },
  {
   "cell_type": "code",
   "execution_count": null,
   "metadata": {},
   "outputs": [],
   "source": [
    "df_shopping_list[[True, False, False, True, False]]"
   ]
  },
  {
   "attachments": {},
   "cell_type": "markdown",
   "metadata": {},
   "source": [
    "It is sometimes convenient to store a mask in a variable, e.g. to reuse it later:"
   ]
  },
  {
   "cell_type": "code",
   "execution_count": null,
   "metadata": {},
   "outputs": [],
   "source": [
    "mask = [True, False, False, True, False]\n",
    "df_shopping_list[mask]"
   ]
  },
  {
   "attachments": {},
   "cell_type": "markdown",
   "metadata": {},
   "source": [
    "A Boolean mask can be created by applying **comparison and logical operations** on selected columns. For example, let us compute a mask of products in our shopping list that cost less than 1.70 Euros:"
   ]
  },
  {
   "cell_type": "code",
   "execution_count": null,
   "metadata": {},
   "outputs": [],
   "source": [
    "df_shopping_list['Price (Euros)'] < 1.70"
   ]
  },
  {
   "attachments": {},
   "cell_type": "markdown",
   "metadata": {},
   "source": [
    "We can use the mask to select those products"
   ]
  },
  {
   "cell_type": "code",
   "execution_count": null,
   "metadata": {},
   "outputs": [],
   "source": [
    "df_shopping_list[df_shopping_list['Price (Euros)'] < 1.70]"
   ]
  },
  {
   "attachments": {},
   "cell_type": "markdown",
   "metadata": {},
   "source": [
    "As another example, let us compute which countries are in _Europe_ and assign the result to the variable `countries_in_EU`:"
   ]
  },
  {
   "cell_type": "code",
   "execution_count": null,
   "metadata": {},
   "outputs": [],
   "source": [
    "countries_in_EU = country_data['continent'] == 'EU'\n",
    "countries_in_EU"
   ]
  },
  {
   "attachments": {},
   "cell_type": "markdown",
   "metadata": {},
   "source": [
    "Let us use the mask `countries_in_EU` to select countries in *Europe*:"
   ]
  },
  {
   "cell_type": "code",
   "execution_count": null,
   "metadata": {},
   "outputs": [],
   "source": [
    "country_data[countries_in_EU]"
   ]
  },
  {
   "attachments": {},
   "cell_type": "markdown",
   "metadata": {},
   "source": [
    "Here is another example selecting the data for the *Netherlands*, using that it has the _top-level domain_ `.nl`:"
   ]
  },
  {
   "cell_type": "code",
   "execution_count": null,
   "metadata": {},
   "outputs": [],
   "source": [
    "country_data[country_data['tld'] == '.nl']"
   ]
  },
  {
   "attachments": {},
   "cell_type": "markdown",
   "metadata": {},
   "source": [
    "### Boolean Mask for Missing Values\n",
    "\n",
    "The `Series` method **`isnull()`** can be used to create a **Boolean mask\n",
    "for missing values** (these are also known as **not available** (na) or **null values**).\n",
    "\n",
    "Let us check which countries don't have a *top-level domain*:"
   ]
  },
  {
   "cell_type": "code",
   "execution_count": null,
   "metadata": {},
   "outputs": [],
   "source": [
    "country_data[country_data['tld'].isnull()]"
   ]
  },
  {
   "attachments": {},
   "cell_type": "markdown",
   "metadata": {},
   "source": [
    "### Combining Boolean Masks\n",
    "\n",
    "Boolean masks can be combined into more complex Boolean conditions using the following operators:\n",
    "\n",
    "* **`&`** for **and**\n",
    "* **`|`** for **or**\n",
    "* **`~`** for **not**\n",
    "\n",
    "These operators apply the corresponding logical operator to each row in a data frame or series. For example, let us compute the truth table for the logical expression: not A or B:"
   ]
  },
  {
   "cell_type": "code",
   "execution_count": null,
   "metadata": {},
   "outputs": [],
   "source": [
    "df_truth = pd.DataFrame({'A': [True, True, False, False], 'B': [True, False, True, False]})\n",
    "df_truth['A or B'] = df_truth['A'] | df_truth['B']\n",
    "df_truth['not (A or B)'] = ~(df_truth['A'] | df_truth['B'])\n",
    "df_truth"
   ]
  },
  {
   "attachments": {},
   "cell_type": "markdown",
   "metadata": {},
   "source": [
    "The operators for combining Boolean masks bind stronger than comparison operators, e.g. `df['A'] & df['B'] < 42` is equivalent to `(df['A'] & df['B']) < 42`. Use parentheses to evaluate comparisons first.\n",
    "\n",
    "For example, let us show data for countries with a _population_ of less than one million and\n",
    "an _area_ of more than one hundred thousand square kilometers:\n",
    "\n",
    "> **Note:** the use of underscores in the integers to improve readability. These can be freely placed inside integers without affecting the value. Alternatively we could have used scientific notation, e.g., `1e6`, but note that this would have produced a `float`."
   ]
  },
  {
   "cell_type": "code",
   "execution_count": null,
   "metadata": {},
   "outputs": [],
   "source": [
    "country_data[(country_data['population'] < 1_000_000) & (country_data['area'] > 100_000)]"
   ]
  },
  {
   "attachments": {},
   "cell_type": "markdown",
   "metadata": {},
   "source": [
    "### Exercise 10.a\n",
    "\n",
    "Compute a Boolean mask that is `True` for those rows that have `'Kingston'` as *capital*,\n",
    "and assign it to `capital_kingston`."
   ]
  },
  {
   "cell_type": "code",
   "execution_count": null,
   "metadata": {},
   "outputs": [],
   "source": [
    "#// BEGIN_TODO [EDA_10a] Boolean mask for capital Kingston (1 point)\n",
    "\n",
    "# ===== =====> Replace this line by your code. <===== ===== #\n",
    "\n",
    "#// END_TODO [EDA_10a]\n",
    "\n",
    "capital_kingston"
   ]
  },
  {
   "attachments": {},
   "cell_type": "markdown",
   "metadata": {},
   "source": [
    "### Exercise 10.b\n",
    "\n",
    "Show the data for countries with _capital_ `'Kingston'`,\n",
    "using the Boolean mask `capital_kingston` computed earlier:"
   ]
  },
  {
   "cell_type": "code",
   "execution_count": null,
   "metadata": {},
   "outputs": [],
   "source": [
    "#// BEGIN_TODO [EDA_10b] Show data for countries with capital Kingston (1 point)\n",
    "\n",
    "# ===== =====> Replace this line by your code. <===== ===== #\n",
    "\n",
    "#// END_TODO [EDA_10b]"
   ]
  },
  {
   "attachments": {},
   "cell_type": "markdown",
   "metadata": {},
   "source": [
    "### Exercise 10.c\n",
    "\n",
    "Compute a boolean mask that is `True` for those rows that have a _population_\n",
    "larger than 100 million.\n",
    "Assign it to the variable `large_population`."
   ]
  },
  {
   "cell_type": "code",
   "execution_count": null,
   "metadata": {},
   "outputs": [],
   "source": [
    "#// BEGIN_TODO [EDA_10c] Boolean mask for population larger than 100 million (1 point)\n",
    "\n",
    "# ===== =====> Replace this line by your code. <===== ===== #\n",
    "\n",
    "#// END_TODO [EDA_10c]\n",
    "\n",
    "large_population"
   ]
  },
  {
   "attachments": {},
   "cell_type": "markdown",
   "metadata": {},
   "source": [
    "### Exercise 10.d\n",
    "\n",
    "Show the data for countries whose _population_ exceeds 100 million,\n",
    "by using the Boolean mask `large_population` computed earlier:"
   ]
  },
  {
   "cell_type": "code",
   "execution_count": null,
   "metadata": {},
   "outputs": [],
   "source": [
    "#// BEGIN_TODO [EDA_10d] Show data for countries with large population (1 point)\n",
    "\n",
    "# ===== =====> Replace this line by your code. <===== ===== #\n",
    "\n",
    "#// END_TODO [EDA_10d]"
   ]
  },
  {
   "attachments": {},
   "cell_type": "markdown",
   "metadata": {
    "tags": []
   },
   "source": [
    "### Exercise 10.e\n",
    "\n",
    "Show the data for countries for which the _capital_ is missing in the data set.  \n",
    "\n",
    "<span class=\"t\">Hint<span class=\"c\">:</span></span>\n",
    "<span class=\"h\">\n",
    "Use `isnull()` to construct an appropriate _Boolean mask_.\n",
    "</span>"
   ]
  },
  {
   "cell_type": "code",
   "execution_count": null,
   "metadata": {},
   "outputs": [],
   "source": [
    "#// BEGIN_TODO [EDA_10e] Show data for countries whose capital is missing (1 point)\n",
    "\n",
    "# ===== =====> Replace this line by your code. <===== ===== #\n",
    "\n",
    "#// END_TODO [EDA_10e]"
   ]
  },
  {
   "attachments": {},
   "cell_type": "markdown",
   "metadata": {},
   "source": [
    "### Exercise 10.f\n",
    "\n",
    "Show data for those countries in _Europe_ that have a _population_ between ten and twenty million (inclusive) as cell output.  \n",
    "\n",
    "<span class=\"t\">Hint<span class=\"c\">:</span></span>\n",
    "<span class=\"h\">\n",
    "First compute three separate boolean masks: <code>countries_in_EU</code> for 'in Europe', <code>pop_more_10M</code> for 'population at least ten million', <code>pop_less_20M</code> for 'population at most twenty million'. Then combine them into one boolean mask using `&`.\n",
    "</span>"
   ]
  },
  {
   "cell_type": "code",
   "execution_count": null,
   "metadata": {},
   "outputs": [],
   "source": [
    "#// BEGIN_TODO [EDA_10f] Population between ten and twenty million (1 point)\n",
    "\n",
    "# ===== =====> Replace this line by your code. <===== ===== #\n",
    "\n",
    "#// END_TODO [EDA_10f]"
   ]
  },
  {
   "attachments": {},
   "cell_type": "markdown",
   "metadata": {},
   "source": [
    "## 11. Grouping Rows in a `DataFrame`"
   ]
  },
  {
   "attachments": {},
   "cell_type": "markdown",
   "metadata": {},
   "source": [
    "By sorting a data frame,\n",
    "you can bring items with the same value together.\n",
    "But this is not good enough to gather statistics\n",
    "about groups of equal values.\n",
    "\n",
    "Take for instance the `country_data` data frame.\n",
    "What about the total _population_ and _area_ per *continent*?\n",
    "\n",
    "That is where **grouping** comes in.\n",
    "First, we create a so-called `GroupBy` object\n",
    "from the data frame,\n",
    "using the method **`groupby()`**\n",
    "with the column label(s) to group by as an argument.\n",
    "\n",
    "This is how you group the country data by *continent*\n",
    "and assign the `GroupBy` object to the variable `grouped`."
   ]
  },
  {
   "cell_type": "code",
   "execution_count": null,
   "metadata": {},
   "outputs": [],
   "source": [
    "grouped = country_data.groupby('continent')"
   ]
  },
  {
   "attachments": {},
   "cell_type": "markdown",
   "metadata": {},
   "source": [
    "The **`groups`** attribute of the `GroupBy` object\n",
    "shows for each continent which rows concern that continent:"
   ]
  },
  {
   "cell_type": "code",
   "execution_count": null,
   "metadata": {},
   "outputs": [],
   "source": [
    "grouped.groups"
   ]
  },
  {
   "attachments": {},
   "cell_type": "markdown",
   "metadata": {},
   "source": [
    "> Note that Australia and New Zealand are apparently put under Oceania,\n",
    "> since there is no separate continent `AU`."
   ]
  },
  {
   "attachments": {},
   "cell_type": "markdown",
   "metadata": {},
   "source": [
    "The `GroupBy` object can be treated like a `DataFrame` in a number of ways.\n",
    "\n",
    "For instance, this is how you get the summary statistics for _area_ per _continent_:"
   ]
  },
  {
   "cell_type": "code",
   "execution_count": null,
   "metadata": {},
   "outputs": [],
   "source": [
    "grouped['area'].describe()"
   ]
  },
  {
   "attachments": {},
   "cell_type": "markdown",
   "metadata": {},
   "source": [
    "You can compute separate summary statistics for particular columns using one of several aggregation methods like **`.sum()`**, **`.mean()`**, **`.min()`**, or **`.median()`** (see the section on *Summary Statistics* earlier for more aggregation functions). For example, this is how you get total _population_ and _area_ per *continent*:"
   ]
  },
  {
   "cell_type": "code",
   "execution_count": null,
   "metadata": {},
   "outputs": [],
   "source": [
    "grouped[['population', 'area']].sum()"
   ]
  },
  {
   "attachments": {},
   "cell_type": "markdown",
   "metadata": {},
   "source": [
    "You can also aggregate several quantities at once using **`.agg()`** by providing a dictionary as an argument, containing the column names as keys and lists of quantities as values. For example, this is how to compute the mean and median population and the largest area:"
   ]
  },
  {
   "cell_type": "code",
   "execution_count": null,
   "metadata": {},
   "outputs": [],
   "source": [
    "grouped.agg({'population' : ['mean', 'median'], 'area' : ['max']})"
   ]
  },
  {
   "attachments": {},
   "cell_type": "markdown",
   "metadata": {},
   "source": [
    "Note that this creates a data frame whose **columns** are a `MultiIndex` with two levels."
   ]
  },
  {
   "attachments": {},
   "cell_type": "markdown",
   "metadata": {},
   "source": [
    "By passing more than one column label to the `groupby()` method (as a list), you can group the data based on multiple columns at the same time. When computing summary statistics for such a `GroupBy` object the resulting data frame has a `MultiIndex` as its index. For example,"
   ]
  },
  {
   "cell_type": "code",
   "execution_count": null,
   "metadata": {},
   "outputs": [],
   "source": [
    "country_data.groupby(['continent', 'alpha_3']).mean(numeric_only=True).head()"
   ]
  },
  {
   "attachments": {},
   "cell_type": "markdown",
   "metadata": {},
   "source": [
    "computes the mean of the numeric columns for each (`continent`, `alpha_3`)-pair. Since the `alpha_3` code is a unique identifier for each country these computed averages are simply the values for the corresponding countries (as they are averages over sets of size 1). The effect of this operation is thus, in this case, exactly the same as setting the index of the dataframe as follows"
   ]
  },
  {
   "cell_type": "code",
   "execution_count": null,
   "metadata": {},
   "outputs": [],
   "source": [
    "country_data.set_index(['continent', 'alpha_3']).sort_index().head()"
   ]
  },
  {
   "attachments": {},
   "cell_type": "markdown",
   "metadata": {},
   "source": [
    "### Exercise 11.a\n",
    "\n",
    "Show the summary statistics for _population_ per _continent_ (reuse the variable `grouped` defined above)."
   ]
  },
  {
   "cell_type": "code",
   "execution_count": null,
   "metadata": {},
   "outputs": [],
   "source": [
    "#// BEGIN_TODO [EDA_11a] Summary statistics for population per continent (1 point)\n",
    "\n",
    "# ===== =====> Replace this line by your code. <===== ===== #\n",
    "\n",
    "#// END_TODO [EDA_11a]"
   ]
  },
  {
   "attachments": {},
   "cell_type": "markdown",
   "metadata": {},
   "source": [
    "### Exercise 11.b\n",
    "\n",
    "Show the _maximum_ _density_ per _continent_, where the result should be a `Series` object (reuse `grouped`)."
   ]
  },
  {
   "cell_type": "code",
   "execution_count": null,
   "metadata": {},
   "outputs": [],
   "source": [
    "#// BEGIN_TODO [EDA_11b] Maximum density per continent (1 point)\n",
    "\n",
    "# ===== =====> Replace this line by your code. <===== ===== #\n",
    "\n",
    "#// END_TODO [EDA_11b]"
   ]
  },
  {
   "attachments": {},
   "cell_type": "markdown",
   "metadata": {},
   "source": [
    "### Exercise 11.c\n",
    "\n",
    "Show the minimum, maximum, and total *area* per *continent* (reuse `grouped`)."
   ]
  },
  {
   "cell_type": "code",
   "execution_count": null,
   "metadata": {},
   "outputs": [],
   "source": [
    "#// BEGIN_TODO [EDA_11c] Minimum, maximum and total area per continent (1 point)\n",
    "\n",
    "# ===== =====> Replace this line by your code. <===== ===== #\n",
    "\n",
    "#// END_TODO [EDA_11c]"
   ]
  },
  {
   "attachments": {},
   "cell_type": "markdown",
   "metadata": {},
   "source": [
    "## 12. Deleting Rows or Columns from a `DataFrame`\n",
    "\n",
    "To delete one or more rows or columns from a `DataFrame`\n",
    "use the data frame method **`drop()`**.\n",
    "\n",
    "* **`df.drop(row)`**\n",
    "* **`df.drop(list_of_rows)`**\n",
    "* **`df.drop(column, axis=1)`**\n",
    "* **`df.drop(list_columns, axis=1)`**\n",
    "\n",
    "This returns a *new data frame*, with the specified rows or columns removed.\n",
    "\n",
    "The parameter `axis` indicates along which axis to drop, with `axis=0` referring to rows and `axis=1` referring to columns. The default is `axis=0` to drop rows.\n",
    "\n",
    "> **Note:** alternatively, you can use the keyword arguments `index` and `columns` to drop rows or columns respectively.\n",
    "\n",
    "For example, given the following data frame:"
   ]
  },
  {
   "cell_type": "code",
   "execution_count": null,
   "metadata": {},
   "outputs": [],
   "source": [
    "df_example = pd.DataFrame({'A': [1, 2, 3, 4], 'B': ['one', 'two', 'three', 'four'], 'C': [False, True, False, True]})\n",
    "df_example"
   ]
  },
  {
   "attachments": {},
   "cell_type": "markdown",
   "metadata": {},
   "source": [
    "You can drop the row with index label 1 (i.e. the second row):"
   ]
  },
  {
   "cell_type": "code",
   "execution_count": null,
   "metadata": {},
   "outputs": [],
   "source": [
    "df_example.drop(1)"
   ]
  },
  {
   "attachments": {},
   "cell_type": "markdown",
   "metadata": {},
   "source": [
    "You can drop the column with the label 'C':"
   ]
  },
  {
   "cell_type": "code",
   "execution_count": null,
   "metadata": {},
   "outputs": [],
   "source": [
    "df_example.drop('C', axis=1)"
   ]
  },
  {
   "attachments": {},
   "cell_type": "markdown",
   "metadata": {},
   "source": [
    "You can also **drop rows based on a condition** using `drop()`,\n",
    "by cleverly combining\n",
    "\n",
    "* selection with a Boolean mask and\n",
    "* the `index` attribute:\n",
    "\n",
    "```python\n",
    "df.drop(df[boolean_mask].index)\n",
    "```\n",
    "\n",
    "For example, you can drop countries in Europe from the `country_data` data frame:"
   ]
  },
  {
   "cell_type": "code",
   "execution_count": null,
   "metadata": {},
   "outputs": [],
   "source": [
    "country_data.drop(country_data[countries_in_EU].index)"
   ]
  },
  {
   "attachments": {},
   "cell_type": "markdown",
   "metadata": {},
   "source": [
    "## 13. Persisting the Modifications\n",
    "\n",
    "The data frame methods that we have discussed so far (`sort_values(), head(), drop()`) return a _new_ data frame, just like the `copy()` method we have seen before. To store the results of any modifications to a data frame we can assign the result to a new variable and then work on that variable.\n",
    "\n",
    "For example, the `drop()` method will return a new data frame:"
   ]
  },
  {
   "cell_type": "code",
   "execution_count": null,
   "metadata": {},
   "outputs": [],
   "source": [
    "df_drop = df_example.drop('C', axis=1)\n",
    "df_drop"
   ]
  },
  {
   "attachments": {},
   "cell_type": "markdown",
   "metadata": {},
   "source": [
    "The original data frame `df_example` is not affected by the dropping:"
   ]
  },
  {
   "cell_type": "code",
   "execution_count": null,
   "metadata": {},
   "outputs": [],
   "source": [
    "df_example"
   ]
  },
  {
   "attachments": {},
   "cell_type": "markdown",
   "metadata": {},
   "source": [
    "Moreover, any modifications to `df_drop` will not affect `df_example`:"
   ]
  },
  {
   "cell_type": "code",
   "execution_count": null,
   "metadata": {},
   "outputs": [],
   "source": [
    "df_drop.loc[1, 'B'] = 'EIGHT'\n",
    "df_drop"
   ]
  },
  {
   "cell_type": "code",
   "execution_count": null,
   "metadata": {},
   "outputs": [],
   "source": [
    "df_example"
   ]
  },
  {
   "attachments": {},
   "cell_type": "markdown",
   "metadata": {},
   "source": [
    "#### The `inplace` Argument\n",
    "\n",
    "For many data frame methods, you can supply the extra argument **`inplace=True`** to store the modifications in the target data frame. However, this is usually not recommended; it is often better to assign the result to a new variable.\n",
    "\n",
    "The following cell drops the rows with index labels 1 and 3, modifying `df_example` in place:"
   ]
  },
  {
   "cell_type": "code",
   "execution_count": null,
   "metadata": {},
   "outputs": [],
   "source": [
    "df_example.drop([1, 3], inplace=True)\n",
    "df_example"
   ]
  },
  {
   "attachments": {},
   "cell_type": "markdown",
   "metadata": {},
   "source": [
    "## 14. Plotting a `DataFrame`"
   ]
  },
  {
   "attachments": {},
   "cell_type": "markdown",
   "metadata": {},
   "source": [
    "Various plots can be made directly from a `DataFrame` or `Series` object.\n",
    "\n",
    "First, we\n",
    "* import the underlying plotting libraries **Matplotlib** and **Seaborn**;\n",
    "* configure some parameters (see the comments for details)."
   ]
  },
  {
   "cell_type": "code",
   "execution_count": null,
   "metadata": {},
   "outputs": [],
   "source": [
    "import matplotlib.pyplot as plt\n",
    "import seaborn as sns\n",
    "\n",
    "sns.set()                               # Sets Seaborn default values\n",
    "plt.rcParams['figure.figsize'] = 10, 5  # Default hor./vert. size of plots, in inches"
   ]
  },
  {
   "attachments": {},
   "cell_type": "markdown",
   "metadata": {},
   "source": [
    "> **Note:** This section presents a brief overview of plotting data for a quick exploration. More advanced plotting and annotation methods that are needed for communicating your data analysis with others will be addressed in _Exercises - VIS_."
   ]
  },
  {
   "attachments": {},
   "cell_type": "markdown",
   "metadata": {},
   "source": [
    "The general method to make a plot for a `DataFrame` is\n",
    "\n",
    "* **`df.plot(kind='...', ...)`**\n",
    "\n",
    "where the following kinds of plots are supported.\n",
    "\n",
    "* **`'line'`**: default\n",
    "* **`'area'`**: like `'line'`, but with the area below the line filled in\n",
    "* **`'bar'`**: vertical bar plot, with separated bars\n",
    "* **`'barh'`**: horizontal bar plot, with separated bars\n",
    "* **`'hist'`**: histogram, with automatic binning; use `bins=n` to set the number of bins to `n`\n",
    "* **`'box'`**: vertical box (and whisker) plot, with outliers\n",
    "* **`'density'`**: density plot (a kind of continuous histogram)\n",
    "* **`'scatter'`**: scatter plot\n",
    "\n",
    "All of these plots, **except `'scatter`'**, apply to `Series` objects as well.\n",
    "\n",
    "When used on a `DataFrame` object, all (numeric) columns are plotted, and a **legend** is included.\n",
    "\n",
    "The extra arguments are mostly irrelevant in this lesson; the ones that are relevant will be discussed below.\n",
    "\n",
    "Remember that you can get an explanation of all the method parameters like `kind='...'` with `?` or Shift-Tab-Tab. Execute the following cell to get built-in help for the Pandas plotting method (most of the details are irrelevant for this lesson):"
   ]
  },
  {
   "cell_type": "code",
   "execution_count": null,
   "metadata": {},
   "outputs": [],
   "source": [
    "country_data.plot?"
   ]
  },
  {
   "attachments": {},
   "cell_type": "markdown",
   "metadata": {},
   "source": [
    "You are encouraged to use the built-in help for the methods introduced below to explore and learn about other parameters they support. \n",
    "\n",
    "### Line Plot\n",
    "\n",
    "We begin with a **line plot** of the  _population_ per country. It shows the `'population'` column on the y-axis and the index (of the series `country_data['population']`) on the $x$-axis.\n",
    "\n",
    "Note that in this plot, since the $x$-axis has the row indices, the countries are ordered as in the original data file."
   ]
  },
  {
   "cell_type": "code",
   "execution_count": null,
   "metadata": {},
   "outputs": [],
   "source": [
    "country_data['population'].plot();"
   ]
  },
  {
   "attachments": {},
   "cell_type": "markdown",
   "metadata": {},
   "source": [
    "The semicolon **`;`** on the last line\n",
    "suppresses the textual output (which is not relevant to us).\n",
    "\n",
    "We can plot the _population_ in descending order,\n",
    "by using the earlier computed `country_data_sorted_by_pop`:"
   ]
  },
  {
   "cell_type": "code",
   "execution_count": null,
   "metadata": {},
   "outputs": [],
   "source": [
    "country_data_sorted_by_pop['population'].plot();"
   ]
  },
  {
   "attachments": {},
   "cell_type": "markdown",
   "metadata": {},
   "source": [
    "### Area Plot\n",
    "\n",
    "Now we create the same plots as **area plots**:"
   ]
  },
  {
   "cell_type": "code",
   "execution_count": null,
   "metadata": {},
   "outputs": [],
   "source": [
    "country_data['population'].plot(kind='area');"
   ]
  },
  {
   "cell_type": "code",
   "execution_count": null,
   "metadata": {},
   "outputs": [],
   "source": [
    "country_data_sorted_by_pop['population'].plot(kind='area');"
   ]
  },
  {
   "attachments": {},
   "cell_type": "markdown",
   "metadata": {},
   "source": [
    "### Dot Plot\n",
    "\n",
    "A **dot plot** is obtained by creating a _line plot_ where the _marker_ is set to dots (**`marker='o'`**) and the lines are hidden (**`linestyle=''`**):"
   ]
  },
  {
   "cell_type": "code",
   "execution_count": null,
   "metadata": {},
   "outputs": [],
   "source": [
    "country_data['population'].plot(marker=\"o\", linestyle='');"
   ]
  },
  {
   "attachments": {},
   "cell_type": "markdown",
   "metadata": {},
   "source": [
    "### Histogram\n",
    "\n",
    "We plot a **histogram** for the _population_ in *Europe*,\n",
    "using the default number of bins.  \n",
    "First, we select the relevant data,\n",
    "reusing the Boolean mask `countries_in_EU`\n",
    "(this results in a `DataFrame` object,\n",
    "because of the double square brackets around `'population'`)."
   ]
  },
  {
   "cell_type": "code",
   "execution_count": null,
   "metadata": {},
   "outputs": [],
   "source": [
    "country_data[countries_in_EU][['population']].plot(kind='hist');"
   ]
  },
  {
   "attachments": {},
   "cell_type": "markdown",
   "metadata": {},
   "source": [
    "When plotting a single series of this data frame,\n",
    "the histogram will not include a legend\n",
    "(now there are single square brackets around `'population'`):"
   ]
  },
  {
   "cell_type": "code",
   "execution_count": null,
   "metadata": {},
   "outputs": [],
   "source": [
    "country_data[countries_in_EU]['population'].plot(kind='hist');"
   ]
  },
  {
   "attachments": {},
   "cell_type": "markdown",
   "metadata": {},
   "source": [
    "Next, we plot a **histogram** for this data,\n",
    "using 20 bins (`bins=20`), and normalizing the total area so it integrates to one (`density=True`):"
   ]
  },
  {
   "cell_type": "code",
   "execution_count": null,
   "metadata": {},
   "outputs": [],
   "source": [
    "country_data[countries_in_EU][['population']].plot(kind='hist', bins=20, density=True);"
   ]
  },
  {
   "attachments": {},
   "cell_type": "markdown",
   "metadata": {},
   "source": [
    "### Density Plot\n",
    "\n",
    "A **density plot** (a kind of continuous histogram) for the same data:"
   ]
  },
  {
   "cell_type": "code",
   "execution_count": null,
   "metadata": {},
   "outputs": [],
   "source": [
    "country_data[countries_in_EU][['population']].plot(kind='density');"
   ]
  },
  {
   "attachments": {},
   "cell_type": "markdown",
   "metadata": {},
   "source": [
    "> **Note:** The contribution of each value is smeared out and integrated.  \n",
    "> Of course, there are no negative populations in reality."
   ]
  },
  {
   "attachments": {},
   "cell_type": "markdown",
   "metadata": {},
   "source": [
    "### Box Plot\n",
    "\n",
    "A **box plot** for the _population_\n",
    "(note the **outliers**):"
   ]
  },
  {
   "cell_type": "code",
   "execution_count": null,
   "metadata": {},
   "outputs": [],
   "source": [
    "country_data[countries_in_EU][['population']].plot(kind='box');"
   ]
  },
  {
   "attachments": {},
   "cell_type": "markdown",
   "metadata": {},
   "source": [
    "For **box plots** of `DataFrame` objects, there is a special variant:\n",
    "\n",
    "* **`df.boxplot(column=..., by=...)`** :\n",
    "    side-by-side box plots for given column(s), grouped by given column(s)\n",
    "\n",
    "A **box plot** for the _population_ **grouped by** *continent*:"
   ]
  },
  {
   "cell_type": "code",
   "execution_count": null,
   "metadata": {},
   "outputs": [],
   "source": [
    "country_data.boxplot(column='population', by='continent');"
   ]
  },
  {
   "attachments": {},
   "cell_type": "markdown",
   "metadata": {},
   "source": [
    "### Bar Plot\n",
    "\n",
    "A **bar plot** for the _number of countries_ per _continent_\n",
    "can be obtained via **grouping**.  \n",
    "Recall that `grouped` was defined earlier\n",
    "to capture the grouping of country data per continent."
   ]
  },
  {
   "cell_type": "code",
   "execution_count": null,
   "metadata": {},
   "outputs": [],
   "source": [
    "grouped['continent'].count().plot(kind='bar');"
   ]
  },
  {
   "attachments": {},
   "cell_type": "markdown",
   "metadata": {},
   "source": [
    "A **bar plot** for total _population_ per *continent*,\n",
    "again based on the grouping computed earlier:"
   ]
  },
  {
   "cell_type": "code",
   "execution_count": null,
   "metadata": {},
   "outputs": [],
   "source": [
    "grouped['population'].sum().plot(kind='bar');"
   ]
  },
  {
   "attachments": {},
   "cell_type": "markdown",
   "metadata": {},
   "source": [
    "### Scatter Plot\n",
    "\n",
    "A **scatter plot** that plots _area_ against _population_ using blue color:"
   ]
  },
  {
   "cell_type": "code",
   "execution_count": null,
   "metadata": {},
   "outputs": [],
   "source": [
    "country_data.plot(kind='scatter', x='area', y='population', color=\"b\");"
   ]
  },
  {
   "attachments": {},
   "cell_type": "markdown",
   "metadata": {},
   "source": [
    "Note that the dot plot introduced earlier shows the index on the $x$-axis and one or more columns on the $y$-axis, while  the scatter plot is meant to visualize the relationship between two columns. You will learn more about both in *Exercises-VIS*."
   ]
  },
  {
   "attachments": {},
   "cell_type": "markdown",
   "metadata": {},
   "source": [
    "### Exercise 14.a\n",
    "\n",
    "Show a dot plot of _area_ per country, using the method introduced above."
   ]
  },
  {
   "cell_type": "code",
   "execution_count": null,
   "metadata": {},
   "outputs": [],
   "source": [
    "#// BEGIN_TODO [EDA_14a] Dot plot for area per country (1 point)\n",
    "\n",
    "# ===== =====> Replace this line by your code. <===== ===== #\n",
    "\n",
    "#// END_TODO [EDA_14a]"
   ]
  },
  {
   "attachments": {},
   "cell_type": "markdown",
   "metadata": {
    "tags": []
   },
   "source": [
    "### Exercise 14.b\n",
    "\n",
    "Show an area plot of the _area_ per country sorted in descending order.  \n",
    "\n",
    "<span class=\"t\">Hint<span class=\"c\">:</span></span>\n",
    "<span class=\"h\">\n",
    "First compute country data sorted in descending order by *area*,\n",
    "assigning it to `country_data_sorted_by_area`.  \n",
    "Don't forget to use `.reset_index()`.\n",
    "</span>"
   ]
  },
  {
   "cell_type": "code",
   "execution_count": null,
   "metadata": {},
   "outputs": [],
   "source": [
    "#// BEGIN_TODO [EDA_14b] Area plot for area per country (1 point)\n",
    "\n",
    "# ===== =====> Replace this line by your code. <===== ===== #\n",
    "\n",
    "#// END_TODO [EDA_14b]"
   ]
  },
  {
   "attachments": {},
   "cell_type": "markdown",
   "metadata": {},
   "source": [
    "### Exercise 14.c\n",
    "\n",
    "Show a histogram with 30 bins for the country _area_ in _Europe_.  \n",
    "\n",
    "<span class=\"t\">Hint<span class=\"c\">:</span></span>\n",
    "<span class=\"h\">\n",
    "Reuse the boolean mask `countries_in_EU` computed earlier.\n",
    "</span>"
   ]
  },
  {
   "cell_type": "code",
   "execution_count": null,
   "metadata": {},
   "outputs": [],
   "source": [
    "#// BEGIN_TODO [EDA_14c] Histogram for area per country in Europe (1 point)\n",
    "\n",
    "# ===== =====> Replace this line by your code. <===== ===== #\n",
    "\n",
    "#// END_TODO [EDA_14c]"
   ]
  },
  {
   "attachments": {},
   "cell_type": "markdown",
   "metadata": {},
   "source": [
    "The resulting histogram is not very informative,\n",
    "illustrating the limitation of histograms.\n",
    "Here, this is caused by one **outlier**.\n",
    "\n",
    "### Exercise 14.d\n",
    "\n",
    "Define a boolean mask `countries_in_EU_not_RUS` for countries in _Europe_ without _Russia_.  \n",
    "\n",
    "<span class=\"t\">Hint<span class=\"c\">:</span></span>\n",
    "<span class=\"h\">\n",
    "Reuse the boolean mask `countries_in_EU`. Keep in mind that the operators for combining boolean masks bind stronger than comparison operators. The `alpha_3` code of Russia is `RUS`.\n",
    "</span>"
   ]
  },
  {
   "cell_type": "code",
   "execution_count": null,
   "metadata": {},
   "outputs": [],
   "source": [
    "#// BEGIN_TODO [EDA_14d] Boolean mask for countries in Europe without Russia (1 point)\n",
    "\n",
    "# ===== =====> Replace this line by your code. <===== ===== #\n",
    "\n",
    "#// END_TODO [EDA_14d]"
   ]
  },
  {
   "attachments": {},
   "cell_type": "markdown",
   "metadata": {},
   "source": [
    "### Exercise 14.e\n",
    "\n",
    "Show a histogram with 30 bins for the country _area_ in _Europe_ without _Russia_.  \n",
    "\n",
    "<span class=\"t\">Hint<span class=\"c\">:</span></span>\n",
    "<span class=\"h\">\n",
    "Reuse the boolean mask `countries_in_EU_not_RUS` computed earlier.\n",
    "</span>"
   ]
  },
  {
   "cell_type": "code",
   "execution_count": null,
   "metadata": {},
   "outputs": [],
   "source": [
    "#// BEGIN_TODO [EDA_14e] Histogram for area per country in Europe (1 point)\n",
    "\n",
    "# ===== =====> Replace this line by your code. <===== ===== #\n",
    "\n",
    "#// END_TODO [EDA_14e]"
   ]
  },
  {
   "attachments": {},
   "cell_type": "markdown",
   "metadata": {},
   "source": [
    "### Exercise 14.f\n",
    "\n",
    "Show a density plot for the country _area_ in _Europe_ without _Russia_."
   ]
  },
  {
   "cell_type": "code",
   "execution_count": null,
   "metadata": {},
   "outputs": [],
   "source": [
    "#// BEGIN_TODO [EDA_14f] Density plot for area per country in Europe (1 point)\n",
    "\n",
    "# ===== =====> Replace this line by your code. <===== ===== #\n",
    "\n",
    "#// END_TODO [EDA_14f]"
   ]
  },
  {
   "attachments": {},
   "cell_type": "markdown",
   "metadata": {},
   "source": [
    "### Exercise 14.g\n",
    "\n",
    "Show a box plot for the country _area_ in _Europe_ without *Russia*:"
   ]
  },
  {
   "cell_type": "code",
   "execution_count": null,
   "metadata": {},
   "outputs": [],
   "source": [
    "#// BEGIN_TODO [EDA_14g] Box plot for area per country in Europe without Russia (1 point)\n",
    "\n",
    "# ===== =====> Replace this line by your code. <===== ===== #\n",
    "\n",
    "#// END_TODO [EDA_14g]"
   ]
  },
  {
   "attachments": {},
   "cell_type": "markdown",
   "metadata": {},
   "source": [
    "### Exercise 14.h\n",
    "\n",
    "Creat a box plot for country _area_ grouped by *continent*:"
   ]
  },
  {
   "cell_type": "code",
   "execution_count": null,
   "metadata": {},
   "outputs": [],
   "source": [
    "#// BEGIN_TODO [EDA_14h] Box plots for country area grouped by continent (1 point)\n",
    "\n",
    "# ===== =====> Replace this line by your code. <===== ===== #\n",
    "\n",
    "#// END_TODO [EDA_14h]"
   ]
  },
  {
   "attachments": {},
   "cell_type": "markdown",
   "metadata": {},
   "source": [
    "### Exercise 14.i\n",
    "\n",
    "Show a scatter plot that plots _area_ against _population_\n",
    "for countries in _Europe_ without *Russia*:"
   ]
  },
  {
   "cell_type": "code",
   "execution_count": null,
   "metadata": {},
   "outputs": [],
   "source": [
    "#// BEGIN_TODO [EDA_14i] Scatter plot for area against population for countries in Europe without Russia (1 point)\n",
    "\n",
    "# ===== =====> Replace this line by your code. <===== ===== #\n",
    "\n",
    "#// END_TODO [EDA_14i]"
   ]
  },
  {
   "attachments": {},
   "cell_type": "markdown",
   "metadata": {},
   "source": [
    "# 15. Exercise: Speed of Light\n",
    "\n",
    "Now, let us put your data exploration skills to the test by evaluating an old experiment measuring the speed of light.\n",
    "\n",
    "\n",
    "In the earlier exercises you were closely guided. In the following exercises we will put your knowledge to the test.\n",
    "\n",
    "Note that these exercises may seem more difficult as you will need to work more indepedently. When you struggle with an exercise then go back to the corresponding earlier section and make sure you really understand the introduced concepts. Do not hesitate to experiment with your own code!\n",
    "\n",
    "\n",
    "In the 19th century, French physicists Fizeau and Foucault independently invented ways to measure the speed of light. Foucault's method turned out to be the most accurate one. The American physicists Michelson and Newcomb improved Foucault's method. The data set `light.csv` contains measurements by Newcomb from 1882."
   ]
  },
  {
   "attachments": {},
   "cell_type": "markdown",
   "metadata": {},
   "source": [
    "### Exercise 15.a: Load the Data Set\n",
    "\n",
    "Write Python code to load the data set into a Pandas `DataFrame` named `df_light` and show the first 10 rows."
   ]
  },
  {
   "cell_type": "code",
   "execution_count": null,
   "metadata": {},
   "outputs": [],
   "source": [
    "file_light = './datasets/light.csv'\n",
    "\n",
    "#// BEGIN_TODO [EDA_15a] Load the data set and show first 10 rows (1 point)\n",
    "\n",
    "# ===== =====> Replace this line by your code. <===== ===== #\n",
    "\n",
    "#// END_TODO [EDA_15a]"
   ]
  },
  {
   "attachments": {},
   "cell_type": "markdown",
   "metadata": {},
   "source": [
    "### Exercise 15.b: Summary Statistics of Raw Values\n",
    "\n",
    "Show the summary statistics for the `df_light` data frame."
   ]
  },
  {
   "cell_type": "code",
   "execution_count": null,
   "metadata": {},
   "outputs": [],
   "source": [
    "#// BEGIN_TODO [EDA_15b] Summary statistics (1 point)\n",
    "\n",
    "# ===== =====> Replace this line by your code. <===== ===== #\n",
    "\n",
    "#// END_TODO [EDA_15b]"
   ]
  },
  {
   "attachments": {},
   "cell_type": "markdown",
   "metadata": {},
   "source": [
    "### Exercise 15.c: Observation\n",
    "\n",
    "Looking at the summary statistics, what do you observe? Select one of the answers below and assign your answer as a string to the variable `stats_observation`, e.g. `stats_observation = 'a'`.\n",
    "\n",
    "a) The mean and the median are equal.\n",
    "\n",
    "b) It is not clear how these values are related to the speed of light.\n",
    "\n",
    "c) On average, the values are as expected.\n",
    "\n",
    "d) The median is in the middle between the min and max and equal to -2."
   ]
  },
  {
   "cell_type": "code",
   "execution_count": null,
   "metadata": {},
   "outputs": [],
   "source": [
    "#// BEGIN_TODO [EDA_15c] What do you notice? (1 point)\n",
    "\n",
    "# ===== =====> Replace this line by your code. <===== ===== #\n",
    "\n",
    "#// END_TODO [EDA_15c]\n",
    "\n",
    "stats_observation"
   ]
  },
  {
   "attachments": {},
   "cell_type": "markdown",
   "metadata": {},
   "source": [
    "### Exercise 15.d: Add Column with the Decoded Speed\n",
    "\n",
    "It turns out that Newcomb encoded his measurements to get smaller numbers to save space in his table. The coding of these measurements was as follows:\n",
    "\n",
    "> From the original measurements of time (**in microseconds**) needed by light to travel a distance of 7442 meters,\n",
    "> first 24.8 was subtracted,\n",
    "> after which the results were multiplied with 1000.\n",
    "\n",
    "Create a new column labeled `\"Speed [km/s]\"` in your data set with the measured light speed in km/s.\n",
    "\n",
    "<span class=\"t\">Hint<span class=\"c\">:</span></span>\n",
    "<span class=\"h\">\n",
    "Write down on a piece of paper the formula that Newcomb used to encode his measurements. This will help you to reverse the computation.\n",
    "</span>"
   ]
  },
  {
   "cell_type": "code",
   "execution_count": null,
   "metadata": {},
   "outputs": [],
   "source": [
    "#// BEGIN_TODO [EDA_15d] Added column with speed in km/s (3 points)\n",
    "\n",
    "# ===== =====> Replace this line by your code. <===== ===== #\n",
    "\n",
    "#// END_TODO [EDA_15d]"
   ]
  },
  {
   "attachments": {},
   "cell_type": "markdown",
   "metadata": {},
   "source": [
    "### Exercise 15.e: Summary Statistics of the Decoded Speed\n",
    "\n",
    "Show the summary statistics for only the speed of light in km/s."
   ]
  },
  {
   "cell_type": "code",
   "execution_count": null,
   "metadata": {},
   "outputs": [],
   "source": [
    "#// BEGIN_TODO [EDA_15e] Summary statics of speed (1 point)\n",
    "\n",
    "# ===== =====> Replace this line by your code. <===== ===== #\n",
    "\n",
    "#// END_TODO [EDA_15e]"
   ]
  },
  {
   "attachments": {},
   "cell_type": "markdown",
   "metadata": {},
   "source": [
    "### Exercise 15.f: Make a Dot Plot\n",
    "\n",
    "Make a dot plot of the speed of light in km/s against the observation number (the observations are ordered by time)."
   ]
  },
  {
   "cell_type": "code",
   "execution_count": null,
   "metadata": {},
   "outputs": [],
   "source": [
    "#// BEGIN_TODO [EDA_15f] Plot data against observation number (1 point)\n",
    "\n",
    "# ===== =====> Replace this line by your code. <===== ===== #\n",
    "\n",
    "#// END_TODO [EDA_15f]"
   ]
  },
  {
   "attachments": {},
   "cell_type": "markdown",
   "metadata": {},
   "source": [
    "### Exercise 15.g: Remove Suspicious Rows\n",
    "\n",
    "Clean the data by removing any suspicious observations that you found by visually inspecting the plot in the previous question. Store the modified `DataFrame` under the name `df_light_clean`, and recompute the summary statistics of the speed of light in km/s in `df_light_clean`.\n",
    "\n",
    "<span class=\"t\">Hint<span class=\"c\">:</span></span>\n",
    "<span class=\"h\">\n",
    "You are encouraged to add new markdown and code cells between the marker lines to explain the steps you are taking, e.g. what you define as a suspicious observation. You can simply drop a list of indexes of rows containing the suspicious observations.\n",
    "</span>"
   ]
  },
  {
   "cell_type": "code",
   "execution_count": null,
   "metadata": {},
   "outputs": [],
   "source": [
    "#// BEGIN_TODO [EDA_15g] Remove suspicious rows (3 points)\n",
    "\n",
    "# ===== =====> Replace this line by your code. <===== ===== #\n"
   ]
  },
  {
   "cell_type": "code",
   "execution_count": null,
   "metadata": {},
   "outputs": [],
   "source": [
    "#// END_TODO [EDA_15g]"
   ]
  },
  {
   "attachments": {},
   "cell_type": "markdown",
   "metadata": {},
   "source": [
    "### Exercise 15.h: Find the Definition of the Speed of Light\n",
    "\n",
    "Since the time when Newcomb did his experiments, the speed of light has been precisely defined. Find (using external sources) the definition of the speed of light in km/s. Assign this value (in km/s) to the variable `speed_of_light`.\n",
    "\n",
    "> Note that this is no longer an estimate of the speed of light but rather a definition, because these days the meter is defined in terms of the distance light travels in one second."
   ]
  },
  {
   "cell_type": "code",
   "execution_count": null,
   "metadata": {},
   "outputs": [],
   "source": [
    "#// BEGIN_TODO [EDA_15h] Current estimate of the speed of light (1 point)\n",
    "\n",
    "# ===== =====> Replace this line by your code. <===== ===== #\n",
    "\n",
    "#// END_TODO [EDA_15h]\n",
    "\n",
    "speed_of_light"
   ]
  },
  {
   "attachments": {},
   "cell_type": "markdown",
   "metadata": {},
   "source": [
    "### Exercise 15.i: Compare to Newcomb's Estimate\n",
    "\n",
    "Is the value of `speed_of_light` in the previous exercise consistent with Newcomb's measurements in the _cleaned_ data?\n",
    "\n",
    "Compute the **relative error percentage** of Newcomb's mean value in `df_light_clean` with respect to the current definition `speed_of_light`, i.e.\n",
    "\n",
    "$$\n",
    "\\textsf{relative error percentage} = \\frac{(\\textsf{Newcomb's mean value}) - (\\textsf{current definition})}{\\textsf{current definition}} \\times 100\n",
    "$$\n",
    "\n",
    "Assign your computed relative error percentage to the variable `newcomb_rel`."
   ]
  },
  {
   "cell_type": "code",
   "execution_count": null,
   "metadata": {},
   "outputs": [],
   "source": [
    "#// BEGIN_TODO [EDA_15i] Compare to Newcomb's measurements (2 points)\n",
    "\n",
    "# ===== =====> Replace this line by your code. <===== ===== #\n"
   ]
  },
  {
   "cell_type": "code",
   "execution_count": null,
   "metadata": {},
   "outputs": [],
   "source": [
    "#// END_TODO [EDA_15i]\n",
    "\n",
    "newcomb_rel"
   ]
  },
  {
   "cell_type": "markdown",
   "metadata": {},
   "source": [
    "# Feedback\n",
    "\n",
    "Please fill in this questionaire to help us improve this course for the next year. Your feedback will be anonymized and will not affect your grade in any way!"
   ]
  },
  {
   "cell_type": "markdown",
   "metadata": {},
   "source": [
    "### How many hours did you spend on these Exercises?\n",
    "\n",
    "Assign a number to `feedback_time`."
   ]
  },
  {
   "cell_type": "code",
   "execution_count": null,
   "metadata": {},
   "outputs": [],
   "source": [
    "#// BEGIN_FEEDBACK [Feedback_1] (0 point)\n",
    "\n",
    "#// END_FEEDBACK [Feedback_1] (0 point)\n",
    "\n",
    "import numbers\n",
    "assert isinstance(feedback_time, numbers.Number), \"Please assign a number to feedback_time\"\n",
    "feedback_time"
   ]
  },
  {
   "cell_type": "markdown",
   "metadata": {},
   "source": [
    "### How difficult did you find these Exercises?\n",
    "\n",
    "Assign an integer to `feedback_difficulty`, on a scale 0 - 10, with 0 being very easy, 5 being just right, and 10 being very difficult."
   ]
  },
  {
   "cell_type": "code",
   "execution_count": null,
   "metadata": {},
   "outputs": [],
   "source": [
    "#// BEGIN_FEEDBACK [Feedback_2] (0 point)\n",
    "\n",
    "#// END_FEEDBACK [Feedback_2] (0 point)\n",
    "\n",
    "import numbers\n",
    "assert isinstance(feedback_difficulty, numbers.Number), \"Please assign a number to feedback_difficulty\"\n",
    "feedback_difficulty"
   ]
  },
  {
   "cell_type": "markdown",
   "metadata": {},
   "source": [
    "### (Optional) What did you like?\n",
    "\n",
    "Assign a string to `feedback_like`."
   ]
  },
  {
   "cell_type": "code",
   "execution_count": null,
   "metadata": {},
   "outputs": [],
   "source": [
    "#// BEGIN_FEEDBACK [Feedback_3] (0 point)\n",
    "\n",
    "#// END_FEEDBACK [Feedback_3] (0 point)"
   ]
  },
  {
   "cell_type": "markdown",
   "metadata": {},
   "source": [
    "### (Optional) What can be improved?\n",
    "\n",
    "Assign a string to `feedback_improve`. Please be specific, so that we can act on your feedback. For example, mention the specific exercises and what was unclear."
   ]
  },
  {
   "cell_type": "code",
   "execution_count": null,
   "metadata": {},
   "outputs": [],
   "source": [
    "#// BEGIN_FEEDBACK [Feedback_4] (0 point)\n",
    "\n",
    "#// END_FEEDBACK [Feedback_4] (0 point)"
   ]
  },
  {
   "attachments": {},
   "cell_type": "markdown",
   "metadata": {},
   "source": [
    "\n",
    "\n",
    "\n",
    "## How to Submit Your Work\n",
    "\n",
    "1. **Before submitting**, you must run your notebook by doing **Kernel > Restart & Run All**.  \n",
    "   Make sure that your notebook runs without errors **in linear order**.\n",
    "1. Remember to rename the notebook, replacing `...-template.ipynb` with `...-yourIDnr.ipynb`, where `yourIDnr` is your TU/e identification number.\n",
    "1. Submit the executed notebook with your work\n",
    "   for the appropriate assignment in **Canvas**.\n",
    "1. In the **Momotor** tab in Canvas,\n",
    "  you can select that assignment again to find some feedback on your submitted work.\n",
    "  If there are any problems reported by _Momotor_,\n",
    "  then you need to fix those,\n",
    "  and **resubmit the fixed notebook**.\n",
    "\n",
    "In case of a high workload on our server\n",
    "(because many students submit close to the deadline),\n",
    "it may take longer to receive the feedback.\n",
    "\n",
    "\n"
   ]
  },
  {
   "cell_type": "markdown",
   "metadata": {},
   "source": [
    "---"
   ]
  },
  {
   "cell_type": "code",
   "execution_count": null,
   "metadata": {},
   "outputs": [],
   "source": [
    "# List all defined names\n",
    "%whos"
   ]
  },
  {
   "cell_type": "markdown",
   "metadata": {},
   "source": [
    "---\n",
    "\n",
    "# (End of Notebook) <span class=\"tocSkip\"></span>\n",
    "\n",
    "&copy; 2017-2023 - **TU/e** - Eindhoven University of Technology"
   ]
  }
 ],
 "metadata": {
  "hide_input": false,
  "kernelspec": {
   "display_name": "Python 3",
   "language": "python",
   "name": "python3"
  },
  "language_info": {
   "codemirror_mode": {
    "name": "ipython",
    "version": 3
   },
   "file_extension": ".py",
   "mimetype": "text/x-python",
   "name": "python",
   "nbconvert_exporter": "python",
   "pygments_lexer": "ipython3",
   "version": "3.10.9"
  },
  "toc": {
   "base_numbering": 1,
   "nav_menu": {
    "height": "228px",
    "width": "252px"
   },
   "number_sections": false,
   "sideBar": true,
   "skip_h1_title": false,
   "title_cell": "Table of Contents",
   "title_sidebar": "Contents",
   "toc_cell": true,
   "toc_position": {
    "height": "calc(100% - 180px)",
    "left": "10px",
    "top": "150px",
    "width": "308.594px"
   },
   "toc_section_display": "block",
   "toc_window_display": true
  },
  "varInspector": {
   "cols": {
    "lenName": 16,
    "lenType": 16,
    "lenVar": 40
   },
   "kernels_config": {
    "python": {
     "delete_cmd_postfix": "",
     "delete_cmd_prefix": "del ",
     "library": "var_list.py",
     "varRefreshCmd": "print(var_dic_list())"
    },
    "r": {
     "delete_cmd_postfix": ") ",
     "delete_cmd_prefix": "rm(",
     "library": "var_list.r",
     "varRefreshCmd": "cat(var_dic_list()) "
    }
   },
   "types_to_exclude": [
    "module",
    "function",
    "builtin_function_or_method",
    "instance",
    "_Feature"
   ],
   "window_display": false
  },
  "vscode": {
   "interpreter": {
    "hash": "60e5673dee0b20898bfa4f3c497959fb0c8d0d39a7f6ea9d7f166a7012267d3f"
   }
  }
 },
 "nbformat": 4,
 "nbformat_minor": 4
}
