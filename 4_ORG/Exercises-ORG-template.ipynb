{
 "cells": [
  {
   "cell_type": "markdown",
   "metadata": {},
   "source": [
    "# Programming Lesson and Exercises - ORG\n",
    "\n",
    "The goal of these programming lesson and exercises is to teach you how to organise and query data in a relational database using Python and SQL.\n",
    "\n",
    "\n",
    "This notebook has the following structure:\n",
    "\n",
    "- The first part introduces the concepts for this week. The theory is interleaved with small exercises, which have the goal of letting you practice the concepts that were just intruduced.\n",
    "- At the end there are one or more larger exercises, which have the goal to test what you have learned earlier. These will be more difficult and will require more independent work than the exercises in the first part.\n",
    "\n",
    "All exercises can be solved with the concepts that were introduced earlier. Since there are often more than one correct way to solve a programming problem, we try to accept various correct anwers. However, many of the automatic tests in Momotor (see _How to submit your work_ below) assume that your answers are constructed using the concepts introduced in these notebooks. If you look for answers on the Internet (e.g. if you import other libraries) you run the risk that your answers will be rejected.\n",
    "\n",
    "Some of the small exercises can be solved by copy-pasting code from the examples. However, it is up to you to try to solve the exercises yourself, which will help you learn, before copy-pasting the answers. The ease of looking up answers is meant to provide guidance when you get stuck, especially for those of you who are new to programming.\n",
    "\n",
    "For your convenience, in the `support` directory you will find a summary of the Python methods introduced in this notebook.\n",
    "\n",
    "\n",
    "<div class=\"alert-info alert\" role=\"alert-info\">Make sure to consult the lecture slides for more details on the relational database model and the SQL langauge.</div>"
   ]
  },
  {
   "cell_type": "markdown",
   "metadata": {},
   "source": [
    "\n",
    "# Introduction to This Template Notebook\n",
    "\n",
    "* This is a **personal** notebook.\n",
    "* Make sure you work in a **copy** of `...-template.ipynb`,\n",
    "**renamed** to `...-yourIDnr.ipynb`,\n",
    "where `yourIDnr` is your TU/e identification number.\n",
    "\n",
    "<div class=\"alert alert-danger\" role=\"danger\">\n",
    "<h3>Integrity</h3>\n",
    "<ul>\n",
    "    <li>In this course you must act according to the rules of the TU/e code of scientific conduct.</li>\n",
    "    <li>All the exercises and the graded assignments are to be executed individually and independently.</li>\n",
    "    <li>You must not copy from the Internet, your friends, books... If you represent other people's work as your own, then that constitutes fraud and will be reported to the Examination Committee.</li>\n",
    "    <li>Making your work available to others (complicity) also constitutes fraud.</li>\n",
    "</ul>\n",
    "</div>\n",
    "\n",
    "You are expected to work with Python code in this notebook.\n",
    "\n",
    "The locations where you should write your solutions can be recognized by\n",
    "**marker lines**,\n",
    "which look like this:\n",
    "\n",
    ">`#//`\n",
    ">    `BEGIN_TODO [Label]` `Description` `(n points)`\n",
    ">\n",
    ">`#//`\n",
    ">    `END_TODO [Label]`\n",
    "\n",
    "<div class=\"alert alert-warning\" role=\"alert\">Do NOT modify or delete these marker lines.  Keep them as they are.<br/>\n",
    "NEVER write code <i>outside</i> the marked blocks.\n",
    "Such code cannot be evaluated.\n",
    "</div>\n",
    "\n",
    "Proceed in this notebook as follows:\n",
    "* **Read** the text.\n",
    "* **Fill in** your solutions between `BEGIN_TODO` and `END_TODO` marker lines.\n",
    "* **Run** _all_ code cells (also the ones _without_ your code),\n",
    "    _in linear order_ from the first code cell.\n",
    "\n",
    "**Personalize your notebook**:\n",
    "1. Copy the following three lines of code:\n",
    "\n",
    "  ```python\n",
    "AUTHOR_NAME = 'Your Full Name'\n",
    "AUTHOR_ID_NR = '1234567'\n",
    "AUTHOR_DATE = 'YYYY-MM-DD'\n",
    "  ```\n",
    "1. Paste them between the marker lines in the next code cell.\n",
    "1. Fill in your _full name_, _identification number_, and the current _date_ (i.e. when you first modified this notebook, e.g. '2023-11-01') as strings between the `Author` markers.\n",
    "1. Run the code cell by putting the cursor there and typing **Control-Enter**.\n"
   ]
  },
  {
   "cell_type": "code",
   "execution_count": 1,
   "metadata": {},
   "outputs": [],
   "source": [
    "#// BEGIN_TODO [Author] Name, Id.nr., Date, as strings (1 point)\n",
    "\n",
    "AUTHOR_NAME = 'Shiyun Kong'\n",
    "AUTHOR_ID_NR = '1920847'\n",
    "AUTHOR_DATE = '2023-12-07'\n",
    "#// END_TODO [Author]"
   ]
  },
  {
   "cell_type": "markdown",
   "metadata": {},
   "source": [
    "## Table of Contents\n",
    "\n",
    "- [Learning Objectives](#Learning-Objectives)\n",
    "- [1. SQL Basics](#1.-SQL-Basics)\n",
    "    - [Introduction](#Introduction)\n",
    "    - [Loading the Libraries](#Loading-the-Libraries)\n",
    "    - [Common Steps in Working with SQLite Databases](#Common-Steps-in-Working-with-SQLite-Databases)\n",
    "    - [Step 1. Connect to Database](#Step-1.-Connect-to-Database)\n",
    "    - [Step 2. Operate on Database](#Step-2.-Operate-on-Database)\n",
    "        - [`SELECT` Statement](#SELECT-Statement)\n",
    "        - [`WHERE` Clause](#WHERE-Clause)\n",
    "        - [Exercise 1.a](#Exercise-1.a)\n",
    "        - [Exercise 1.b](#Exercise-1.b)\n",
    "        - [`GROUP BY` Clause](#GROUP-BY-Clause)\n",
    "        - [Exercise 1.c](#Exercise-1.c)\n",
    "        - [`ORDER BY` Clause](#ORDER-BY-Clause)\n",
    "        - [Exercise-1.d](#Exercise-1.d)\n",
    "        - [`LIMIT` Clause](#LIMIT-Clause)\n",
    "        - [Exercise 1.e](#Exercise-1.e)\n",
    "        - [Joining Tables](#Joining-Tables)\n",
    "        - [Exercise 1.f](#Exercise-1.f)\n",
    "        - [Exercise 1.g](#Exercise-1.g)\n",
    "        - [Exercise 1.h](#Exercise-1.h)\n",
    "        - [Subqueries or Nested Queries](#Subqueries-or-Nested-Queries)\n",
    "        - [Exercise 1.i](#Exercise-1.i)\n",
    "    - [Step 3. Close Connection to Database](#Step-3.-Close-Connection-to-Database)\n",
    "- [2. Data Cleaning](#2.-Data-Cleaning)\n",
    "    - [`df.astype()`: Convert to Given Type](#df.astype():-Convert-to-Given-Type)\n",
    "    - [Exercise 2.a](#Exercise-2.a)\n",
    "    - [`pd.to_numeric()`: Convert to Numeric](#pd.to_numeric():-Convert-to-Numeric)\n",
    "    - [`ts.unique()`: Find All Unique Values](#ts.unique():-Find-All-Unique-Values)\n",
    "    - [Exercise 2.b](#Exercise-2.b)\n",
    "    - [`df.duplicated()`: Find Duplicates](#df.duplicated():-Find-Duplicates)\n",
    "    - [Exercise 2.c](#Exercise-2.c)\n",
    "    - [`df.drop_duplicates()`: Remove Duplicates](#df.drop_duplicates():-Remove-Duplicates)\n",
    "    - [Exercise 2.d](#Exercise-2.d)\n",
    "    - [`df.dropna()`: Remove Rows with Missing Values](#df.dropna():-Remove-Rows-with-Missing-Values)\n",
    "    - [Exercise 2.e](#Exercise-2.e)\n",
    "    - [`df.fillna()`: Replace Missing Values](#df.fillna():-Replace-Missing-Values)\n",
    "    - [Exercise 2.f](#Exercise-2.f)\n",
    "    - [`ts.str.strip()`: Strip Characters from Begin/End of Strings](#ts.str.strip():-Strip-Characters-from-Begin/End-of-Strings)\n",
    "    - [Exercise 2.g](#Exercise-2.g)\n",
    "- [3. Exercises: Cleaning the Mouse Experiment](#3.-Exercises:-Cleaning-the-Mouse-Experiment)\n",
    "    - [Exercise 3.a](#Exercise-3.a)\n",
    "    - [Exercise 3.b](#Exercise-3.b)\n",
    "    - [Exercise 3.c](#Exercise-3.c)\n",
    "    - [Exercise 3.d](#Exercise-3.d)\n",
    "    - [Exercise 3.e](#Exercise-3.e)\n",
    "    - [Exercise 3.f](#Exercise-3.f)\n",
    "    - [Exercise 3.g](#Exercise-3.g)\n",
    "- [4. Exercises: Analyzing the Mouse Experiment](#4.-Exercises:-Analyzing-the-Mouse-Experiment)\n",
    "    - [Exercise 4.a](#Exercise-4.a)\n",
    "    - [Exercise 4.b](#Exercise-4.b)\n",
    "    - [Exercise 4.c](#Exercise-4.c)\n",
    "    - [Exercise 4.d](#Exercise-4.d)\n",
    "    - [Exercise 4.e](#Exercise-4.e)\n",
    "    - [Exercise 4.f](#Exercise-4.f)\n",
    "    - [Exercise 4.g](#Exercise-4.g)\n",
    "    - [Exercise 4.h](#Exercise-4.h)"
   ]
  },
  {
   "cell_type": "markdown",
   "metadata": {},
   "source": [
    "## Learning Objectives\n",
    "\n",
    "After this lesson, you should \n",
    "\n",
    "* know how to work with SQLite databases through Pandas data frames;\n",
    "* know how to query data in an SQLite database using Python and its `sqlite3` library;\n",
    "* know how to perform basic data cleaning tasks using Pandas."
   ]
  },
  {
   "cell_type": "markdown",
   "metadata": {},
   "source": [
    "## 1. SQL Basics"
   ]
  },
  {
   "cell_type": "markdown",
   "metadata": {},
   "source": [
    "### Introduction\n",
    "\n",
    "So far, we have dealt with data contained in a _single table_,\n",
    "typically stored in a CSV file and operated on in a Pandas `DataFrame`.\n",
    "Often, however, the use of a single table leads to unnecessary duplication of data\n",
    "and difficulties in data processing.\n",
    "\n",
    "For example,\n",
    "consider an experiment where we collect data from various patients.\n",
    "We have data pertaining to each patient:\n",
    "name, date of birth, and daily weight and temperature measurements.\n",
    "How to _organize_ that data and store it?\n",
    "This is important for the _data collection_ process and subsequent\n",
    "_data analysis_ process.\n",
    "\n",
    "You could try to put it in one table,\n",
    "with one row per patient, and columns for name, date of birth, and each (day, measurement)-pair:\n",
    "\n",
    "| Name | Date of Birth | Day 1 Weight | Day 1 Temperature | Day 2 Weight | Day 2 Temperature | ... |\n",
    "| :--- | :------------ | -----------: | ----------------: | -----------: | ----------------: | --: |\n",
    "| A | 1950-01-01 | 60.0 | 37.8 | 59.8 | 38.1 | ... |\n",
    "| B | 1947-07-15 | 84.3 | 39.2 | 85.0 | 38.5 | ... |\n",
    "| ... | ... | ... | ... | ... | ... | ... |\n",
    "\n",
    "The number of columns would grow, and could differ per patient.\n",
    "\n",
    "You could try to put it in one table,\n",
    "with one row per patient per day,\n",
    "and columns for name, date of birth, day, weight, and temperature,\n",
    "repeating values that stay the same (name and date of birth):\n",
    "\n",
    "| Name | Date of Birth | Day | Weight | Temperature |\n",
    "| :--- | :------------ | --: | -----: | ----------: |\n",
    "| A | 1950-01-01 | 1 | 60.0 | 37.8 |\n",
    "| B | 1947-07-15 | 1 | 84.3 | 39.2 |\n",
    "| A | 1950-01-01 | 2 | 59.8 | 38.1 |\n",
    "| B | 1947-07-15 | 2 | 84.3 | 39.2 |\n",
    "| ... | ... | ... | ... | ... |\n",
    "\n",
    "In this approach, some data (necessarily) gets duplicated.\n",
    "\n",
    "Also, note that patients may not be uniquely identified by name and date of birth.\n",
    "In the first table, their measurements would still be kept apart.\n",
    "But in the second table, this starts to be problematic.\n",
    "\n",
    "Using multiple, related tables is a better approach.\n",
    "In this case, two tables could be used:\n",
    "\n",
    "**Patient data**\n",
    "\n",
    "| ID | Name | Date of Birth |\n",
    "| -: | :--- | :------------ |\n",
    "| 13 | A | 1950-01-01 |\n",
    "| 72 | B | 1947-07-15 |\n",
    "| ... | ... | ... |\n",
    "\n",
    "**Measurement data**\n",
    "\n",
    "| ID | Day | Weight | Temperature |\n",
    "| -: | --: | -----: | ----------: |\n",
    "| 13 |  1 | 60.0 | 37.8 |\n",
    "| 72 |  1 | 84.3 | 39.2 |\n",
    "| 13 |  2 | 59.8 | 38.1 |\n",
    "| 72 |  2 | 84.3 | 39.2 |\n",
    "| ... | ... | ... | ... |\n",
    "\n",
    "The additional column `ID` relates the two tables,\n",
    "and helps to keep apart patients with the same name and date of birth.\n",
    "It functions as the *key* of these two tables.\n",
    "\n",
    "We assume that you have a basic understanding of how a _relational database_ is organized:\n",
    "\n",
    "* a collection of (named, related) *tables*, where\n",
    "* each table consists of a collection of *rows*, where\n",
    "* each row contains one _value_ per *column*,\n",
    "* where all values in a column belong to a prescribed *type*.\n",
    "\n",
    "In this lesson we will use **SQL**, which stands for **Structured Query Language**,\n",
    "a standardized language to work with _relational databases_.\n",
    "\n",
    "We will use **SQLite** as _SQL database engine_\n",
    "(it knows SQL, though not all of it).\n",
    "Note that SQLite is a separate piece of open-source software,\n",
    "that is installed as part of Anaconda."
   ]
  },
  {
   "cell_type": "markdown",
   "metadata": {},
   "source": [
    "### Loading the Libraries\n",
    "\n",
    "To show examples, we load some Data Analytics libraries first:"
   ]
  },
  {
   "cell_type": "code",
   "execution_count": 2,
   "metadata": {},
   "outputs": [
    {
     "data": {
      "text/plain": "<IPython.core.display.HTML object>",
      "text/html": "<style>.h,.c{display:none}.t{color:#296eaa}.t:active+.h{display:block;}</style>"
     },
     "execution_count": 2,
     "metadata": {},
     "output_type": "execute_result"
    }
   ],
   "source": [
    "import numpy as np\n",
    "import pandas as pd\n",
    "\n",
    "# Reveal a hint only while holding the mouse down\n",
    "from IPython.display import HTML\n",
    "HTML(\"<style>.h,.c{display:none}.t{color:#296eaa}.t:active+.h{display:block;}</style>\")"
   ]
  },
  {
   "cell_type": "markdown",
   "metadata": {},
   "source": [
    "Next, we load **`sqlite3`**, a Python library to work with _SQLite_ databases:"
   ]
  },
  {
   "cell_type": "code",
   "execution_count": 3,
   "metadata": {},
   "outputs": [],
   "source": [
    "import sqlite3"
   ]
  },
  {
   "cell_type": "markdown",
   "metadata": {},
   "source": [
    "### Common Steps in Working with SQLite Databases\n",
    "\n",
    "Typically, the following sequence of steps takes place when working with an SQL database:\n",
    "\n",
    "1. Connect to the database (residing in a file).\n",
    "2. Operate on the database:\n",
    "    * execute queries, to retrieve selected values;\n",
    "    * create, update, or delete rows/values in a table;\n",
    "    * create, alter (by adding or deleting columns), or delete tables.\n",
    "    \n",
    "3. Close the connection to the database.\n",
    "\n",
    "Step 2 can be repeated as desired."
   ]
  },
  {
   "cell_type": "markdown",
   "metadata": {},
   "source": [
    "## Step 1. Connect to Database\n",
    "\n",
    "In order to work with a database, a _connection_ to that database needs to be established.\n",
    "\n",
    "In these exercises we will work with the SQLite database engine. An SQLite database is stored in a (binary) file in the file system. You connect to it via\n",
    "\n",
    "* **`sqlite3.connect(file_name)`**\n",
    "\n",
    "This function returns a **connection object**, that will be used in subsequent operations.\n",
    "\n",
    "Here we open a connection to the database stored in the file `'countries.db'`, and assign this connection to a variable named `conn_countries`:"
   ]
  },
  {
   "cell_type": "code",
   "execution_count": 4,
   "metadata": {},
   "outputs": [],
   "source": [
    "conn_countries = sqlite3.connect('datasets/countries.db')"
   ]
  },
  {
   "cell_type": "markdown",
   "metadata": {},
   "source": [
    "> **Note:** If the database file does not exist, it will be created, starting out with an empty database.\n",
    "\n",
    "The `'countries.db'` database contains two tables: `'continents'` and `'countries'`. The `'continents'` table has following columns:\n",
    "\n",
    "- `'code'`: A two letter code of the continent.\n",
    "- `'name'`: The name of the continent.\n",
    "\n",
    "The `'countries'` table has the following columns:\n",
    "\n",
    "- `'name'`: The name of the country.\n",
    "- `'alpha_3'`: The ISO 3166-1 alpha-3 code of the country.\n",
    "- `'tld'`: The top-level domain of the country.\n",
    "- `'continent'`: A two letter code of the continent where the country is located (corresponding to the codes in the `'continents'` table).\n",
    "- `'capital'`: The name of the capital of the country.\n",
    "- `'area'`: The area of the country in square kilometers.\n",
    "- `'population'`: The population size of the country."
   ]
  },
  {
   "cell_type": "markdown",
   "metadata": {},
   "source": [
    "## Step 2. Operate on Database\n",
    "\n",
    "When working with an SQL database, operations are expressed as **SQL statements**. SQL defines many statements for organising and manipulating data in a database. In these exercises we will focus on querying data using the **SELECT** statement. See [W3 Schools - SQL Tutorial](https://www.w3schools.com/sql/) for more details about SQL.\n",
    "\n",
    "General rules:\n",
    "\n",
    "* SQL is _not_ case sensitive (`SELECT` and `select` are treated the same way).\n",
    "* SQL statements are terminated by a semicolon ('**`;`**'). Note that many modern libraries, including Pandas, allow to skip the semicolon. However, it is a good practice to include it for portability.\n",
    "* SQL identifiers that contain spaces, or that are the same as a keyword, are enclosed in **double quotes**.\n",
    "* SQL string literals are enclosed in **single quotes**.\n",
    "\n",
    "### `SELECT` Statement\n",
    "\n",
    "The SQL **SELECT** statement retrieves values from a database and presents the result as a table organized in rows and columns.  \n",
    "This statement has a number of required and optional clauses:\n",
    "\n",
    "| Clause | Type | Remarks |\n",
    "| :----- | :--: | :------ |\n",
    "| `SELECT` _`expr1, expr2, ...`_ | Required | `SELECT *` selects all columns; `SELECT DISTINCT ...`. |\n",
    "| `FROM` _`table1, table2, ...`_ | Required | |\n",
    "| `WHERE` _`condition`_ | Optional | Filter on boolean condition before grouping. |\n",
    "| `GROUP BY` _`column1, column2, ...`_ | Optional | |\n",
    "| `ORDER BY` _`column1, column2, ...`_ | Optional | Append `DESC` for descending order. |\n",
    "| `LIMIT` _`number`_ | Optional | Report only first given number of rows. |\n",
    "\n",
    "Numeric expressions _`expr1`_ etc. can contain\n",
    "\n",
    "* _column names_, which must be disambiguated when a column name appears in more than one table by prepending _table name_: `table1.column1`;\n",
    "* aliases for renaming column/table names: e.g., `table1.column1 AS 'some name'` to rename `table1.column1` to `'some name'` (aliases exist only for the duration of the query);\n",
    "* operators: `+`, `-`, `*`, `/`, `%`;\n",
    "* functions: `MIN`, `MAX`, `COUNT`, `SUM`, `AVG` (these aggregate when `GROUP BY` is used).\n",
    "\n",
    "An SQL query is stored in a Python string. Here is an example of a query that returns all the data in the `'countries'` table."
   ]
  },
  {
   "cell_type": "code",
   "execution_count": 5,
   "metadata": {},
   "outputs": [],
   "source": [
    "query_all = 'SELECT * FROM countries;'"
   ]
  },
  {
   "cell_type": "markdown",
   "metadata": {},
   "source": [
    "The Pandas library offers a convenient function to work with SQL databases:\n",
    "\n",
    "* **`pd.read_sql_query(query, connection)`**: execute an SQL `query` on an open `connection` to an SQL database, and return the query result as a `DataFrame`.\n",
    "\n",
    "Here is an example of executing the above query `query_all` on the previously opened connection `conn_countries`:"
   ]
  },
  {
   "cell_type": "code",
   "execution_count": 6,
   "metadata": {},
   "outputs": [
    {
     "data": {
      "text/plain": "                     name alpha_3  tld continent           capital       area  \\\n0                 Andorra     AND  .ad        EU  Andorra la Vella      468.0   \n1    United Arab Emirates     ARE  .ae        AS         Abu Dhabi    82880.0   \n2             Afghanistan     AFG  .af        AS             Kabul   647500.0   \n3     Antigua and Barbuda     ATG  .ag        NM        St. John's      443.0   \n4                Anguilla     AIA  .ai        NM        The Valley      102.0   \n..                    ...     ...  ...       ...               ...        ...   \n246               Mayotte     MYT  .yt        AF         Mamoudzou      374.0   \n247          South Africa     ZAF  .za        AF          Pretoria  1219912.0   \n248                Zambia     ZMB  .zm        AF            Lusaka   752614.0   \n249              Zimbabwe     ZWE  .zw        AF            Harare   390580.0   \n250  Netherlands Antilles     ANT  .an        NM        Willemstad      960.0   \n\n     population  \n0         84000  \n1       4975593  \n2      29121286  \n3         86754  \n4         13254  \n..          ...  \n246      159042  \n247    49000000  \n248    13460305  \n249    13061000  \n250      300000  \n\n[251 rows x 7 columns]",
      "text/html": "<div>\n<style scoped>\n    .dataframe tbody tr th:only-of-type {\n        vertical-align: middle;\n    }\n\n    .dataframe tbody tr th {\n        vertical-align: top;\n    }\n\n    .dataframe thead th {\n        text-align: right;\n    }\n</style>\n<table border=\"1\" class=\"dataframe\">\n  <thead>\n    <tr style=\"text-align: right;\">\n      <th></th>\n      <th>name</th>\n      <th>alpha_3</th>\n      <th>tld</th>\n      <th>continent</th>\n      <th>capital</th>\n      <th>area</th>\n      <th>population</th>\n    </tr>\n  </thead>\n  <tbody>\n    <tr>\n      <th>0</th>\n      <td>Andorra</td>\n      <td>AND</td>\n      <td>.ad</td>\n      <td>EU</td>\n      <td>Andorra la Vella</td>\n      <td>468.0</td>\n      <td>84000</td>\n    </tr>\n    <tr>\n      <th>1</th>\n      <td>United Arab Emirates</td>\n      <td>ARE</td>\n      <td>.ae</td>\n      <td>AS</td>\n      <td>Abu Dhabi</td>\n      <td>82880.0</td>\n      <td>4975593</td>\n    </tr>\n    <tr>\n      <th>2</th>\n      <td>Afghanistan</td>\n      <td>AFG</td>\n      <td>.af</td>\n      <td>AS</td>\n      <td>Kabul</td>\n      <td>647500.0</td>\n      <td>29121286</td>\n    </tr>\n    <tr>\n      <th>3</th>\n      <td>Antigua and Barbuda</td>\n      <td>ATG</td>\n      <td>.ag</td>\n      <td>NM</td>\n      <td>St. John's</td>\n      <td>443.0</td>\n      <td>86754</td>\n    </tr>\n    <tr>\n      <th>4</th>\n      <td>Anguilla</td>\n      <td>AIA</td>\n      <td>.ai</td>\n      <td>NM</td>\n      <td>The Valley</td>\n      <td>102.0</td>\n      <td>13254</td>\n    </tr>\n    <tr>\n      <th>...</th>\n      <td>...</td>\n      <td>...</td>\n      <td>...</td>\n      <td>...</td>\n      <td>...</td>\n      <td>...</td>\n      <td>...</td>\n    </tr>\n    <tr>\n      <th>246</th>\n      <td>Mayotte</td>\n      <td>MYT</td>\n      <td>.yt</td>\n      <td>AF</td>\n      <td>Mamoudzou</td>\n      <td>374.0</td>\n      <td>159042</td>\n    </tr>\n    <tr>\n      <th>247</th>\n      <td>South Africa</td>\n      <td>ZAF</td>\n      <td>.za</td>\n      <td>AF</td>\n      <td>Pretoria</td>\n      <td>1219912.0</td>\n      <td>49000000</td>\n    </tr>\n    <tr>\n      <th>248</th>\n      <td>Zambia</td>\n      <td>ZMB</td>\n      <td>.zm</td>\n      <td>AF</td>\n      <td>Lusaka</td>\n      <td>752614.0</td>\n      <td>13460305</td>\n    </tr>\n    <tr>\n      <th>249</th>\n      <td>Zimbabwe</td>\n      <td>ZWE</td>\n      <td>.zw</td>\n      <td>AF</td>\n      <td>Harare</td>\n      <td>390580.0</td>\n      <td>13061000</td>\n    </tr>\n    <tr>\n      <th>250</th>\n      <td>Netherlands Antilles</td>\n      <td>ANT</td>\n      <td>.an</td>\n      <td>NM</td>\n      <td>Willemstad</td>\n      <td>960.0</td>\n      <td>300000</td>\n    </tr>\n  </tbody>\n</table>\n<p>251 rows × 7 columns</p>\n</div>"
     },
     "execution_count": 6,
     "metadata": {},
     "output_type": "execute_result"
    }
   ],
   "source": [
    "pd.read_sql_query(query_all, conn_countries)"
   ]
  },
  {
   "cell_type": "markdown",
   "metadata": {},
   "source": [
    "### `WHERE` Clause\n",
    "\n",
    "The `WHERE` clause is a boolean condition, which can contain:\n",
    "\n",
    "* _column names_;\n",
    "* comparison operators: `=`, `<>`, `<`, `>`, `<=`, `>=`;\n",
    "* boolean operators: `NOT`, `AND`, `OR`;\n",
    "* pattern matching operator (to match string values against a pattern with wildcards): `LIKE`.\n",
    "    * Example: the condition `... WHERE name LIKE \"Nether%\"` will select the rows that contain a string starting with `Nether` in the `name` column.\n",
    "\n",
    "Here is an example of a query that selects all rows from the table `countries`, that have an area less than 1000 and a population over 200000, showing the columns `'name'` and `'capital'`:"
   ]
  },
  {
   "cell_type": "code",
   "execution_count": 7,
   "metadata": {},
   "outputs": [
    {
     "data": {
      "text/plain": "                   name     capital\n0              Barbados  Bridgetown\n1               Bahrain      Manama\n2                 Macao       Macao\n3                 Malta    Valletta\n4              Maldives        Male\n5             Singapore   Singapore\n6  Netherlands Antilles  Willemstad",
      "text/html": "<div>\n<style scoped>\n    .dataframe tbody tr th:only-of-type {\n        vertical-align: middle;\n    }\n\n    .dataframe tbody tr th {\n        vertical-align: top;\n    }\n\n    .dataframe thead th {\n        text-align: right;\n    }\n</style>\n<table border=\"1\" class=\"dataframe\">\n  <thead>\n    <tr style=\"text-align: right;\">\n      <th></th>\n      <th>name</th>\n      <th>capital</th>\n    </tr>\n  </thead>\n  <tbody>\n    <tr>\n      <th>0</th>\n      <td>Barbados</td>\n      <td>Bridgetown</td>\n    </tr>\n    <tr>\n      <th>1</th>\n      <td>Bahrain</td>\n      <td>Manama</td>\n    </tr>\n    <tr>\n      <th>2</th>\n      <td>Macao</td>\n      <td>Macao</td>\n    </tr>\n    <tr>\n      <th>3</th>\n      <td>Malta</td>\n      <td>Valletta</td>\n    </tr>\n    <tr>\n      <th>4</th>\n      <td>Maldives</td>\n      <td>Male</td>\n    </tr>\n    <tr>\n      <th>5</th>\n      <td>Singapore</td>\n      <td>Singapore</td>\n    </tr>\n    <tr>\n      <th>6</th>\n      <td>Netherlands Antilles</td>\n      <td>Willemstad</td>\n    </tr>\n  </tbody>\n</table>\n</div>"
     },
     "execution_count": 7,
     "metadata": {},
     "output_type": "execute_result"
    }
   ],
   "source": [
    "query_area_population = '''\n",
    "    SELECT name, capital\n",
    "    FROM countries\n",
    "    WHERE area < 1000 AND population > 200000;\n",
    "'''\n",
    "pd.read_sql_query(query_area_population, conn_countries)"
   ]
  },
  {
   "cell_type": "markdown",
   "metadata": {},
   "source": [
    "> **Note:** The SQL query `query_area_population` is created as a *multiline string*, which is started and ended by 3 single or double quotes. This allows us to format text to maximize readability. The line breaks and indentation are included in the string, as can be seen by executing the cell below, but this extra whitespace is ignored by the parser."
   ]
  },
  {
   "cell_type": "code",
   "execution_count": 8,
   "metadata": {},
   "outputs": [
    {
     "data": {
      "text/plain": "'\\n    SELECT name, capital\\n    FROM countries\\n    WHERE area < 1000 AND population > 200000;\\n'"
     },
     "execution_count": 8,
     "metadata": {},
     "output_type": "execute_result"
    }
   ],
   "source": [
    "query_area_population"
   ]
  },
  {
   "cell_type": "markdown",
   "metadata": {},
   "source": [
    "### Exercise 1.a\n",
    "\n",
    "Execute the following SQL query to select the name and area of all countries with an area larger than one million square km:\n",
    "\n",
    "```\n",
    "SELECT name, area\n",
    "FROM countries\n",
    "WHERE area > 1000000\n",
    "```\n",
    "\n",
    "Execute the query on the open database connection `conn_countries`. Assign the resulting data frame to the variable `result_select`."
   ]
  },
  {
   "cell_type": "code",
   "execution_count": 9,
   "metadata": {},
   "outputs": [
    {
     "ename": "NameError",
     "evalue": "name 'result_select' is not defined",
     "output_type": "error",
     "traceback": [
      "\u001B[1;31m---------------------------------------------------------------------------\u001B[0m",
      "\u001B[1;31mNameError\u001B[0m                                 Traceback (most recent call last)",
      "Cell \u001B[1;32mIn[9], line 7\u001B[0m\n\u001B[0;32m      1\u001B[0m \u001B[38;5;66;03m#// BEGIN_TODO [ORG_1a] Execute pre-defined query (1 point)\u001B[39;00m\n\u001B[0;32m      2\u001B[0m \n\u001B[0;32m      3\u001B[0m \u001B[38;5;66;03m# ===== =====> Replace this line by your code. <===== ===== #\u001B[39;00m\n\u001B[0;32m      4\u001B[0m \n\u001B[0;32m      5\u001B[0m \u001B[38;5;66;03m#// END_TODO [ORG_1a]\u001B[39;00m\n\u001B[1;32m----> 7\u001B[0m \u001B[43mresult_select\u001B[49m\u001B[38;5;241m.\u001B[39mhead(\u001B[38;5;241m10\u001B[39m)\n",
      "\u001B[1;31mNameError\u001B[0m: name 'result_select' is not defined"
     ]
    }
   ],
   "source": [
    "#// BEGIN_TODO [ORG_1a] Execute pre-defined query (1 point)\n",
    "\n",
    "# ===== =====> Replace this line by your code. <===== ===== #\n",
    "\n",
    "#// END_TODO [ORG_1a]\n",
    "\n",
    "result_select.head(10)"
   ]
  },
  {
   "cell_type": "markdown",
   "metadata": {},
   "source": [
    "### Exercise 1.b\n",
    "\n",
    "Execute a query to select the name and population of European countries with a population larger than 60 million. Assign the query to the variable `query_where` and the result to the variable `result_where`."
   ]
  },
  {
   "cell_type": "code",
   "execution_count": null,
   "metadata": {},
   "outputs": [],
   "source": [
    "#// BEGIN_TODO [ORG_1b] Define and execute a query (1 point)\n",
    "\n",
    "# ===== =====> Replace this line by your code. <===== ===== #\n",
    "\n",
    "#// END_TODO [ORG_1b]\n",
    "\n",
    "result_where"
   ]
  },
  {
   "cell_type": "markdown",
   "metadata": {},
   "source": [
    "### `GROUP BY` Clause\n",
    "\n",
    "The `GROUP BY` clause aggregates data, similarly to the `.groupby()` method in Pandas. The `MIN`, `MAX`, `COUNT`, `SUM`, `AVG` functions are used in the `SELECT` expression to specify how to aggregate the data in the columns.\n",
    "\n",
    "Here is an example query using the `GROUP BY` clause to obtain an overview of all continents, with for each continent:\n",
    "\n",
    "* the continent code;\n",
    "* the number of countries on it;\n",
    "* the total population;\n",
    "* the maximum population of its countries."
   ]
  },
  {
   "cell_type": "code",
   "execution_count": null,
   "metadata": {},
   "outputs": [],
   "source": [
    "query = '''\n",
    "    SELECT continent, COUNT(name), SUM(population), MAX(population)\n",
    "    FROM countries\n",
    "    GROUP BY continent\n",
    "'''\n",
    "pd.read_sql_query(query, conn_countries)"
   ]
  },
  {
   "cell_type": "markdown",
   "metadata": {},
   "source": [
    "### Exercise 1.c\n",
    "\n",
    "Execute a query to obtain an overview of the continents, showing for each continent the continent code and the total area. Assign the query to the variable `query_group` and the result to the variable `result_group`."
   ]
  },
  {
   "cell_type": "code",
   "execution_count": null,
   "metadata": {},
   "outputs": [],
   "source": [
    "#// BEGIN_TODO [ORG_1c] Define and execute a query (1 point)\n",
    "\n",
    "# ===== =====> Replace this line by your code. <===== ===== #\n",
    "\n",
    "#// END_TODO [ORG_1c]\n",
    "\n",
    "result_group"
   ]
  },
  {
   "cell_type": "markdown",
   "metadata": {},
   "source": [
    "### `ORDER BY` Clause\n",
    "\n",
    "The `ORDER BY` clause orders the resulting rows in either ascending (`ASC`) or descending (`DESC`) order. The `ASC` or `DESC` argument can be skipped, in which case the default is ascending order.\n",
    "\n",
    "Here is an example query using the `ORDER BY` clause to obtain an overview of countries sorted in descending order of their population size:"
   ]
  },
  {
   "cell_type": "code",
   "execution_count": null,
   "metadata": {},
   "outputs": [],
   "source": [
    "query = '''\n",
    "    SELECT name, population\n",
    "    FROM countries\n",
    "    ORDER BY population DESC;\n",
    "'''\n",
    "pd.read_sql_query(query, conn_countries)"
   ]
  },
  {
   "cell_type": "markdown",
   "metadata": {},
   "source": [
    "### Exercise 1.d\n",
    "\n",
    "Execute a query to select the name, continent code, population, and area of all\n",
    "countries with an area larger than one million square km and a population less than ten million, ordered in ascending order of their area.\n",
    "Assign the query to the variable `query_order` and the result to the variable `result_order`."
   ]
  },
  {
   "cell_type": "code",
   "execution_count": null,
   "metadata": {},
   "outputs": [],
   "source": [
    "#// BEGIN_TODO [ORG_1d] Define and execute a query (1 point)\n",
    "\n",
    "# ===== =====> Replace this line by your code. <===== ===== #\n",
    "\n",
    "#// END_TODO [ORG_1d]\n",
    "\n",
    "result_order"
   ]
  },
  {
   "cell_type": "markdown",
   "metadata": {},
   "source": [
    "### `LIMIT` Clause\n",
    "\n",
    "The `LIMIT n` clause limits the result to only the first `n` rows. Here is an example query using the `LIMIT` clause to obtain an overview of top 10 countries sorted in descending order by population size:"
   ]
  },
  {
   "cell_type": "code",
   "execution_count": null,
   "metadata": {},
   "outputs": [],
   "source": [
    "query = '''\n",
    "    SELECT name, population\n",
    "    FROM countries\n",
    "    ORDER BY population DESC\n",
    "    LIMIT 10;\n",
    "'''\n",
    "pd.read_sql_query(query, conn_countries)"
   ]
  },
  {
   "cell_type": "markdown",
   "metadata": {},
   "source": [
    "### Exercise 1.e\n",
    "\n",
    "Execute a query to select the name and area of the three countries with the largest area that is smaller than one million square km, ordered in descending order by area. Assign the query to the variable `query_limit` and the result to the variable `result_limit`."
   ]
  },
  {
   "cell_type": "code",
   "execution_count": null,
   "metadata": {},
   "outputs": [],
   "source": [
    "#// BEGIN_TODO [ORG_1e] Define and execute a query (1 point)\n",
    "\n",
    "# ===== =====> Replace this line by your code. <===== ===== #\n",
    "\n",
    "#// END_TODO [ORG_1e]\n",
    "\n",
    "result_limit"
   ]
  },
  {
   "cell_type": "markdown",
   "metadata": {},
   "source": [
    "### Joining Tables\n",
    "\n",
    "A benefit of a relational database is that data from different tables can be related together. For example, when selecting countries from the `'countries'` table we may like to return the full name of their continent, instead of the continent code. We can achieve this by joining the data from the `'countries'` and `'continents'` columns. First, let's see what the `'continents'` table contains:"
   ]
  },
  {
   "cell_type": "code",
   "execution_count": null,
   "metadata": {},
   "outputs": [],
   "source": [
    "pd.read_sql_query('SELECT * FROM continents;', conn_countries)"
   ]
  },
  {
   "cell_type": "markdown",
   "metadata": {},
   "source": [
    "Note that the column `'continent'` in `countries` uses the exact same encoding for continents as the column '`code`' in `continents`. It serves as the **primary key** in `continents`.\n",
    "\n",
    "Now, let's **join** data from the two tables `countries` and `continents` in such a way that each row of the top 10 countries sorted in descending order by population size will also show the full name of the continent of that country:"
   ]
  },
  {
   "cell_type": "code",
   "execution_count": null,
   "metadata": {},
   "outputs": [],
   "source": [
    "query = '''\n",
    "    SELECT countries.name, population, continents.name AS 'continent name'\n",
    "    FROM countries, continents\n",
    "    WHERE countries.continent = continents.code\n",
    "    ORDER BY population DESC\n",
    "    LIMIT 10;\n",
    "'''\n",
    "pd.read_sql_query(query, conn_countries)"
   ]
  },
  {
   "cell_type": "markdown",
   "metadata": {},
   "source": [
    "> **Notes:**\n",
    "> * The column name `name` appears in both tables `countries` and `continents`. Therefore, we need to prefix it with the table name to disambiguate it.\n",
    "> * In the result, we want the column with continent names to be labeled `'continent name'`. Therefore, we use the _alias_ `AS 'continent name'`. The quotes are required because of the whitespace character in the alias."
   ]
  },
  {
   "cell_type": "markdown",
   "metadata": {},
   "source": [
    "### Exercise 1.f\n",
    "\n",
    "Execute a query to retrieve the country with the largest population on the continent with the name `'Europe'`. The result should contain two columns: `'country'` and `'population'`, containing the name of the country and its population.\n",
    "\n",
    "Assign the query to the variable `query_join_population` and the result to the variable `result_join_population`."
   ]
  },
  {
   "cell_type": "code",
   "execution_count": null,
   "metadata": {},
   "outputs": [],
   "source": [
    "#// BEGIN_TODO [ORG_1f] Max population in Europe (1 point)\n",
    "\n",
    "# ===== =====> Replace this line by your code. <===== ===== #\n",
    "\n",
    "#// END_TODO [ORG_1f]\n",
    "\n",
    "result_join_population"
   ]
  },
  {
   "cell_type": "markdown",
   "metadata": {},
   "source": [
    "### Exercise 1.g\n",
    "\n",
    "Execute a query to retrieve the names of countries on the continent with name `'Europe'` that have an area smaller than 100 square km. The result should contain two columns: `'country'` and `'area'`, containing the name of the country and its area.\n",
    "\n",
    "Assign the query to the variable `query_join_area` and the result to the variable `result_join_area`."
   ]
  },
  {
   "cell_type": "code",
   "execution_count": null,
   "metadata": {},
   "outputs": [],
   "source": [
    "#// BEGIN_TODO [ORG_1g] Small European countries (1 point)\n",
    "\n",
    "# ===== =====> Replace this line by your code. <===== ===== #\n",
    "\n",
    "#// END_TODO [ORG_1g]\n",
    "\n",
    "result_join_area"
   ]
  },
  {
   "cell_type": "markdown",
   "metadata": {},
   "source": [
    "### Exercise 1.h\n",
    "\n",
    "Execute a query to compute the total population per continent. The result should contain two columns: `'continent name'` (containing full names of the continents) and `'total population'`.\n",
    "\n",
    "Assign the query to the variable `query_join` and the result to the variable `result_join`."
   ]
  },
  {
   "cell_type": "code",
   "execution_count": null,
   "metadata": {},
   "outputs": [],
   "source": [
    "#// BEGIN_TODO [ORG_1h] Population per continent (1 point)\n",
    "\n",
    "# ===== =====> Replace this line by your code. <===== ===== #\n",
    "\n",
    "#// END_TODO [ORG_1h]\n",
    "\n",
    "result_join"
   ]
  },
  {
   "cell_type": "markdown",
   "metadata": {},
   "source": [
    "### Subqueries or Nested Queries\n",
    "\n",
    "The result of one `SELECT` query can be combined with another `SELECT` query.\n",
    "\n",
    "For instance, `SELECT` queries can be combined by \n",
    "\n",
    "* **`UNION`** to obtain the union of the `SELECT` query results\n",
    "* **`INTERSECT`** to obtain the intersection of the `SELECT` query results\n",
    "* **`EXCEPT`** to obtain the rows in the first result without those occurring in the second result\n",
    "\n",
    "These correspond to the **union**, **intersection** and **relative complement** operations on sets. See the lecture slides and <a href=\"https://en.wikipedia.org/wiki/Set_(mathematics)#Basic_operations\">Set § Basic operations</a> for more details.  \n",
    "In some cases, the same result can be obtained by using **`AND`**, **`OR`**, and **`AND NOT`**\n",
    "in the `WHERE` clause.\n",
    "\n",
    "We give one example using `EXCEPT` that cannot simply be replicated using `AND NOT`.\n",
    "\n",
    "* First, we define and execute a query to select (distinct) continents\n",
    "    that have countries whose name starts with an `'E'`.\n",
    "    \n",
    "> We use the `LIKE` operator in the `WHERE` clause with the wild card `%`, which matches zero, one, or multiple characters. In this case, `name LIKE 'E%'` matches countries with a name that starts with an `'E'` and is followed by zero, one, or multiple characters.\n",
    "\n",
    "* Second, we define and execute a query to select (distinct) continents\n",
    "    that have countries whose area exceeds ten million square km.\n",
    "* Third, we define and execute a query to select continents\n",
    "    that have countries whose name starts with an `'E'`\n",
    "    but that do _not_ have countries whose area exceeds ten million square km."
   ]
  },
  {
   "cell_type": "code",
   "execution_count": null,
   "metadata": {},
   "outputs": [],
   "source": [
    "query_E = '''\n",
    "SELECT DISTINCT continent\n",
    "FROM countries\n",
    "WHERE name LIKE 'E%'\n",
    "'''\n",
    "pd.read_sql_query(query_E, conn_countries)"
   ]
  },
  {
   "cell_type": "code",
   "execution_count": null,
   "metadata": {},
   "outputs": [],
   "source": [
    "query_large = '''\n",
    "SELECT DISTINCT continent\n",
    "FROM countries\n",
    "WHERE area > 10000000\n",
    "'''\n",
    "pd.read_sql_query(query_large, conn_countries)"
   ]
  },
  {
   "cell_type": "code",
   "execution_count": null,
   "metadata": {},
   "outputs": [],
   "source": [
    "query_E_except_large = query_E + 'EXCEPT' + query_large\n",
    "print(query_E_except_large)\n",
    "pd.read_sql_query(query_E_except_large, conn_countries)"
   ]
  },
  {
   "cell_type": "markdown",
   "metadata": {},
   "source": [
    "> **Note:** Query `query_E` does not end with a semicolon. If it ended with a semicolon, then `query_E_except_large` would not be a valid SQL query."
   ]
  },
  {
   "cell_type": "markdown",
   "metadata": {},
   "source": [
    "### Exercise 1.i\n",
    "\n",
    "Execute a query to select those continents that\n",
    "\n",
    "* have countries whose name ends in `'d'`, and\n",
    "* do _not_ have countries whose population exceeds one hundred million.\n",
    "\n",
    "Assign the query to the variable `query_nested` and the result to the variable `result_nested`."
   ]
  },
  {
   "cell_type": "code",
   "execution_count": null,
   "metadata": {},
   "outputs": [],
   "source": [
    "#// BEGIN_TODO [ORG_1i] Find the continents (1 point)\n",
    "\n",
    "# ===== =====> Replace this line by your code. <===== ===== #\n",
    "\n",
    "#// END_TODO [ORG_1i]\n",
    "\n",
    "result_nested"
   ]
  },
  {
   "cell_type": "markdown",
   "metadata": {},
   "source": [
    "## Step 3. Close Connection to Database\n",
    "\n",
    "Once you no longer want to work with an open database, you can (and are encouraged to) close the connection to it:"
   ]
  },
  {
   "cell_type": "code",
   "execution_count": null,
   "metadata": {},
   "outputs": [],
   "source": [
    "conn_countries.close()"
   ]
  },
  {
   "cell_type": "markdown",
   "metadata": {},
   "source": [
    "## 2. Data Cleaning"
   ]
  },
  {
   "cell_type": "markdown",
   "metadata": {},
   "source": [
    "**Raw data** is often not in a form where it can easily be processed.\n",
    "There can be all kinds of smaller or bigger issues with data:\n",
    "\n",
    "* extra whitespace at the start and/or end of a string;\n",
    "* missing values;\n",
    "* duplicates;\n",
    "* inconsistencies.\n",
    "\n",
    "The process of preparing data for further processing is called **data cleaning**. In this section, we deal with a few common issues, which we will address with Pandas functions for data frames and series.\n",
    "\n",
    "For the examples, we use the data in the `'datasets/countries.csv'` file."
   ]
  },
  {
   "cell_type": "code",
   "execution_count": null,
   "metadata": {},
   "outputs": [],
   "source": [
    "country_data = pd.read_csv('datasets/countries.csv', na_values=[''], keep_default_na=False)\n",
    "country_data.head()"
   ]
  },
  {
   "cell_type": "markdown",
   "metadata": {},
   "source": [
    "> **Note:** `df` denotes a `DataFrame` object, and `ts` a `Series` object. As usual, `pd` stands for the Pandas library itself."
   ]
  },
  {
   "cell_type": "markdown",
   "metadata": {},
   "source": [
    "### `df.astype()`: Convert to Given Type\n",
    "\n",
    "With **`df.astype()`** you convert a data frame to a given type.\n",
    "The `.dtypes` attribute of a data frame contains the column types:"
   ]
  },
  {
   "cell_type": "code",
   "execution_count": null,
   "metadata": {},
   "outputs": [],
   "source": [
    "country_data.dtypes"
   ]
  },
  {
   "cell_type": "markdown",
   "metadata": {},
   "source": [
    "We can see that columns `'name'`, ... , `'capital'` are of type `object` (which is also used for columns containing strings), `'area'` contains floating point numbers and `'population'` contains integers.\n",
    "\n",
    "> **Remark:** The suffix `64` in both `float64` and `int64` denotes the number of bits used to store values of that type. A higher number of bits means a higher precision. Both of these types come from the `numpy` library. The built-in `float` and `int` types have different precision (see [here](https://docs.python.org/3/library/stdtypes.html#numeric-types-int-float-complex)). However, they can still be used in `astype` to convert column types.\n",
    "\n",
    "We can convert all column types in the data frame to strings as follows:"
   ]
  },
  {
   "cell_type": "code",
   "execution_count": null,
   "metadata": {},
   "outputs": [],
   "source": [
    "country_data_as_str = country_data.astype(str)\n",
    "country_data_as_str.dtypes"
   ]
  },
  {
   "cell_type": "markdown",
   "metadata": {},
   "source": [
    "We can also convert the type of particular columns by supplying a dictionary as the argument of `astype()`:"
   ]
  },
  {
   "cell_type": "code",
   "execution_count": null,
   "metadata": {},
   "outputs": [],
   "source": [
    "population_as_str = country_data.astype({'population': str})\n",
    "population_as_str.dtypes"
   ]
  },
  {
   "cell_type": "markdown",
   "metadata": {},
   "source": [
    "### Exercise 2.a\n",
    "\n",
    "Change the type of the `'area'` column in `country_data` to `int` and assign the resulting data frame to `area_as_int`.\n",
    "There should be only one assignment in your code (namely for `area_as_int`)."
   ]
  },
  {
   "cell_type": "code",
   "execution_count": null,
   "metadata": {},
   "outputs": [],
   "source": [
    "#// BEGIN_TODO [ORG_2a] Area as int (1 point)\n",
    "\n",
    "# ===== =====> Replace this line by your code. <===== ===== #\n",
    "\n",
    "#// END_TODO [ORG_2a]\n",
    "\n",
    "area_as_int.dtypes"
   ]
  },
  {
   "cell_type": "markdown",
   "metadata": {},
   "source": [
    "### `pd.to_numeric()`: Convert to Numeric\n",
    "\n",
    "With **`pd.to_numeric()`** you can convert an argument to a numeric type. A suitable numeric type (e.g., `int` or `float`) will be chosen.\n",
    "The argument can be a _list_ or a _Series_."
   ]
  },
  {
   "cell_type": "code",
   "execution_count": null,
   "metadata": {},
   "outputs": [],
   "source": [
    "pd.to_numeric(country_data_as_str['population']).head()"
   ]
  },
  {
   "cell_type": "code",
   "execution_count": null,
   "metadata": {},
   "outputs": [],
   "source": [
    "pd.to_numeric(country_data_as_str['area']).head()"
   ]
  },
  {
   "cell_type": "markdown",
   "metadata": {},
   "source": [
    "### `ts.unique()`: Find All Unique Values\n",
    "\n",
    "With `ts.unique()` you obtain an array in which each item of the series appears once.\n",
    "The order in the array is in the order of appearance in the series object.\n",
    "\n",
    "> **Note:** This returns an array, instead of a series."
   ]
  },
  {
   "cell_type": "code",
   "execution_count": null,
   "metadata": {},
   "outputs": [],
   "source": [
    "country_data['capital'].unique()"
   ]
  },
  {
   "cell_type": "markdown",
   "metadata": {},
   "source": [
    "### Exercise 2.b\n",
    "\n",
    "Find all unique continent names in the `country_data` data frame and assign the result to `unique_continents`.\n",
    "There should be only one assignment in your code (namely for `unique_continents`)."
   ]
  },
  {
   "cell_type": "code",
   "execution_count": null,
   "metadata": {},
   "outputs": [],
   "source": [
    "#// BEGIN_TODO [ORG_2b] Unique continents (1 point)\n",
    "\n",
    "# ===== =====> Replace this line by your code. <===== ===== #\n",
    "\n",
    "#// END_TODO [ORG_2b]\n",
    "\n",
    "unique_continents"
   ]
  },
  {
   "cell_type": "markdown",
   "metadata": {},
   "source": [
    "### `df.duplicated()`: Find Duplicates\n",
    "\n",
    "With **`df.duplicated()`** you obtain a _boolean mask_ indicating which rows appear more than once.\n",
    "With the argument **`subset=`** you can restrict the search for duplicates to specific columns (either a single column or a list of columns)."
   ]
  },
  {
   "cell_type": "code",
   "execution_count": null,
   "metadata": {},
   "outputs": [],
   "source": [
    "bm_dup_capital = country_data.duplicated(subset='capital')\n",
    "country_data[bm_dup_capital]"
   ]
  },
  {
   "cell_type": "markdown",
   "metadata": {},
   "source": [
    "There is an extra argument `keep`:\n",
    "\n",
    "* **`keep='first'`** (default): Mark duplicates as `True` _except for the first occurrence_.\n",
    "* **`keep='last'`** : Mark duplicates as `True` _except for the last occurrence_.\n",
    "* **`keep=False`**`: Mark all duplicates as `True`."
   ]
  },
  {
   "cell_type": "code",
   "execution_count": null,
   "metadata": {},
   "outputs": [],
   "source": [
    "bm_dup_capital_all = country_data.duplicated(subset='capital', keep=False)\n",
    "country_data[bm_dup_capital_all]"
   ]
  },
  {
   "cell_type": "markdown",
   "metadata": {},
   "source": [
    "### Exercise 2.c\n",
    "\n",
    "Some countries in `country_data` share the same `'tld'`. Find the list of `'tld'` values that are shared by more than one country and assign it to `duplicate_tld` (it should be a numpy array or a `list` and contain each shared `'tld'` only once).\n",
    "There should be only one assignment in your code (namely for `duplicate_tld`)."
   ]
  },
  {
   "cell_type": "code",
   "execution_count": null,
   "metadata": {},
   "outputs": [],
   "source": [
    "#// BEGIN_TODO [ORG_2c] Duplicated data (1 point)\n",
    "\n",
    "# ===== =====> Replace this line by your code. <===== ===== #\n",
    "\n",
    "#// END_TODO [ORG_2c]\n",
    "\n",
    "duplicate_tld"
   ]
  },
  {
   "cell_type": "markdown",
   "metadata": {},
   "source": [
    "### `df.drop_duplicates()`: Remove Duplicates\n",
    "\n",
    "With **`df.drop_duplicates()`** you can remove duplicated rows.\n",
    "Using the argument **`subset=`**, you can restrict the search for duplicates to specific columns.\n",
    "Below we do so for the `'capital'` column."
   ]
  },
  {
   "cell_type": "code",
   "execution_count": null,
   "metadata": {},
   "outputs": [],
   "source": [
    "country_data.info()"
   ]
  },
  {
   "cell_type": "code",
   "execution_count": null,
   "metadata": {},
   "outputs": [],
   "source": [
    "country_data.drop_duplicates(subset=['capital']).info()"
   ]
  },
  {
   "cell_type": "markdown",
   "metadata": {},
   "source": [
    "Just as for `df.duplicated()`, there is an extra keyword argument `keep`:\n",
    "\n",
    "* **`keep='first'`** (default): Drop duplicates _except for the first occurrence_.\n",
    "* **`keep='last'`**: Drop duplicates _except for the last occurrence_.\n",
    "* **`keep=False`**: Drop all duplicates."
   ]
  },
  {
   "cell_type": "markdown",
   "metadata": {},
   "source": [
    "### Exercise 2.d\n",
    "\n",
    "Drop from the `country_data` data frame **all** countries which share the same `'tld'` and `'continent'` with another country.\n",
    "Assign the resulting data frame to `dropped_dup_tld`.\n",
    "There should be only one assignment in your code (namely for `dropped_dup_tld`)."
   ]
  },
  {
   "cell_type": "code",
   "execution_count": null,
   "metadata": {},
   "outputs": [],
   "source": [
    "#// BEGIN_TODO [ORG_2d] Drop duplicated data (1 point)\n",
    "\n",
    "# ===== =====> Replace this line by your code. <===== ===== #\n",
    "\n",
    "#// END_TODO [ORG_2d]\n",
    "\n",
    "dropped_dup_tld.info()"
   ]
  },
  {
   "cell_type": "markdown",
   "metadata": {},
   "source": [
    "### `df.dropna()`: Remove Rows with Missing Values\n",
    "\n",
    "In the EDA programming exercises the `.isnull()` method was introduced to select rows with missing values (_Not-Available_ (NA) and _Not-a-Number_ (NaN)). With **`df.dropna()`** you can remove rows with *missing values* in a data frame or series object.\n",
    "\n",
    "With the argument **`how=`** you can indicate whether rows with at least one missing value or with all values missing are dropped:\n",
    "\n",
    "* **`how='any'`** (default): if any value in a row is missing, drop that row\n",
    "* **`how='all'`**: if all values in a row are missing, drop that row"
   ]
  },
  {
   "cell_type": "code",
   "execution_count": null,
   "metadata": {},
   "outputs": [],
   "source": [
    "country_data_dropna = country_data.dropna()\n",
    "country_data_dropna.info()"
   ]
  },
  {
   "cell_type": "markdown",
   "metadata": {},
   "source": [
    "In the output of the previous cell, we see that `country_data_dropna` has 243 entries (rows), and each of the columns has 243 non-null values.\n",
    "This indicates that all missing values were removed.\n",
    "With `.isnull()` we can check explicitly that the rows with missing values in the `'capital'` columns were indeed removed:"
   ]
  },
  {
   "cell_type": "code",
   "execution_count": null,
   "metadata": {},
   "outputs": [],
   "source": [
    "country_data[country_data['capital'].isnull()]"
   ]
  },
  {
   "cell_type": "code",
   "execution_count": null,
   "metadata": {},
   "outputs": [],
   "source": [
    "country_data_dropna[country_data_dropna['capital'].isnull()]"
   ]
  },
  {
   "cell_type": "markdown",
   "metadata": {},
   "source": [
    "### Exercise 2.e\n",
    "\n",
    "Drop only the rows in `country_data` which have missing values in the `'tld'` column. Assign the resulting data frame to `dropped_na_tld`.\n",
    "There should be only one assignment in your code (namely for `dropped_na_tld`).\n",
    "\n",
    "> **Hint:** Look up the documentation of `dropna()` (e.g., via Shift-Tab-Tab)."
   ]
  },
  {
   "cell_type": "code",
   "execution_count": null,
   "metadata": {},
   "outputs": [],
   "source": [
    "#// BEGIN_TODO [ORG_2e] Drop missing data (1 point)\n",
    "\n",
    "# ===== =====> Replace this line by your code. <===== ===== #\n",
    "\n",
    "#// END_TODO [ORG_2e]\n",
    "\n",
    "dropped_na_tld.info()"
   ]
  },
  {
   "cell_type": "markdown",
   "metadata": {},
   "source": [
    "### `df.fillna()`: Replace Missing Values\n",
    "\n",
    "With **`df.fillna()`** or **`ts.fillna()`**\n",
    "you can replace *missing values*\n",
    "in a data frame or series object.  \n",
    "As always, note that this returns a new copy with the filled object."
   ]
  },
  {
   "cell_type": "code",
   "execution_count": null,
   "metadata": {},
   "outputs": [],
   "source": [
    "country_data_filled = country_data['capital'].fillna(value='Unknown')\n",
    "country_data_filled[country_data_filled.duplicated(keep=False)]"
   ]
  },
  {
   "cell_type": "markdown",
   "metadata": {},
   "source": [
    "You can replace missing values in particular columns by providing a dictionary for the first argument, specifying which value to use for which column."
   ]
  },
  {
   "cell_type": "code",
   "execution_count": null,
   "metadata": {},
   "outputs": [],
   "source": [
    "country_data_filled = country_data.fillna({'capital': 'Unknown'})\n",
    "country_data_filled[country_data_filled.duplicated(subset='capital', keep=False)]"
   ]
  },
  {
   "cell_type": "markdown",
   "metadata": {},
   "source": [
    "### Exercise 2.f\n",
    "\n",
    "Fill the missing values in the `'tld'` column of the `country_data` data frame with `'Missing'`.\n",
    "Assign the resulting data frame to `filled_tld`.\n",
    "There should be only one assignment in your code (namely for `filled_tld`)."
   ]
  },
  {
   "cell_type": "code",
   "execution_count": null,
   "metadata": {},
   "outputs": [],
   "source": [
    "#// BEGIN_TODO [ORG_2f] Fill missing data (1 point)\n",
    "\n",
    "# ===== =====> Replace this line by your code. <===== ===== #\n",
    "\n",
    "#// END_TODO [ORG_2f]\n",
    "\n",
    "filled_tld.info()"
   ]
  },
  {
   "cell_type": "markdown",
   "metadata": {},
   "source": [
    "### `ts.str.strip()`: Strip Characters from Begin/End of Strings\n",
    "\n",
    "With **`ts.str.strip()`** you can remove characters from the beginning and end of all strings in a `Series` object.  \n",
    "Without argument, it strips all leading and trailing **whitespace**.\n",
    "\n",
    "Here we strip all trailing and leading zeros from the area that was converted to a string\n",
    "in an earlier example."
   ]
  },
  {
   "cell_type": "code",
   "execution_count": null,
   "metadata": {},
   "outputs": [],
   "source": [
    "country_data_as_str['area'].head()"
   ]
  },
  {
   "cell_type": "code",
   "execution_count": null,
   "metadata": {},
   "outputs": [],
   "source": [
    "country_data_as_str['area'].str.strip('0').head()"
   ]
  },
  {
   "cell_type": "markdown",
   "metadata": {},
   "source": [
    "> **Remark:** If a string of more than one character is passed to `ts.str.strip()`all such characters will be stripped regardless of their order, which might not be what you expect (see the example below). To strip specific prefixes or suffixes, use `str.removeprefix()` or `str.removesuffix()`. For other string methods, see [here](https://docs.python.org/3/library/stdtypes.html#string-methods)."
   ]
  },
  {
   "cell_type": "code",
   "execution_count": null,
   "metadata": {},
   "outputs": [],
   "source": [
    "country_data_as_str['area'].str.strip('These letters are irrelevant. Only this 0, the two periods and this 8 matter in this case.').head()"
   ]
  },
  {
   "cell_type": "markdown",
   "metadata": {},
   "source": [
    "### Exercise 2.g\n",
    "\n",
    "Remove the character `'s'` from the beginning and end of all the country names in `country_data`.\n",
    "Assign the resulting series to `stripped_names`.\n",
    "There should be only one assignment in your code (namely for `stripped_names`)."
   ]
  },
  {
   "cell_type": "code",
   "execution_count": null,
   "metadata": {},
   "outputs": [],
   "source": [
    "#// BEGIN_TODO [ORG_2g] Strip the 's' (1 point)\n",
    "\n",
    "# ===== =====> Replace this line by your code. <===== ===== #\n",
    "\n",
    "#// END_TODO [ORG_2g]\n",
    "\n",
    "stripped_names.head()"
   ]
  },
  {
   "cell_type": "markdown",
   "metadata": {},
   "source": [
    "## 3. Exercises: Cleaning the Mouse Experiment\n",
    "\n",
    "\n",
    "In the earlier exercises you were closely guided. In the following exercises we will put your knowledge to the test.\n",
    "\n",
    "Note that these exercises may seem more difficult as you will need to work more indepedently. When you struggle with an exercise then go back to the corresponding earlier section and make sure you really understand the introduced concepts. Do not hesitate to experiment with your own code!\n",
    "\n",
    "\n",
    "In the following exercises we will analyze the data from the mouse experiment."
   ]
  },
  {
   "cell_type": "markdown",
   "metadata": {},
   "source": [
    "### Exercise 3.a\n",
    "\n",
    "Read the data from `'datasets/paths_props.csv'` into a data frame and assign it `df_props`."
   ]
  },
  {
   "cell_type": "code",
   "execution_count": null,
   "metadata": {},
   "outputs": [],
   "source": [
    "#// BEGIN_TODO [ORG_3a] Read the data (1 point)\n",
    "\n",
    "# ===== =====> Replace this line by your code. <===== ===== #\n",
    "\n",
    "#// END_TODO [ORG_3a]\n",
    "\n",
    "df_props.head()"
   ]
  },
  {
   "cell_type": "markdown",
   "metadata": {},
   "source": [
    "Each row describes a single trial, i.e., one movement from the center to the target. The meaning of the columns is the following:\n",
    "\n",
    "- `'user'`: the id of the user that recorded this trial;\n",
    "- `'trial'`: the trial number. Trial numbers are local to each user;\n",
    "- `'use_tue_laptop'`: 1 means a TU/e laptop was used during this trial, 0 means a different laptop was used;\n",
    "- `'mouse_speed'`, `'mouse_accuracy'`: 1 means the user confirmed this mouse setting, 0 or `NaN` means the user did not confirm this mouse setting;  \n",
    "    For example, users who claim to use a non-TU/e laptop are not shown the `'mouse_speed'` and `'mouse_accuracy'` options, so the user cannot confirm those.\n",
    "- `'right_handed'`: 1 means user writes with their right hand, 0 means user writes with their left hand;\n",
    "- `'input_method'`: 0 means a trackpad, 1 means a mouse;\n",
    "- `'target_x'`, `'target_y'`: the screen coordinates in pixels of the blue target, relative to the red dot in the center;\n",
    "- `'target_radius'`: radius of the blue target in pixels;\n",
    "- `'delay'`: delay in seconds between the start of the trial (i.e., the moment that the mouse was placed on the red dot) and the moment that the blue target was shown;\n",
    "- `'major'`: the major of the user.\n",
    "\n",
    "As you can see, there is a lot of redundancy in the data. We will reorganize the data into two tables: one describing the user settings (which do not change), and one describing the individual trials. These two tables will be linked via the `'user'` column."
   ]
  },
  {
   "cell_type": "markdown",
   "metadata": {},
   "source": [
    "### Exercise 3.b\n",
    "\n",
    "Inspect the `df_props` data frame. You will notice that the `'mouse_speed'` and `'mouse_accuracy'` columns contain NaN  values. They are the result of a user using a non-TU/e laptop and not having to confirm these mouse settings. Replace the NaN values in `'mouse_speed'` and `'mouse_accuracy'` columns by 0."
   ]
  },
  {
   "cell_type": "code",
   "execution_count": null,
   "metadata": {},
   "outputs": [],
   "source": [
    "#// BEGIN_TODO [ORG_3b] Fill missing data (1 point)\n",
    "\n",
    "# ===== =====> Replace this line by your code. <===== ===== #\n",
    "\n",
    "#// END_TODO [ORG_3b]\n",
    "\n",
    "df_props.info()"
   ]
  },
  {
   "cell_type": "markdown",
   "metadata": {},
   "source": [
    "### Exercise 3.c\n",
    "\n",
    "Convert the `'mouse_speed'` and `'mouse_accuracy'` columns to `int` type."
   ]
  },
  {
   "cell_type": "code",
   "execution_count": null,
   "metadata": {},
   "outputs": [],
   "source": [
    "#// BEGIN_TODO [ORG_3c] Convert to integers (1 point)\n",
    "\n",
    "# ===== =====> Replace this line by your code. <===== ===== #\n",
    "\n",
    "#// END_TODO [ORG_3c]\n",
    "\n",
    "df_props.info()"
   ]
  },
  {
   "cell_type": "markdown",
   "metadata": {},
   "source": [
    "### Exercise 3.d\n",
    "\n",
    "Create a data frame `df_trials` from `df_props` with only the columns `'user'`, `'trial'`, `'input_method'`, `'target_x'`, `'target_y'`, `'target_radius'`, `'delay'`."
   ]
  },
  {
   "cell_type": "code",
   "execution_count": null,
   "metadata": {},
   "outputs": [],
   "source": [
    "#// BEGIN_TODO [ORG_3d] Collect trials information (1 point)\n",
    "\n",
    "# ===== =====> Replace this line by your code. <===== ===== #\n",
    "\n",
    "#// END_TODO [ORG_3d]\n",
    "\n",
    "df_trials.head()"
   ]
  },
  {
   "cell_type": "markdown",
   "metadata": {},
   "source": [
    "### Exercise 3.e\n",
    "\n",
    "Create a data frame `df_users` from `df_props` with only the columns `'user'`, `'use_tue_laptop'`, `'mouse_speed'`, `'mouse_accuracy'`, `'right_handed'`, `'major'`, **avoiding** duplicate rows."
   ]
  },
  {
   "cell_type": "code",
   "execution_count": null,
   "metadata": {},
   "outputs": [],
   "source": [
    "#// BEGIN_TODO [ORG_3e] Collect users information (1 point)\n",
    "\n",
    "# ===== =====> Replace this line by your code. <===== ===== #\n",
    "\n",
    "#// END_TODO [ORG_3e]\n",
    "\n",
    "df_users.head()"
   ]
  },
  {
   "cell_type": "markdown",
   "metadata": {},
   "source": [
    "### Exercise 3.f\n",
    "\n",
    "Inspect the `df_users` data frame. You will notice that for some users there is more than one row. For example, some users appear to have indicated multiple different computer settings. Since at this point we cannot ask those users which settings they actually used, we will discard those users and the corresponding trials.\n",
    "\n",
    "Identify which users have entered contradicting information, i.e., both right- and left-handed or using different computer settings, and assign them to a list `wrong_users` (it should be a numpy array or a `list` and contain each user with contradicting information only once).\n",
    "\n",
    "> **Hint:** For these users there will be multiple rows in the data frame."
   ]
  },
  {
   "cell_type": "code",
   "execution_count": null,
   "metadata": {},
   "outputs": [],
   "source": [
    "#// BEGIN_TODO [ORG_3f] Find the wrong users (1 point)\n",
    "\n",
    "# ===== =====> Replace this line by your code. <===== ===== #\n"
   ]
  },
  {
   "cell_type": "code",
   "execution_count": null,
   "metadata": {},
   "outputs": [],
   "source": [
    "#// END_TODO [ORG_3f]\n",
    "\n",
    "wrong_users"
   ]
  },
  {
   "cell_type": "markdown",
   "metadata": {},
   "source": [
    "### Exercise 3.g\n",
    "\n",
    "Discard the rows from `df_users` and `df_trials` corresponding to the users which have entered contradicting information.\n",
    "\n",
    "> **Hint:** You could use a `for` loop to iterate through users with contradicting information. For each user remove the rows corresponding to that user."
   ]
  },
  {
   "cell_type": "code",
   "execution_count": null,
   "metadata": {},
   "outputs": [],
   "source": [
    "#// BEGIN_TODO [ORG_3g] Discard the wrong users (1 point)\n",
    "\n",
    "# ===== =====> Replace this line by your code. <===== ===== #\n",
    "\n",
    "#// END_TODO [ORG_3g]"
   ]
  },
  {
   "cell_type": "markdown",
   "metadata": {},
   "source": [
    "## 4. Exercises: Analyzing the Mouse Experiment\n",
    "\n",
    "In these exercises we will analyze the mouse experiment data to see if the experiment was properly conducted. We will use the data stored in the SQLite database in the `'datasets/mouse_experiment.db'` file. This database contains two tables, analogous to the two data frames you created in the previous exercises: \n",
    "\n",
    "- the **users** table, which contains columns `'user'`, `'use_tue_laptop'`, `'mouse_speed'`, `'mouse_accuracy'`, `'right_handed'`, `'major'`\n",
    "- the **trials** table, which contains columns `'user'`, `'trial'`, `'input_method'`, `'target_x'`, `'target_y'`, `'target_radius'`, `'delay'`\n",
    "\n",
    "These two tables are linked via the `'user'` column. The meaning of the other columns is in the `'datasets/paths_props.csv'` file described above. "
   ]
  },
  {
   "cell_type": "markdown",
   "metadata": {},
   "source": [
    "### Exercise 4.a\n",
    "\n",
    "Connect to the SQLite database `'datasets/mouse_experiment.db'`, assigning the connection to the variable **`conn_experiment`**."
   ]
  },
  {
   "cell_type": "code",
   "execution_count": null,
   "metadata": {},
   "outputs": [],
   "source": [
    "#// BEGIN_TODO [ORG_4a] Connect to mouse experiment database (1 point)\n",
    "\n",
    "# ===== =====> Replace this line by your code. <===== ===== #\n",
    "\n",
    "#// END_TODO [ORG_4a]"
   ]
  },
  {
   "cell_type": "markdown",
   "metadata": {},
   "source": [
    "### Exercise 4.b\n",
    "\n",
    "Execute an SQL query to count the number of trials that were performed by user 2 with a mouse.\n",
    "\n",
    "Assign the query to the variable `query_user_mouse`, and the result (an integer number) to the variable `num_user_mouse`."
   ]
  },
  {
   "cell_type": "code",
   "execution_count": null,
   "metadata": {},
   "outputs": [],
   "source": [
    "#// BEGIN_TODO [ORG_4b] Count the trials (1 point)\n",
    "\n",
    "# ===== =====> Replace this line by your code. <===== ===== #\n",
    "\n",
    "#// END_TODO [ORG_4b]\n",
    "\n",
    "num_user_mouse"
   ]
  },
  {
   "cell_type": "markdown",
   "metadata": {},
   "source": [
    "### Exercise 4.c\n",
    "\n",
    "Execute a query to count the number of trials that were performed with a trackpad.\n",
    "\n",
    "Assign the query to the variable `query_all_trackpad`, and the result (an integer number) to the variable `num_all_trackpad`."
   ]
  },
  {
   "cell_type": "code",
   "execution_count": null,
   "metadata": {},
   "outputs": [],
   "source": [
    "#// BEGIN_TODO [ORG_4c] Count the trackpad trials (1 point)\n",
    "\n",
    "# ===== =====> Replace this line by your code. <===== ===== #\n",
    "\n",
    "#// END_TODO [ORG_4c]\n",
    "\n",
    "num_all_trackpad"
   ]
  },
  {
   "cell_type": "markdown",
   "metadata": {},
   "source": [
    "### Exercise 4.d\n",
    "\n",
    "Execute a query to count the number of trials that were performed by left-handed people.\n",
    "\n",
    "Assign the query to the variable `query_lefthanded`, and the result (an integer number) to the variable `num_lefthanded`.\n",
    "\n",
    "> **Hint:** You will need to combine data from both `trials` and `users` tables."
   ]
  },
  {
   "cell_type": "code",
   "execution_count": null,
   "metadata": {},
   "outputs": [],
   "source": [
    "#// BEGIN_TODO [ORG_4d] Count the lefthanded trials (1 point)\n",
    "\n",
    "# ===== =====> Replace this line by your code. <===== ===== #\n",
    "\n",
    "#// END_TODO [ORG_4d]\n",
    "\n",
    "num_lefthanded"
   ]
  },
  {
   "cell_type": "markdown",
   "metadata": {},
   "source": [
    "### Exercise 4.e\n",
    "\n",
    "Execute a query to compute the average delay between the start of a trial and the moment the target was shown for left- and right-handed people separately.\n",
    "\n",
    "Assign the query to the variable `query_delay`, and the result: a data frame with two rows, first row for left-handed and second row for right-handed people, and one column `'average delay'`, to the variable `result_delay`.\n",
    "\n",
    "> **Hint:** Use the `GROUP BY` clause."
   ]
  },
  {
   "cell_type": "code",
   "execution_count": null,
   "metadata": {},
   "outputs": [],
   "source": [
    "#// BEGIN_TODO [ORG_4e] Average delay (1 point)\n",
    "\n",
    "# ===== =====> Replace this line by your code. <===== ===== #\n",
    "\n",
    "#// END_TODO [ORG_4e]\n",
    "\n",
    "result_delay"
   ]
  },
  {
   "cell_type": "markdown",
   "metadata": {},
   "source": [
    "### Exercise 4.f\n",
    "\n",
    "Let us check whether the experiment was properly conducted. In particular, let us check whether the users working with a mouse were not disadvantaged compared to those using the trackpad. We will do this in two steps. First, execute a query to compute the average radius of targets that were shown to users using the different input methods.\n",
    "\n",
    "Assign the query to the variable `query_radius`, and the result (a data frame with two columns `'method'` and `'average radius'`) to the variable `result_radius`.\n",
    "\n",
    "> **Hint:** Use the `GROUP BY` clause to aggregate the different methods."
   ]
  },
  {
   "cell_type": "code",
   "execution_count": null,
   "metadata": {},
   "outputs": [],
   "source": [
    "#// BEGIN_TODO [ORG_4f] Average radius (1 point)\n",
    "\n",
    "# ===== =====> Replace this line by your code. <===== ===== #\n",
    "\n",
    "#// END_TODO [ORG_4f]\n",
    "\n",
    "result_radius"
   ]
  },
  {
   "cell_type": "markdown",
   "metadata": {},
   "source": [
    "### Exercise 4.g\n",
    "\n",
    "We consider the experiment to be properly conducted if the absolute difference in the average target radius between the two input methods is at most 20% of the smaller value. Was the experiment properly conducted?\n",
    "\n",
    "Assign your boolean answer to `proper_experiment`."
   ]
  },
  {
   "cell_type": "markdown",
   "metadata": {},
   "source": [
    "> **Remark:** The margin of 20% is somewhat arbitrary here. In the exercise set about hypothesis testing a more rigorous way of testing whether the averages are not too far apart will be shown."
   ]
  },
  {
   "cell_type": "code",
   "execution_count": null,
   "metadata": {},
   "outputs": [],
   "source": [
    "#// BEGIN_TODO [ORG_4g] Proper experiment? (1 point)\n",
    "\n",
    "# ===== =====> Replace this line by your code. <===== ===== #\n",
    "\n",
    "#// END_TODO [ORG_4g]\n",
    "\n",
    "proper_experiment"
   ]
  },
  {
   "cell_type": "markdown",
   "metadata": {},
   "source": [
    "### Exercise 4.h\n",
    "\n",
    "Close the connection to the `'mouse_experiment.db'` database."
   ]
  },
  {
   "cell_type": "code",
   "execution_count": null,
   "metadata": {},
   "outputs": [],
   "source": [
    "#// BEGIN_TODO [ORG_4h] Close the mouse experiment database (1 point)\n",
    "\n",
    "# ===== =====> Replace this line by your code. <===== ===== #\n",
    "\n",
    "#// END_TODO [ORG_4h]"
   ]
  },
  {
   "cell_type": "markdown",
   "metadata": {},
   "source": [
    "# Feedback\n",
    "\n",
    "Please fill in this questionaire to help us improve this course for the next year. Your feedback will be anonymized and will not affect your grade in any way!"
   ]
  },
  {
   "cell_type": "markdown",
   "metadata": {},
   "source": [
    "### How many hours did you spend on these Exercises?\n",
    "\n",
    "Assign a number to `feedback_time`."
   ]
  },
  {
   "cell_type": "code",
   "execution_count": null,
   "metadata": {},
   "outputs": [],
   "source": [
    "#// BEGIN_FEEDBACK [Feedback_1] (0 point)\n",
    "\n",
    "#// END_FEEDBACK [Feedback_1] (0 point)\n",
    "\n",
    "import numbers\n",
    "assert isinstance(feedback_time, numbers.Number), \"Please assign a number to feedback_time\"\n",
    "feedback_time"
   ]
  },
  {
   "cell_type": "markdown",
   "metadata": {},
   "source": [
    "### How difficult did you find these Exercises?\n",
    "\n",
    "Assign an integer to `feedback_difficulty`, on a scale 0 - 10, with 0 being very easy, 5 being just right, and 10 being very difficult."
   ]
  },
  {
   "cell_type": "code",
   "execution_count": null,
   "metadata": {},
   "outputs": [],
   "source": [
    "#// BEGIN_FEEDBACK [Feedback_2] (0 point)\n",
    "\n",
    "#// END_FEEDBACK [Feedback_2] (0 point)\n",
    "\n",
    "import numbers\n",
    "assert isinstance(feedback_difficulty, numbers.Number), \"Please assign a number to feedback_difficulty\"\n",
    "feedback_difficulty"
   ]
  },
  {
   "cell_type": "markdown",
   "metadata": {},
   "source": [
    "### (Optional) What did you like?\n",
    "\n",
    "Assign a string to `feedback_like`."
   ]
  },
  {
   "cell_type": "code",
   "execution_count": null,
   "metadata": {},
   "outputs": [],
   "source": [
    "#// BEGIN_FEEDBACK [Feedback_3] (0 point)\n",
    "\n",
    "#// END_FEEDBACK [Feedback_3] (0 point)"
   ]
  },
  {
   "cell_type": "markdown",
   "metadata": {},
   "source": [
    "### (Optional) What can be improved?\n",
    "\n",
    "Assign a string to `feedback_improve`. Please be specific, so that we can act on your feedback. For example, mention the specific exercises and what was unclear."
   ]
  },
  {
   "cell_type": "code",
   "execution_count": null,
   "metadata": {},
   "outputs": [],
   "source": [
    "#// BEGIN_FEEDBACK [Feedback_4] (0 point)\n",
    "\n",
    "#// END_FEEDBACK [Feedback_4] (0 point)"
   ]
  },
  {
   "cell_type": "markdown",
   "metadata": {},
   "source": [
    "\n",
    "\n",
    "\n",
    "## How to Submit Your Work\n",
    "\n",
    "1. **Before submitting**, you must run your notebook by doing **Kernel > Restart & Run All**.  \n",
    "   Make sure that your notebook runs without errors **in linear order**.\n",
    "1. Remember to rename the notebook, replacing `...-template.ipynb` with `...-yourIDnr.ipynb`, where `yourIDnr` is your TU/e identification number.\n",
    "1. Submit the executed notebook with your work\n",
    "   for the appropriate assignment in **Canvas**.\n",
    "1. In the **Momotor** tab in Canvas,\n",
    "  you can select that assignment again to find some feedback on your submitted work.\n",
    "  If there are any problems reported by _Momotor_,\n",
    "  then you need to fix those,\n",
    "  and **resubmit the fixed notebook**.\n",
    "\n",
    "In case of a high workload on our server\n",
    "(because many students submit close to the deadline),\n",
    "it may take longer to receive the feedback.\n",
    "\n",
    "\n"
   ]
  },
  {
   "cell_type": "markdown",
   "metadata": {},
   "source": [
    "---"
   ]
  },
  {
   "cell_type": "code",
   "execution_count": null,
   "metadata": {},
   "outputs": [],
   "source": [
    "# List all defined names\n",
    "%whos"
   ]
  },
  {
   "cell_type": "markdown",
   "metadata": {},
   "source": [
    "---\n",
    "\n",
    "# (End of Notebook) <span class=\"tocSkip\"></span>\n",
    "\n",
    "&copy; 2017-2023 - **TU/e** - Eindhoven University of Technology"
   ]
  }
 ],
 "metadata": {
  "hide_input": false,
  "kernelspec": {
   "display_name": "Python 3",
   "language": "python",
   "name": "python3"
  },
  "language_info": {
   "codemirror_mode": {
    "name": "ipython",
    "version": 3
   },
   "file_extension": ".py",
   "mimetype": "text/x-python",
   "name": "python",
   "nbconvert_exporter": "python",
   "pygments_lexer": "ipython3",
   "version": "3.10.9"
  },
  "toc": {
   "base_numbering": 1,
   "nav_menu": {
    "height": "174px",
    "width": "252px"
   },
   "number_sections": false,
   "sideBar": true,
   "skip_h1_title": false,
   "title_cell": "Table of Contents",
   "title_sidebar": "Contents",
   "toc_cell": true,
   "toc_position": {
    "height": "calc(100% - 180px)",
    "left": "10px",
    "top": "150px",
    "width": "190.594px"
   },
   "toc_section_display": "block",
   "toc_window_display": true
  }
 },
 "nbformat": 4,
 "nbformat_minor": 4
}
